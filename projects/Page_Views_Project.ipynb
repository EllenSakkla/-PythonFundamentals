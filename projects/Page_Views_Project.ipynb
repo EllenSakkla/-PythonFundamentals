{
  "nbformat": 4,
  "nbformat_minor": 0,
  "metadata": {
    "colab": {
      "name": "Page Views Project.ipynb",
      "provenance": [],
      "collapsed_sections": [],
      "include_colab_link": true
    },
    "kernelspec": {
      "name": "python3",
      "display_name": "Python 3"
    },
    "language_info": {
      "name": "python"
    }
  },
  "cells": [
    {
      "cell_type": "markdown",
      "metadata": {
        "id": "view-in-github",
        "colab_type": "text"
      },
      "source": [
        "<a href=\"https://colab.research.google.com/github/EllenSakkla/Python/blob/main/projects/Page_Views_Project.ipynb\" target=\"_parent\"><img src=\"https://colab.research.google.com/assets/colab-badge.svg\" alt=\"Open In Colab\"/></a>"
      ]
    },
    {
      "cell_type": "markdown",
      "metadata": {
        "id": "PbPj7T6rpfIM"
      },
      "source": [
        "# Discovery project - page views\n",
        "\n",
        "### Adapted from freeCodeCamp [project](https://www.freecodecamp.org/learn/data-analysis-with-python/data-analysis-with-python-projects/page-view-time-series-visualizer)\n",
        "\n",
        "This project includes visualisation of data that has values recorded against time.  Pandas and Matplotlib are used to visualise the dataset which contains the number of page views each day on the freeCodeCamp.org forum between 2016-05-09 and 2019-12-03. In addition, the data visualisation includes a line chart, a bar chart, and some box plots that will help in understanding the patterns in visits to the forum and identify growth over various time ranges (yearly, monthly, etc).\n",
        "\n",
        "The dataset is read from here: 'https://raw.githubusercontent.com/futureCodersSE/working-with-data/main/Data%20sets/page_views.csv'\n",
        "\n"
      ]
    },
    {
      "cell_type": "code",
      "metadata": {
        "id": "9xYOGWDZpeKg",
        "colab": {
          "base_uri": "https://localhost:8080/",
          "height": 380
        },
        "outputId": "c0b77080-c56d-413b-9d92-48ff03f80358"
      },
      "source": [
        "import pandas as pd\n",
        "import matplotlib.pyplot as plt\n",
        "import numpy as np\n",
        "\n",
        "url = \"https://raw.githubusercontent.com/futureCodersSE/working-with-data/main/Data%20sets/page_views.csv\"\n",
        "df = pd.read_csv(url)\n",
        "\n",
        "display(df.head())\n",
        "display(df.info())"
      ],
      "execution_count": 4,
      "outputs": [
        {
          "output_type": "display_data",
          "data": {
            "text/plain": [
              "         date  value\n",
              "0  2016-05-09   1201\n",
              "1  2016-05-10   2329\n",
              "2  2016-05-11   1716\n",
              "3  2016-05-12  10539\n",
              "4  2016-05-13   6933"
            ],
            "text/html": [
              "\n",
              "  <div id=\"df-fa9a547f-22d2-4450-81d1-1d371c32077d\">\n",
              "    <div class=\"colab-df-container\">\n",
              "      <div>\n",
              "<style scoped>\n",
              "    .dataframe tbody tr th:only-of-type {\n",
              "        vertical-align: middle;\n",
              "    }\n",
              "\n",
              "    .dataframe tbody tr th {\n",
              "        vertical-align: top;\n",
              "    }\n",
              "\n",
              "    .dataframe thead th {\n",
              "        text-align: right;\n",
              "    }\n",
              "</style>\n",
              "<table border=\"1\" class=\"dataframe\">\n",
              "  <thead>\n",
              "    <tr style=\"text-align: right;\">\n",
              "      <th></th>\n",
              "      <th>date</th>\n",
              "      <th>value</th>\n",
              "    </tr>\n",
              "  </thead>\n",
              "  <tbody>\n",
              "    <tr>\n",
              "      <th>0</th>\n",
              "      <td>2016-05-09</td>\n",
              "      <td>1201</td>\n",
              "    </tr>\n",
              "    <tr>\n",
              "      <th>1</th>\n",
              "      <td>2016-05-10</td>\n",
              "      <td>2329</td>\n",
              "    </tr>\n",
              "    <tr>\n",
              "      <th>2</th>\n",
              "      <td>2016-05-11</td>\n",
              "      <td>1716</td>\n",
              "    </tr>\n",
              "    <tr>\n",
              "      <th>3</th>\n",
              "      <td>2016-05-12</td>\n",
              "      <td>10539</td>\n",
              "    </tr>\n",
              "    <tr>\n",
              "      <th>4</th>\n",
              "      <td>2016-05-13</td>\n",
              "      <td>6933</td>\n",
              "    </tr>\n",
              "  </tbody>\n",
              "</table>\n",
              "</div>\n",
              "      <button class=\"colab-df-convert\" onclick=\"convertToInteractive('df-fa9a547f-22d2-4450-81d1-1d371c32077d')\"\n",
              "              title=\"Convert this dataframe to an interactive table.\"\n",
              "              style=\"display:none;\">\n",
              "        \n",
              "  <svg xmlns=\"http://www.w3.org/2000/svg\" height=\"24px\"viewBox=\"0 0 24 24\"\n",
              "       width=\"24px\">\n",
              "    <path d=\"M0 0h24v24H0V0z\" fill=\"none\"/>\n",
              "    <path d=\"M18.56 5.44l.94 2.06.94-2.06 2.06-.94-2.06-.94-.94-2.06-.94 2.06-2.06.94zm-11 1L8.5 8.5l.94-2.06 2.06-.94-2.06-.94L8.5 2.5l-.94 2.06-2.06.94zm10 10l.94 2.06.94-2.06 2.06-.94-2.06-.94-.94-2.06-.94 2.06-2.06.94z\"/><path d=\"M17.41 7.96l-1.37-1.37c-.4-.4-.92-.59-1.43-.59-.52 0-1.04.2-1.43.59L10.3 9.45l-7.72 7.72c-.78.78-.78 2.05 0 2.83L4 21.41c.39.39.9.59 1.41.59.51 0 1.02-.2 1.41-.59l7.78-7.78 2.81-2.81c.8-.78.8-2.07 0-2.86zM5.41 20L4 18.59l7.72-7.72 1.47 1.35L5.41 20z\"/>\n",
              "  </svg>\n",
              "      </button>\n",
              "      \n",
              "  <style>\n",
              "    .colab-df-container {\n",
              "      display:flex;\n",
              "      flex-wrap:wrap;\n",
              "      gap: 12px;\n",
              "    }\n",
              "\n",
              "    .colab-df-convert {\n",
              "      background-color: #E8F0FE;\n",
              "      border: none;\n",
              "      border-radius: 50%;\n",
              "      cursor: pointer;\n",
              "      display: none;\n",
              "      fill: #1967D2;\n",
              "      height: 32px;\n",
              "      padding: 0 0 0 0;\n",
              "      width: 32px;\n",
              "    }\n",
              "\n",
              "    .colab-df-convert:hover {\n",
              "      background-color: #E2EBFA;\n",
              "      box-shadow: 0px 1px 2px rgba(60, 64, 67, 0.3), 0px 1px 3px 1px rgba(60, 64, 67, 0.15);\n",
              "      fill: #174EA6;\n",
              "    }\n",
              "\n",
              "    [theme=dark] .colab-df-convert {\n",
              "      background-color: #3B4455;\n",
              "      fill: #D2E3FC;\n",
              "    }\n",
              "\n",
              "    [theme=dark] .colab-df-convert:hover {\n",
              "      background-color: #434B5C;\n",
              "      box-shadow: 0px 1px 3px 1px rgba(0, 0, 0, 0.15);\n",
              "      filter: drop-shadow(0px 1px 2px rgba(0, 0, 0, 0.3));\n",
              "      fill: #FFFFFF;\n",
              "    }\n",
              "  </style>\n",
              "\n",
              "      <script>\n",
              "        const buttonEl =\n",
              "          document.querySelector('#df-fa9a547f-22d2-4450-81d1-1d371c32077d button.colab-df-convert');\n",
              "        buttonEl.style.display =\n",
              "          google.colab.kernel.accessAllowed ? 'block' : 'none';\n",
              "\n",
              "        async function convertToInteractive(key) {\n",
              "          const element = document.querySelector('#df-fa9a547f-22d2-4450-81d1-1d371c32077d');\n",
              "          const dataTable =\n",
              "            await google.colab.kernel.invokeFunction('convertToInteractive',\n",
              "                                                     [key], {});\n",
              "          if (!dataTable) return;\n",
              "\n",
              "          const docLinkHtml = 'Like what you see? Visit the ' +\n",
              "            '<a target=\"_blank\" href=https://colab.research.google.com/notebooks/data_table.ipynb>data table notebook</a>'\n",
              "            + ' to learn more about interactive tables.';\n",
              "          element.innerHTML = '';\n",
              "          dataTable['output_type'] = 'display_data';\n",
              "          await google.colab.output.renderOutput(dataTable, element);\n",
              "          const docLink = document.createElement('div');\n",
              "          docLink.innerHTML = docLinkHtml;\n",
              "          element.appendChild(docLink);\n",
              "        }\n",
              "      </script>\n",
              "    </div>\n",
              "  </div>\n",
              "  "
            ]
          },
          "metadata": {}
        },
        {
          "output_type": "stream",
          "name": "stdout",
          "text": [
            "<class 'pandas.core.frame.DataFrame'>\n",
            "RangeIndex: 1304 entries, 0 to 1303\n",
            "Data columns (total 2 columns):\n",
            " #   Column  Non-Null Count  Dtype \n",
            "---  ------  --------------  ----- \n",
            " 0   date    1304 non-null   object\n",
            " 1   value   1304 non-null   int64 \n",
            "dtypes: int64(1), object(1)\n",
            "memory usage: 20.5+ KB\n"
          ]
        },
        {
          "output_type": "display_data",
          "data": {
            "text/plain": [
              "None"
            ]
          },
          "metadata": {}
        }
      ]
    },
    {
      "cell_type": "markdown",
      "source": [
        "### 1.  A line plot, similar to this \n",
        "---\n",
        "![example](https://drive.google.com/uc?id=1Cic5SybYEc86rqbwTCZzyEf4rzQNWJLP) (taken from the freeCodeCamp site) and with similar labelling.\n",
        "\n",
        "The preparation of the data for the line plot includes the following:  \n",
        "\n",
        "*  convert the `date` column to **datetime** type \n",
        "*  create 3 new columns for `year`, `month` and `day` (use `dt.year, dt.strftime to get the month name, dt.day`)\n",
        "*  set the index to the **date** column.\n",
        "*  clean the data by filtering out days when the page views were in the top 2.5% of the dataset or bottom 2.5% of the dataset.\n"
      ],
      "metadata": {
        "id": "VKeRaTH0leil"
      }
    },
    {
      "cell_type": "code",
      "metadata": {
        "id": "bwKeud7NrhVu",
        "colab": {
          "base_uri": "https://localhost:8080/",
          "height": 424
        },
        "outputId": "c49e8bc3-76aa-4cb4-d028-3986c1e52d10"
      },
      "source": [
        "from datetime import datetime, timezone\n",
        "df['date'] = pd.to_datetime(df.date)\n",
        "#df.dtypes\n",
        "\n",
        "df['year'] = df.date.dt.year\n",
        "df['month'] = df.date.dt.month\n",
        "df['month_name'] = df['date'].dt.strftime('%b')\n",
        "#adding a separate column for month in string form i.e. May etc cause it'll be needed further down for the bar pivot into ex2.\n",
        "df['day'] = df.date.dt.day\n",
        "df"
      ],
      "execution_count": 5,
      "outputs": [
        {
          "output_type": "execute_result",
          "data": {
            "text/plain": [
              "           date   value  year  month month_name  day\n",
              "0    2016-05-09    1201  2016      5        May    9\n",
              "1    2016-05-10    2329  2016      5        May   10\n",
              "2    2016-05-11    1716  2016      5        May   11\n",
              "3    2016-05-12   10539  2016      5        May   12\n",
              "4    2016-05-13    6933  2016      5        May   13\n",
              "...         ...     ...   ...    ...        ...  ...\n",
              "1299 2019-11-29  171584  2019     11        Nov   29\n",
              "1300 2019-11-30  141161  2019     11        Nov   30\n",
              "1301 2019-12-01  142918  2019     12        Dec    1\n",
              "1302 2019-12-02  220144  2019     12        Dec    2\n",
              "1303 2019-12-03  158549  2019     12        Dec    3\n",
              "\n",
              "[1304 rows x 6 columns]"
            ],
            "text/html": [
              "\n",
              "  <div id=\"df-30d49944-201b-48e8-853c-0c34ba4c69ca\">\n",
              "    <div class=\"colab-df-container\">\n",
              "      <div>\n",
              "<style scoped>\n",
              "    .dataframe tbody tr th:only-of-type {\n",
              "        vertical-align: middle;\n",
              "    }\n",
              "\n",
              "    .dataframe tbody tr th {\n",
              "        vertical-align: top;\n",
              "    }\n",
              "\n",
              "    .dataframe thead th {\n",
              "        text-align: right;\n",
              "    }\n",
              "</style>\n",
              "<table border=\"1\" class=\"dataframe\">\n",
              "  <thead>\n",
              "    <tr style=\"text-align: right;\">\n",
              "      <th></th>\n",
              "      <th>date</th>\n",
              "      <th>value</th>\n",
              "      <th>year</th>\n",
              "      <th>month</th>\n",
              "      <th>month_name</th>\n",
              "      <th>day</th>\n",
              "    </tr>\n",
              "  </thead>\n",
              "  <tbody>\n",
              "    <tr>\n",
              "      <th>0</th>\n",
              "      <td>2016-05-09</td>\n",
              "      <td>1201</td>\n",
              "      <td>2016</td>\n",
              "      <td>5</td>\n",
              "      <td>May</td>\n",
              "      <td>9</td>\n",
              "    </tr>\n",
              "    <tr>\n",
              "      <th>1</th>\n",
              "      <td>2016-05-10</td>\n",
              "      <td>2329</td>\n",
              "      <td>2016</td>\n",
              "      <td>5</td>\n",
              "      <td>May</td>\n",
              "      <td>10</td>\n",
              "    </tr>\n",
              "    <tr>\n",
              "      <th>2</th>\n",
              "      <td>2016-05-11</td>\n",
              "      <td>1716</td>\n",
              "      <td>2016</td>\n",
              "      <td>5</td>\n",
              "      <td>May</td>\n",
              "      <td>11</td>\n",
              "    </tr>\n",
              "    <tr>\n",
              "      <th>3</th>\n",
              "      <td>2016-05-12</td>\n",
              "      <td>10539</td>\n",
              "      <td>2016</td>\n",
              "      <td>5</td>\n",
              "      <td>May</td>\n",
              "      <td>12</td>\n",
              "    </tr>\n",
              "    <tr>\n",
              "      <th>4</th>\n",
              "      <td>2016-05-13</td>\n",
              "      <td>6933</td>\n",
              "      <td>2016</td>\n",
              "      <td>5</td>\n",
              "      <td>May</td>\n",
              "      <td>13</td>\n",
              "    </tr>\n",
              "    <tr>\n",
              "      <th>...</th>\n",
              "      <td>...</td>\n",
              "      <td>...</td>\n",
              "      <td>...</td>\n",
              "      <td>...</td>\n",
              "      <td>...</td>\n",
              "      <td>...</td>\n",
              "    </tr>\n",
              "    <tr>\n",
              "      <th>1299</th>\n",
              "      <td>2019-11-29</td>\n",
              "      <td>171584</td>\n",
              "      <td>2019</td>\n",
              "      <td>11</td>\n",
              "      <td>Nov</td>\n",
              "      <td>29</td>\n",
              "    </tr>\n",
              "    <tr>\n",
              "      <th>1300</th>\n",
              "      <td>2019-11-30</td>\n",
              "      <td>141161</td>\n",
              "      <td>2019</td>\n",
              "      <td>11</td>\n",
              "      <td>Nov</td>\n",
              "      <td>30</td>\n",
              "    </tr>\n",
              "    <tr>\n",
              "      <th>1301</th>\n",
              "      <td>2019-12-01</td>\n",
              "      <td>142918</td>\n",
              "      <td>2019</td>\n",
              "      <td>12</td>\n",
              "      <td>Dec</td>\n",
              "      <td>1</td>\n",
              "    </tr>\n",
              "    <tr>\n",
              "      <th>1302</th>\n",
              "      <td>2019-12-02</td>\n",
              "      <td>220144</td>\n",
              "      <td>2019</td>\n",
              "      <td>12</td>\n",
              "      <td>Dec</td>\n",
              "      <td>2</td>\n",
              "    </tr>\n",
              "    <tr>\n",
              "      <th>1303</th>\n",
              "      <td>2019-12-03</td>\n",
              "      <td>158549</td>\n",
              "      <td>2019</td>\n",
              "      <td>12</td>\n",
              "      <td>Dec</td>\n",
              "      <td>3</td>\n",
              "    </tr>\n",
              "  </tbody>\n",
              "</table>\n",
              "<p>1304 rows × 6 columns</p>\n",
              "</div>\n",
              "      <button class=\"colab-df-convert\" onclick=\"convertToInteractive('df-30d49944-201b-48e8-853c-0c34ba4c69ca')\"\n",
              "              title=\"Convert this dataframe to an interactive table.\"\n",
              "              style=\"display:none;\">\n",
              "        \n",
              "  <svg xmlns=\"http://www.w3.org/2000/svg\" height=\"24px\"viewBox=\"0 0 24 24\"\n",
              "       width=\"24px\">\n",
              "    <path d=\"M0 0h24v24H0V0z\" fill=\"none\"/>\n",
              "    <path d=\"M18.56 5.44l.94 2.06.94-2.06 2.06-.94-2.06-.94-.94-2.06-.94 2.06-2.06.94zm-11 1L8.5 8.5l.94-2.06 2.06-.94-2.06-.94L8.5 2.5l-.94 2.06-2.06.94zm10 10l.94 2.06.94-2.06 2.06-.94-2.06-.94-.94-2.06-.94 2.06-2.06.94z\"/><path d=\"M17.41 7.96l-1.37-1.37c-.4-.4-.92-.59-1.43-.59-.52 0-1.04.2-1.43.59L10.3 9.45l-7.72 7.72c-.78.78-.78 2.05 0 2.83L4 21.41c.39.39.9.59 1.41.59.51 0 1.02-.2 1.41-.59l7.78-7.78 2.81-2.81c.8-.78.8-2.07 0-2.86zM5.41 20L4 18.59l7.72-7.72 1.47 1.35L5.41 20z\"/>\n",
              "  </svg>\n",
              "      </button>\n",
              "      \n",
              "  <style>\n",
              "    .colab-df-container {\n",
              "      display:flex;\n",
              "      flex-wrap:wrap;\n",
              "      gap: 12px;\n",
              "    }\n",
              "\n",
              "    .colab-df-convert {\n",
              "      background-color: #E8F0FE;\n",
              "      border: none;\n",
              "      border-radius: 50%;\n",
              "      cursor: pointer;\n",
              "      display: none;\n",
              "      fill: #1967D2;\n",
              "      height: 32px;\n",
              "      padding: 0 0 0 0;\n",
              "      width: 32px;\n",
              "    }\n",
              "\n",
              "    .colab-df-convert:hover {\n",
              "      background-color: #E2EBFA;\n",
              "      box-shadow: 0px 1px 2px rgba(60, 64, 67, 0.3), 0px 1px 3px 1px rgba(60, 64, 67, 0.15);\n",
              "      fill: #174EA6;\n",
              "    }\n",
              "\n",
              "    [theme=dark] .colab-df-convert {\n",
              "      background-color: #3B4455;\n",
              "      fill: #D2E3FC;\n",
              "    }\n",
              "\n",
              "    [theme=dark] .colab-df-convert:hover {\n",
              "      background-color: #434B5C;\n",
              "      box-shadow: 0px 1px 3px 1px rgba(0, 0, 0, 0.15);\n",
              "      filter: drop-shadow(0px 1px 2px rgba(0, 0, 0, 0.3));\n",
              "      fill: #FFFFFF;\n",
              "    }\n",
              "  </style>\n",
              "\n",
              "      <script>\n",
              "        const buttonEl =\n",
              "          document.querySelector('#df-30d49944-201b-48e8-853c-0c34ba4c69ca button.colab-df-convert');\n",
              "        buttonEl.style.display =\n",
              "          google.colab.kernel.accessAllowed ? 'block' : 'none';\n",
              "\n",
              "        async function convertToInteractive(key) {\n",
              "          const element = document.querySelector('#df-30d49944-201b-48e8-853c-0c34ba4c69ca');\n",
              "          const dataTable =\n",
              "            await google.colab.kernel.invokeFunction('convertToInteractive',\n",
              "                                                     [key], {});\n",
              "          if (!dataTable) return;\n",
              "\n",
              "          const docLinkHtml = 'Like what you see? Visit the ' +\n",
              "            '<a target=\"_blank\" href=https://colab.research.google.com/notebooks/data_table.ipynb>data table notebook</a>'\n",
              "            + ' to learn more about interactive tables.';\n",
              "          element.innerHTML = '';\n",
              "          dataTable['output_type'] = 'display_data';\n",
              "          await google.colab.output.renderOutput(dataTable, element);\n",
              "          const docLink = document.createElement('div');\n",
              "          docLink.innerHTML = docLinkHtml;\n",
              "          element.appendChild(docLink);\n",
              "        }\n",
              "      </script>\n",
              "    </div>\n",
              "  </div>\n",
              "  "
            ]
          },
          "metadata": {},
          "execution_count": 5
        }
      ]
    },
    {
      "cell_type": "code",
      "source": [
        "df = df.set_index('date')\n",
        "\n",
        "upper = df['value'].quantile(0.975)\n",
        "lower = df['value'].quantile(0.025)\n",
        "\n",
        "# in_range = upper - lower\n",
        "# print(in_range)\n",
        "# upper_limit = (upper + 1.5 * in_range) \n",
        "# lower_limit = (lower - 1.5 * in_range) \n",
        "# print(upper_limit, lower_limit)\n",
        "#N/A here because this targets the inside range in btwn top 2.5% and bottom 2.5%#\n",
        "\n",
        "df_filtered = df[(df['value']<=upper) & (df['value']>=lower)]\n",
        "display(df_filtered)\n"
      ],
      "metadata": {
        "colab": {
          "base_uri": "https://localhost:8080/",
          "height": 455
        },
        "id": "a9t5D1NX72cF",
        "outputId": "744cfef7-856d-4e31-a0ea-9ab3c85211f9"
      },
      "execution_count": 6,
      "outputs": [
        {
          "output_type": "display_data",
          "data": {
            "text/plain": [
              "             value  year  month month_name  day\n",
              "date                                           \n",
              "2016-05-19   19736  2016      5        May   19\n",
              "2016-05-26   18060  2016      5        May   26\n",
              "2016-05-27   19997  2016      5        May   27\n",
              "2016-05-28   19044  2016      5        May   28\n",
              "2016-05-29   20325  2016      5        May   29\n",
              "...            ...   ...    ...        ...  ...\n",
              "2019-11-24  138875  2019     11        Nov   24\n",
              "2019-11-29  171584  2019     11        Nov   29\n",
              "2019-11-30  141161  2019     11        Nov   30\n",
              "2019-12-01  142918  2019     12        Dec    1\n",
              "2019-12-03  158549  2019     12        Dec    3\n",
              "\n",
              "[1238 rows x 5 columns]"
            ],
            "text/html": [
              "\n",
              "  <div id=\"df-6dc384c3-2863-4716-a41b-4cecb58cbaa8\">\n",
              "    <div class=\"colab-df-container\">\n",
              "      <div>\n",
              "<style scoped>\n",
              "    .dataframe tbody tr th:only-of-type {\n",
              "        vertical-align: middle;\n",
              "    }\n",
              "\n",
              "    .dataframe tbody tr th {\n",
              "        vertical-align: top;\n",
              "    }\n",
              "\n",
              "    .dataframe thead th {\n",
              "        text-align: right;\n",
              "    }\n",
              "</style>\n",
              "<table border=\"1\" class=\"dataframe\">\n",
              "  <thead>\n",
              "    <tr style=\"text-align: right;\">\n",
              "      <th></th>\n",
              "      <th>value</th>\n",
              "      <th>year</th>\n",
              "      <th>month</th>\n",
              "      <th>month_name</th>\n",
              "      <th>day</th>\n",
              "    </tr>\n",
              "    <tr>\n",
              "      <th>date</th>\n",
              "      <th></th>\n",
              "      <th></th>\n",
              "      <th></th>\n",
              "      <th></th>\n",
              "      <th></th>\n",
              "    </tr>\n",
              "  </thead>\n",
              "  <tbody>\n",
              "    <tr>\n",
              "      <th>2016-05-19</th>\n",
              "      <td>19736</td>\n",
              "      <td>2016</td>\n",
              "      <td>5</td>\n",
              "      <td>May</td>\n",
              "      <td>19</td>\n",
              "    </tr>\n",
              "    <tr>\n",
              "      <th>2016-05-26</th>\n",
              "      <td>18060</td>\n",
              "      <td>2016</td>\n",
              "      <td>5</td>\n",
              "      <td>May</td>\n",
              "      <td>26</td>\n",
              "    </tr>\n",
              "    <tr>\n",
              "      <th>2016-05-27</th>\n",
              "      <td>19997</td>\n",
              "      <td>2016</td>\n",
              "      <td>5</td>\n",
              "      <td>May</td>\n",
              "      <td>27</td>\n",
              "    </tr>\n",
              "    <tr>\n",
              "      <th>2016-05-28</th>\n",
              "      <td>19044</td>\n",
              "      <td>2016</td>\n",
              "      <td>5</td>\n",
              "      <td>May</td>\n",
              "      <td>28</td>\n",
              "    </tr>\n",
              "    <tr>\n",
              "      <th>2016-05-29</th>\n",
              "      <td>20325</td>\n",
              "      <td>2016</td>\n",
              "      <td>5</td>\n",
              "      <td>May</td>\n",
              "      <td>29</td>\n",
              "    </tr>\n",
              "    <tr>\n",
              "      <th>...</th>\n",
              "      <td>...</td>\n",
              "      <td>...</td>\n",
              "      <td>...</td>\n",
              "      <td>...</td>\n",
              "      <td>...</td>\n",
              "    </tr>\n",
              "    <tr>\n",
              "      <th>2019-11-24</th>\n",
              "      <td>138875</td>\n",
              "      <td>2019</td>\n",
              "      <td>11</td>\n",
              "      <td>Nov</td>\n",
              "      <td>24</td>\n",
              "    </tr>\n",
              "    <tr>\n",
              "      <th>2019-11-29</th>\n",
              "      <td>171584</td>\n",
              "      <td>2019</td>\n",
              "      <td>11</td>\n",
              "      <td>Nov</td>\n",
              "      <td>29</td>\n",
              "    </tr>\n",
              "    <tr>\n",
              "      <th>2019-11-30</th>\n",
              "      <td>141161</td>\n",
              "      <td>2019</td>\n",
              "      <td>11</td>\n",
              "      <td>Nov</td>\n",
              "      <td>30</td>\n",
              "    </tr>\n",
              "    <tr>\n",
              "      <th>2019-12-01</th>\n",
              "      <td>142918</td>\n",
              "      <td>2019</td>\n",
              "      <td>12</td>\n",
              "      <td>Dec</td>\n",
              "      <td>1</td>\n",
              "    </tr>\n",
              "    <tr>\n",
              "      <th>2019-12-03</th>\n",
              "      <td>158549</td>\n",
              "      <td>2019</td>\n",
              "      <td>12</td>\n",
              "      <td>Dec</td>\n",
              "      <td>3</td>\n",
              "    </tr>\n",
              "  </tbody>\n",
              "</table>\n",
              "<p>1238 rows × 5 columns</p>\n",
              "</div>\n",
              "      <button class=\"colab-df-convert\" onclick=\"convertToInteractive('df-6dc384c3-2863-4716-a41b-4cecb58cbaa8')\"\n",
              "              title=\"Convert this dataframe to an interactive table.\"\n",
              "              style=\"display:none;\">\n",
              "        \n",
              "  <svg xmlns=\"http://www.w3.org/2000/svg\" height=\"24px\"viewBox=\"0 0 24 24\"\n",
              "       width=\"24px\">\n",
              "    <path d=\"M0 0h24v24H0V0z\" fill=\"none\"/>\n",
              "    <path d=\"M18.56 5.44l.94 2.06.94-2.06 2.06-.94-2.06-.94-.94-2.06-.94 2.06-2.06.94zm-11 1L8.5 8.5l.94-2.06 2.06-.94-2.06-.94L8.5 2.5l-.94 2.06-2.06.94zm10 10l.94 2.06.94-2.06 2.06-.94-2.06-.94-.94-2.06-.94 2.06-2.06.94z\"/><path d=\"M17.41 7.96l-1.37-1.37c-.4-.4-.92-.59-1.43-.59-.52 0-1.04.2-1.43.59L10.3 9.45l-7.72 7.72c-.78.78-.78 2.05 0 2.83L4 21.41c.39.39.9.59 1.41.59.51 0 1.02-.2 1.41-.59l7.78-7.78 2.81-2.81c.8-.78.8-2.07 0-2.86zM5.41 20L4 18.59l7.72-7.72 1.47 1.35L5.41 20z\"/>\n",
              "  </svg>\n",
              "      </button>\n",
              "      \n",
              "  <style>\n",
              "    .colab-df-container {\n",
              "      display:flex;\n",
              "      flex-wrap:wrap;\n",
              "      gap: 12px;\n",
              "    }\n",
              "\n",
              "    .colab-df-convert {\n",
              "      background-color: #E8F0FE;\n",
              "      border: none;\n",
              "      border-radius: 50%;\n",
              "      cursor: pointer;\n",
              "      display: none;\n",
              "      fill: #1967D2;\n",
              "      height: 32px;\n",
              "      padding: 0 0 0 0;\n",
              "      width: 32px;\n",
              "    }\n",
              "\n",
              "    .colab-df-convert:hover {\n",
              "      background-color: #E2EBFA;\n",
              "      box-shadow: 0px 1px 2px rgba(60, 64, 67, 0.3), 0px 1px 3px 1px rgba(60, 64, 67, 0.15);\n",
              "      fill: #174EA6;\n",
              "    }\n",
              "\n",
              "    [theme=dark] .colab-df-convert {\n",
              "      background-color: #3B4455;\n",
              "      fill: #D2E3FC;\n",
              "    }\n",
              "\n",
              "    [theme=dark] .colab-df-convert:hover {\n",
              "      background-color: #434B5C;\n",
              "      box-shadow: 0px 1px 3px 1px rgba(0, 0, 0, 0.15);\n",
              "      filter: drop-shadow(0px 1px 2px rgba(0, 0, 0, 0.3));\n",
              "      fill: #FFFFFF;\n",
              "    }\n",
              "  </style>\n",
              "\n",
              "      <script>\n",
              "        const buttonEl =\n",
              "          document.querySelector('#df-6dc384c3-2863-4716-a41b-4cecb58cbaa8 button.colab-df-convert');\n",
              "        buttonEl.style.display =\n",
              "          google.colab.kernel.accessAllowed ? 'block' : 'none';\n",
              "\n",
              "        async function convertToInteractive(key) {\n",
              "          const element = document.querySelector('#df-6dc384c3-2863-4716-a41b-4cecb58cbaa8');\n",
              "          const dataTable =\n",
              "            await google.colab.kernel.invokeFunction('convertToInteractive',\n",
              "                                                     [key], {});\n",
              "          if (!dataTable) return;\n",
              "\n",
              "          const docLinkHtml = 'Like what you see? Visit the ' +\n",
              "            '<a target=\"_blank\" href=https://colab.research.google.com/notebooks/data_table.ipynb>data table notebook</a>'\n",
              "            + ' to learn more about interactive tables.';\n",
              "          element.innerHTML = '';\n",
              "          dataTable['output_type'] = 'display_data';\n",
              "          await google.colab.output.renderOutput(dataTable, element);\n",
              "          const docLink = document.createElement('div');\n",
              "          docLink.innerHTML = docLinkHtml;\n",
              "          element.appendChild(docLink);\n",
              "        }\n",
              "      </script>\n",
              "    </div>\n",
              "  </div>\n",
              "  "
            ]
          },
          "metadata": {}
        }
      ]
    },
    {
      "cell_type": "code",
      "source": [
        "from datetime import datetime, timezone\n",
        "import pandas as pd\n",
        "import matplotlib.pyplot as plt\n",
        "import numpy as np\n",
        "\n",
        "url = \"https://raw.githubusercontent.com/futureCodersSE/working-with-data/main/Data%20sets/page_views.csv\"\n",
        "\n",
        "def line_plot():\n",
        "  df = pd.read_csv(url)\n",
        "  df['date'] = pd.to_datetime(df.date)\n",
        "  df['year'] = df.date.dt.year\n",
        "  df['month'] = df.date.dt.month\n",
        "  df['month_name'] = df['date'].dt.strftime('%b')\n",
        "  df['day'] = df.date.dt.day\n",
        "  df = df.set_index('date')\n",
        "\n",
        "  upper = df['value'].quantile(0.975)\n",
        "  lower = df['value'].quantile(0.025)\n",
        "  df_filtered = df[(df['value']<=upper) & (df['value']>=lower)]\n",
        "\n",
        "  fig, ax = plt.subplots(figsize = (15,5))\n",
        "  ax.plot(df_filtered.index, df_filtered['value'], color= 'red', linewidth=1)\n",
        "  ax.set_title('Daily freeCodeCamp Forum Page Views 5/2016-12/2019')\n",
        "  ax.set_xlabel('Date Display')\n",
        "  ax.set_ylabel('Page Views Display')\n",
        "  plt.show()\n",
        "\n",
        "line_plot()"
      ],
      "metadata": {
        "colab": {
          "base_uri": "https://localhost:8080/",
          "height": 350
        },
        "id": "BoPs_TqASsgY",
        "outputId": "cee4b2ba-29cf-40be-c035-ec3632ff15d9"
      },
      "execution_count": 7,
      "outputs": [
        {
          "output_type": "display_data",
          "data": {
            "text/plain": [
              "<Figure size 1080x360 with 1 Axes>"
            ],
            "image/png": "[encoded data removed]"
          },
          "metadata": {
            "needs_background": "light"
          }
        }
      ]
    },
    {
      "cell_type": "markdown",
      "source": [
        "###2. A bar chart similar to this \n",
        "---\n",
        "\n",
        "![example](https://drive.google.com/uc?id=15-tIwheaCIcUsx6jfg5DBAWFVGE4bHzK) (taken from the freeCodeCamp site) and with similar labelling.  It should show average daily page views for each month grouped by year. \n",
        "\n",
        "To prepare the data for the bar chart you should create a pivot table and can use pivot_table_name.plot(kind='bar')\n"
      ],
      "metadata": {
        "id": "t0C_CKXhlh1Z"
      }
    },
    {
      "cell_type": "code",
      "source": [
        "def bar_chart():\n",
        "\n",
        "  table = pd.pivot_table(df_filtered, values = 'value', index = 'year', columns = 'month', aggfunc = np.mean)\n",
        "  print(table)\n",
        "\n",
        "  plt.rcParams[\"figure.figsize\"] = [15, 10]\n",
        "  labels=df_filtered['month_name'].unique()\n",
        "  table.plot(kind='bar', xlabel = 'Years Display', ylabel = 'Average Views', title = 'Page views per year').legend(labels, bbox_to_anchor=(1, 1))\n",
        "\n",
        "bar_chart()"
      ],
      "metadata": {
        "id": "K48C8gw1llFV",
        "colab": {
          "base_uri": "https://localhost:8080/",
          "height": 984
        },
        "outputId": "b4ca2a2b-146a-4d18-827b-92ee1f70fcd0"
      },
      "execution_count": 8,
      "outputs": [
        {
          "output_type": "stream",
          "name": "stdout",
          "text": [
            "month             1              2             3             4             5   \\\n",
            "year                                                                            \n",
            "2016             NaN            NaN           NaN           NaN  19432.400000   \n",
            "2017    32785.161290   31113.071429  29369.096774  30878.733333  34244.290323   \n",
            "2018    58580.096774   65679.000000  62693.774194  62350.833333  56562.870968   \n",
            "2019   102056.516129  105968.357143  91214.483871  89368.433333  91439.903226   \n",
            "\n",
            "month            6             7              8             9              10  \\\n",
            "year                                                                            \n",
            "2016   21875.105263  24109.678571   31049.193548  41476.866667   27398.322581   \n",
            "2017   43577.500000  65806.838710   47712.451613  47376.800000   47438.709677   \n",
            "2018   70117.000000  63591.064516   62831.612903  65941.733333  111378.142857   \n",
            "2019   90435.642857  97236.566667  102717.310345  97268.833333  122802.272727   \n",
            "\n",
            "month             11             12  \n",
            "year                                 \n",
            "2016    40448.633333   27832.419355  \n",
            "2017    57701.566667   48420.580645  \n",
            "2018    78688.333333   80047.483871  \n",
            "2019   143166.428571  150733.500000  \n"
          ]
        },
        {
          "output_type": "display_data",
          "data": {
            "text/plain": [
              "<Figure size 1080x720 with 1 Axes>"
            ],
            "image/png": "[encoded data removed]"
          },
          "metadata": {
            "needs_background": "light"
          }
        }
      ]
    },
    {
      "cell_type": "markdown",
      "source": [
        "###3.  A set of box plots similar to this\n",
        "---\n",
        " ![example](https://drive.google.com/uc?id=1kqhGKnA0Ybtyw2cew67u3_ogMS9Fb1hM)\n",
        "\n",
        "These box plots show how the values are distributed within a given year or month and how it compares over time. \n"
      ],
      "metadata": {
        "id": "GentBB6gllVh"
      }
    },
    {
      "cell_type": "code",
      "source": [
        "import seaborn as sns\n",
        "\n",
        "def box_plot():\n",
        "\n",
        "  fig_dims = (18, 7)\n",
        "  f, axes = plt.subplots(1, 2, figsize=fig_dims)\n",
        "  boxplot1 = sns.boxplot(x= 'year', y='value', data=df_filtered, ax=axes[0]).set(xlabel = 'Year', ylabel='Page Views', title = 'Year-wise Box Plot(Trend)')\n",
        "  boxplot2 = sns.boxplot(x= 'month_name', y='value', data=df_filtered, ax=axes[1]).set(xlabel = 'Year', ylabel='Page Views', title ='Month wise Box Plot(Seasonality)')\n",
        "\n",
        "box_plot()"
      ],
      "metadata": {
        "colab": {
          "base_uri": "https://localhost:8080/",
          "height": 458
        },
        "id": "EwaWvDaSUs3x",
        "outputId": "197376b1-88b0-4c4f-bd7a-6604a2f42b1c"
      },
      "execution_count": 9,
      "outputs": [
        {
          "output_type": "display_data",
          "data": {
            "text/plain": [
              "<Figure size 1296x504 with 2 Axes>"
            ],
            "image/png": "[encoded data removed]"
          },
          "metadata": {
            "needs_background": "light"
          }
        }
      ]
    },
    {
      "cell_type": "markdown",
      "source": [
        "###4.  Predict the number of page views in the year 2020 based on the data up to 2019\n",
        "---\n",
        "\n",
        "*  perform a linear regression and create a line of best fit \n",
        "*  predict the page views in the year 2020, 2025 and 2030 if identified trends persist. \n"
      ],
      "metadata": {
        "id": "VRT2P1DAlnmy"
      }
    },
    {
      "cell_type": "code",
      "source": [
        "!pip install --upgrade openpyxl"
      ],
      "metadata": {
        "colab": {
          "base_uri": "https://localhost:8080/"
        },
        "id": "eSfrJbkJFVm4",
        "outputId": "edb3f23f-9c72-467a-b72d-0edf8267a126"
      },
      "execution_count": 10,
      "outputs": [
        {
          "output_type": "stream",
          "name": "stdout",
          "text": [
            "Requirement already satisfied: openpyxl in /usr/local/lib/python3.7/dist-packages (3.0.9)\n",
            "Requirement already satisfied: et-xmlfile in /usr/local/lib/python3.7/dist-packages (from openpyxl) (1.1.0)\n"
          ]
        }
      ]
    },
    {
      "cell_type": "code",
      "source": [
        "from scipy.stats import linregress\n",
        "\n",
        "def linear_regression():\n",
        "\n",
        "  x = df['year']\n",
        "  y = df['value']\n",
        "  regression = linregress(x,y)\n",
        "\n",
        "  plt.rcParams[\"figure.figsize\"] = [15, 8]\n",
        "  plt.plot(x, regression.slope*x + regression.intercept)\n",
        "  plt.title('Views per year with line of best fit')\n",
        "  plt.xlabel('Year')\n",
        "  plt.ylabel('Page Views')\n",
        "  plt.show()\n",
        "\n",
        "linear_regression()"
      ],
      "metadata": {
        "colab": {
          "base_uri": "https://localhost:8080/",
          "height": 513
        },
        "id": "CErnQs4kKa8G",
        "outputId": "150d92da-2796-48d4-c459-e014fb1f56e2"
      },
      "execution_count": 11,
      "outputs": [
        {
          "output_type": "display_data",
          "data": {
            "text/plain": [
              "<Figure size 1080x576 with 1 Axes>"
            ],
            "image/png": "[encoded data removed]"
          },
          "metadata": {
            "needs_background": "light"
          }
        }
      ]
    },
    {
      "cell_type": "markdown",
      "source": [
        "### Prediction calculations for years 2020, 2025 and 2030."
      ],
      "metadata": {
        "id": "KTf1ULu8XCgZ"
      }
    },
    {
      "cell_type": "code",
      "source": [
        "#Predict the page views in the year 2020, 2025 and 2030 if identified trends persist.\n",
        "def views(year):\n",
        "  x = df['year']\n",
        "  y = df['value']\n",
        "  regression = linregress(x,y)\n",
        "  views = regression.slope * year + regression.intercept\n",
        "  #views = slope * x + intercept\n",
        "  #print(views)\n",
        "  return views\n",
        "\n",
        "#Prediction method:\n",
        "predict_2020 = views(2020)\n",
        "predict_2025 = views(2025)\n",
        "predict_2030 = views(2030)\n",
        "  #For rounded decimals to 2 only:\n",
        "print(\"The predicted page views for the years 2020, 2025 and 2030 are: \",  \n",
        "        (\"{:.2f}\".format(predict_2020)), \n",
        "        (\"{:.2f}\".format(predict_2025)), \n",
        "        (\"{:.2f}\".format(predict_2030))) \n",
        "\n",
        "#views() N/A because the functions are called above."
      ],
      "metadata": {
        "id": "X_GZ3TxTSSKD",
        "colab": {
          "base_uri": "https://localhost:8080/"
        },
        "outputId": "0105327a-6f5c-4e1a-f2a7-14a8bca4df31"
      },
      "execution_count": 15,
      "outputs": [
        {
          "output_type": "stream",
          "name": "stdout",
          "text": [
            "The predicted page views for the years 2020, 2025 and 2030 are:  139764.02 291848.45 443932.88\n"
          ]
        }
      ]
    },
    {
      "cell_type": "markdown",
      "source": [
        "The above prediction for years 2020, 2025 and 2030 clearly demonstrates that the page views are predicted to remain on an increasing trajectory."
      ],
      "metadata": {
        "id": "wHscwomrlSBn"
      }
    },
    {
      "cell_type": "markdown",
      "source": [
        "### Line regression graph for timeframe: 2016-2030, adding predicted values for years 2019-2030."
      ],
      "metadata": {
        "id": "piJiiou9VejY"
      }
    },
    {
      "cell_type": "code",
      "source": [
        "def get_lineregress(df):\n",
        "  x = df[\"year\"]\n",
        "  y = df[\"value\"]\n",
        "  regression = linregress(x,y)\n",
        "  \n",
        "  print(\"Regression slope = \", regression.slope)\n",
        "  print(\"Regression intercept =\", regression.intercept)\n",
        "  print(\"R value = \", regression[2])\n",
        "\n",
        "  #set figure size before plotting\n",
        "  plt.figure(figsize=(15, 8))\n",
        "  \n",
        "  #setting the years range from 2015 to a future year of 2035 and plot using regression output\n",
        "  guesstimate = np.arange(2016,2030)\n",
        "  plt.plot(guesstimate, regression.intercept + regression.slope*guesstimate, 'r', label='fitted line')\n",
        "  plt.title(\"Views per year prediction using line of best fit\")\n",
        "  plt.xlabel(\"Year\")\n",
        "  plt.ylabel(\"Page Views\")\n",
        "  return regression\n",
        "\n",
        "regression = get_lineregress(df_filtered)"
      ],
      "metadata": {
        "colab": {
          "base_uri": "https://localhost:8080/",
          "height": 565
        },
        "id": "TJth_fr1f36Y",
        "outputId": "ec53b615-5888-480b-c1fd-316155fdebeb"
      },
      "execution_count": 16,
      "outputs": [
        {
          "output_type": "stream",
          "name": "stdout",
          "text": [
            "Regression slope =  24385.517311982254\n",
            "Regression intercept = -49137675.65559689\n",
            "R value =  0.7932714276471907\n"
          ]
        },
        {
          "output_type": "display_data",
          "data": {
            "text/plain": [
              "<Figure size 1080x576 with 1 Axes>"
            ],
            "image/png": "[encoded data removed]"
          },
          "metadata": {
            "needs_background": "light"
          }
        }
      ]
    },
    {
      "cell_type": "markdown",
      "source": [
        "# Reflection\n",
        "\n",
        "A varied and interesting project with many revision aspects as well as new ones involved. \n",
        "\n",
        "Steps in developing this project included:\n",
        "- Use of Pandas to import the data from \"fcc-forum-pageviews.csv\". Set the index to the \"date\" column.\n",
        "- Cleaning the data by filtering out days when the page views were in the top 2.5% of the dataset or bottom 2.5% of the dataset.\n",
        "- Creating a draw line plot function that uses Matplotlib to draw a line chart similar to \"examples/Figure_1.png\". \n",
        "- Creating a draw bar plot function that draws a bar chart similar to \"examples/Figure_2.png\" showing average daily page views for each month grouped by year. The legend shows month labels. \n",
        "- Creating a draw_box_plot function that uses Seaborn to draw two adjacent box plots similar to \"examples/Figure_3.png\". These box plots show how the values are distributed within a given year or month and how it compares over time.\n",
        "- Establishing prediction with a calculation code. Moreover, applying a predictive calculation to add in an expanded line regression chart that displays both the existing page views throughout the recorded years and the predicted page views for a futore period until year 2030.\n",
        "\n",
        "Some challenging parts were the plotting specifications, trying to adjust previous code from sample worksheets to new more complex exercises."
      ],
      "metadata": {
        "id": "50Z9Lx1jbN5L"
      }
    }
  ]
}