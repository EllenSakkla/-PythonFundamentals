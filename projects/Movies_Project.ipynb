{
  "nbformat": 4,
  "nbformat_minor": 0,
  "metadata": {
    "colab": {
      "name": "Movies Project.ipynb",
      "provenance": [],
      "collapsed_sections": [],
      "include_colab_link": true
    },
    "kernelspec": {
      "name": "python3",
      "display_name": "Python 3"
    },
    "language_info": {
      "name": "python"
    }
  },
  "cells": [
    {
      "cell_type": "markdown",
      "metadata": {
        "id": "view-in-github",
        "colab_type": "text"
      },
      "source": [
        "<a href=\"https://colab.research.google.com/github/EllenSakkla/Python/blob/main/projects/Movies_Project.ipynb\" target=\"_parent\"><img src=\"https://colab.research.google.com/assets/colab-badge.svg\" alt=\"Open In Colab\"/></a>"
      ]
    },
    {
      "cell_type": "markdown",
      "metadata": {
        "id": "iNinIL0w_DHu"
      },
      "source": [
        "# Movies project\n",
        "---\n",
        "The Movies project is focused on retrieving information about cinematography through an examination of the Movies database which includes an extensive set of entries including information about directors, film title, release year, as well as genre.\n"
      ]
    },
    {
      "cell_type": "markdown",
      "metadata": {
        "id": "NDMFg2pNmodI"
      },
      "source": [
        "Creating a movies dataframe using SQL in Python\n",
        "---\n",
        "Pandas provide a function that will execute a query on a connected database and format the result into a dataframe\n",
        "\n",
        "The query:\n",
        "```\n",
        "SELECT first_name, last_name, name, year, rank, genre FROM directors, movies, movies_genres, movies_directors WHERE movies.id = movies_directors.movie_id AND movies.id = movies_genres.movie_id AND directors.id = movies_directors.director_id\n",
        "```\n",
        "will:\n",
        "*  SELECT the fields first_name FROM directors\n",
        "*  SELECT the fields name, year, rank FROM movies\n",
        "*  SELECT the field genre FROM movies_genres\n",
        "*  WHERE the ids match in movies and movies_directors\n",
        "*  AND the ids matchin movies and movies_genres\n",
        "*  AND the ids match in directors and movies directors\n",
        "\n",
        "The query below creates a dataframe from the output.  Using the `pd.read_sql_query` function to read this query into a pandas dataframe called **movies_df**"
      ]
    },
    {
      "cell_type": "code",
      "metadata": {
        "colab": {
          "base_uri": "https://localhost:8080/"
        },
        "outputId": "a0c7524e-14a4-4b3f-d8ab-ec80bc5dea87",
        "id": "Ap-lXNGLmuIX"
      },
      "source": [
        "# colab does not have mysql automatically installed, so you must run this code once to install it each time you reopen the colab document\n",
        "!pip install mysql.connector"
      ],
      "execution_count": 129,
      "outputs": [
        {
          "output_type": "stream",
          "name": "stdout",
          "text": [
            "Requirement already satisfied: mysql.connector in /usr/local/lib/python3.7/dist-packages (2.2.9)\n"
          ]
        }
      ]
    },
    {
      "cell_type": "code",
      "metadata": {
        "colab": {
          "base_uri": "https://localhost:8080/",
          "height": 224
        },
        "outputId": "ad900a95-9496-49b8-b6de-610e453a207e",
        "id": "5v4lcQ-Dm2R1"
      },
      "source": [
        "import pandas as pd\n",
        "from google.colab import files\n",
        "import mysql.connector\n",
        "\n",
        "def get_movies_data():\n",
        "  mydb = mysql.connector.connect(\n",
        "    host=\"relational.fit.cvut.cz\",\n",
        "    port=\"3306\",\n",
        "    user =\"guest\",\n",
        "    password =\"relational\",\n",
        "    database=\"imdb_ijs\"    \n",
        "  )\n",
        "  \n",
        "  query = \"\"\"\n",
        "    SELECT first_name, last_name, name, year, genre \n",
        "    FROM directors, movies, movies_genres, movies_directors \n",
        "    WHERE movies.id = movies_directors.movie_id \n",
        "    AND movies.id = movies_genres.movie_id \n",
        "    AND directors.id = movies_directors.director_id\n",
        "  \"\"\"\n",
        "  movies = pd.read_sql_query(query, mydb)\n",
        "  movies. to_csv('movies.csv')\n",
        "  files.download('movies.csv')\n",
        "  return movies\n",
        "\n",
        "# This code will test if the movies_df variable is a valid pandas dataframe \n",
        "movies_df = get_movies_data()\n",
        "if isinstance(movies_df,pd.DataFrame):\n",
        "  print(\"Test passed, variable is a pandas dataframe\")\n",
        "else:\n",
        "  print(\"Test failed, not a pandas dataframe\")\n",
        "\n",
        "# This will show the first part of the dataframe\n",
        "movies_df.head()"
      ],
      "execution_count": 116,
      "outputs": [
        {
          "output_type": "display_data",
          "data": {
            "text/plain": [
              "<IPython.core.display.Javascript object>"
            ],
            "application/javascript": [
              "\n",
              "    async function download(id, filename, size) {\n",
              "      if (!google.colab.kernel.accessAllowed) {\n",
              "        return;\n",
              "      }\n",
              "      const div = document.createElement('div');\n",
              "      const label = document.createElement('label');\n",
              "      label.textContent = `Downloading \"${filename}\": `;\n",
              "      div.appendChild(label);\n",
              "      const progress = document.createElement('progress');\n",
              "      progress.max = size;\n",
              "      div.appendChild(progress);\n",
              "      document.body.appendChild(div);\n",
              "\n",
              "      const buffers = [];\n",
              "      let downloaded = 0;\n",
              "\n",
              "      const channel = await google.colab.kernel.comms.open(id);\n",
              "      // Send a message to notify the kernel that we're ready.\n",
              "      channel.send({})\n",
              "\n",
              "      for await (const message of channel.messages) {\n",
              "        // Send a message to notify the kernel that we're ready.\n",
              "        channel.send({})\n",
              "        if (message.buffers) {\n",
              "          for (const buffer of message.buffers) {\n",
              "            buffers.push(buffer);\n",
              "            downloaded += buffer.byteLength;\n",
              "            progress.value = downloaded;\n",
              "          }\n",
              "        }\n",
              "      }\n",
              "      const blob = new Blob(buffers, {type: 'application/binary'});\n",
              "      const a = document.createElement('a');\n",
              "      a.href = window.URL.createObjectURL(blob);\n",
              "      a.download = filename;\n",
              "      div.appendChild(a);\n",
              "      a.click();\n",
              "      div.remove();\n",
              "    }\n",
              "  "
            ]
          },
          "metadata": {}
        },
        {
          "output_type": "display_data",
          "data": {
            "text/plain": [
              "<IPython.core.display.Javascript object>"
            ],
            "application/javascript": [
              "download(\"download_76513824-911e-4f3f-b10f-a67ab2a1d560\", \"movies.csv\", 19973174)"
            ]
          },
          "metadata": {}
        },
        {
          "output_type": "stream",
          "name": "stdout",
          "text": [
            "Test passed, variable is a pandas dataframe\n"
          ]
        },
        {
          "output_type": "execute_result",
          "data": {
            "text/plain": [
              "  first_name    last_name                      name  year        genre\n",
              "0        Les  12 Poissons      Rondo pour trompette  2002        Short\n",
              "1    Lejaren     a'Hiller  Sleep of Cyma Roget, The  1920        Drama\n",
              "2   Khairiya    A-Mansour          Churches in Iraq  1988  Documentary\n",
              "3    Ricardo     A. Solla                  Foto, La  2001        Drama\n",
              "4    Ricardo     A. Solla                  Foto, La  2001        Short"
            ],
            "text/html": [
              "\n",
              "  <div id=\"df-0fd56a60-a2dc-4350-8cb0-8d485c4e4ed6\">\n",
              "    <div class=\"colab-df-container\">\n",
              "      <div>\n",
              "<style scoped>\n",
              "    .dataframe tbody tr th:only-of-type {\n",
              "        vertical-align: middle;\n",
              "    }\n",
              "\n",
              "    .dataframe tbody tr th {\n",
              "        vertical-align: top;\n",
              "    }\n",
              "\n",
              "    .dataframe thead th {\n",
              "        text-align: right;\n",
              "    }\n",
              "</style>\n",
              "<table border=\"1\" class=\"dataframe\">\n",
              "  <thead>\n",
              "    <tr style=\"text-align: right;\">\n",
              "      <th></th>\n",
              "      <th>first_name</th>\n",
              "      <th>last_name</th>\n",
              "      <th>name</th>\n",
              "      <th>year</th>\n",
              "      <th>genre</th>\n",
              "    </tr>\n",
              "  </thead>\n",
              "  <tbody>\n",
              "    <tr>\n",
              "      <th>0</th>\n",
              "      <td>Les</td>\n",
              "      <td>12 Poissons</td>\n",
              "      <td>Rondo pour trompette</td>\n",
              "      <td>2002</td>\n",
              "      <td>Short</td>\n",
              "    </tr>\n",
              "    <tr>\n",
              "      <th>1</th>\n",
              "      <td>Lejaren</td>\n",
              "      <td>a'Hiller</td>\n",
              "      <td>Sleep of Cyma Roget, The</td>\n",
              "      <td>1920</td>\n",
              "      <td>Drama</td>\n",
              "    </tr>\n",
              "    <tr>\n",
              "      <th>2</th>\n",
              "      <td>Khairiya</td>\n",
              "      <td>A-Mansour</td>\n",
              "      <td>Churches in Iraq</td>\n",
              "      <td>1988</td>\n",
              "      <td>Documentary</td>\n",
              "    </tr>\n",
              "    <tr>\n",
              "      <th>3</th>\n",
              "      <td>Ricardo</td>\n",
              "      <td>A. Solla</td>\n",
              "      <td>Foto, La</td>\n",
              "      <td>2001</td>\n",
              "      <td>Drama</td>\n",
              "    </tr>\n",
              "    <tr>\n",
              "      <th>4</th>\n",
              "      <td>Ricardo</td>\n",
              "      <td>A. Solla</td>\n",
              "      <td>Foto, La</td>\n",
              "      <td>2001</td>\n",
              "      <td>Short</td>\n",
              "    </tr>\n",
              "  </tbody>\n",
              "</table>\n",
              "</div>\n",
              "      <button class=\"colab-df-convert\" onclick=\"convertToInteractive('df-0fd56a60-a2dc-4350-8cb0-8d485c4e4ed6')\"\n",
              "              title=\"Convert this dataframe to an interactive table.\"\n",
              "              style=\"display:none;\">\n",
              "        \n",
              "  <svg xmlns=\"http://www.w3.org/2000/svg\" height=\"24px\"viewBox=\"0 0 24 24\"\n",
              "       width=\"24px\">\n",
              "    <path d=\"M0 0h24v24H0V0z\" fill=\"none\"/>\n",
              "    <path d=\"M18.56 5.44l.94 2.06.94-2.06 2.06-.94-2.06-.94-.94-2.06-.94 2.06-2.06.94zm-11 1L8.5 8.5l.94-2.06 2.06-.94-2.06-.94L8.5 2.5l-.94 2.06-2.06.94zm10 10l.94 2.06.94-2.06 2.06-.94-2.06-.94-.94-2.06-.94 2.06-2.06.94z\"/><path d=\"M17.41 7.96l-1.37-1.37c-.4-.4-.92-.59-1.43-.59-.52 0-1.04.2-1.43.59L10.3 9.45l-7.72 7.72c-.78.78-.78 2.05 0 2.83L4 21.41c.39.39.9.59 1.41.59.51 0 1.02-.2 1.41-.59l7.78-7.78 2.81-2.81c.8-.78.8-2.07 0-2.86zM5.41 20L4 18.59l7.72-7.72 1.47 1.35L5.41 20z\"/>\n",
              "  </svg>\n",
              "      </button>\n",
              "      \n",
              "  <style>\n",
              "    .colab-df-container {\n",
              "      display:flex;\n",
              "      flex-wrap:wrap;\n",
              "      gap: 12px;\n",
              "    }\n",
              "\n",
              "    .colab-df-convert {\n",
              "      background-color: #E8F0FE;\n",
              "      border: none;\n",
              "      border-radius: 50%;\n",
              "      cursor: pointer;\n",
              "      display: none;\n",
              "      fill: #1967D2;\n",
              "      height: 32px;\n",
              "      padding: 0 0 0 0;\n",
              "      width: 32px;\n",
              "    }\n",
              "\n",
              "    .colab-df-convert:hover {\n",
              "      background-color: #E2EBFA;\n",
              "      box-shadow: 0px 1px 2px rgba(60, 64, 67, 0.3), 0px 1px 3px 1px rgba(60, 64, 67, 0.15);\n",
              "      fill: #174EA6;\n",
              "    }\n",
              "\n",
              "    [theme=dark] .colab-df-convert {\n",
              "      background-color: #3B4455;\n",
              "      fill: #D2E3FC;\n",
              "    }\n",
              "\n",
              "    [theme=dark] .colab-df-convert:hover {\n",
              "      background-color: #434B5C;\n",
              "      box-shadow: 0px 1px 3px 1px rgba(0, 0, 0, 0.15);\n",
              "      filter: drop-shadow(0px 1px 2px rgba(0, 0, 0, 0.3));\n",
              "      fill: #FFFFFF;\n",
              "    }\n",
              "  </style>\n",
              "\n",
              "      <script>\n",
              "        const buttonEl =\n",
              "          document.querySelector('#df-0fd56a60-a2dc-4350-8cb0-8d485c4e4ed6 button.colab-df-convert');\n",
              "        buttonEl.style.display =\n",
              "          google.colab.kernel.accessAllowed ? 'block' : 'none';\n",
              "\n",
              "        async function convertToInteractive(key) {\n",
              "          const element = document.querySelector('#df-0fd56a60-a2dc-4350-8cb0-8d485c4e4ed6');\n",
              "          const dataTable =\n",
              "            await google.colab.kernel.invokeFunction('convertToInteractive',\n",
              "                                                     [key], {});\n",
              "          if (!dataTable) return;\n",
              "\n",
              "          const docLinkHtml = 'Like what you see? Visit the ' +\n",
              "            '<a target=\"_blank\" href=https://colab.research.google.com/notebooks/data_table.ipynb>data table notebook</a>'\n",
              "            + ' to learn more about interactive tables.';\n",
              "          element.innerHTML = '';\n",
              "          dataTable['output_type'] = 'display_data';\n",
              "          await google.colab.output.renderOutput(dataTable, element);\n",
              "          const docLink = document.createElement('div');\n",
              "          docLink.innerHTML = docLinkHtml;\n",
              "          element.appendChild(docLink);\n",
              "        }\n",
              "      </script>\n",
              "    </div>\n",
              "  </div>\n",
              "  "
            ]
          },
          "metadata": {},
          "execution_count": 116
        }
      ]
    },
    {
      "cell_type": "markdown",
      "source": [
        "Movies Database\n",
        "---\n",
        "The Movies database csv copy for this project is available at: \"https://raw.githubusercontent.com/EllenSakkla/Python/main/datasets/movies.csv\""
      ],
      "metadata": {
        "id": "TsetjuGNkIah"
      }
    },
    {
      "cell_type": "markdown",
      "metadata": {
        "id": "TlOJOk3vMN2C"
      },
      "source": [
        "### Inspect the dataset \n",
        "---"
      ]
    },
    {
      "cell_type": "code",
      "metadata": {
        "id": "Le5KSKHY_BM9",
        "colab": {
          "base_uri": "https://localhost:8080/",
          "height": 424
        },
        "outputId": "c30d4535-1ca5-4c0f-8b38-75d8478a9c23"
      },
      "source": [
        "import pandas as pd\n",
        "import numpy as np\n",
        "import matplotlib.pyplot as plt\n",
        "import seaborn as sns\n",
        "\n",
        "url = \"https://raw.githubusercontent.com/EllenSakkla/Python/main/datasets/movies.csv\"\n",
        "movies = pd.read_csv(url)\n",
        "movies"
      ],
      "execution_count": 117,
      "outputs": [
        {
          "output_type": "execute_result",
          "data": {
            "text/plain": [
              "        Unnamed: 0 first_name    last_name  \\\n",
              "0                0        Les  12 Poissons   \n",
              "1                1    Lejaren     a'Hiller   \n",
              "2                1    Lejaren     a'Hiller   \n",
              "3                2   Khairiya    A-Mansour   \n",
              "4                3    Ricardo     A. Solla   \n",
              "...            ...        ...          ...   \n",
              "368891      368889      Yusuf         Ünal   \n",
              "368892      368890      Ahmet        Ündag   \n",
              "368893      368891       Idil         Üner   \n",
              "368894      368892     Yüksel        Ünsal   \n",
              "368895      368893     Yüksel        Ünsal   \n",
              "\n",
              "                                      name  year  rank        genre  \\\n",
              "0                     Rondo pour trompette  2002   NaN        Short   \n",
              "1                 Sleep of Cyma Roget, The  1920   NaN        Drama   \n",
              "2                 Sleep of Cyma Roget, The  1920   NaN        Drama   \n",
              "3                         Churches in Iraq  1988   NaN  Documentary   \n",
              "4                                 Foto, La  2001   NaN        Drama   \n",
              "...                                    ...   ...   ...          ...   \n",
              "368891                      Kalbim agliyor  1988   NaN        Drama   \n",
              "368892                 Ve gnese kan siradi  1972   NaN    Adventure   \n",
              "368893  Liebenden vom Hotel von Osman, Die  2001   8.5        Short   \n",
              "368894                   Evvel zaman iinde  1951   NaN    Animation   \n",
              "368895                   Evvel zaman iinde  1951   NaN       Comedy   \n",
              "\n",
              "        Unnamed: 7                                         Unnamed: 8  \n",
              "0              NaN        Les12 PoissonsRondo pour trompette2002Short  \n",
              "1              NaN   Lejarena'HillerSleep of Cyma Roget, The1920Drama  \n",
              "2              NaN   Lejarena'HillerSleep of Cyma Roget, The1920Drama  \n",
              "3              NaN   KhairiyaA-MansourChurches in Iraq1988Documentary  \n",
              "4              NaN                   RicardoA. SollaFoto, La2001Drama  \n",
              "...            ...                                                ...  \n",
              "368891         NaN                   YusufÜnalKalbim agliyor1988Drama  \n",
              "368892         NaN         AhmetÜndagVe gnese kan siradi1972Adventure  \n",
              "368893         NaN  IdilÜnerLiebenden vom Hotel von Osman, Die2001...  \n",
              "368894         NaN          YükselÜnsalEvvel zaman iinde1951Animation  \n",
              "368895         NaN             YükselÜnsalEvvel zaman iinde1951Comedy  \n",
              "\n",
              "[368896 rows x 9 columns]"
            ],
            "text/html": [
              "\n",
              "  <div id=\"df-347ca96c-f64d-4e8f-b9bc-da9faf8b33be\">\n",
              "    <div class=\"colab-df-container\">\n",
              "      <div>\n",
              "<style scoped>\n",
              "    .dataframe tbody tr th:only-of-type {\n",
              "        vertical-align: middle;\n",
              "    }\n",
              "\n",
              "    .dataframe tbody tr th {\n",
              "        vertical-align: top;\n",
              "    }\n",
              "\n",
              "    .dataframe thead th {\n",
              "        text-align: right;\n",
              "    }\n",
              "</style>\n",
              "<table border=\"1\" class=\"dataframe\">\n",
              "  <thead>\n",
              "    <tr style=\"text-align: right;\">\n",
              "      <th></th>\n",
              "      <th>Unnamed: 0</th>\n",
              "      <th>first_name</th>\n",
              "      <th>last_name</th>\n",
              "      <th>name</th>\n",
              "      <th>year</th>\n",
              "      <th>rank</th>\n",
              "      <th>genre</th>\n",
              "      <th>Unnamed: 7</th>\n",
              "      <th>Unnamed: 8</th>\n",
              "    </tr>\n",
              "  </thead>\n",
              "  <tbody>\n",
              "    <tr>\n",
              "      <th>0</th>\n",
              "      <td>0</td>\n",
              "      <td>Les</td>\n",
              "      <td>12 Poissons</td>\n",
              "      <td>Rondo pour trompette</td>\n",
              "      <td>2002</td>\n",
              "      <td>NaN</td>\n",
              "      <td>Short</td>\n",
              "      <td>NaN</td>\n",
              "      <td>Les12 PoissonsRondo pour trompette2002Short</td>\n",
              "    </tr>\n",
              "    <tr>\n",
              "      <th>1</th>\n",
              "      <td>1</td>\n",
              "      <td>Lejaren</td>\n",
              "      <td>a'Hiller</td>\n",
              "      <td>Sleep of Cyma Roget, The</td>\n",
              "      <td>1920</td>\n",
              "      <td>NaN</td>\n",
              "      <td>Drama</td>\n",
              "      <td>NaN</td>\n",
              "      <td>Lejarena'HillerSleep of Cyma Roget, The1920Drama</td>\n",
              "    </tr>\n",
              "    <tr>\n",
              "      <th>2</th>\n",
              "      <td>1</td>\n",
              "      <td>Lejaren</td>\n",
              "      <td>a'Hiller</td>\n",
              "      <td>Sleep of Cyma Roget, The</td>\n",
              "      <td>1920</td>\n",
              "      <td>NaN</td>\n",
              "      <td>Drama</td>\n",
              "      <td>NaN</td>\n",
              "      <td>Lejarena'HillerSleep of Cyma Roget, The1920Drama</td>\n",
              "    </tr>\n",
              "    <tr>\n",
              "      <th>3</th>\n",
              "      <td>2</td>\n",
              "      <td>Khairiya</td>\n",
              "      <td>A-Mansour</td>\n",
              "      <td>Churches in Iraq</td>\n",
              "      <td>1988</td>\n",
              "      <td>NaN</td>\n",
              "      <td>Documentary</td>\n",
              "      <td>NaN</td>\n",
              "      <td>KhairiyaA-MansourChurches in Iraq1988Documentary</td>\n",
              "    </tr>\n",
              "    <tr>\n",
              "      <th>4</th>\n",
              "      <td>3</td>\n",
              "      <td>Ricardo</td>\n",
              "      <td>A. Solla</td>\n",
              "      <td>Foto, La</td>\n",
              "      <td>2001</td>\n",
              "      <td>NaN</td>\n",
              "      <td>Drama</td>\n",
              "      <td>NaN</td>\n",
              "      <td>RicardoA. SollaFoto, La2001Drama</td>\n",
              "    </tr>\n",
              "    <tr>\n",
              "      <th>...</th>\n",
              "      <td>...</td>\n",
              "      <td>...</td>\n",
              "      <td>...</td>\n",
              "      <td>...</td>\n",
              "      <td>...</td>\n",
              "      <td>...</td>\n",
              "      <td>...</td>\n",
              "      <td>...</td>\n",
              "      <td>...</td>\n",
              "    </tr>\n",
              "    <tr>\n",
              "      <th>368891</th>\n",
              "      <td>368889</td>\n",
              "      <td>Yusuf</td>\n",
              "      <td>Ünal</td>\n",
              "      <td>Kalbim agliyor</td>\n",
              "      <td>1988</td>\n",
              "      <td>NaN</td>\n",
              "      <td>Drama</td>\n",
              "      <td>NaN</td>\n",
              "      <td>YusufÜnalKalbim agliyor1988Drama</td>\n",
              "    </tr>\n",
              "    <tr>\n",
              "      <th>368892</th>\n",
              "      <td>368890</td>\n",
              "      <td>Ahmet</td>\n",
              "      <td>Ündag</td>\n",
              "      <td>Ve gnese kan siradi</td>\n",
              "      <td>1972</td>\n",
              "      <td>NaN</td>\n",
              "      <td>Adventure</td>\n",
              "      <td>NaN</td>\n",
              "      <td>AhmetÜndagVe gnese kan siradi1972Adventure</td>\n",
              "    </tr>\n",
              "    <tr>\n",
              "      <th>368893</th>\n",
              "      <td>368891</td>\n",
              "      <td>Idil</td>\n",
              "      <td>Üner</td>\n",
              "      <td>Liebenden vom Hotel von Osman, Die</td>\n",
              "      <td>2001</td>\n",
              "      <td>8.5</td>\n",
              "      <td>Short</td>\n",
              "      <td>NaN</td>\n",
              "      <td>IdilÜnerLiebenden vom Hotel von Osman, Die2001...</td>\n",
              "    </tr>\n",
              "    <tr>\n",
              "      <th>368894</th>\n",
              "      <td>368892</td>\n",
              "      <td>Yüksel</td>\n",
              "      <td>Ünsal</td>\n",
              "      <td>Evvel zaman iinde</td>\n",
              "      <td>1951</td>\n",
              "      <td>NaN</td>\n",
              "      <td>Animation</td>\n",
              "      <td>NaN</td>\n",
              "      <td>YükselÜnsalEvvel zaman iinde1951Animation</td>\n",
              "    </tr>\n",
              "    <tr>\n",
              "      <th>368895</th>\n",
              "      <td>368893</td>\n",
              "      <td>Yüksel</td>\n",
              "      <td>Ünsal</td>\n",
              "      <td>Evvel zaman iinde</td>\n",
              "      <td>1951</td>\n",
              "      <td>NaN</td>\n",
              "      <td>Comedy</td>\n",
              "      <td>NaN</td>\n",
              "      <td>YükselÜnsalEvvel zaman iinde1951Comedy</td>\n",
              "    </tr>\n",
              "  </tbody>\n",
              "</table>\n",
              "<p>368896 rows × 9 columns</p>\n",
              "</div>\n",
              "      <button class=\"colab-df-convert\" onclick=\"convertToInteractive('df-347ca96c-f64d-4e8f-b9bc-da9faf8b33be')\"\n",
              "              title=\"Convert this dataframe to an interactive table.\"\n",
              "              style=\"display:none;\">\n",
              "        \n",
              "  <svg xmlns=\"http://www.w3.org/2000/svg\" height=\"24px\"viewBox=\"0 0 24 24\"\n",
              "       width=\"24px\">\n",
              "    <path d=\"M0 0h24v24H0V0z\" fill=\"none\"/>\n",
              "    <path d=\"M18.56 5.44l.94 2.06.94-2.06 2.06-.94-2.06-.94-.94-2.06-.94 2.06-2.06.94zm-11 1L8.5 8.5l.94-2.06 2.06-.94-2.06-.94L8.5 2.5l-.94 2.06-2.06.94zm10 10l.94 2.06.94-2.06 2.06-.94-2.06-.94-.94-2.06-.94 2.06-2.06.94z\"/><path d=\"M17.41 7.96l-1.37-1.37c-.4-.4-.92-.59-1.43-.59-.52 0-1.04.2-1.43.59L10.3 9.45l-7.72 7.72c-.78.78-.78 2.05 0 2.83L4 21.41c.39.39.9.59 1.41.59.51 0 1.02-.2 1.41-.59l7.78-7.78 2.81-2.81c.8-.78.8-2.07 0-2.86zM5.41 20L4 18.59l7.72-7.72 1.47 1.35L5.41 20z\"/>\n",
              "  </svg>\n",
              "      </button>\n",
              "      \n",
              "  <style>\n",
              "    .colab-df-container {\n",
              "      display:flex;\n",
              "      flex-wrap:wrap;\n",
              "      gap: 12px;\n",
              "    }\n",
              "\n",
              "    .colab-df-convert {\n",
              "      background-color: #E8F0FE;\n",
              "      border: none;\n",
              "      border-radius: 50%;\n",
              "      cursor: pointer;\n",
              "      display: none;\n",
              "      fill: #1967D2;\n",
              "      height: 32px;\n",
              "      padding: 0 0 0 0;\n",
              "      width: 32px;\n",
              "    }\n",
              "\n",
              "    .colab-df-convert:hover {\n",
              "      background-color: #E2EBFA;\n",
              "      box-shadow: 0px 1px 2px rgba(60, 64, 67, 0.3), 0px 1px 3px 1px rgba(60, 64, 67, 0.15);\n",
              "      fill: #174EA6;\n",
              "    }\n",
              "\n",
              "    [theme=dark] .colab-df-convert {\n",
              "      background-color: #3B4455;\n",
              "      fill: #D2E3FC;\n",
              "    }\n",
              "\n",
              "    [theme=dark] .colab-df-convert:hover {\n",
              "      background-color: #434B5C;\n",
              "      box-shadow: 0px 1px 3px 1px rgba(0, 0, 0, 0.15);\n",
              "      filter: drop-shadow(0px 1px 2px rgba(0, 0, 0, 0.3));\n",
              "      fill: #FFFFFF;\n",
              "    }\n",
              "  </style>\n",
              "\n",
              "      <script>\n",
              "        const buttonEl =\n",
              "          document.querySelector('#df-347ca96c-f64d-4e8f-b9bc-da9faf8b33be button.colab-df-convert');\n",
              "        buttonEl.style.display =\n",
              "          google.colab.kernel.accessAllowed ? 'block' : 'none';\n",
              "\n",
              "        async function convertToInteractive(key) {\n",
              "          const element = document.querySelector('#df-347ca96c-f64d-4e8f-b9bc-da9faf8b33be');\n",
              "          const dataTable =\n",
              "            await google.colab.kernel.invokeFunction('convertToInteractive',\n",
              "                                                     [key], {});\n",
              "          if (!dataTable) return;\n",
              "\n",
              "          const docLinkHtml = 'Like what you see? Visit the ' +\n",
              "            '<a target=\"_blank\" href=https://colab.research.google.com/notebooks/data_table.ipynb>data table notebook</a>'\n",
              "            + ' to learn more about interactive tables.';\n",
              "          element.innerHTML = '';\n",
              "          dataTable['output_type'] = 'display_data';\n",
              "          await google.colab.output.renderOutput(dataTable, element);\n",
              "          const docLink = document.createElement('div');\n",
              "          docLink.innerHTML = docLinkHtml;\n",
              "          element.appendChild(docLink);\n",
              "        }\n",
              "      </script>\n",
              "    </div>\n",
              "  </div>\n",
              "  "
            ]
          },
          "metadata": {},
          "execution_count": 117
        }
      ]
    },
    {
      "cell_type": "code",
      "source": [
        "def get_summary(movies):\n",
        "  # merged code for the general info, the top 5 rows of the dataset, and the numerical summary\n",
        "  return movies.info(), movies.head(), movies.describe(), movies.columns\n",
        "\n",
        "get_summary(movies)"
      ],
      "metadata": {
        "colab": {
          "base_uri": "https://localhost:8080/"
        },
        "id": "NAlxfsSdj104",
        "outputId": "bece3288-a8c5-48ad-9d4f-a980a46e1fbf"
      },
      "execution_count": 118,
      "outputs": [
        {
          "output_type": "stream",
          "name": "stdout",
          "text": [
            "<class 'pandas.core.frame.DataFrame'>\n",
            "RangeIndex: 368896 entries, 0 to 368895\n",
            "Data columns (total 9 columns):\n",
            " #   Column      Non-Null Count   Dtype  \n",
            "---  ------      --------------   -----  \n",
            " 0   Unnamed: 0  368896 non-null  int64  \n",
            " 1   first_name  368896 non-null  object \n",
            " 2   last_name   368896 non-null  object \n",
            " 3   name        368896 non-null  object \n",
            " 4   year        368896 non-null  int64  \n",
            " 5   rank        113377 non-null  float64\n",
            " 6   genre       368896 non-null  object \n",
            " 7   Unnamed: 7  0 non-null       float64\n",
            " 8   Unnamed: 8  368895 non-null  object \n",
            "dtypes: float64(2), int64(2), object(5)\n",
            "memory usage: 25.3+ MB\n"
          ]
        },
        {
          "output_type": "execute_result",
          "data": {
            "text/plain": [
              "(None,\n",
              "    Unnamed: 0 first_name    last_name                      name  year  rank  \\\n",
              " 0           0        Les  12 Poissons      Rondo pour trompette  2002   NaN   \n",
              " 1           1    Lejaren     a'Hiller  Sleep of Cyma Roget, The  1920   NaN   \n",
              " 2           1    Lejaren     a'Hiller  Sleep of Cyma Roget, The  1920   NaN   \n",
              " 3           2   Khairiya    A-Mansour          Churches in Iraq  1988   NaN   \n",
              " 4           3    Ricardo     A. Solla                  Foto, La  2001   NaN   \n",
              " \n",
              "          genre  Unnamed: 7                                        Unnamed: 8  \n",
              " 0        Short         NaN       Les12 PoissonsRondo pour trompette2002Short  \n",
              " 1        Drama         NaN  Lejarena'HillerSleep of Cyma Roget, The1920Drama  \n",
              " 2        Drama         NaN  Lejarena'HillerSleep of Cyma Roget, The1920Drama  \n",
              " 3  Documentary         NaN  KhairiyaA-MansourChurches in Iraq1988Documentary  \n",
              " 4        Drama         NaN                  RicardoA. SollaFoto, La2001Drama  ,\n",
              "           Unnamed: 0           year           rank  Unnamed: 7\n",
              " count  368896.000000  368896.000000  113377.000000         0.0\n",
              " mean   184445.552232    1969.442182       5.995159         NaN\n",
              " std    106491.161046      29.082142       1.540367         NaN\n",
              " min         0.000000    1888.000000       1.000000         NaN\n",
              " 25%     92221.750000    1947.000000       5.100000         NaN\n",
              " 50%    184445.500000    1976.000000       6.200000         NaN\n",
              " 75%    276669.250000    1996.000000       7.100000         NaN\n",
              " max    368893.000000    2007.000000       9.900000         NaN,\n",
              " Index(['Unnamed: 0', 'first_name', 'last_name', 'name', 'year', 'rank',\n",
              "        'genre', 'Unnamed: 7', 'Unnamed: 8'],\n",
              "       dtype='object'))"
            ]
          },
          "metadata": {},
          "execution_count": 118
        }
      ]
    },
    {
      "cell_type": "code",
      "metadata": {
        "id": "jmGMyke9hNP_",
        "colab": {
          "base_uri": "https://localhost:8080/"
        },
        "outputId": "a9b72b35-634a-415c-d48f-c00d86be3c19"
      },
      "source": [
        "# colab does not have mysql automatically installed, so you must run this code once to install it each time you reopen the colab document\n",
        "!pip install mysql.connector"
      ],
      "execution_count": 119,
      "outputs": [
        {
          "output_type": "stream",
          "name": "stdout",
          "text": [
            "Requirement already satisfied: mysql.connector in /usr/local/lib/python3.7/dist-packages (2.2.9)\n"
          ]
        }
      ]
    },
    {
      "cell_type": "code",
      "metadata": {
        "colab": {
          "base_uri": "https://localhost:8080/",
          "height": 224
        },
        "outputId": "a3c1680a-a680-42a3-81c2-443e82abdc4e",
        "id": "vAfWYDTmUpB-"
      },
      "source": [
        "import pandas as pd\n",
        "from google.colab import files\n",
        "import mysql.connector\n",
        "\n",
        "def get_movies_data():\n",
        "  mydb = mysql.connector.connect(\n",
        "    host=\"relational.fit.cvut.cz\",\n",
        "    port=\"3306\",\n",
        "    user =\"guest\",\n",
        "    password =\"relational\",\n",
        "    database=\"imdb_ijs\"    \n",
        "  )\n",
        "  \n",
        "  query = \"\"\"\n",
        "    SELECT first_name, last_name, name, year, genre \n",
        "    FROM directors, movies, movies_genres, movies_directors \n",
        "    WHERE movies.id = movies_directors.movie_id \n",
        "    AND movies.id = movies_genres.movie_id \n",
        "    AND directors.id = movies_directors.director_id\n",
        "  \"\"\"\n",
        "  movies = pd.read_sql_query(query, mydb)\n",
        "  movies. to_csv('movies.csv')\n",
        "  files.download('movies.csv')\n",
        "  return movies\n",
        "\n",
        "# This code will test if the movies_df variable is a valid pandas dataframe \n",
        "movies_df = get_movies_data()\n",
        "if isinstance(movies_df,pd.DataFrame):\n",
        "  print(\"Test passed, variable is a pandas dataframe\")\n",
        "else:\n",
        "  print(\"Test failed, not a pandas dataframe\")\n",
        "\n",
        "# This will show the first part of the dataframe\n",
        "movies_df.head()"
      ],
      "execution_count": 120,
      "outputs": [
        {
          "output_type": "display_data",
          "data": {
            "text/plain": [
              "<IPython.core.display.Javascript object>"
            ],
            "application/javascript": [
              "\n",
              "    async function download(id, filename, size) {\n",
              "      if (!google.colab.kernel.accessAllowed) {\n",
              "        return;\n",
              "      }\n",
              "      const div = document.createElement('div');\n",
              "      const label = document.createElement('label');\n",
              "      label.textContent = `Downloading \"${filename}\": `;\n",
              "      div.appendChild(label);\n",
              "      const progress = document.createElement('progress');\n",
              "      progress.max = size;\n",
              "      div.appendChild(progress);\n",
              "      document.body.appendChild(div);\n",
              "\n",
              "      const buffers = [];\n",
              "      let downloaded = 0;\n",
              "\n",
              "      const channel = await google.colab.kernel.comms.open(id);\n",
              "      // Send a message to notify the kernel that we're ready.\n",
              "      channel.send({})\n",
              "\n",
              "      for await (const message of channel.messages) {\n",
              "        // Send a message to notify the kernel that we're ready.\n",
              "        channel.send({})\n",
              "        if (message.buffers) {\n",
              "          for (const buffer of message.buffers) {\n",
              "            buffers.push(buffer);\n",
              "            downloaded += buffer.byteLength;\n",
              "            progress.value = downloaded;\n",
              "          }\n",
              "        }\n",
              "      }\n",
              "      const blob = new Blob(buffers, {type: 'application/binary'});\n",
              "      const a = document.createElement('a');\n",
              "      a.href = window.URL.createObjectURL(blob);\n",
              "      a.download = filename;\n",
              "      div.appendChild(a);\n",
              "      a.click();\n",
              "      div.remove();\n",
              "    }\n",
              "  "
            ]
          },
          "metadata": {}
        },
        {
          "output_type": "display_data",
          "data": {
            "text/plain": [
              "<IPython.core.display.Javascript object>"
            ],
            "application/javascript": [
              "download(\"download_00516687-01cb-45b0-8ba1-afd5bdf5aa1b\", \"movies.csv\", 19973174)"
            ]
          },
          "metadata": {}
        },
        {
          "output_type": "stream",
          "name": "stdout",
          "text": [
            "Test passed, variable is a pandas dataframe\n"
          ]
        },
        {
          "output_type": "execute_result",
          "data": {
            "text/plain": [
              "  first_name    last_name                      name  year        genre\n",
              "0        Les  12 Poissons      Rondo pour trompette  2002        Short\n",
              "1    Lejaren     a'Hiller  Sleep of Cyma Roget, The  1920        Drama\n",
              "2   Khairiya    A-Mansour          Churches in Iraq  1988  Documentary\n",
              "3    Ricardo     A. Solla                  Foto, La  2001        Drama\n",
              "4    Ricardo     A. Solla                  Foto, La  2001        Short"
            ],
            "text/html": [
              "\n",
              "  <div id=\"df-b8411589-4d55-46d6-8761-42a135b37efa\">\n",
              "    <div class=\"colab-df-container\">\n",
              "      <div>\n",
              "<style scoped>\n",
              "    .dataframe tbody tr th:only-of-type {\n",
              "        vertical-align: middle;\n",
              "    }\n",
              "\n",
              "    .dataframe tbody tr th {\n",
              "        vertical-align: top;\n",
              "    }\n",
              "\n",
              "    .dataframe thead th {\n",
              "        text-align: right;\n",
              "    }\n",
              "</style>\n",
              "<table border=\"1\" class=\"dataframe\">\n",
              "  <thead>\n",
              "    <tr style=\"text-align: right;\">\n",
              "      <th></th>\n",
              "      <th>first_name</th>\n",
              "      <th>last_name</th>\n",
              "      <th>name</th>\n",
              "      <th>year</th>\n",
              "      <th>genre</th>\n",
              "    </tr>\n",
              "  </thead>\n",
              "  <tbody>\n",
              "    <tr>\n",
              "      <th>0</th>\n",
              "      <td>Les</td>\n",
              "      <td>12 Poissons</td>\n",
              "      <td>Rondo pour trompette</td>\n",
              "      <td>2002</td>\n",
              "      <td>Short</td>\n",
              "    </tr>\n",
              "    <tr>\n",
              "      <th>1</th>\n",
              "      <td>Lejaren</td>\n",
              "      <td>a'Hiller</td>\n",
              "      <td>Sleep of Cyma Roget, The</td>\n",
              "      <td>1920</td>\n",
              "      <td>Drama</td>\n",
              "    </tr>\n",
              "    <tr>\n",
              "      <th>2</th>\n",
              "      <td>Khairiya</td>\n",
              "      <td>A-Mansour</td>\n",
              "      <td>Churches in Iraq</td>\n",
              "      <td>1988</td>\n",
              "      <td>Documentary</td>\n",
              "    </tr>\n",
              "    <tr>\n",
              "      <th>3</th>\n",
              "      <td>Ricardo</td>\n",
              "      <td>A. Solla</td>\n",
              "      <td>Foto, La</td>\n",
              "      <td>2001</td>\n",
              "      <td>Drama</td>\n",
              "    </tr>\n",
              "    <tr>\n",
              "      <th>4</th>\n",
              "      <td>Ricardo</td>\n",
              "      <td>A. Solla</td>\n",
              "      <td>Foto, La</td>\n",
              "      <td>2001</td>\n",
              "      <td>Short</td>\n",
              "    </tr>\n",
              "  </tbody>\n",
              "</table>\n",
              "</div>\n",
              "      <button class=\"colab-df-convert\" onclick=\"convertToInteractive('df-b8411589-4d55-46d6-8761-42a135b37efa')\"\n",
              "              title=\"Convert this dataframe to an interactive table.\"\n",
              "              style=\"display:none;\">\n",
              "        \n",
              "  <svg xmlns=\"http://www.w3.org/2000/svg\" height=\"24px\"viewBox=\"0 0 24 24\"\n",
              "       width=\"24px\">\n",
              "    <path d=\"M0 0h24v24H0V0z\" fill=\"none\"/>\n",
              "    <path d=\"M18.56 5.44l.94 2.06.94-2.06 2.06-.94-2.06-.94-.94-2.06-.94 2.06-2.06.94zm-11 1L8.5 8.5l.94-2.06 2.06-.94-2.06-.94L8.5 2.5l-.94 2.06-2.06.94zm10 10l.94 2.06.94-2.06 2.06-.94-2.06-.94-.94-2.06-.94 2.06-2.06.94z\"/><path d=\"M17.41 7.96l-1.37-1.37c-.4-.4-.92-.59-1.43-.59-.52 0-1.04.2-1.43.59L10.3 9.45l-7.72 7.72c-.78.78-.78 2.05 0 2.83L4 21.41c.39.39.9.59 1.41.59.51 0 1.02-.2 1.41-.59l7.78-7.78 2.81-2.81c.8-.78.8-2.07 0-2.86zM5.41 20L4 18.59l7.72-7.72 1.47 1.35L5.41 20z\"/>\n",
              "  </svg>\n",
              "      </button>\n",
              "      \n",
              "  <style>\n",
              "    .colab-df-container {\n",
              "      display:flex;\n",
              "      flex-wrap:wrap;\n",
              "      gap: 12px;\n",
              "    }\n",
              "\n",
              "    .colab-df-convert {\n",
              "      background-color: #E8F0FE;\n",
              "      border: none;\n",
              "      border-radius: 50%;\n",
              "      cursor: pointer;\n",
              "      display: none;\n",
              "      fill: #1967D2;\n",
              "      height: 32px;\n",
              "      padding: 0 0 0 0;\n",
              "      width: 32px;\n",
              "    }\n",
              "\n",
              "    .colab-df-convert:hover {\n",
              "      background-color: #E2EBFA;\n",
              "      box-shadow: 0px 1px 2px rgba(60, 64, 67, 0.3), 0px 1px 3px 1px rgba(60, 64, 67, 0.15);\n",
              "      fill: #174EA6;\n",
              "    }\n",
              "\n",
              "    [theme=dark] .colab-df-convert {\n",
              "      background-color: #3B4455;\n",
              "      fill: #D2E3FC;\n",
              "    }\n",
              "\n",
              "    [theme=dark] .colab-df-convert:hover {\n",
              "      background-color: #434B5C;\n",
              "      box-shadow: 0px 1px 3px 1px rgba(0, 0, 0, 0.15);\n",
              "      filter: drop-shadow(0px 1px 2px rgba(0, 0, 0, 0.3));\n",
              "      fill: #FFFFFF;\n",
              "    }\n",
              "  </style>\n",
              "\n",
              "      <script>\n",
              "        const buttonEl =\n",
              "          document.querySelector('#df-b8411589-4d55-46d6-8761-42a135b37efa button.colab-df-convert');\n",
              "        buttonEl.style.display =\n",
              "          google.colab.kernel.accessAllowed ? 'block' : 'none';\n",
              "\n",
              "        async function convertToInteractive(key) {\n",
              "          const element = document.querySelector('#df-b8411589-4d55-46d6-8761-42a135b37efa');\n",
              "          const dataTable =\n",
              "            await google.colab.kernel.invokeFunction('convertToInteractive',\n",
              "                                                     [key], {});\n",
              "          if (!dataTable) return;\n",
              "\n",
              "          const docLinkHtml = 'Like what you see? Visit the ' +\n",
              "            '<a target=\"_blank\" href=https://colab.research.google.com/notebooks/data_table.ipynb>data table notebook</a>'\n",
              "            + ' to learn more about interactive tables.';\n",
              "          element.innerHTML = '';\n",
              "          dataTable['output_type'] = 'display_data';\n",
              "          await google.colab.output.renderOutput(dataTable, element);\n",
              "          const docLink = document.createElement('div');\n",
              "          docLink.innerHTML = docLinkHtml;\n",
              "          element.appendChild(docLink);\n",
              "        }\n",
              "      </script>\n",
              "    </div>\n",
              "  </div>\n",
              "  "
            ]
          },
          "metadata": {},
          "execution_count": 120
        }
      ]
    },
    {
      "cell_type": "markdown",
      "metadata": {
        "id": "wIRDoCnxMRj8"
      },
      "source": [
        "### Clean the dataset \n",
        "---\n"
      ]
    },
    {
      "cell_type": "markdown",
      "source": [
        "Ideas for cleaning the data\n",
        "Remove the unnamed column as it is just an index that not needed.\n",
        "Make sure that there are no spaces \" \" in the columns\n",
        "Sort by genre or year.\n",
        "Remove films with no ranking - to reduce the size.\n",
        "Decided only rank needed to be cleaned up."
      ],
      "metadata": {
        "id": "q3pR2AHA87YN"
      }
    },
    {
      "cell_type": "code",
      "metadata": {
        "id": "LgY60bsbMUc8",
        "colab": {
          "base_uri": "https://localhost:8080/"
        },
        "outputId": "d7a7046e-14d0-4066-a41f-79b21e62fd56"
      },
      "source": [
        "movies_cleaned = movies.dropna()\n",
        "movies_cleaned = movies.drop(columns = ['Unnamed: 0']) #or instead of using the title of the column > movies.drop(columns[0])\n",
        "movies_cleaned.info()\n",
        "#movies_cleaned.describe()"
      ],
      "execution_count": 121,
      "outputs": [
        {
          "output_type": "stream",
          "name": "stdout",
          "text": [
            "<class 'pandas.core.frame.DataFrame'>\n",
            "RangeIndex: 368896 entries, 0 to 368895\n",
            "Data columns (total 8 columns):\n",
            " #   Column      Non-Null Count   Dtype  \n",
            "---  ------      --------------   -----  \n",
            " 0   first_name  368896 non-null  object \n",
            " 1   last_name   368896 non-null  object \n",
            " 2   name        368896 non-null  object \n",
            " 3   year        368896 non-null  int64  \n",
            " 4   rank        113377 non-null  float64\n",
            " 5   genre       368896 non-null  object \n",
            " 6   Unnamed: 7  0 non-null       float64\n",
            " 7   Unnamed: 8  368895 non-null  object \n",
            "dtypes: float64(2), int64(1), object(5)\n",
            "memory usage: 22.5+ MB\n"
          ]
        }
      ]
    },
    {
      "cell_type": "markdown",
      "source": [
        "The above code was used to clean the database from null values and the indexing column for readability and faster processing which is appropriate taking into account the fact that the dataset is a large one with many thousands of entries."
      ],
      "metadata": {
        "id": "ZY9jVECSr-t6"
      }
    },
    {
      "cell_type": "code",
      "source": [
        "movies_dupli_cleaned = movies_cleaned.drop_duplicates()\n",
        "movies_dupli_cleaned.info()\n",
        "movies_dupli_cleaned.describe()"
      ],
      "metadata": {
        "colab": {
          "base_uri": "https://localhost:8080/",
          "height": 561
        },
        "id": "2wdVTs8z6a4M",
        "outputId": "478792e9-44f3-4db6-bcee-2195539e47ea"
      },
      "execution_count": 122,
      "outputs": [
        {
          "output_type": "stream",
          "name": "stdout",
          "text": [
            "<class 'pandas.core.frame.DataFrame'>\n",
            "Int64Index: 368894 entries, 0 to 368895\n",
            "Data columns (total 8 columns):\n",
            " #   Column      Non-Null Count   Dtype  \n",
            "---  ------      --------------   -----  \n",
            " 0   first_name  368894 non-null  object \n",
            " 1   last_name   368894 non-null  object \n",
            " 2   name        368894 non-null  object \n",
            " 3   year        368894 non-null  int64  \n",
            " 4   rank        113377 non-null  float64\n",
            " 5   genre       368894 non-null  object \n",
            " 6   Unnamed: 7  0 non-null       float64\n",
            " 7   Unnamed: 8  368893 non-null  object \n",
            "dtypes: float64(2), int64(1), object(5)\n",
            "memory usage: 25.3+ MB\n"
          ]
        },
        {
          "output_type": "execute_result",
          "data": {
            "text/plain": [
              "                year           rank  Unnamed: 7\n",
              "count  368894.000000  113377.000000         0.0\n",
              "mean     1969.442252       5.995159         NaN\n",
              "std        29.082081       1.540367         NaN\n",
              "min      1888.000000       1.000000         NaN\n",
              "25%      1947.000000       5.100000         NaN\n",
              "50%      1976.000000       6.200000         NaN\n",
              "75%      1996.000000       7.100000         NaN\n",
              "max      2007.000000       9.900000         NaN"
            ],
            "text/html": [
              "\n",
              "  <div id=\"df-73bdaa9d-b53f-44ef-a6f2-3b579d3b03eb\">\n",
              "    <div class=\"colab-df-container\">\n",
              "      <div>\n",
              "<style scoped>\n",
              "    .dataframe tbody tr th:only-of-type {\n",
              "        vertical-align: middle;\n",
              "    }\n",
              "\n",
              "    .dataframe tbody tr th {\n",
              "        vertical-align: top;\n",
              "    }\n",
              "\n",
              "    .dataframe thead th {\n",
              "        text-align: right;\n",
              "    }\n",
              "</style>\n",
              "<table border=\"1\" class=\"dataframe\">\n",
              "  <thead>\n",
              "    <tr style=\"text-align: right;\">\n",
              "      <th></th>\n",
              "      <th>year</th>\n",
              "      <th>rank</th>\n",
              "      <th>Unnamed: 7</th>\n",
              "    </tr>\n",
              "  </thead>\n",
              "  <tbody>\n",
              "    <tr>\n",
              "      <th>count</th>\n",
              "      <td>368894.000000</td>\n",
              "      <td>113377.000000</td>\n",
              "      <td>0.0</td>\n",
              "    </tr>\n",
              "    <tr>\n",
              "      <th>mean</th>\n",
              "      <td>1969.442252</td>\n",
              "      <td>5.995159</td>\n",
              "      <td>NaN</td>\n",
              "    </tr>\n",
              "    <tr>\n",
              "      <th>std</th>\n",
              "      <td>29.082081</td>\n",
              "      <td>1.540367</td>\n",
              "      <td>NaN</td>\n",
              "    </tr>\n",
              "    <tr>\n",
              "      <th>min</th>\n",
              "      <td>1888.000000</td>\n",
              "      <td>1.000000</td>\n",
              "      <td>NaN</td>\n",
              "    </tr>\n",
              "    <tr>\n",
              "      <th>25%</th>\n",
              "      <td>1947.000000</td>\n",
              "      <td>5.100000</td>\n",
              "      <td>NaN</td>\n",
              "    </tr>\n",
              "    <tr>\n",
              "      <th>50%</th>\n",
              "      <td>1976.000000</td>\n",
              "      <td>6.200000</td>\n",
              "      <td>NaN</td>\n",
              "    </tr>\n",
              "    <tr>\n",
              "      <th>75%</th>\n",
              "      <td>1996.000000</td>\n",
              "      <td>7.100000</td>\n",
              "      <td>NaN</td>\n",
              "    </tr>\n",
              "    <tr>\n",
              "      <th>max</th>\n",
              "      <td>2007.000000</td>\n",
              "      <td>9.900000</td>\n",
              "      <td>NaN</td>\n",
              "    </tr>\n",
              "  </tbody>\n",
              "</table>\n",
              "</div>\n",
              "      <button class=\"colab-df-convert\" onclick=\"convertToInteractive('df-73bdaa9d-b53f-44ef-a6f2-3b579d3b03eb')\"\n",
              "              title=\"Convert this dataframe to an interactive table.\"\n",
              "              style=\"display:none;\">\n",
              "        \n",
              "  <svg xmlns=\"http://www.w3.org/2000/svg\" height=\"24px\"viewBox=\"0 0 24 24\"\n",
              "       width=\"24px\">\n",
              "    <path d=\"M0 0h24v24H0V0z\" fill=\"none\"/>\n",
              "    <path d=\"M18.56 5.44l.94 2.06.94-2.06 2.06-.94-2.06-.94-.94-2.06-.94 2.06-2.06.94zm-11 1L8.5 8.5l.94-2.06 2.06-.94-2.06-.94L8.5 2.5l-.94 2.06-2.06.94zm10 10l.94 2.06.94-2.06 2.06-.94-2.06-.94-.94-2.06-.94 2.06-2.06.94z\"/><path d=\"M17.41 7.96l-1.37-1.37c-.4-.4-.92-.59-1.43-.59-.52 0-1.04.2-1.43.59L10.3 9.45l-7.72 7.72c-.78.78-.78 2.05 0 2.83L4 21.41c.39.39.9.59 1.41.59.51 0 1.02-.2 1.41-.59l7.78-7.78 2.81-2.81c.8-.78.8-2.07 0-2.86zM5.41 20L4 18.59l7.72-7.72 1.47 1.35L5.41 20z\"/>\n",
              "  </svg>\n",
              "      </button>\n",
              "      \n",
              "  <style>\n",
              "    .colab-df-container {\n",
              "      display:flex;\n",
              "      flex-wrap:wrap;\n",
              "      gap: 12px;\n",
              "    }\n",
              "\n",
              "    .colab-df-convert {\n",
              "      background-color: #E8F0FE;\n",
              "      border: none;\n",
              "      border-radius: 50%;\n",
              "      cursor: pointer;\n",
              "      display: none;\n",
              "      fill: #1967D2;\n",
              "      height: 32px;\n",
              "      padding: 0 0 0 0;\n",
              "      width: 32px;\n",
              "    }\n",
              "\n",
              "    .colab-df-convert:hover {\n",
              "      background-color: #E2EBFA;\n",
              "      box-shadow: 0px 1px 2px rgba(60, 64, 67, 0.3), 0px 1px 3px 1px rgba(60, 64, 67, 0.15);\n",
              "      fill: #174EA6;\n",
              "    }\n",
              "\n",
              "    [theme=dark] .colab-df-convert {\n",
              "      background-color: #3B4455;\n",
              "      fill: #D2E3FC;\n",
              "    }\n",
              "\n",
              "    [theme=dark] .colab-df-convert:hover {\n",
              "      background-color: #434B5C;\n",
              "      box-shadow: 0px 1px 3px 1px rgba(0, 0, 0, 0.15);\n",
              "      filter: drop-shadow(0px 1px 2px rgba(0, 0, 0, 0.3));\n",
              "      fill: #FFFFFF;\n",
              "    }\n",
              "  </style>\n",
              "\n",
              "      <script>\n",
              "        const buttonEl =\n",
              "          document.querySelector('#df-73bdaa9d-b53f-44ef-a6f2-3b579d3b03eb button.colab-df-convert');\n",
              "        buttonEl.style.display =\n",
              "          google.colab.kernel.accessAllowed ? 'block' : 'none';\n",
              "\n",
              "        async function convertToInteractive(key) {\n",
              "          const element = document.querySelector('#df-73bdaa9d-b53f-44ef-a6f2-3b579d3b03eb');\n",
              "          const dataTable =\n",
              "            await google.colab.kernel.invokeFunction('convertToInteractive',\n",
              "                                                     [key], {});\n",
              "          if (!dataTable) return;\n",
              "\n",
              "          const docLinkHtml = 'Like what you see? Visit the ' +\n",
              "            '<a target=\"_blank\" href=https://colab.research.google.com/notebooks/data_table.ipynb>data table notebook</a>'\n",
              "            + ' to learn more about interactive tables.';\n",
              "          element.innerHTML = '';\n",
              "          dataTable['output_type'] = 'display_data';\n",
              "          await google.colab.output.renderOutput(dataTable, element);\n",
              "          const docLink = document.createElement('div');\n",
              "          docLink.innerHTML = docLinkHtml;\n",
              "          element.appendChild(docLink);\n",
              "        }\n",
              "      </script>\n",
              "    </div>\n",
              "  </div>\n",
              "  "
            ]
          },
          "metadata": {},
          "execution_count": 122
        }
      ]
    },
    {
      "cell_type": "markdown",
      "source": [
        "After removing duplicates we can see in the info print section that the totals remain the same, which means that no duplicates were present in this database. Therefore, switching to the movies_cleaned dataset is valid."
      ],
      "metadata": {
        "id": "0RbXobbPggEh"
      }
    },
    {
      "cell_type": "markdown",
      "metadata": {
        "id": "00Vb1k3FMdei"
      },
      "source": [
        "### How many movies of each genre are there?\n",
        "---"
      ]
    },
    {
      "cell_type": "code",
      "metadata": {
        "id": "V6MsN8OcQn0u",
        "colab": {
          "base_uri": "https://localhost:8080/"
        },
        "outputId": "1275dc8d-6aa9-4290-fe14-ea4559d16481"
      },
      "source": [
        "genre_counts = movies[\"genre\"].value_counts()\n",
        "print(genre_counts)"
      ],
      "execution_count": 123,
      "outputs": [
        {
          "output_type": "stream",
          "name": "stdout",
          "text": [
            "Short          72894\n",
            "Drama          72636\n",
            "Comedy         54668\n",
            "Documentary    35698\n",
            "Animation      17038\n",
            "Romance        13562\n",
            "Action         12890\n",
            "Crime          12610\n",
            "Family         11074\n",
            "Thriller       10681\n",
            "Adventure       8598\n",
            "Western         8231\n",
            "Horror          7423\n",
            "Musical         6843\n",
            "Sci-Fi          4957\n",
            "Mystery         4951\n",
            "Fantasy         4871\n",
            "Music           4444\n",
            "War             4398\n",
            "Film-Noir        429\n",
            "Name: genre, dtype: int64\n"
          ]
        }
      ]
    },
    {
      "cell_type": "markdown",
      "source": [
        "We can see from the counting of movies per genre that the top three genres are shorts, drama & comedy."
      ],
      "metadata": {
        "id": "3_6F7Ai8nU0I"
      }
    },
    {
      "cell_type": "markdown",
      "metadata": {
        "id": "itYpwLPpQnZM"
      },
      "source": [
        "### Which director has the highest ranked movies?\n",
        "---"
      ]
    },
    {
      "cell_type": "code",
      "metadata": {
        "id": "dkW23Q27Qu0A",
        "colab": {
          "base_uri": "https://localhost:8080/"
        },
        "outputId": "b1da0dd8-80ba-4502-d0f8-01ee160af161"
      },
      "source": [
        "def highest_ranks():\n",
        "  directors = movies\n",
        "  directors[\"Top directors\"] = movies[\"first_name\"] + \" \" + movies[\"last_name\"] \n",
        "  best_director = movies[movies['rank'] == 9.9].groupby('Top directors',)['rank'].count()\n",
        "  return best_director\n",
        "\n",
        "highest_ranks()"
      ],
      "execution_count": 124,
      "outputs": [
        {
          "output_type": "execute_result",
          "data": {
            "text/plain": [
              "Top directors\n",
              "Abel Gance              1\n",
              "Andrew Cappelletti      2\n",
              "András Salamon          1\n",
              "Arünas Zebriünas        1\n",
              "Ben Holmes              2\n",
              "Benjamin Christensen    1\n",
              "Carole Roussopoulos     5\n",
              "Debs Tarrier            2\n",
              "Fedor Hanzekovic        1\n",
              "Georgi Daneliya         1\n",
              "Gregg Zehentner         3\n",
              "Ioana Wieder            2\n",
              "Ishmael Bernal          1\n",
              "Isidor Annensky         1\n",
              "Ivanka Grybcheva        1\n",
              "Jim Jarmusch            1\n",
              "Jirí (I) Trnka          1\n",
              "John Cassavetes         2\n",
              "Jonathan Demme          2\n",
              "Julio (I) Bracho        3\n",
              "Kirsten Tretbar         1\n",
              "Marcell Jankovics       1\n",
              "Matthew Crandall        2\n",
              "Satyen Bose             3\n",
              "Scott Barkan            4\n",
              "See-Yuen Ng             1\n",
              "Sergei M. Eisenstein    1\n",
              "Sergiu Nicolaescu       2\n",
              "Vsevolod Pudovkin       1\n",
              "William T. Hurtz        2\n",
              "Zack Resnicoff          4\n",
              "Name: rank, dtype: int64"
            ]
          },
          "metadata": {},
          "execution_count": 124
        }
      ]
    },
    {
      "cell_type": "markdown",
      "source": [
        "We can see from the sorting of data above that Carole Roussopoulos has the highest ranked movies socre of 5."
      ],
      "metadata": {
        "id": "chOD-9p8Yb7k"
      }
    },
    {
      "cell_type": "markdown",
      "metadata": {
        "id": "naiCl5kCQvS-"
      },
      "source": [
        "### How many movies have ranks of over 9?\n",
        "---\n"
      ]
    },
    {
      "cell_type": "code",
      "source": [
        "top_ranks = movies_cleaned[movies_cleaned['rank'] > 9].count()\n",
        "print(top_ranks)\n",
        "print(\"The total number of movies with ranks over 9 are: \", top_ranks[0])"
      ],
      "metadata": {
        "colab": {
          "base_uri": "https://localhost:8080/"
        },
        "id": "PvzZbEBihbDQ",
        "outputId": "c593e561-c1cd-4305-889a-36c431d5205c"
      },
      "execution_count": 125,
      "outputs": [
        {
          "output_type": "stream",
          "name": "stdout",
          "text": [
            "first_name    1484\n",
            "last_name     1484\n",
            "name          1484\n",
            "year          1484\n",
            "rank          1484\n",
            "genre         1484\n",
            "Unnamed: 7       0\n",
            "Unnamed: 8    1483\n",
            "dtype: int64\n",
            "The total number of movies with ranks over 9 are:  1484\n"
          ]
        }
      ]
    },
    {
      "cell_type": "markdown",
      "metadata": {
        "id": "qSM1LAZGQ32W"
      },
      "source": [
        "### Plot a bar chart of mean rank and genre\n",
        "---"
      ]
    },
    {
      "cell_type": "code",
      "metadata": {
        "id": "oDk-3bkpRUfs",
        "colab": {
          "base_uri": "https://localhost:8080/",
          "height": 502
        },
        "outputId": "be3ffea3-4667-41ae-b349-be11c7904013"
      },
      "source": [
        "ranking = movies_cleaned.groupby('genre')['rank'].mean()\n",
        "plt.figure(figsize=(13,7))\n",
        "barchart = ranking.plot(x='genre', y='rank', kind='bar', color = 'darkcyan')\n",
        "barchart.set_xlabel(\"Genre\")\n",
        "barchart.set_ylabel(\"Rank Average\")\n",
        "plt.show()"
      ],
      "execution_count": 126,
      "outputs": [
        {
          "output_type": "display_data",
          "data": {
            "text/plain": [
              "<Figure size 936x504 with 1 Axes>"
            ],
            "image/png": "[encoded data removed]"
          },
          "metadata": {}
        }
      ]
    },
    {
      "cell_type": "markdown",
      "source": [
        "We can see in the bar chart above the extend to which shorts, drama and comedy are the predominant genres in comparison to other tyes of movies."
      ],
      "metadata": {
        "id": "Y9R2PXmKcNjO"
      }
    },
    {
      "cell_type": "markdown",
      "metadata": {
        "id": "O6srkKPnRbh_"
      },
      "source": [
        "### Plot a pie chart of how many movies of each genre there are \n",
        "---\n"
      ]
    },
    {
      "cell_type": "code",
      "metadata": {
        "id": "suiaWhkF6Odd",
        "colab": {
          "base_uri": "https://localhost:8080/",
          "height": 534
        },
        "outputId": "8b116181-48a1-4332-9d43-b6df5eccdf76"
      },
      "source": [
        "genre_movies = movies_cleaned.groupby(['genre'])['name'].count()\n",
        "#display (genre_movies)\n",
        "plt.figure(figsize=(15,9))\n",
        "labels = genre_movies.keys()\n",
        "plt.pie(genre_movies, labels = labels, rotatelabels = True)\n",
        "plt.show()"
      ],
      "execution_count": 127,
      "outputs": [
        {
          "output_type": "display_data",
          "data": {
            "text/plain": [
              "<Figure size 1080x648 with 1 Axes>"
            ],
            "image/png": "[encoded data removed]"
          },
          "metadata": {}
        }
      ]
    },
    {
      "cell_type": "markdown",
      "source": [
        "The pie chart above is another visualisation method to demonstrate the extend to which shorts, drama and comedy are the predominant genres in comparison to other tyes of movies."
      ],
      "metadata": {
        "id": "2SOx90IMah6u"
      }
    },
    {
      "cell_type": "markdown",
      "metadata": {
        "id": "Cm9HjL_K6bvo"
      },
      "source": [
        "### Plot a graph showing the mean Rank for each year "
      ]
    },
    {
      "cell_type": "code",
      "source": [
        "mean_rank = movies_cleaned.groupby('year')['rank'].mean()\n",
        "print(mean_rank)\n",
        "plt.figure(figsize=(13,7))\n",
        "chart = sns.lineplot(data=mean_rank)\n",
        "sns.set_style(\"whitegrid\")"
      ],
      "metadata": {
        "colab": {
          "base_uri": "https://localhost:8080/",
          "height": 668
        },
        "id": "AdnkwdX9ve2V",
        "outputId": "29c72f22-5d4e-473b-bf30-780426e52c18"
      },
      "execution_count": 128,
      "outputs": [
        {
          "output_type": "stream",
          "name": "stdout",
          "text": [
            "year\n",
            "1888         NaN\n",
            "1892    3.780000\n",
            "1893    6.800000\n",
            "1894    6.100000\n",
            "1895    5.644444\n",
            "          ...   \n",
            "2003    6.207317\n",
            "2004    6.218460\n",
            "2005         NaN\n",
            "2006         NaN\n",
            "2007         NaN\n",
            "Name: rank, Length: 117, dtype: float64\n"
          ]
        },
        {
          "output_type": "display_data",
          "data": {
            "text/plain": [
              "<Figure size 936x504 with 1 Axes>"
            ],
            "image/png": "[encoded data removed]"
          },
          "metadata": {}
        }
      ]
    },
    {
      "cell_type": "markdown",
      "source": [
        "We can see in the lineplot above that between 1920 and 1930 there was an increase in the average ranking probably connected with the floorishing of the cinematic industry before the WW2 era."
      ],
      "metadata": {
        "id": "URh5kRuVvCzI"
      }
    },
    {
      "cell_type": "markdown",
      "metadata": {
        "id": "pQV2NO8umBSk"
      },
      "source": [
        "# Reflection\n",
        "----\n",
        "The evolution of cinematography is brilliantly captured in the examination of the movies dataset in this project that originates from IMDb which is the world's most popular and authoritative source for movie, TV and celebrity content, hence a valueable source of all types of information about cinema. In terms of genres it is notable that directors like to make movies that are classified as drama and/or comedy.\n",
        "\n",
        "**Skills demonstrated in this project**<br>\n",
        "The skills that were included in this project were using SQL & Python for the initial quering of the data, followed by investigating, cleaning, describing, interrogating data. And lastly the visualisation of data interpretations in the form of a variety of chart types.\n",
        "\n",
        "Challenges:\n",
        "The complexity and risks involved with such large databases, as well as trying to implement graphs for the correct variables."
      ]
    }
  ]
}