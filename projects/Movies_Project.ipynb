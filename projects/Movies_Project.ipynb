{
  "nbformat": 4,
  "nbformat_minor": 0,
  "metadata": {
    "colab": {
      "name": "Movies Project.ipynb",
      "provenance": [],
      "collapsed_sections": [],
      "include_colab_link": true
    },
    "kernelspec": {
      "name": "python3",
      "display_name": "Python 3"
    },
    "language_info": {
      "name": "python"
    }
  },
  "cells": [
    {
      "cell_type": "markdown",
      "metadata": {
        "id": "view-in-github",
        "colab_type": "text"
      },
      "source": [
        "<a href=\"https://colab.research.google.com/github/EllenSakkla/Python/blob/main/projects/Movies_Project.ipynb\" target=\"_parent\"><img src=\"https://colab.research.google.com/assets/colab-badge.svg\" alt=\"Open In Colab\"/></a>"
      ]
    },
    {
      "cell_type": "markdown",
      "metadata": {
        "id": "iNinIL0w_DHu"
      },
      "source": [
        "# Movies project\n",
        "---\n",
        "The Movies project is focused on retrieving information about cinematography through an examination of the Movies database which includes an extensive set of entries including information about directors, film title, release year, as well as genre.\n"
      ]
    },
    {
      "cell_type": "markdown",
      "metadata": {
        "id": "NDMFg2pNmodI"
      },
      "source": [
        "Creating a movies dataframe using SQL in Python\n",
        "---\n",
        "Pandas provide a function that will execute a query on a connected database and format the result into a dataframe\n",
        "\n",
        "The query:\n",
        "```\n",
        "SELECT first_name, last_name, name, year, rank, genre FROM directors, movies, movies_genres, movies_directors WHERE movies.id = movies_directors.movie_id AND movies.id = movies_genres.movie_id AND directors.id = movies_directors.director_id\n",
        "```\n",
        "will:\n",
        "*  SELECT the fields first_name FROM directors\n",
        "*  SELECT the fields name, year, rank FROM movies\n",
        "*  SELECT the field genre FROM movies_genres\n",
        "*  WHERE the ids match in movies and movies_directors\n",
        "*  AND the ids matchin movies and movies_genres\n",
        "*  AND the ids match in directors and movies directors\n",
        "\n",
        "The query below creates a dataframe from the output.  Using the `pd.read_sql_query` function to read this query into a pandas dataframe called **movies_df**"
      ]
    },
    {
      "cell_type": "code",
      "metadata": {
        "colab": {
          "base_uri": "https://localhost:8080/"
        },
        "outputId": "a4972ff5-af61-499c-d2a1-f870b2233752",
        "id": "Ap-lXNGLmuIX"
      },
      "source": [
        "# colab does not have mysql automatically installed, so you must run this code once to install it each time you reopen the colab document\n",
        "!pip install mysql.connector"
      ],
      "execution_count": 158,
      "outputs": [
        {
          "output_type": "stream",
          "name": "stdout",
          "text": [
            "Requirement already satisfied: mysql.connector in /usr/local/lib/python3.7/dist-packages (2.2.9)\n"
          ]
        }
      ]
    },
    {
      "cell_type": "code",
      "metadata": {
        "colab": {
          "base_uri": "https://localhost:8080/",
          "height": 241
        },
        "outputId": "24baba66-dce8-4af1-bf33-6225720ac50b",
        "id": "5v4lcQ-Dm2R1"
      },
      "source": [
        "import pandas as pd\n",
        "from google.colab import files\n",
        "import mysql.connector\n",
        "\n",
        "def get_movies_data():\n",
        "  mydb = mysql.connector.connect(\n",
        "    host=\"relational.fit.cvut.cz\",\n",
        "    port=\"3306\",\n",
        "    user =\"guest\",\n",
        "    password =\"relational\",\n",
        "    database=\"imdb_ijs\"    \n",
        "  )\n",
        "  \n",
        "  query = \"\"\"\n",
        "    SELECT first_name, last_name, name, year, genre \n",
        "    FROM directors, movies, movies_genres, movies_directors \n",
        "    WHERE movies.id = movies_directors.movie_id \n",
        "    AND movies.id = movies_genres.movie_id \n",
        "    AND directors.id = movies_directors.director_id\n",
        "  \"\"\"\n",
        "  movies = pd.read_sql_query(query, mydb)\n",
        "  movies. to_csv('movies.csv')\n",
        "  files.download('movies.csv')\n",
        "  return movies\n",
        "\n",
        "# This code will test if the movies_df variable is a valid pandas dataframe \n",
        "movies_df = get_movies_data()\n",
        "if isinstance(movies_df,pd.DataFrame):\n",
        "  print(\"Test passed, variable is a pandas dataframe\")\n",
        "else:\n",
        "  print(\"Test failed, not a pandas dataframe\")\n",
        "\n",
        "# This will show the first part of the dataframe\n",
        "movies_df.head()"
      ],
      "execution_count": 159,
      "outputs": [
        {
          "output_type": "display_data",
          "data": {
            "text/plain": [
              "<IPython.core.display.Javascript object>"
            ],
            "application/javascript": [
              "\n",
              "    async function download(id, filename, size) {\n",
              "      if (!google.colab.kernel.accessAllowed) {\n",
              "        return;\n",
              "      }\n",
              "      const div = document.createElement('div');\n",
              "      const label = document.createElement('label');\n",
              "      label.textContent = `Downloading \"${filename}\": `;\n",
              "      div.appendChild(label);\n",
              "      const progress = document.createElement('progress');\n",
              "      progress.max = size;\n",
              "      div.appendChild(progress);\n",
              "      document.body.appendChild(div);\n",
              "\n",
              "      const buffers = [];\n",
              "      let downloaded = 0;\n",
              "\n",
              "      const channel = await google.colab.kernel.comms.open(id);\n",
              "      // Send a message to notify the kernel that we're ready.\n",
              "      channel.send({})\n",
              "\n",
              "      for await (const message of channel.messages) {\n",
              "        // Send a message to notify the kernel that we're ready.\n",
              "        channel.send({})\n",
              "        if (message.buffers) {\n",
              "          for (const buffer of message.buffers) {\n",
              "            buffers.push(buffer);\n",
              "            downloaded += buffer.byteLength;\n",
              "            progress.value = downloaded;\n",
              "          }\n",
              "        }\n",
              "      }\n",
              "      const blob = new Blob(buffers, {type: 'application/binary'});\n",
              "      const a = document.createElement('a');\n",
              "      a.href = window.URL.createObjectURL(blob);\n",
              "      a.download = filename;\n",
              "      div.appendChild(a);\n",
              "      a.click();\n",
              "      div.remove();\n",
              "    }\n",
              "  "
            ]
          },
          "metadata": {}
        },
        {
          "output_type": "display_data",
          "data": {
            "text/plain": [
              "<IPython.core.display.Javascript object>"
            ],
            "application/javascript": [
              "download(\"download_f5ee46bf-7e50-49e2-a58e-b797c6d036a8\", \"movies.csv\", 19973174)"
            ]
          },
          "metadata": {}
        },
        {
          "output_type": "stream",
          "name": "stdout",
          "text": [
            "Test passed, variable is a pandas dataframe\n"
          ]
        },
        {
          "output_type": "execute_result",
          "data": {
            "text/plain": [
              "  first_name    last_name                      name  year        genre\n",
              "0        Les  12 Poissons      Rondo pour trompette  2002        Short\n",
              "1    Lejaren     a'Hiller  Sleep of Cyma Roget, The  1920        Drama\n",
              "2   Khairiya    A-Mansour          Churches in Iraq  1988  Documentary\n",
              "3    Ricardo     A. Solla                  Foto, La  2001        Drama\n",
              "4    Ricardo     A. Solla                  Foto, La  2001        Short"
            ],
            "text/html": [
              "\n",
              "  <div id=\"df-f769327d-f588-4505-92c8-7023a776f215\">\n",
              "    <div class=\"colab-df-container\">\n",
              "      <div>\n",
              "<style scoped>\n",
              "    .dataframe tbody tr th:only-of-type {\n",
              "        vertical-align: middle;\n",
              "    }\n",
              "\n",
              "    .dataframe tbody tr th {\n",
              "        vertical-align: top;\n",
              "    }\n",
              "\n",
              "    .dataframe thead th {\n",
              "        text-align: right;\n",
              "    }\n",
              "</style>\n",
              "<table border=\"1\" class=\"dataframe\">\n",
              "  <thead>\n",
              "    <tr style=\"text-align: right;\">\n",
              "      <th></th>\n",
              "      <th>first_name</th>\n",
              "      <th>last_name</th>\n",
              "      <th>name</th>\n",
              "      <th>year</th>\n",
              "      <th>genre</th>\n",
              "    </tr>\n",
              "  </thead>\n",
              "  <tbody>\n",
              "    <tr>\n",
              "      <th>0</th>\n",
              "      <td>Les</td>\n",
              "      <td>12 Poissons</td>\n",
              "      <td>Rondo pour trompette</td>\n",
              "      <td>2002</td>\n",
              "      <td>Short</td>\n",
              "    </tr>\n",
              "    <tr>\n",
              "      <th>1</th>\n",
              "      <td>Lejaren</td>\n",
              "      <td>a'Hiller</td>\n",
              "      <td>Sleep of Cyma Roget, The</td>\n",
              "      <td>1920</td>\n",
              "      <td>Drama</td>\n",
              "    </tr>\n",
              "    <tr>\n",
              "      <th>2</th>\n",
              "      <td>Khairiya</td>\n",
              "      <td>A-Mansour</td>\n",
              "      <td>Churches in Iraq</td>\n",
              "      <td>1988</td>\n",
              "      <td>Documentary</td>\n",
              "    </tr>\n",
              "    <tr>\n",
              "      <th>3</th>\n",
              "      <td>Ricardo</td>\n",
              "      <td>A. Solla</td>\n",
              "      <td>Foto, La</td>\n",
              "      <td>2001</td>\n",
              "      <td>Drama</td>\n",
              "    </tr>\n",
              "    <tr>\n",
              "      <th>4</th>\n",
              "      <td>Ricardo</td>\n",
              "      <td>A. Solla</td>\n",
              "      <td>Foto, La</td>\n",
              "      <td>2001</td>\n",
              "      <td>Short</td>\n",
              "    </tr>\n",
              "  </tbody>\n",
              "</table>\n",
              "</div>\n",
              "      <button class=\"colab-df-convert\" onclick=\"convertToInteractive('df-f769327d-f588-4505-92c8-7023a776f215')\"\n",
              "              title=\"Convert this dataframe to an interactive table.\"\n",
              "              style=\"display:none;\">\n",
              "        \n",
              "  <svg xmlns=\"http://www.w3.org/2000/svg\" height=\"24px\"viewBox=\"0 0 24 24\"\n",
              "       width=\"24px\">\n",
              "    <path d=\"M0 0h24v24H0V0z\" fill=\"none\"/>\n",
              "    <path d=\"M18.56 5.44l.94 2.06.94-2.06 2.06-.94-2.06-.94-.94-2.06-.94 2.06-2.06.94zm-11 1L8.5 8.5l.94-2.06 2.06-.94-2.06-.94L8.5 2.5l-.94 2.06-2.06.94zm10 10l.94 2.06.94-2.06 2.06-.94-2.06-.94-.94-2.06-.94 2.06-2.06.94z\"/><path d=\"M17.41 7.96l-1.37-1.37c-.4-.4-.92-.59-1.43-.59-.52 0-1.04.2-1.43.59L10.3 9.45l-7.72 7.72c-.78.78-.78 2.05 0 2.83L4 21.41c.39.39.9.59 1.41.59.51 0 1.02-.2 1.41-.59l7.78-7.78 2.81-2.81c.8-.78.8-2.07 0-2.86zM5.41 20L4 18.59l7.72-7.72 1.47 1.35L5.41 20z\"/>\n",
              "  </svg>\n",
              "      </button>\n",
              "      \n",
              "  <style>\n",
              "    .colab-df-container {\n",
              "      display:flex;\n",
              "      flex-wrap:wrap;\n",
              "      gap: 12px;\n",
              "    }\n",
              "\n",
              "    .colab-df-convert {\n",
              "      background-color: #E8F0FE;\n",
              "      border: none;\n",
              "      border-radius: 50%;\n",
              "      cursor: pointer;\n",
              "      display: none;\n",
              "      fill: #1967D2;\n",
              "      height: 32px;\n",
              "      padding: 0 0 0 0;\n",
              "      width: 32px;\n",
              "    }\n",
              "\n",
              "    .colab-df-convert:hover {\n",
              "      background-color: #E2EBFA;\n",
              "      box-shadow: 0px 1px 2px rgba(60, 64, 67, 0.3), 0px 1px 3px 1px rgba(60, 64, 67, 0.15);\n",
              "      fill: #174EA6;\n",
              "    }\n",
              "\n",
              "    [theme=dark] .colab-df-convert {\n",
              "      background-color: #3B4455;\n",
              "      fill: #D2E3FC;\n",
              "    }\n",
              "\n",
              "    [theme=dark] .colab-df-convert:hover {\n",
              "      background-color: #434B5C;\n",
              "      box-shadow: 0px 1px 3px 1px rgba(0, 0, 0, 0.15);\n",
              "      filter: drop-shadow(0px 1px 2px rgba(0, 0, 0, 0.3));\n",
              "      fill: #FFFFFF;\n",
              "    }\n",
              "  </style>\n",
              "\n",
              "      <script>\n",
              "        const buttonEl =\n",
              "          document.querySelector('#df-f769327d-f588-4505-92c8-7023a776f215 button.colab-df-convert');\n",
              "        buttonEl.style.display =\n",
              "          google.colab.kernel.accessAllowed ? 'block' : 'none';\n",
              "\n",
              "        async function convertToInteractive(key) {\n",
              "          const element = document.querySelector('#df-f769327d-f588-4505-92c8-7023a776f215');\n",
              "          const dataTable =\n",
              "            await google.colab.kernel.invokeFunction('convertToInteractive',\n",
              "                                                     [key], {});\n",
              "          if (!dataTable) return;\n",
              "\n",
              "          const docLinkHtml = 'Like what you see? Visit the ' +\n",
              "            '<a target=\"_blank\" href=https://colab.research.google.com/notebooks/data_table.ipynb>data table notebook</a>'\n",
              "            + ' to learn more about interactive tables.';\n",
              "          element.innerHTML = '';\n",
              "          dataTable['output_type'] = 'display_data';\n",
              "          await google.colab.output.renderOutput(dataTable, element);\n",
              "          const docLink = document.createElement('div');\n",
              "          docLink.innerHTML = docLinkHtml;\n",
              "          element.appendChild(docLink);\n",
              "        }\n",
              "      </script>\n",
              "    </div>\n",
              "  </div>\n",
              "  "
            ]
          },
          "metadata": {},
          "execution_count": 159
        }
      ]
    },
    {
      "cell_type": "markdown",
      "source": [
        "Movies Database\n",
        "---\n",
        "The Movies database csv copy for this project is available at: \"https://raw.githubusercontent.com/EllenSakkla/Python/main/datasets/movies.csv\""
      ],
      "metadata": {
        "id": "TsetjuGNkIah"
      }
    },
    {
      "cell_type": "markdown",
      "metadata": {
        "id": "TlOJOk3vMN2C"
      },
      "source": [
        "### Inspect the dataset \n",
        "---"
      ]
    },
    {
      "cell_type": "code",
      "metadata": {
        "id": "Le5KSKHY_BM9",
        "colab": {
          "base_uri": "https://localhost:8080/",
          "height": 424
        },
        "outputId": "0f1dcb62-d6e7-4f1d-edb4-bc7a06f88f2a"
      },
      "source": [
        "import pandas as pd\n",
        "import numpy as np\n",
        "import matplotlib.pyplot as plt\n",
        "import seaborn as sns\n",
        "\n",
        "url = \"https://raw.githubusercontent.com/EllenSakkla/Python/main/datasets/movies.csv\"\n",
        "movies = pd.read_csv(url)\n",
        "movies"
      ],
      "execution_count": 160,
      "outputs": [
        {
          "output_type": "execute_result",
          "data": {
            "text/plain": [
              "        Unnamed: 0 first_name    last_name  \\\n",
              "0                0        Les  12 Poissons   \n",
              "1                1    Lejaren     a'Hiller   \n",
              "2                2   Khairiya    A-Mansour   \n",
              "3                3    Ricardo     A. Solla   \n",
              "4                4    Ricardo     A. Solla   \n",
              "...            ...        ...          ...   \n",
              "368889      368889      Yusuf         Ünal   \n",
              "368890      368890      Ahmet        Ündag   \n",
              "368891      368891       Idil         Üner   \n",
              "368892      368892     Yüksel        Ünsal   \n",
              "368893      368893     Yüksel        Ünsal   \n",
              "\n",
              "                                      name  year        genre  \n",
              "0                     Rondo pour trompette  2002        Short  \n",
              "1                 Sleep of Cyma Roget, The  1920        Drama  \n",
              "2                         Churches in Iraq  1988  Documentary  \n",
              "3                                 Foto, La  2001        Drama  \n",
              "4                                 Foto, La  2001        Short  \n",
              "...                                    ...   ...          ...  \n",
              "368889                      Kalbim agliyor  1988        Drama  \n",
              "368890                 Ve gnese kan siradi  1972    Adventure  \n",
              "368891  Liebenden vom Hotel von Osman, Die  2001        Short  \n",
              "368892                   Evvel zaman iinde  1951    Animation  \n",
              "368893                   Evvel zaman iinde  1951       Comedy  \n",
              "\n",
              "[368894 rows x 6 columns]"
            ],
            "text/html": [
              "\n",
              "  <div id=\"df-86203e8b-e2b0-463d-9e72-c7704400fe47\">\n",
              "    <div class=\"colab-df-container\">\n",
              "      <div>\n",
              "<style scoped>\n",
              "    .dataframe tbody tr th:only-of-type {\n",
              "        vertical-align: middle;\n",
              "    }\n",
              "\n",
              "    .dataframe tbody tr th {\n",
              "        vertical-align: top;\n",
              "    }\n",
              "\n",
              "    .dataframe thead th {\n",
              "        text-align: right;\n",
              "    }\n",
              "</style>\n",
              "<table border=\"1\" class=\"dataframe\">\n",
              "  <thead>\n",
              "    <tr style=\"text-align: right;\">\n",
              "      <th></th>\n",
              "      <th>Unnamed: 0</th>\n",
              "      <th>first_name</th>\n",
              "      <th>last_name</th>\n",
              "      <th>name</th>\n",
              "      <th>year</th>\n",
              "      <th>genre</th>\n",
              "    </tr>\n",
              "  </thead>\n",
              "  <tbody>\n",
              "    <tr>\n",
              "      <th>0</th>\n",
              "      <td>0</td>\n",
              "      <td>Les</td>\n",
              "      <td>12 Poissons</td>\n",
              "      <td>Rondo pour trompette</td>\n",
              "      <td>2002</td>\n",
              "      <td>Short</td>\n",
              "    </tr>\n",
              "    <tr>\n",
              "      <th>1</th>\n",
              "      <td>1</td>\n",
              "      <td>Lejaren</td>\n",
              "      <td>a'Hiller</td>\n",
              "      <td>Sleep of Cyma Roget, The</td>\n",
              "      <td>1920</td>\n",
              "      <td>Drama</td>\n",
              "    </tr>\n",
              "    <tr>\n",
              "      <th>2</th>\n",
              "      <td>2</td>\n",
              "      <td>Khairiya</td>\n",
              "      <td>A-Mansour</td>\n",
              "      <td>Churches in Iraq</td>\n",
              "      <td>1988</td>\n",
              "      <td>Documentary</td>\n",
              "    </tr>\n",
              "    <tr>\n",
              "      <th>3</th>\n",
              "      <td>3</td>\n",
              "      <td>Ricardo</td>\n",
              "      <td>A. Solla</td>\n",
              "      <td>Foto, La</td>\n",
              "      <td>2001</td>\n",
              "      <td>Drama</td>\n",
              "    </tr>\n",
              "    <tr>\n",
              "      <th>4</th>\n",
              "      <td>4</td>\n",
              "      <td>Ricardo</td>\n",
              "      <td>A. Solla</td>\n",
              "      <td>Foto, La</td>\n",
              "      <td>2001</td>\n",
              "      <td>Short</td>\n",
              "    </tr>\n",
              "    <tr>\n",
              "      <th>...</th>\n",
              "      <td>...</td>\n",
              "      <td>...</td>\n",
              "      <td>...</td>\n",
              "      <td>...</td>\n",
              "      <td>...</td>\n",
              "      <td>...</td>\n",
              "    </tr>\n",
              "    <tr>\n",
              "      <th>368889</th>\n",
              "      <td>368889</td>\n",
              "      <td>Yusuf</td>\n",
              "      <td>Ünal</td>\n",
              "      <td>Kalbim agliyor</td>\n",
              "      <td>1988</td>\n",
              "      <td>Drama</td>\n",
              "    </tr>\n",
              "    <tr>\n",
              "      <th>368890</th>\n",
              "      <td>368890</td>\n",
              "      <td>Ahmet</td>\n",
              "      <td>Ündag</td>\n",
              "      <td>Ve gnese kan siradi</td>\n",
              "      <td>1972</td>\n",
              "      <td>Adventure</td>\n",
              "    </tr>\n",
              "    <tr>\n",
              "      <th>368891</th>\n",
              "      <td>368891</td>\n",
              "      <td>Idil</td>\n",
              "      <td>Üner</td>\n",
              "      <td>Liebenden vom Hotel von Osman, Die</td>\n",
              "      <td>2001</td>\n",
              "      <td>Short</td>\n",
              "    </tr>\n",
              "    <tr>\n",
              "      <th>368892</th>\n",
              "      <td>368892</td>\n",
              "      <td>Yüksel</td>\n",
              "      <td>Ünsal</td>\n",
              "      <td>Evvel zaman iinde</td>\n",
              "      <td>1951</td>\n",
              "      <td>Animation</td>\n",
              "    </tr>\n",
              "    <tr>\n",
              "      <th>368893</th>\n",
              "      <td>368893</td>\n",
              "      <td>Yüksel</td>\n",
              "      <td>Ünsal</td>\n",
              "      <td>Evvel zaman iinde</td>\n",
              "      <td>1951</td>\n",
              "      <td>Comedy</td>\n",
              "    </tr>\n",
              "  </tbody>\n",
              "</table>\n",
              "<p>368894 rows × 6 columns</p>\n",
              "</div>\n",
              "      <button class=\"colab-df-convert\" onclick=\"convertToInteractive('df-86203e8b-e2b0-463d-9e72-c7704400fe47')\"\n",
              "              title=\"Convert this dataframe to an interactive table.\"\n",
              "              style=\"display:none;\">\n",
              "        \n",
              "  <svg xmlns=\"http://www.w3.org/2000/svg\" height=\"24px\"viewBox=\"0 0 24 24\"\n",
              "       width=\"24px\">\n",
              "    <path d=\"M0 0h24v24H0V0z\" fill=\"none\"/>\n",
              "    <path d=\"M18.56 5.44l.94 2.06.94-2.06 2.06-.94-2.06-.94-.94-2.06-.94 2.06-2.06.94zm-11 1L8.5 8.5l.94-2.06 2.06-.94-2.06-.94L8.5 2.5l-.94 2.06-2.06.94zm10 10l.94 2.06.94-2.06 2.06-.94-2.06-.94-.94-2.06-.94 2.06-2.06.94z\"/><path d=\"M17.41 7.96l-1.37-1.37c-.4-.4-.92-.59-1.43-.59-.52 0-1.04.2-1.43.59L10.3 9.45l-7.72 7.72c-.78.78-.78 2.05 0 2.83L4 21.41c.39.39.9.59 1.41.59.51 0 1.02-.2 1.41-.59l7.78-7.78 2.81-2.81c.8-.78.8-2.07 0-2.86zM5.41 20L4 18.59l7.72-7.72 1.47 1.35L5.41 20z\"/>\n",
              "  </svg>\n",
              "      </button>\n",
              "      \n",
              "  <style>\n",
              "    .colab-df-container {\n",
              "      display:flex;\n",
              "      flex-wrap:wrap;\n",
              "      gap: 12px;\n",
              "    }\n",
              "\n",
              "    .colab-df-convert {\n",
              "      background-color: #E8F0FE;\n",
              "      border: none;\n",
              "      border-radius: 50%;\n",
              "      cursor: pointer;\n",
              "      display: none;\n",
              "      fill: #1967D2;\n",
              "      height: 32px;\n",
              "      padding: 0 0 0 0;\n",
              "      width: 32px;\n",
              "    }\n",
              "\n",
              "    .colab-df-convert:hover {\n",
              "      background-color: #E2EBFA;\n",
              "      box-shadow: 0px 1px 2px rgba(60, 64, 67, 0.3), 0px 1px 3px 1px rgba(60, 64, 67, 0.15);\n",
              "      fill: #174EA6;\n",
              "    }\n",
              "\n",
              "    [theme=dark] .colab-df-convert {\n",
              "      background-color: #3B4455;\n",
              "      fill: #D2E3FC;\n",
              "    }\n",
              "\n",
              "    [theme=dark] .colab-df-convert:hover {\n",
              "      background-color: #434B5C;\n",
              "      box-shadow: 0px 1px 3px 1px rgba(0, 0, 0, 0.15);\n",
              "      filter: drop-shadow(0px 1px 2px rgba(0, 0, 0, 0.3));\n",
              "      fill: #FFFFFF;\n",
              "    }\n",
              "  </style>\n",
              "\n",
              "      <script>\n",
              "        const buttonEl =\n",
              "          document.querySelector('#df-86203e8b-e2b0-463d-9e72-c7704400fe47 button.colab-df-convert');\n",
              "        buttonEl.style.display =\n",
              "          google.colab.kernel.accessAllowed ? 'block' : 'none';\n",
              "\n",
              "        async function convertToInteractive(key) {\n",
              "          const element = document.querySelector('#df-86203e8b-e2b0-463d-9e72-c7704400fe47');\n",
              "          const dataTable =\n",
              "            await google.colab.kernel.invokeFunction('convertToInteractive',\n",
              "                                                     [key], {});\n",
              "          if (!dataTable) return;\n",
              "\n",
              "          const docLinkHtml = 'Like what you see? Visit the ' +\n",
              "            '<a target=\"_blank\" href=https://colab.research.google.com/notebooks/data_table.ipynb>data table notebook</a>'\n",
              "            + ' to learn more about interactive tables.';\n",
              "          element.innerHTML = '';\n",
              "          dataTable['output_type'] = 'display_data';\n",
              "          await google.colab.output.renderOutput(dataTable, element);\n",
              "          const docLink = document.createElement('div');\n",
              "          docLink.innerHTML = docLinkHtml;\n",
              "          element.appendChild(docLink);\n",
              "        }\n",
              "      </script>\n",
              "    </div>\n",
              "  </div>\n",
              "  "
            ]
          },
          "metadata": {},
          "execution_count": 160
        }
      ]
    },
    {
      "cell_type": "code",
      "source": [
        "def get_summary(movies):\n",
        "  # merged code for the general info, the top 5 rows of the dataset, and the numerical summary\n",
        "  return movies.info(), movies.head(), movies.describe(), movies.columns\n",
        "\n",
        "get_summary(movies)"
      ],
      "metadata": {
        "colab": {
          "base_uri": "https://localhost:8080/"
        },
        "id": "NAlxfsSdj104",
        "outputId": "1a13c604-3777-446a-a4b3-04e6de8a7896"
      },
      "execution_count": 161,
      "outputs": [
        {
          "output_type": "stream",
          "name": "stdout",
          "text": [
            "<class 'pandas.core.frame.DataFrame'>\n",
            "RangeIndex: 368894 entries, 0 to 368893\n",
            "Data columns (total 6 columns):\n",
            " #   Column      Non-Null Count   Dtype \n",
            "---  ------      --------------   ----- \n",
            " 0   Unnamed: 0  368894 non-null  int64 \n",
            " 1   first_name  368894 non-null  object\n",
            " 2   last_name   368894 non-null  object\n",
            " 3   name        368894 non-null  object\n",
            " 4   year        368894 non-null  int64 \n",
            " 5   genre       368894 non-null  object\n",
            "dtypes: int64(2), object(4)\n",
            "memory usage: 16.9+ MB\n"
          ]
        },
        {
          "output_type": "execute_result",
          "data": {
            "text/plain": [
              "(None,    Unnamed: 0 first_name    last_name                      name  year  \\\n",
              " 0           0        Les  12 Poissons      Rondo pour trompette  2002   \n",
              " 1           1    Lejaren     a'Hiller  Sleep of Cyma Roget, The  1920   \n",
              " 2           2   Khairiya    A-Mansour          Churches in Iraq  1988   \n",
              " 3           3    Ricardo     A. Solla                  Foto, La  2001   \n",
              " 4           4    Ricardo     A. Solla                  Foto, La  2001   \n",
              " \n",
              "          genre  \n",
              " 0        Short  \n",
              " 1        Drama  \n",
              " 2  Documentary  \n",
              " 3        Drama  \n",
              " 4        Short  ,           Unnamed: 0           year\n",
              " count  368894.000000  368894.000000\n",
              " mean   184446.500000    1969.442222\n",
              " std    106490.669438      29.082051\n",
              " min         0.000000    1888.000000\n",
              " 25%     92223.250000    1947.000000\n",
              " 50%    184446.500000    1976.000000\n",
              " 75%    276669.750000    1996.000000\n",
              " max    368893.000000    2007.000000, Index(['Unnamed: 0', 'first_name', 'last_name', 'name', 'year', 'genre'], dtype='object'))"
            ]
          },
          "metadata": {},
          "execution_count": 161
        }
      ]
    },
    {
      "cell_type": "markdown",
      "metadata": {
        "id": "wIRDoCnxMRj8"
      },
      "source": [
        "### Clean the dataset \n",
        "---\n"
      ]
    },
    {
      "cell_type": "markdown",
      "source": [
        "Ideas for cleaning the data\n",
        "Remove the unnamed column as it is just an index that not needed.\n",
        "Make sure that there are no spaces \" \" in the columns\n",
        "Sort by genre or year.\n",
        "Remove films with no ranking - to reduce the size.\n",
        "Decided only rank needed to be cleaned up."
      ],
      "metadata": {
        "id": "q3pR2AHA87YN"
      }
    },
    {
      "cell_type": "code",
      "metadata": {
        "id": "LgY60bsbMUc8",
        "colab": {
          "base_uri": "https://localhost:8080/"
        },
        "outputId": "8ecf8603-2168-473e-8e93-fead381fd4df"
      },
      "source": [
        "movies_cleaned = movies.dropna()\n",
        "movies_cleaned = movies.drop(columns = ['Unnamed: 0']) #or instead of using the title of the column > movies.drop(columns[0])\n",
        "movies_cleaned.info()\n",
        "#movies_cleaned.describe()"
      ],
      "execution_count": 162,
      "outputs": [
        {
          "output_type": "stream",
          "name": "stdout",
          "text": [
            "<class 'pandas.core.frame.DataFrame'>\n",
            "RangeIndex: 368894 entries, 0 to 368893\n",
            "Data columns (total 5 columns):\n",
            " #   Column      Non-Null Count   Dtype \n",
            "---  ------      --------------   ----- \n",
            " 0   first_name  368894 non-null  object\n",
            " 1   last_name   368894 non-null  object\n",
            " 2   name        368894 non-null  object\n",
            " 3   year        368894 non-null  int64 \n",
            " 4   genre       368894 non-null  object\n",
            "dtypes: int64(1), object(4)\n",
            "memory usage: 14.1+ MB\n"
          ]
        }
      ]
    },
    {
      "cell_type": "markdown",
      "source": [
        "The above code was used to clean the database from null values and the indexing column for readability and faster processing which is appropriate taking into account the fact that the dataset is a large one with many thousands of entries."
      ],
      "metadata": {
        "id": "ZY9jVECSr-t6"
      }
    },
    {
      "cell_type": "code",
      "source": [
        "movies_dupli_cleaned = movies_cleaned.drop_duplicates()\n",
        "movies_dupli_cleaned.info()\n",
        "movies_dupli_cleaned.describe()"
      ],
      "metadata": {
        "colab": {
          "base_uri": "https://localhost:8080/",
          "height": 509
        },
        "id": "2wdVTs8z6a4M",
        "outputId": "3221f974-0627-42bf-d2d0-1952b93ccf18"
      },
      "execution_count": 163,
      "outputs": [
        {
          "output_type": "stream",
          "name": "stdout",
          "text": [
            "<class 'pandas.core.frame.DataFrame'>\n",
            "Int64Index: 368893 entries, 0 to 368893\n",
            "Data columns (total 5 columns):\n",
            " #   Column      Non-Null Count   Dtype \n",
            "---  ------      --------------   ----- \n",
            " 0   first_name  368893 non-null  object\n",
            " 1   last_name   368893 non-null  object\n",
            " 2   name        368893 non-null  object\n",
            " 3   year        368893 non-null  int64 \n",
            " 4   genre       368893 non-null  object\n",
            "dtypes: int64(1), object(4)\n",
            "memory usage: 16.9+ MB\n"
          ]
        },
        {
          "output_type": "execute_result",
          "data": {
            "text/plain": [
              "                year\n",
              "count  368893.000000\n",
              "mean     1969.442158\n",
              "std        29.082065\n",
              "min      1888.000000\n",
              "25%      1947.000000\n",
              "50%      1976.000000\n",
              "75%      1996.000000\n",
              "max      2007.000000"
            ],
            "text/html": [
              "\n",
              "  <div id=\"df-ebba2353-a3be-4c9f-bd99-fe444d8e32a7\">\n",
              "    <div class=\"colab-df-container\">\n",
              "      <div>\n",
              "<style scoped>\n",
              "    .dataframe tbody tr th:only-of-type {\n",
              "        vertical-align: middle;\n",
              "    }\n",
              "\n",
              "    .dataframe tbody tr th {\n",
              "        vertical-align: top;\n",
              "    }\n",
              "\n",
              "    .dataframe thead th {\n",
              "        text-align: right;\n",
              "    }\n",
              "</style>\n",
              "<table border=\"1\" class=\"dataframe\">\n",
              "  <thead>\n",
              "    <tr style=\"text-align: right;\">\n",
              "      <th></th>\n",
              "      <th>year</th>\n",
              "    </tr>\n",
              "  </thead>\n",
              "  <tbody>\n",
              "    <tr>\n",
              "      <th>count</th>\n",
              "      <td>368893.000000</td>\n",
              "    </tr>\n",
              "    <tr>\n",
              "      <th>mean</th>\n",
              "      <td>1969.442158</td>\n",
              "    </tr>\n",
              "    <tr>\n",
              "      <th>std</th>\n",
              "      <td>29.082065</td>\n",
              "    </tr>\n",
              "    <tr>\n",
              "      <th>min</th>\n",
              "      <td>1888.000000</td>\n",
              "    </tr>\n",
              "    <tr>\n",
              "      <th>25%</th>\n",
              "      <td>1947.000000</td>\n",
              "    </tr>\n",
              "    <tr>\n",
              "      <th>50%</th>\n",
              "      <td>1976.000000</td>\n",
              "    </tr>\n",
              "    <tr>\n",
              "      <th>75%</th>\n",
              "      <td>1996.000000</td>\n",
              "    </tr>\n",
              "    <tr>\n",
              "      <th>max</th>\n",
              "      <td>2007.000000</td>\n",
              "    </tr>\n",
              "  </tbody>\n",
              "</table>\n",
              "</div>\n",
              "      <button class=\"colab-df-convert\" onclick=\"convertToInteractive('df-ebba2353-a3be-4c9f-bd99-fe444d8e32a7')\"\n",
              "              title=\"Convert this dataframe to an interactive table.\"\n",
              "              style=\"display:none;\">\n",
              "        \n",
              "  <svg xmlns=\"http://www.w3.org/2000/svg\" height=\"24px\"viewBox=\"0 0 24 24\"\n",
              "       width=\"24px\">\n",
              "    <path d=\"M0 0h24v24H0V0z\" fill=\"none\"/>\n",
              "    <path d=\"M18.56 5.44l.94 2.06.94-2.06 2.06-.94-2.06-.94-.94-2.06-.94 2.06-2.06.94zm-11 1L8.5 8.5l.94-2.06 2.06-.94-2.06-.94L8.5 2.5l-.94 2.06-2.06.94zm10 10l.94 2.06.94-2.06 2.06-.94-2.06-.94-.94-2.06-.94 2.06-2.06.94z\"/><path d=\"M17.41 7.96l-1.37-1.37c-.4-.4-.92-.59-1.43-.59-.52 0-1.04.2-1.43.59L10.3 9.45l-7.72 7.72c-.78.78-.78 2.05 0 2.83L4 21.41c.39.39.9.59 1.41.59.51 0 1.02-.2 1.41-.59l7.78-7.78 2.81-2.81c.8-.78.8-2.07 0-2.86zM5.41 20L4 18.59l7.72-7.72 1.47 1.35L5.41 20z\"/>\n",
              "  </svg>\n",
              "      </button>\n",
              "      \n",
              "  <style>\n",
              "    .colab-df-container {\n",
              "      display:flex;\n",
              "      flex-wrap:wrap;\n",
              "      gap: 12px;\n",
              "    }\n",
              "\n",
              "    .colab-df-convert {\n",
              "      background-color: #E8F0FE;\n",
              "      border: none;\n",
              "      border-radius: 50%;\n",
              "      cursor: pointer;\n",
              "      display: none;\n",
              "      fill: #1967D2;\n",
              "      height: 32px;\n",
              "      padding: 0 0 0 0;\n",
              "      width: 32px;\n",
              "    }\n",
              "\n",
              "    .colab-df-convert:hover {\n",
              "      background-color: #E2EBFA;\n",
              "      box-shadow: 0px 1px 2px rgba(60, 64, 67, 0.3), 0px 1px 3px 1px rgba(60, 64, 67, 0.15);\n",
              "      fill: #174EA6;\n",
              "    }\n",
              "\n",
              "    [theme=dark] .colab-df-convert {\n",
              "      background-color: #3B4455;\n",
              "      fill: #D2E3FC;\n",
              "    }\n",
              "\n",
              "    [theme=dark] .colab-df-convert:hover {\n",
              "      background-color: #434B5C;\n",
              "      box-shadow: 0px 1px 3px 1px rgba(0, 0, 0, 0.15);\n",
              "      filter: drop-shadow(0px 1px 2px rgba(0, 0, 0, 0.3));\n",
              "      fill: #FFFFFF;\n",
              "    }\n",
              "  </style>\n",
              "\n",
              "      <script>\n",
              "        const buttonEl =\n",
              "          document.querySelector('#df-ebba2353-a3be-4c9f-bd99-fe444d8e32a7 button.colab-df-convert');\n",
              "        buttonEl.style.display =\n",
              "          google.colab.kernel.accessAllowed ? 'block' : 'none';\n",
              "\n",
              "        async function convertToInteractive(key) {\n",
              "          const element = document.querySelector('#df-ebba2353-a3be-4c9f-bd99-fe444d8e32a7');\n",
              "          const dataTable =\n",
              "            await google.colab.kernel.invokeFunction('convertToInteractive',\n",
              "                                                     [key], {});\n",
              "          if (!dataTable) return;\n",
              "\n",
              "          const docLinkHtml = 'Like what you see? Visit the ' +\n",
              "            '<a target=\"_blank\" href=https://colab.research.google.com/notebooks/data_table.ipynb>data table notebook</a>'\n",
              "            + ' to learn more about interactive tables.';\n",
              "          element.innerHTML = '';\n",
              "          dataTable['output_type'] = 'display_data';\n",
              "          await google.colab.output.renderOutput(dataTable, element);\n",
              "          const docLink = document.createElement('div');\n",
              "          docLink.innerHTML = docLinkHtml;\n",
              "          element.appendChild(docLink);\n",
              "        }\n",
              "      </script>\n",
              "    </div>\n",
              "  </div>\n",
              "  "
            ]
          },
          "metadata": {},
          "execution_count": 163
        }
      ]
    },
    {
      "cell_type": "markdown",
      "source": [
        "After removing duplicates we can see in the info print section that the totals remain the same, which means that no duplicates were present in this database. Therefore, switching to the movies_cleaned dataset is valid."
      ],
      "metadata": {
        "id": "0RbXobbPggEh"
      }
    },
    {
      "cell_type": "markdown",
      "metadata": {
        "id": "00Vb1k3FMdei"
      },
      "source": [
        "### How many movies of each genre are there?\n",
        "---"
      ]
    },
    {
      "cell_type": "code",
      "metadata": {
        "id": "V6MsN8OcQn0u",
        "colab": {
          "base_uri": "https://localhost:8080/"
        },
        "outputId": "86c7727c-6d36-4432-bf03-d3173b754d25"
      },
      "source": [
        "genre_counts = movies[\"genre\"].value_counts()\n",
        "print(genre_counts)"
      ],
      "execution_count": 164,
      "outputs": [
        {
          "output_type": "stream",
          "name": "stdout",
          "text": [
            "Short          72894\n",
            "Drama          72635\n",
            "Comedy         54667\n",
            "Documentary    35698\n",
            "Animation      17038\n",
            "Romance        13562\n",
            "Action         12890\n",
            "Crime          12610\n",
            "Family         11074\n",
            "Thriller       10681\n",
            "Adventure       8598\n",
            "Western         8231\n",
            "Horror          7423\n",
            "Musical         6843\n",
            "Sci-Fi          4957\n",
            "Mystery         4951\n",
            "Fantasy         4871\n",
            "Music           4444\n",
            "War             4398\n",
            "Film-Noir        429\n",
            "Name: genre, dtype: int64\n"
          ]
        }
      ]
    },
    {
      "cell_type": "markdown",
      "source": [
        "We can see from the counting of movies per genre that the top three genres are shorts, drama & comedy."
      ],
      "metadata": {
        "id": "3_6F7Ai8nU0I"
      }
    },
    {
      "cell_type": "markdown",
      "metadata": {
        "id": "itYpwLPpQnZM"
      },
      "source": [
        "### Which director has the highest ranked movies?\n",
        "---"
      ]
    },
    {
      "cell_type": "code",
      "metadata": {
        "id": "dkW23Q27Qu0A",
        "colab": {
          "base_uri": "https://localhost:8080/",
          "height": 502
        },
        "outputId": "e34ec3ed-0162-4938-eb6f-e048d6bf3ed3"
      },
      "source": [
        "def highest_ranks():\n",
        "  directors = movies\n",
        "  directors[\"Top directors\"] = movies[\"first_name\"] + \" \" + movies[\"last_name\"] \n",
        "  best_director = movies[movies['rank'] == 9.9].groupby('Top directors',)['rank'].count()\n",
        "  return best_director\n",
        "\n",
        "highest_ranks()"
      ],
      "execution_count": 165,
      "outputs": [
        {
          "output_type": "error",
          "ename": "KeyError",
          "evalue": "ignored",
          "traceback": [
            "\u001b[0;31m---------------------------------------------------------------------------\u001b[0m",
            "\u001b[0;31mKeyError\u001b[0m                                  Traceback (most recent call last)",
            "\u001b[0;32m/usr/local/lib/python3.7/dist-packages/pandas/core/indexes/base.py\u001b[0m in \u001b[0;36mget_loc\u001b[0;34m(self, key, method, tolerance)\u001b[0m\n\u001b[1;32m   3360\u001b[0m             \u001b[0;32mtry\u001b[0m\u001b[0;34m:\u001b[0m\u001b[0;34m\u001b[0m\u001b[0;34m\u001b[0m\u001b[0m\n\u001b[0;32m-> 3361\u001b[0;31m                 \u001b[0;32mreturn\u001b[0m \u001b[0mself\u001b[0m\u001b[0;34m.\u001b[0m\u001b[0m_engine\u001b[0m\u001b[0;34m.\u001b[0m\u001b[0mget_loc\u001b[0m\u001b[0;34m(\u001b[0m\u001b[0mcasted_key\u001b[0m\u001b[0;34m)\u001b[0m\u001b[0;34m\u001b[0m\u001b[0;34m\u001b[0m\u001b[0m\n\u001b[0m\u001b[1;32m   3362\u001b[0m             \u001b[0;32mexcept\u001b[0m \u001b[0mKeyError\u001b[0m \u001b[0;32mas\u001b[0m \u001b[0merr\u001b[0m\u001b[0;34m:\u001b[0m\u001b[0;34m\u001b[0m\u001b[0;34m\u001b[0m\u001b[0m\n",
            "\u001b[0;32m/usr/local/lib/python3.7/dist-packages/pandas/_libs/index.pyx\u001b[0m in \u001b[0;36mpandas._libs.index.IndexEngine.get_loc\u001b[0;34m()\u001b[0m\n",
            "\u001b[0;32m/usr/local/lib/python3.7/dist-packages/pandas/_libs/index.pyx\u001b[0m in \u001b[0;36mpandas._libs.index.IndexEngine.get_loc\u001b[0;34m()\u001b[0m\n",
            "\u001b[0;32mpandas/_libs/hashtable_class_helper.pxi\u001b[0m in \u001b[0;36mpandas._libs.hashtable.PyObjectHashTable.get_item\u001b[0;34m()\u001b[0m\n",
            "\u001b[0;32mpandas/_libs/hashtable_class_helper.pxi\u001b[0m in \u001b[0;36mpandas._libs.hashtable.PyObjectHashTable.get_item\u001b[0;34m()\u001b[0m\n",
            "\u001b[0;31mKeyError\u001b[0m: 'rank'",
            "\nThe above exception was the direct cause of the following exception:\n",
            "\u001b[0;31mKeyError\u001b[0m                                  Traceback (most recent call last)",
            "\u001b[0;32m<ipython-input-165-2f41fb6c8f5e>\u001b[0m in \u001b[0;36m<module>\u001b[0;34m()\u001b[0m\n\u001b[1;32m      5\u001b[0m   \u001b[0;32mreturn\u001b[0m \u001b[0mbest_director\u001b[0m\u001b[0;34m\u001b[0m\u001b[0;34m\u001b[0m\u001b[0m\n\u001b[1;32m      6\u001b[0m \u001b[0;34m\u001b[0m\u001b[0m\n\u001b[0;32m----> 7\u001b[0;31m \u001b[0mhighest_ranks\u001b[0m\u001b[0;34m(\u001b[0m\u001b[0;34m)\u001b[0m\u001b[0;34m\u001b[0m\u001b[0;34m\u001b[0m\u001b[0m\n\u001b[0m",
            "\u001b[0;32m<ipython-input-165-2f41fb6c8f5e>\u001b[0m in \u001b[0;36mhighest_ranks\u001b[0;34m()\u001b[0m\n\u001b[1;32m      2\u001b[0m   \u001b[0mdirectors\u001b[0m \u001b[0;34m=\u001b[0m \u001b[0mmovies\u001b[0m\u001b[0;34m\u001b[0m\u001b[0;34m\u001b[0m\u001b[0m\n\u001b[1;32m      3\u001b[0m   \u001b[0mdirectors\u001b[0m\u001b[0;34m[\u001b[0m\u001b[0;34m\"Top directors\"\u001b[0m\u001b[0;34m]\u001b[0m \u001b[0;34m=\u001b[0m \u001b[0mmovies\u001b[0m\u001b[0;34m[\u001b[0m\u001b[0;34m\"first_name\"\u001b[0m\u001b[0;34m]\u001b[0m \u001b[0;34m+\u001b[0m \u001b[0;34m\" \"\u001b[0m \u001b[0;34m+\u001b[0m \u001b[0mmovies\u001b[0m\u001b[0;34m[\u001b[0m\u001b[0;34m\"last_name\"\u001b[0m\u001b[0;34m]\u001b[0m\u001b[0;34m\u001b[0m\u001b[0;34m\u001b[0m\u001b[0m\n\u001b[0;32m----> 4\u001b[0;31m   \u001b[0mbest_director\u001b[0m \u001b[0;34m=\u001b[0m \u001b[0mmovies\u001b[0m\u001b[0;34m[\u001b[0m\u001b[0mmovies\u001b[0m\u001b[0;34m[\u001b[0m\u001b[0;34m'rank'\u001b[0m\u001b[0;34m]\u001b[0m \u001b[0;34m==\u001b[0m \u001b[0;36m9.9\u001b[0m\u001b[0;34m]\u001b[0m\u001b[0;34m.\u001b[0m\u001b[0mgroupby\u001b[0m\u001b[0;34m(\u001b[0m\u001b[0;34m'Top directors'\u001b[0m\u001b[0;34m,\u001b[0m\u001b[0;34m)\u001b[0m\u001b[0;34m[\u001b[0m\u001b[0;34m'rank'\u001b[0m\u001b[0;34m]\u001b[0m\u001b[0;34m.\u001b[0m\u001b[0mcount\u001b[0m\u001b[0;34m(\u001b[0m\u001b[0;34m)\u001b[0m\u001b[0;34m\u001b[0m\u001b[0;34m\u001b[0m\u001b[0m\n\u001b[0m\u001b[1;32m      5\u001b[0m   \u001b[0;32mreturn\u001b[0m \u001b[0mbest_director\u001b[0m\u001b[0;34m\u001b[0m\u001b[0;34m\u001b[0m\u001b[0m\n\u001b[1;32m      6\u001b[0m \u001b[0;34m\u001b[0m\u001b[0m\n",
            "\u001b[0;32m/usr/local/lib/python3.7/dist-packages/pandas/core/frame.py\u001b[0m in \u001b[0;36m__getitem__\u001b[0;34m(self, key)\u001b[0m\n\u001b[1;32m   3456\u001b[0m             \u001b[0;32mif\u001b[0m \u001b[0mself\u001b[0m\u001b[0;34m.\u001b[0m\u001b[0mcolumns\u001b[0m\u001b[0;34m.\u001b[0m\u001b[0mnlevels\u001b[0m \u001b[0;34m>\u001b[0m \u001b[0;36m1\u001b[0m\u001b[0;34m:\u001b[0m\u001b[0;34m\u001b[0m\u001b[0;34m\u001b[0m\u001b[0m\n\u001b[1;32m   3457\u001b[0m                 \u001b[0;32mreturn\u001b[0m \u001b[0mself\u001b[0m\u001b[0;34m.\u001b[0m\u001b[0m_getitem_multilevel\u001b[0m\u001b[0;34m(\u001b[0m\u001b[0mkey\u001b[0m\u001b[0;34m)\u001b[0m\u001b[0;34m\u001b[0m\u001b[0;34m\u001b[0m\u001b[0m\n\u001b[0;32m-> 3458\u001b[0;31m             \u001b[0mindexer\u001b[0m \u001b[0;34m=\u001b[0m \u001b[0mself\u001b[0m\u001b[0;34m.\u001b[0m\u001b[0mcolumns\u001b[0m\u001b[0;34m.\u001b[0m\u001b[0mget_loc\u001b[0m\u001b[0;34m(\u001b[0m\u001b[0mkey\u001b[0m\u001b[0;34m)\u001b[0m\u001b[0;34m\u001b[0m\u001b[0;34m\u001b[0m\u001b[0m\n\u001b[0m\u001b[1;32m   3459\u001b[0m             \u001b[0;32mif\u001b[0m \u001b[0mis_integer\u001b[0m\u001b[0;34m(\u001b[0m\u001b[0mindexer\u001b[0m\u001b[0;34m)\u001b[0m\u001b[0;34m:\u001b[0m\u001b[0;34m\u001b[0m\u001b[0;34m\u001b[0m\u001b[0m\n\u001b[1;32m   3460\u001b[0m                 \u001b[0mindexer\u001b[0m \u001b[0;34m=\u001b[0m \u001b[0;34m[\u001b[0m\u001b[0mindexer\u001b[0m\u001b[0;34m]\u001b[0m\u001b[0;34m\u001b[0m\u001b[0;34m\u001b[0m\u001b[0m\n",
            "\u001b[0;32m/usr/local/lib/python3.7/dist-packages/pandas/core/indexes/base.py\u001b[0m in \u001b[0;36mget_loc\u001b[0;34m(self, key, method, tolerance)\u001b[0m\n\u001b[1;32m   3361\u001b[0m                 \u001b[0;32mreturn\u001b[0m \u001b[0mself\u001b[0m\u001b[0;34m.\u001b[0m\u001b[0m_engine\u001b[0m\u001b[0;34m.\u001b[0m\u001b[0mget_loc\u001b[0m\u001b[0;34m(\u001b[0m\u001b[0mcasted_key\u001b[0m\u001b[0;34m)\u001b[0m\u001b[0;34m\u001b[0m\u001b[0;34m\u001b[0m\u001b[0m\n\u001b[1;32m   3362\u001b[0m             \u001b[0;32mexcept\u001b[0m \u001b[0mKeyError\u001b[0m \u001b[0;32mas\u001b[0m \u001b[0merr\u001b[0m\u001b[0;34m:\u001b[0m\u001b[0;34m\u001b[0m\u001b[0;34m\u001b[0m\u001b[0m\n\u001b[0;32m-> 3363\u001b[0;31m                 \u001b[0;32mraise\u001b[0m \u001b[0mKeyError\u001b[0m\u001b[0;34m(\u001b[0m\u001b[0mkey\u001b[0m\u001b[0;34m)\u001b[0m \u001b[0;32mfrom\u001b[0m \u001b[0merr\u001b[0m\u001b[0;34m\u001b[0m\u001b[0;34m\u001b[0m\u001b[0m\n\u001b[0m\u001b[1;32m   3364\u001b[0m \u001b[0;34m\u001b[0m\u001b[0m\n\u001b[1;32m   3365\u001b[0m         \u001b[0;32mif\u001b[0m \u001b[0mis_scalar\u001b[0m\u001b[0;34m(\u001b[0m\u001b[0mkey\u001b[0m\u001b[0;34m)\u001b[0m \u001b[0;32mand\u001b[0m \u001b[0misna\u001b[0m\u001b[0;34m(\u001b[0m\u001b[0mkey\u001b[0m\u001b[0;34m)\u001b[0m \u001b[0;32mand\u001b[0m \u001b[0;32mnot\u001b[0m \u001b[0mself\u001b[0m\u001b[0;34m.\u001b[0m\u001b[0mhasnans\u001b[0m\u001b[0;34m:\u001b[0m\u001b[0;34m\u001b[0m\u001b[0;34m\u001b[0m\u001b[0m\n",
            "\u001b[0;31mKeyError\u001b[0m: 'rank'"
          ]
        }
      ]
    },
    {
      "cell_type": "markdown",
      "source": [
        "We can see from the sorting of data above that Carole Roussopoulos has the highest ranked movies socre of 5."
      ],
      "metadata": {
        "id": "chOD-9p8Yb7k"
      }
    },
    {
      "cell_type": "markdown",
      "metadata": {
        "id": "naiCl5kCQvS-"
      },
      "source": [
        "### How many movies have ranks of over 9?\n",
        "---\n"
      ]
    },
    {
      "cell_type": "code",
      "source": [
        "top_ranks = movies_cleaned[movies_cleaned['rank'] > 9].count()\n",
        "print(top_ranks)\n",
        "print(\"The total number of movies with ranks over 9 are: \", top_ranks[0])"
      ],
      "metadata": {
        "id": "PvzZbEBihbDQ"
      },
      "execution_count": null,
      "outputs": []
    },
    {
      "cell_type": "markdown",
      "metadata": {
        "id": "qSM1LAZGQ32W"
      },
      "source": [
        "### Plot a bar chart of mean rank and genre\n",
        "---"
      ]
    },
    {
      "cell_type": "code",
      "metadata": {
        "id": "oDk-3bkpRUfs"
      },
      "source": [
        "ranking = movies_cleaned.groupby('genre')['rank'].mean()\n",
        "plt.figure(figsize=(13,7))\n",
        "barchart = ranking.plot(x='genre', y='rank', kind='bar', color = 'darkcyan')\n",
        "barchart.set_xlabel(\"Genre\")\n",
        "barchart.set_ylabel(\"Rank Average\")\n",
        "plt.show()"
      ],
      "execution_count": null,
      "outputs": []
    },
    {
      "cell_type": "markdown",
      "source": [
        "We can see in the bar chart above the extend to which shorts, drama and comedy are the predominant genres in comparison to other tyes of movies."
      ],
      "metadata": {
        "id": "Y9R2PXmKcNjO"
      }
    },
    {
      "cell_type": "markdown",
      "metadata": {
        "id": "O6srkKPnRbh_"
      },
      "source": [
        "### Plot a pie chart of how many movies of each genre there are \n",
        "---\n"
      ]
    },
    {
      "cell_type": "code",
      "metadata": {
        "id": "suiaWhkF6Odd"
      },
      "source": [
        "genre_movies = movies_cleaned.groupby(['genre'])['name'].count()\n",
        "#display (genre_movies)\n",
        "plt.figure(figsize=(15,9))\n",
        "labels = genre_movies.keys()\n",
        "plt.pie(genre_movies, labels = labels, rotatelabels = True)\n",
        "plt.show()"
      ],
      "execution_count": null,
      "outputs": []
    },
    {
      "cell_type": "markdown",
      "source": [
        "The pie chart above is another visualisation method to demonstrate the extend to which shorts, drama and comedy are the predominant genres in comparison to other tyes of movies."
      ],
      "metadata": {
        "id": "2SOx90IMah6u"
      }
    },
    {
      "cell_type": "markdown",
      "metadata": {
        "id": "Cm9HjL_K6bvo"
      },
      "source": [
        "### Plot a graph showing the mean Rank for each year "
      ]
    },
    {
      "cell_type": "code",
      "source": [
        "mean_rank = movies_cleaned.groupby('year')['rank'].mean()\n",
        "print(mean_rank)\n",
        "plt.figure(figsize=(13,7))\n",
        "chart = sns.lineplot(data=mean_rank)\n",
        "sns.set_style(\"whitegrid\")"
      ],
      "metadata": {
        "id": "AdnkwdX9ve2V"
      },
      "execution_count": null,
      "outputs": []
    },
    {
      "cell_type": "markdown",
      "source": [
        "We can see in the lineplot above that between 1920 and 1930 there was an increase in the average ranking probably connected with the floorishing of the cinematic industry before the WW2 era."
      ],
      "metadata": {
        "id": "URh5kRuVvCzI"
      }
    },
    {
      "cell_type": "markdown",
      "metadata": {
        "id": "pQV2NO8umBSk"
      },
      "source": [
        "# Reflection\n",
        "----\n",
        "The evolution of cinematography is brilliantly captured in the examination of the movies dataset in this project that originates from IMDb which is the world's most popular and authoritative source for movie, TV and celebrity content, hence a valueable source of all types of information about cinema. In terms of genres it is notable that directors like to make movies that are classified as drama and/or comedy.\n",
        "\n",
        "**Skills demonstrated in this project**<br>\n",
        "The skills that were included in this project were using SQL & Python for the initial quering of the data, followed by investigating, cleaning, describing, interrogating data. And lastly the visualisation of data interpretations in the form of a variety of chart types.\n",
        "\n",
        "Challenges:\n",
        "The complexity and risks involved with such large databases, as well as trying to implement graphs for the correct variables."
      ]
    }
  ]
}