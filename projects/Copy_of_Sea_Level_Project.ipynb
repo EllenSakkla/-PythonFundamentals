{
  "nbformat": 4,
  "nbformat_minor": 0,
  "metadata": {
    "colab": {
      "name": "Copy of Sea-Level-Project.ipynb",
      "provenance": [],
      "collapsed_sections": [],
      "include_colab_link": true
    },
    "kernelspec": {
      "name": "python3",
      "display_name": "Python 3"
    },
    "language_info": {
      "name": "python"
    }
  },
  "cells": [
    {
      "cell_type": "markdown",
      "metadata": {
        "id": "view-in-github",
        "colab_type": "text"
      },
      "source": [
        "<a href=\"https://colab.research.google.com/github/EllenSakkla/Python/blob/main/projects/Copy_of_Sea_Level_Project.ipynb\" target=\"_parent\"><img src=\"https://colab.research.google.com/assets/colab-badge.svg\" alt=\"Open In Colab\"/></a>"
      ]
    },
    {
      "cell_type": "markdown",
      "source": [
        "# Using numpy to look for a correlation between time data and sea level rise\n",
        "---\n",
        "\n",
        "### Data Source\n",
        "Global Average Absolute Sea Level Change, 1880-2014 from the US Environmental Protection Agency using data from CSIRO, 2015; NOAA, 2015.\n",
        "https://datahub.io/core/sea-level-rise\n",
        "\n",
        "The data describes annual sea levels from 1880 to 2013.  Measures are adjusted using two standards: Commonwealth Scientific and Industrial Research Organisation(CSIRO) and National Oceanic and Atmospheric Administration (NOAA)  \n",
        "\n",
        "Raw Data file:  https://raw.githubusercontent.com/freeCodeCamp/boilerplate-sea-level-predictor/master/epa-sea-level.csv\n",
        "\n",
        "For this exercise:\n",
        "*  import the pandas library\n",
        "*  import the numpy library\n",
        "*  read the csv dataset containing data on sea-levels from the year 1880 to 2013 into a dataframe (df)\n",
        "*  use df.head() and df.info() to inspect the data and the column data types\n",
        "\n",
        "![image.png](data:image/png;base64,iVBORw0KGgoAAAANSUhEUgAABJgAAADkCAYAAADU+54ZAAAgAElEQVR4nOzdcXgb530n+C8cO6UbO6UbOx22cs7w0tdQtZ4VFfc5gVs/V0FlroTXuQostSdw1VaGkn1kyLnHJuV9bFDuEwm0n5NB5VmHdO5JSGtrP4DurAO0Zy+hnlXCSdUC2nVKKpVDetcq4VpKgEZOyUR2yVqyfvcHZoABODMYECBBSd/P8/ARRA5m3pl5533f+c077+sQEQEREREREREREdEy3dToBBARERERERER0bWNASYiIiIiIiIiIqoJA0xERERERERERFQTBpiIiIiIiIiIiKgmDDAREREREREREVFNGGAiIiIiIiIiIqKaMMBEREREREREREQ1YYCJiIiIiIiIiIhqwgATERERERERERHVhAEmIiIiIiIiIiKqCQNMRERERERERERUEwaYiIiIiIiIiIioJgwwERERERERERFRTRhgIiIiIiIiIiKimjDARERERERERERENWGAiYiIiIiIiIiIasIAExERERERERER1YQBJiIiIiIiIiIiqgkDTEREREREREREVBMGmIiIiIiIiIiIqCYMMBERERERERERUU0YYCIiIiIiIiIiopowwERERERERERERDVhgImIiIiIiIiIiGpyXQeY0gcdcDgccDi6Eb2walvFoEPd7vYocqu1WRtyR7vV4+HA4OlGp4Zo+W6EvNyY8ovoWrV26968tZ4+IiIiotqtyQDT4oUpxI8MYO/2rei4z1G4kXQ4WrDevRVbH+nHyNEkZj5YbHRSqdwHcezWna/r9eafajP1/Kbidc2bLVqOD2aQMKwnHGjZsBVbv7wb/d+KYuqDRie0zk4PFvaz+yivnFX1wQySR0fQ/8hWbHXdW5LnHPd1YOuXu7H3mRFE35zB/JVGJ5Ya5r049roccBxMV/3V+XcSGHm0G1s3tOjavbvRfySBzHyVK1vMIX10ELu/3IF7dfm0+9EhRE8vo+zIpRE9uLsk79/r6sbe5+OrUs7On4ljqOTY5Mv6Ze/PFfPjEz9T7cFeKnN8Lzrq9BBs8c0BtBTKm0FUn7OIiFaRrCFzZyPS1+UUALZ/nF2jMm2yvtQBbTmvRM6v1l6kJKSlryci2dXarA3ZqLdw3ELpldnGXNxfcn6UpyZkYWU2RdesSQlv1F/HHhl9t7o1rEZebrTGlF/XgLlpiTzuFsVmHXHd5Y90qLBv3uhaqmEabYXr3uyE7TxnnO/WbtuA6mlOXNp5PpCy/7VL0zK6q0L7V3FL32uz9lLxRlDcSoX2c8+wTF6ys7YFmXzBK846pa1qc5My3FP53sD+/ogsTA2Lt9VqfYq4Hx+XZe3R3LREHnPVsQ7KSqRHn7aQVJGzanb16lVZvPJP8pOP3pcf/uy/yl//w0n5Lz/9nrz782mZ/+d/lCtXL69iaojoWnBzVdGoFTWPtg29pT0ZWl1wO1vQtrkDzsUZJM5ksJBJIn2uuEjmRA61P2eg+sgg9t2xkt/knksg9Ywb7qYGJYnWnMU3Ywif0f8mgeibGfhbnY1KEl0r3ktg746HMKJ/Itzqgtu5Hu2dbWjKpJA+N7+kniCqReZ4P3Y/OqRrnzjh6nSipdWFDieQeSuNmfkFZE6mkWlgOqmxcm+OYOBgaBm9SzKIPurG7lfUHKa44X/CD+8DCprmM0gcHcTQsQyQS2LoKx3IRlOI7DCvLxdPD8Lz5WIvF2dPH4I7PHA2LyL3gzjGDo8hmQMyx/Zi0/l5pE4G4brNdG1IH3Sj4xl1bUobfDv70N3lRPN8BoljQ4gcnUEul8TQV3pxRzqJ4OY6Nvjmkxjo2lrsBdTqQWCHF+4t+e0nT8YR/XYCGWj7s4jJdB/aLVa5eHoQbteAenwUtO3oRV+PB87meWROxDD0ShQzuRyS33wIvXekkNzvgq09upJD8tsDGHw2f3zrZfH0GMLH6re+aly++jF+/E9/j7/54K/x9s8n8dOFLD7+5J9xk+Mm3H7LZ3HPbffhS5/7HfzWHe24/ZZfgQOOxiSUiNaWRke4RCT/5GanokbmneI9EJHUefN+LwsXp2XipT7xtFpH8tmDqdSK9/p4d1Q86voDjwUKT3v98bkV2BhdmxZk4in1Wt8YkMBO9VrZGJbJKtbCHkwrY+HitExEwxJ42C+xNddralZGu3S9Ix8Oyfi75mXLwsVpGX/BL8NvrWISVwN7MJlYibp3QSYPewp1mbOrT0bTs7Jg+sB+QeZmJiRywCfhJflu7bYNqAYLczKdCIvvfqWsB4z9Hkyz3/EUy7WdozJtUKzNvREs9oxSAjJ+0WRllyakr9BzySXBhEFOK2lzQ1yHzWvfhVNBaS+UuWGZNEjbbDygS1ufTNjsRWTL+Yh4tR5S0WkxLPHnUhLaXDzunu9Y9Du6lJKg1oNa8Uj4LYM1ZmISKKxPkb43rPvhL1yclvFDPmkz6TFWWxultN7DKvZg+viTj+VHc5Pywo++IY+mumXnX3aK73tbZMf3fld2fG+L9H5/qzxyqkue+sFuee39ozL3zz+Tq3J1FVJGRGvdGhiDSffkZnMAkZlpxPb74Fpn/ryg6c42uHeFMT6TxcQhp70nC7Tipo6PIAEA8KLjEQ+61d+PHU1wjB3K+yCB6HP53KB4e+FvV58zngkjwfG6GiyH+KPrsdXXj5HX57DWRribf30Iu0+o/+kaRjIehKe12XT5pjvb4HlsFIEHVid9dP3JHPXD84RWf7kwnQjDv9mJJtO+301o/qIbvv0R9DHfXf8uRNF96x1Y7+lH9G21XtvSV+VK0og+k1A/+zFy2I82g2KtuTOEyHc8+f/kRjB03LivXO71EQypDa72QyMIdSlLF7qtDf4XI+hT/5R+IoKkYYGfQeTZQUwBgOLDyIt9aDdIm3NbGCPPutQEDOV7W9VTqx+R9ATCO9pgWOI3uxA8GoFX/W/imahpL7LMsRAGzwCAAt8LY+h7wGCN93gR/lYI+T3KYeibEdOeibmj3bj1rvV46MkoZnL59bofj2H0Kfu7ZyV3bAADJwAoHng667NOOwSCny78BN/LnsDb85OYvzyHK1cvQyDFJeQqrorg0uWf479c/D6m/vE0rnxyufLKdeMI1nVMqQtRdJdPilLY1iD+89Humsb8TB/kuIdEdjU8wDT1zV70qt2CUyeG4ftiFeGimxW49/ksu8LSaplCMjqV/9jTDffGDnj2qH86FsE4X1chAPOnEsi/RKlgb6cL7Vt61es3h+HXkmsuqEFrx8xbI4XPfY/70baGXvCm69CZIfT6ooXgUuhUgg+zyJziRl90GjPJcHXfOzddfJ1qnw+eO80XdXb1FoIoyVNTBjfKi5ieiquf3Qhss2gd3+ZG96Na8CmC9NsGy5yJY0QN6nsOhOBdZ7ayJrR/tR9+9X+JF+KYMt9ydW5uQ//JUfjuqbDcPR74tTZnLolpwzbnFOIvqMG8rhBCPQbBN1XTAwH071L/c2IE8TOmixYoW/oQOTuDicNerL+18vIVfZBA6OtR5KDA98IAes2fp9TdJ/IJzs7/Dd75+d/io8uXIHK15O8OOPCZm29H62fXY9OvdkDkKt66+Jf42cc/tVxv+qADDheQEoFoP2kguYwHjLmj3aUD6a/zISYx+Ar5NI1B1yQi5wUiQfzrHTHIqz6Yn3UiqpfGBpjOjWHgCa1w8MK1ioUn1Zd+XB3vNjcUNMO9TXuSlx9jh250ujG6lL1wbwaw0YuA+lQu91wCKUaYyFAOmXeK/7vjdt7q00rKYOzp/sJTde/LEQR/hw0UWuqOrgDC0RSy5y162Fj5IIek+tG7oUKP/HVObNI+LxpVlvPIvad9dmF9q/Wmna0d6qccYDDrYfr1sBoocsO7pcIYiXe64dUCPGcSmKzXQ0WlHa5KwSUAQDPa2t3q5yRyRrPanU4U2qnubW5Y71Ez3NsC6ucpJN4ya8PeAc+eMCLpLLLJMHz316ucWETykB8jOajBsNUdo3LhykeYmT+DX1yeh0Bwk+MmQB1fSQsu/YvPtuFLn/tX+Pytv44rVy/j/Y9m8d6H75quM3e0Gx1nI8hKUO0dptocRHDzCuzEhQwmsQlO08AoEa2UBgaYFpF8aQBax2DX4YHGJYVqtIjUyTH1aZofvZ355wNND3oQVB8VJF+s4xMtujadSyKuPg1tf8KjNjCccO9Qu/1jCNETHLKfjDShWfdkf+4SI5G0chbfHMu/lgIAm8MY2MkJCMjAOh9GE8Po2+GCstwelXcq0MIiqQsV6r/FBcxpn5uMQlHNUArBmAyyFd7mWfhQ254CLEl/BtOn1BVs9GBThWAV0Iw2V6F/FaZmVr8uv/U26+BO5mxSbae2w/Pbla/p5g0dxR5jUzOGEwopO0Yx/mIffJvr2y9m8a9C6H8+B8CF8LP+CsGw+vvwyi/wD4s/gchVNH/6c/i1pt/AL9/8Gdzk+BQ+c/NtuPf238SG5i/h5ptuxn/7+Vn87OOL+KcrH+L9j0xfJkTyeByhJyr1IMoVX53T9U7K91aKIrrdAYejG9/Y50CLLw480wGHw6EOAp/GoPaK3OlBOO7uRRwD6NDWdXqw7BW5nLq+pdsrbFP72/YoJ3AgqkLjAkyLKSSe0y5zP/p3roEX3T6YQeLIAPZu34r1LcVCp2XDVnQ/OoTo6dzyX+GZzyDxrb3odq9Hi269u58cQ+KczYrYJH33urqx9/ko0o16NXg+ibh2Lnd54NZuBJs64N6lViVnIkiadTFeTGKgsD/9JmMBlJp6fpO6fAsG3jT/Qu50FEOPdmPrhpbC8uvdNo/XhSi6l1Q885g52o+H1PW1bNiLhNF66nmu5jNIHOnH7i934F4tPfd1oPvRIcTfzuedbl0laGfVNR2XZZp6XRujqx29ncXr3fmgF1qIaez1ZE2zQuZORzH4yFZ03OeAw3EvOrbvxdDRNHIGT2cNzWcMzlsL1rvz12r8HRupW8lyRCd9sLjuQRvdy7XGUumy+gZWC3oLM9XE0Xu3foyEpY2vEldySB8dKt3nlvXYWu3xN6V/Og0MfTde18ae0fW19ZF+jJ3I2M6P8+8kMPZMaRm/rDy42kzKF7N9zxx5qJAntn7X5ln4II7d2ro9Y+bnziQt1Z6L2iwidWKwUI76n/Sv7Gv4uTSiB3eXlcW70X8kaT/P1FrfGNZ1wPy5BEYe7VbL02J+HnnTfiVhXNeU7l+1ZdnayCd10roJno35j7lXk5YP4hZPJRBRP3u2tBvcqDdhk0t7US2KRNrqSGSQPK72nVL8cN1f9uf5GUydVD93tqPNcifynPcV+lchdW71b8cz54qvBypLXjWcx8xUsvD39i/aWOE9uh5j6ZnVCzB8mEbosfzYV64DQwhsXK0NF13+5GN1trhPYd1nnHjgzt9B6+1tuPOXfg333v5F3H/Hl3DLTZ/Gj+Ym8d9/8TYWrnyET+QTfHT5FyZrzCBzzFuhN1EO0e0t6qtzWUTOdpSWB8/EgMMCkRj+9HlBNuoFDqQgIkt7QG0OQs5H4EUo/zreflfZAvltxbZlDbeXO9qNluPdyGqv8T2RQe8z1RxBohtcw4YXPxUszoiwZ9x4Zoga2Z+FaU5Sh7ziNJj9ofxH2dInsYzlVpfMFDP3RlDcJrNLQJ2lwv1syvwYXJqWyOPuwkw25j8uCbxmPnvGSs28NRf3F9YbeK10LxaSwUK6lacmxHguDt3MYgbrWLr4hAS142k2+9jcpAz3OCscL6f4X5o2SZMUZy8pzAazIKkDrrJ1lOWtOp0rzWy8z1beKaSz0uxE9TguyzIpYW3mliXnTD9LikdG3628tiV5+dK0jO6y2K9Wv0Qsr9sFmY5WOtaVZgWqZzlSufwq/t3e9awds9JlsxLpqZxeq32fe2tYvK0Vvtvql9GZGnOU/noExPVYTGZNZ/OybzbeV+FcBWXCbMYmEVmYiUjfFoMZpMp/NgdkvMI5t6WOs8hVKl8M9103W6jd2R9nXyrOkmU2q2jlsq7SuajXLG0pCRa2GZDxujVOlqZvNuq3Li8q5Zl61TdL6ro5ST1rvV7nrphY1mB26ppWv8Qy1ZVlteeTlWevvijKvuorHGvvSyZH9ZJuprSNQUmZzdS2MFmy3IRJ/p2N6rb5ssE2p8KF2ePaLWaZK6HPR/tXY54zvVkZ7VS3rRjNsmbVBjGjrx+DVc3cVm39XLQgE/sUg/OsT8vKzyL3k396X/79D/zyJ3/5+/KNqa/LifMxOXEhJpG/+z8lcf6YvHHh/5UXfnRA9qS84vueW3Z873flT079vvzfmTGTNaYkVOle7HxEvAgV/58OFa6hbNS75Hpa+ruybajrKyyRDhXrhvK/lWwvf6zLz1vqAGduJbKrYQGm2e+4i41ko8qtDmwFmMqmawWc4trVJ8PRcZlITshEIiLD+/zi0t9AKR4JT5ndLJU2IqfTIXX6Vqd49gRlND4hE8kJib0UlEBXaePLdSBlfFOvu6GA0iaePcFC+sajYfGX3NyY36CvTIBJX+kZNcZTEio0Bvtkwuyw6Roz2BWzDDjqg1Yeo8bYxQkJ6qasVe73Sd9LscL5DO/x6Br1iviiJvmvrNGtbwQWf8ryVp3OlUhpAxCAOLsCEjTcD8VegKlex2U50qHCvhg1VvV50201xbDB8qFTsxJRr2Hlfp/0vRCR8eSEDO8rmzZY8ZkGmUqOtdImvn3DEklMqOdtWML7/OK+XzG/Yah7ObJaAaYFyb6V38+JZEyCWgMdbgm+qv1e/ZlZelWWTJ0NRdp29BXKuPFouLSMszj+dpVfE2j1SjiZXWYwdEGmv6OtzymePeHCOY+91Fc67fjmkOkNnf48KPd7JLBfyzvjEjnkL70Z7hq1vim3oy4BJv2+G++/+b7PSWyX9r12CU9V2pYugKwEDeqAymmxdy7qFGB6d1Tc2nq2RWo/XybpS2l5udUjgUP5MmsiPirBr5YFdqzyTL3qm5K6brzwIEVfR4xHh6WvLGBkOr39pdJp48vL1JJzujkkocfslGX1yicrr9oAU+nDK0Xcj0dk8qJ6oVxekNn0qAS046m4JZSuUOJlIuLTyp1Wr4STs7KgBuMXLk7L+LOewnE0DRQup5yZG5dAPa7BZVhIhwptSOOHmcspH+ZkfI91PWxmuQGmYh3XLsFT+r1Y3QDTLz6el8Nv75c/+cvfl6/99R/If/jRN+T72f9Pfviz/yrfz/65DE+H5NHUH0rv9/PBJd/3tsieVLekfpo0WaNx0KaEvjwrO1d1DzAZbauwPeNgGANMRPY1LMCU2l+8oIOnVmgbFQNMuicFgCgPh2TCrOy4nJXx/bqGn+kTJF0l1ukRj5Jfb8rkaVo2ob9Bc0noLYOGQzokgFO8hyYka/jEfk4m9rcX98Okp9CKBJj0T7P3GW938lAxbWZPr0ueLsEvMYunjxP7rM6rvjeMSwJxk6Z5dlwXbDHJHyVP48L59G0OSGRqTt3PBckmRmV8SYCp9nMlU+FivlDcEkyYZMyLKQk9rGtUmzac6nhcqqbvoeY2vsm5GBN/4dqq/HRRn5c9XZ78PkUNel3NlQZ+lJ2xpcdH3yNOCVjmvbmLRmdrJcqR1QowlSyha8DaOPf6a39zwLRHVkkZV4ebjtl4QFdmqsd8i1+Gqww0LbzRVzgPk4bF0lzJDW27yQOA1AEUAl2G5iYkWCjbFAkma+zJVYcAk37flYfDhvtvte9zrwUKaWg/VOFq1QVsFIMbbjtpsXcu6hRg0t941LUXhi59G13iUsx74c2dCpUEbk3zTL3qG31dt9klLijiOTxp+KBn9mV9kMdvuM3xPcXy0LlrVKYNz+mCTEeXXstm5VP98snKqz7AJCIyJ5MvVOgBW01P0EysQs9KRdz7J0wf5unr2Iq9ygvq1YuwSiUBTZNAqj6PV/HWhP03Icy+V0V7WxcYXPrAeXUDTJevXpYTF2LyWPrfyL/9/lbZk+qWb/3ooBx/7xUZng5JIN1TElz641O/L8/97T75yUfvm67TKEhU4nxEvD0R29+tuQeTaR41Coblf8cAE5E9DQowlb6WYV34Vn6Fw+yCr1Qx6J942HvaVXojadh7Rl/B2lxvyVN5o947b8UqNyr0N+hKyPAGfSUCTJOHtcarRSPYZu8kO69RiEjxCZnBuor7aKMHjr4LuNFNkr5Boiii2MkjdTlX+h4CivS9UWF9l1IVA0x1PS7V0j/VNH0aX12vCH1errhPJY1Pg3Xr82dVNwR5K1OOrPUAk25ZGz2TikFmOz1ebMjEpK9r6es3ypY+iUzZuHVYSEloY/GcmdPnS+PA92R8VKYrnHP9a8TKszVeU7UGmMr23Ty/Wuy7ndeUVcU6wuDc205LhfSISL1ubkvKlmWUB+bK2gY91r2j9A9mTPNMndoG5a+ftu+3Cszoz4NBE1JfntrosTf7srfkGjYsn+qaT1besvLP5axMHCrrdVv24+zqk8hZe6GRubMRwzKy8KO0ic80MLnc9mIjAkzFHswAxGPWA3rJa6D2rFqASd9OMczjqxtguipX5cKH78nI9KB87a//V/m33/892f1XD8tj6X8jX/2rhwvBpR3f2yJ/9JdfliffekSS2f8s/3zlny3WquaP8ryRDqnHKL+PRuoeYKoQMEodKEunWu8ywERkTwNnkWu0RaTiA+qAiu0IfbMPrtsqfacJ7idHoA2hmHih0sxoCvoOVF6vc0c/+rVB/I4kkSofl/EBL/xfrDAt953tcG9TP+emkVmVAb+nkHxZPQKKH26XSRo3utFb2L8xxEymr3V29hZm7Bg7mjAdrHokv0EEd3rKpgTOYPyIOshjVwihHRXm3djoRaBT3ZOTk9YDOOaAXhvnsi7n6lwMY0fUz7tGMNBZYX23lQ9eWG4Fj4sN82/G1XMGeHrMpgYunRI4/GrS/kDYlfbpNhcCT2pX7RQib1pctZcWqhyAezXKkTXo3DjG1AHBPQdC8FWYRrp9W0CdKclquucq3ONFODGrTgtdHOo29+YQetvvwL2PjMFqEqPFUzEMnAG0MtpcMzw7tL+PITW1NHe0b/OjrcI5b253F8q23EzG1kD8K6V8383zq8W+N7nx0KPaBA5hJEwHZtbVEV0BeMsGq7Wflgrpuea0I/y0z3JmqPbO3sLg4qZ5ZkXaBn4MfN0F87Xqy+pyi0i+Gi6Uh3Zmv3LuHEC4wiDG130++SCJgQdbsPXJKGZygLMrgHB0HBPJCUwkYxjd50ObAmRODKF3Qxse+uaURT21iJnv9qJtQy+GTmQApQ2+faOIJScwkZzAeDSMQJcTyM0g+uRWtDy4F4n3VnFf6+lKBtFHtqL3lXymdj01gchXr8UZHxeRPODFwGkA8GD0laCNdsTKcsCBz9/66/jdli7c37wJn73lV/Dx1UX848cX8dGVD3FVBDc5PoVbP9WEX//lu/E7v9aJ9l914ZZP3WKxVheCIkht6NVNhOGA47AT/s0AoMD3aqpkchGrQf+VHf0IlcwiV438tjb5Wgy359pfls6TbqQOVLsNohtXwwJMhjOsGi8JZ1cY4UNlP3s8lb9qaQrJ59WPG3vh2WwzQXe64dmlfj6TwswFq4V74XnQznrb4d6u3STFMGUSgLHWAqUwjewiFldjxqLTCYTVmeGUXW50mO5qO7yPajNAJRB90+QGc50HvdqxPRbBuOFx0KbN7Uf3lrINvpdGQp31xL3NLJCh1wKn1rA9OYOMVTtU2YvuSoEe26zPVW4qqc62BgS2uWE98W6e1+qPK3lcKsohcXRM/eyB90HzrTd3eqHdFuSeSyBlc7t29qnZ5YFP/Tw1VXaz9sV2eLTL7/kBhE5Uc/u/GuXI2pNJJ5Cfj8cN7xYbDfp1zsLNcvLdTF1m0QMAZUsfImdnMJsIw6ubRjtzZDfW//ZuxE1unKZODamfKpfRTc62wjTiU+9ll5lQpZhHFxt7w1uvfXc93K+e0xyGXzMJCOvqCP9Xu5dcp9WkpVJ6ri0edFSaGeqL7YV9rS3PVNk26HGjY8kMXKWa73aazKw3g/QRrY7uhdvW7Fft6HjYeonrOp98mMbgw1vVG1sXAvFZzCaG0bfDA/cWN9xbvPAfimB6ZhqjOxUAOSSe8MB/1LgdlTnqh/tr+dlklYfDmJyZRuSQH94tbri3uOHZ0YfhxCyyiSBcAHB6BA/tGET6w1Xb4/p4L47+L3eg90gGgAL3/gkknrXXXlprMkf96H0+B0CBLzoMf2vFr6yKW266Bfd99rfw8Bd2YEvLQ3De/pv4lU//Kn755ttw+y2fhXLrr2Pj51z4yhd8+J+V38evfPoOOOCouF7XfnVmNu3nVZ9uRkRXyd+02eGUHTGDmeDyAavici4EJQafNlPdOh9iouZzID+zXNm2giKG21uSzv0uuPYLYjuWzt1IREvd3JjNKmi5r/i/6fM5YLPZRdsM164+LOmjcXoR/d9OGH3BnvcymNE+P9xRxTTEzXBuaAcwBSCOzAUAZtNu9mzCepv3my33dACIA8ghm50HzKrJK4uY/yCDmZkssu9NIfNBFjMnp5DJTiP5tu2dqINFJF8bVm/UFez9itviiSfg3OKDB/nASfLFOKa+2mdwzNUnj0eGACQQP5WBv7XsluTcOADA83Xv0u9fmIY2SW3ya/fC8bVq9ieD3AcwP5edbTYCM2WWea4y70TVT260t9WhubSSx6WSc+OIqD1d0NOLh6waTk0d8DylYOi5HIAhRE8MwL2t8v67N9g4M0oL1mufz2aQBYqNjCY3/Id9GPNFkUMag54WRLsC6HssgN7ONjRblZKrUY6sQbl3CzkKu+9zYHc1X34vh3nAYIrt5WqGs6sPsXf9mDkawt4nhpDMATg3hu7OJoynh+EpuWHOIFO4/oaw9dahJWs0k8zlAKuS4MN55C7MYDqbReYHGcxfnEHiTAbZs8liPmmoOu77Ri8Cnf3YfRLIHUki9Ywb7pJKQFdHKEH4usqv5eWnxTA9dcudw7AAACAASURBVKI4NwFaiZmdg0VtvHw96yunvOlW3FHNOuvVNtjgrHxt3tkCJ7C05+WFGUxq8XmbU9sDAKw6PazRfFIvU9/tU3uuAN6XIxjeZpLW5jb4X4wj924HBk7nEPUNortzFF592fZBAkNP5INL2BhEPNqHdpOeMEpXCJFoBh2+KHKnBxD4tgeT+3Q12M3Fi3kyY9VG11lcwJz2+c7m0jbhhSgcd/daft0bzdq6gc8c78fuR9VyHi4E4hbHTXNzUzE9ZzPIwWWjDlrEwiXtcwuaV6BX0eLpQfT68ufMdSCOsUo9zFfZLTd9Gv/DZ1rRcus6/KvP/x4uLubw4ZVf4JabbsEdv3QX7mpScNvNt+NTjgbdThLRmtSwEkG5xwutEZd8J/8EYlXlMoWbbuXW6nqmtCiGTau6yX649Gnl/NtxjBwOY+xIuuZXlupiMYXEc1pLMocBlwMDdr97JoLkmT60GzzdbHrQg6AyhMEckDiWRGZXaRf7zKk4zHrC5M6v4C3cfS22c2ht5yqH7Lva52ZUmTWN17iSx6WCzJvRQm8sHOtFi8O6gak39noS4W3e+t/cnVlc0tvCuSOCVFNLodGaOTGCvSdGsFdpg+/RAez9qg8uowywhsuRlZND5p1Gp8FIM9p2hDHh6sDeHd0YOQ3g3Aj8h7zIHNIHwHPIHK/nducxc3wEQ4fGMHZ6TZTOFuq57064d3iAkwkgN4ZkegBufa/SxRSSam8W4x6u9T4PdXKnAjeQ76F3fAqZFz1VBI5X35pqG+QySGmfb7/V8qFTFStdm/mkHhaTiB1K5z8rQQR6KgQX1Ne9B7xjAMYwcjwIr+6VsMzrIxhRm2Wer/vtDc9wKIr+M8DUkxEkH2svBImVu9dbf9nIB7liHmy5YwV6E80j+Uw3eg8m8z20tvRh5KUwvBVe0QZQ+pCpiu3lCr1gW3DHCnSP8m8bQBqAsjOCyH6rV1Mbx+Fw4Jc+dStafvlutPzy3Y1ODhFdAxoWYHJu6EA78mOP5OIpTO13NawR17LGSvSW2/QJWkT6uYfgfTpZ8lqPc7MbztudaO9sQ8udTrTf04LM8Q7s/tbqpHH+RBTVPUfUy4+xE9ho0OupyY3uJ9ox+OQUcCKK5Dm/rrvwFOIvJIBdMXRX6ELsPTSOwAPVnNg7sL7CawGV1edcFd+GcEKpOU2lVve4TCH+YnK5X86P1/W0t/7dxTc2GTbinNvCmOjqR/K7IQy9MILEOeTHqXimF9FnBuA9FMHYPpdpo3mtlSOrw4twIoD2avb99vUr+xrDPV4MvzKKzH27kQCQe34E8a+7i93m9b7Yh9EXPfb7N7SU9cn4MI3Br3gx8GbJFQ9XpxO3rmuHp60Fza3tcLZkEHftLoxFtibUuu8AnA/74UcCY8hh8EQKA1uKZfr8yTgGcwDQjv7t1j1cq06LSXrqonU93AryvSNyMSTPBA0fhjTeGmwbXCm8xA63sgIPDddSPqmHt9MY0w7Ytg5sslGO5sdzG0McQPLUFHJf1Xqc5TD1pvY4px3udjtHSX098QwARJB+Owz3A+qfdIHW+DmbD4F1AUZvee/zdV7Mzc0t+UqJJoua4cMZjD3qxu5X8q+SuR8fweghL5y272IUKJ0ATgI4loG9Pcoic0r92ONcgX5wOUTV8597pRf3vmL3AdwAOhzaI10vIudjxvUbEVGDNK5Pozrw89QZAGfCiL0ZQHv5mDorSVd5Thn0GLKSzWnPaJS6HcHiOoGWu4qV7Pzr/YUGpLKlD6FnA+h9wIkmg+2m/6o+aalMP65OO3xP9WKTrb78GSSfHMnf9D2XMHilQl1jZy/aMYUpJBF9U/ea3JkkImeA4OHywb3zmu/UVf/rNsG9ZXV7xdXrXBXHJ6vx9TRVw46LbvwVdAUQtjNWD4C5sxEMvjIFbbyuJa9JLsf8HAojcdzXghaz5ZoUuB8bhvuxMHJnEoi9OILQd5PIIYP4kx2YmpvA9LO6m+U1Vo6sjmYouifGLRvccK+1xm3rQ+jtARLHgKWvIOpuNN65A+u3uJe+gm3LPBJPasElBe7HQwh9vReue4zqsTTSy9pGvdVr31XqWGJjRwA8n0DqgFamzyN5XA2nGQzuvSJpqZt2uHYpwHM5WD4MabA12Ta4OX/TnkM9X01bq/mkdrnMdDE4aLfHj/78npzRve6dxcxJ7Q9OtNh9MFR4PTGH6UwOeEBtH6jj5iUBYCqDDFwVz2bu3cnCsAmb7itvZzShuXmZV1FJcMnmK3FLqGNLngSASWTeA1yVej7pXvlU2ttW+z0LIqJrVgNva9rh/boH/Y8kAOQw+PQIQmmr2Xzq7M4WtEGtPE9N26o88+aRfVd7raUb7Va9K+YXsGBrnTnMpLV1+tCmq/Ri3x5RK+wAxl4Lw2Pa5Xkec6s1lqV+XJ3OAEI2ZorJm4dzZgSJI4DlGDsbvQh09WP3idLxmqZORjAFYMwkENl0VwsKo9rMrPZrl5k6nSv9+GQp22PzpCz+1pjjoh+jC+h7PIw+u4OknwESr0xhClbjdRXNXVoEKt3+vTOFmPrRXkOxCcpGLwLf8aL362MIdO5GNAdknuvHyPZJ9Gk3zKtRjphQlMKLPFiwMah/ZiZeeSFbmnBHS3H8qOn3sAbHj1Lg3ADgmNHf7kBLK6q70TByLoaRb6s5/LExjB/2mOdCfYCzoeq07wXN8OwMQjkyiByGED85APfDzcAHSbWcNx7ce2XSUi9NcG/vR/tz/fke1s8NYGR7qnjNrwn1qm/qTHFCG03S/jg3OWTOWv19reaT2iktuivD7nhfiwsoTJDpcuqWb4bTBeA4AGSQtfVwSj/GEOBs0Z2tpvXo2AkMvQLgeAoz8z44LRM3j8lTah2j+OG6v9K27VpE+lBvIbgUOpVA8HeW0we2Cet/2wcgCiCO1Nl5+O6xXs/8VEp9BV6Bf/NK9IRrQvhQ2Oayc5iMDiJ6BgA8CBzSJjdphrPBM84REZVr2CxyAODsGUBQa7Sd7q/bzEK2NG9CR4/6+eQI4mcsly76IIn4t9XPPR3YZFU/nYwjaWdGOH3ApsuNdl0dP3NCty3LSmQGU6s0ToF+XB236bTzRkqnNx57PQnjmcSdcPeoswSeiSB5BvmxCg5rkx+b0M8G9t1xJFczQy1m6nau2jZqx8hidqbSjVtPe96I41IyRlefzdkUVWrvRgDF828h8maqwjEqHZC+2oZi8/1+DB3W5umbQmpGd7RXoxwxcWtzsaBIz1QafWUKqder34aZto2ewo3jWMJOHl1t+pvW8h5izWj7bW0W0jgiZrNaVrCYmSmUg17XJusQpy7A2Vj12Xe9JpcbfjUzjBzPl+mZ18eQ7+PaZzC498qlpW42+hHao+XwNPr3rLFZtupY39TVurbi7HimM8GWuZBEzDAQrFnD+aRWirM4U+DxFCZtFKSZU3EUXjxvVXS9cfWzBU4hOWXjOC2mkHxF+48bzpJooIKOLq3eG0H8TePWWoGuTrOeVbg6i6eHEDg4hfwMa5FlBpfUdLkeKsy4q5VV5nS9MBU/3K6V6MPYjL59fTZ/9uKhwsPHDvQWfu+H61qcOo+IrmsNDTDhNhcGvh0qdHd2P51AzsaT+PpQ4P1qn3qTNGWzAbmI9AshteGsILDTU+HpXAIDhxMVKrEMogcGCjcq5U97C+2NK7DsDZV5JYyBamZXXzb9uDpu+Gy+9qRp7vQiqB20I2OImTRA82N75LcXeXMKi+mkOlaBx/gLANDUAfcudeW5QQw8n169G9/Fxbqdq2aXW913IPfcECIVGumLpyuMhtWA41IyRtc+T5WNzXzvxrz8KypW6c09N4ARi8DO4ukhDGjBro396C7vAffh0kG/yyl3mwWlVqMcMdnyfZsKwdbki3HL4cIzR8PF1xUtNOkPjUVZrA8q5J4bwNDplc5ROSS+HUfGbv2gD9qjd8nTdOeD3kJJknja9vQEJRb1U8dfsbziET08YB0EXkXl+x59z3LxytRx8wAAR5JIzWeQPJav0ZSnrK/9uqelbprheXoEPu3CPD2Ajs69DU1RiTrWN/XVDrdPK5USGPhOpeBzBtGn+1Cpb+XazSc1anXD16V+zg1i6JUKQaEPkxh5WmstKgh2degC203o6AoW6pLE0yNIVqiLMq8MqeOkAejywV3Wk1bp9COgrnDsQNiibltE+tthtU5zVR5zzbZ5JF8eyNdtG/vRX+sMa+s88GuB4yMhhP/KPHcunh5BWO2F6Xqy23A4ByIiMiFrwGzUJwogAAStXgknpmVuwWzpBZmbGZfhXa788oB4o1nDJVMH1HXCK5HzhluWyE6lsB7l4ZBMGK9K5HJWxve7C+lUdkZk1nirEtL2Rf1xPTUu2csm63yquB/YHJbJskXCG7X1tEswOWe4xdl4QFxQRFGs9zcb9Ra2FUqb7GclU2Fp19LbNWpyDKwsyMRTxWPueclsDXMyvkfdTueojD6rfmdXzHr152PiKxwHRTzPThgfe20rM+MSPhATw9N+PiJebV8PpCrs12Qdz9WCTD6ryxetfhmdMb4g5s6Oik9B8Zz0REz2pY7HpaI5ie0qbiuYNL2Yzb07Kh5tn5SgTJStQp+X88v4ZPTs0mOuHR8tLYHXDM5LOiTOnrD5tS9zEtujFM5teKr87ytRjtgpv/R5DuI6kBKjXDf3RlBcgCiKUvHan3y2uB/el62v7uyrunJb8UgoaZFbLs/JdCIsofjycpRIViI9EChu8b8Qk8mMWZ5akGwyLN5W3XE5XF6q5pfTX2MRg7xTXDQrqZf6ZPitst/ry8KNQZkwWsXlWYk95hIoSvFYmV2jdqVDFes+a2Xly+aA+f6b7Xs53bHoe2lUfKbXSg1pqZgeXd1b6zHWNpcOiVsp5iXvoXGZvmj5DZmbmZDIAZ+El6Sx2vRZLV/P+kaqrOtKl1/6t9K6xr1/wrBcKrZ/2qVdV44Zl091zCengoX19L2xjLrJBlRxLBdOBYvlCBTxfWfa8HgtvBuTwGZdnWfY/prNl5OF4xSUcaOMdnlOUoc9xTIJiumxmDxcPO7KzlGZvrR0mdmXi3WBsm9C6ndUUxLU0rjfRr60YyosLn27wahtlYkU87DSJxMG+1xJsf6uob1dIqs7tyGp09EgIloRayLAJCIy+1qg9IYRirRtcYt7V5+ED4UlvM8v7k63tCkoW66WAJOIXEpJSF9pwymuXX0yHB2XieSETCQiMrzPLy7dDYuyJSQp0wpH3ygMS1i7MW31SGD/qMSSEzKRjMno/oB4dOuE4pNIxuC4vOQpOSburwZlND4hE8kJib0UlECXs3BzOV5hf2sPMNkNDlVQcmO2NKhW2FoyqDZaXOLabD9YMfuqX5z6PNLqkcD+YYkk8sdtIj4q4f0B8dyvVAjKVNforue5WpovFWnb0VdY33h0WPp2tOWPj+IrptPixqVux6WSCsEhe/RBKog/Xtrk1ufl4GGtwZg/Rtq1Wzg+ugCMYVIKN+yKtD0ckOALERlPTshEclwiL/SJ735d8GjPuPHNUt3LEXvl19xrgZJ9VLb4JfhSbGke6RqViZe9Fa/94jWX3wfvvnyZNR4Ni//F8it1VmK7nCVlsbNLf/wmJPZSWIJ7PIVye3kBEZHSxrWWt9rE3emXvkNhCR/qE79B/WAVwJNLKQltUYrnfkefhNVjlz/3Yenb5SpcM0uP26yMdunT4xa/YRnvklB6vH7BD12AqX1nMF8/Vvp5rewolOy78f5b77v5sWjf7CrkOVs1hI20VD4XIisRYBIRWZgZFX9rWb663y3unoAED4UlfCgogR63uLeUljdL01jPAFOd65t6Bpik7KGhVtcc0sqF0vZPafos8lqd8snk4Xb1+wEZt4hR1aKaAJPIgkyWBHsgaHWJf592/QYl8HBb2d/9EjNoL4qISGa8NBCl1WtaWVBWDwGKuJ81qRtFpPwBir7doM9nAASbreu0qunzZVfAXlmn+xl/12SPSvKnUzx7gvm6Oj4qwT0eXTvJJaH08sJlDDAR0Y1szQSYRETCZTeElX6cXQEZTmZNK0ZbASYRkUvTEnncbWPbirgfj8msRc+PJY3Cy7MSKbsJK/9RtvSZNxZkVsYfc1l+3/XYuMza2N+aA0wLExIs3MB5ZNSk8q6s9Omr+VPulIT0N4wWwahyc28ES548W57TAyZPWKttdNfxXImIyKVJGe6xzjvYHJBYRmwFmOp2XCodBd2Nj/LU8p9mzsX9xfTsipWkpTwvz50KWeyXU7wvTJrvi+6G3fraH7e+Ya5rOWK3/DK4OVlSvoQkNVc8ZtbXflZi+psJ/Y/hNTAnE/vt7DMEiltCJj0tKpuTiQM2t6Od80PGPbpKXJqW0QrlMwBBq1ciRuXdkpu58h+XBF6blboGP2zlVxvnrtZ9L1Peq7A8KGzJblos07MyASYREZmblsg+TxXHXJHQivZgEqlrfVPnAJOIyOxrfRXqGkU8h/Plsu2b8ZrzSVZiO9W/mz0sqAPrMtPYbLzS8cr/OHuGZbJSwudstB3UMrkvbiMMbOO420pXtfT5chk/5nlpQaZfKnvgZpB/ht9a/g4xwEREN7I1FWASEZGL0zL+kvpE8P6yp1Vb3OLdE5Th6IRMX6x822o7wKRaOJ+SyKGAeEueRDrF1emVwKGIpM7buVU2ahQuSDY5LIGe4pM1tLrEvatPRhOztho52XREQrt0T+iVtvz3da+lrHSAqeSGv8YGfPEponUQYvJQcbl2w1ddLCxkJRUNS6CntGeD9vQ5HJ2wft2h6gBTXj3OldH6ik8dneLqCUg4miq85lZIp51u5LUeF0v64KFSW8NqblwCheuwNKBpmJcvTkrsgL9QbrRtUa9bGxl17t2JOlz7efUpR6rLI3PvjsvwHq+uzFSkbYtfQvHi6xb2AkwiInMyHQ+Jf7OzdF0Wr8AZ77NWZoclkpyWuQoBNVsuzcpkfFTt0eoquUFwbs7XD6PxSclWGdUc3ecX92b9DZRTXJ1u8e8bldiU+UMMERG5nJVUNCR+3b4r9+e/W3xVcg0GmFRzM+OG+29r3/UuxsRf+P7yeoeYpcXeuVjBAJO2heiw9O1yl6VPrc873eLfF5bR+KTMGvbiqHeAKa8u9c0KBJhERGRuVsZfKC0XtGtj/N1iBilJn+nDNt1ql5tPFiakT12+qgBolZYTYBIRtSzJ1836XkbOzeoxm6kuzXPvqsdJXy4rbWo9n6q6nFyS11pd4t4Vkkh6Ja42WcEAk7ZDKYno2gz5POSXkK5ttVwMMBHRjcwhIgIiuqa1OBzIAVCenUT2KdN59oiIiNaQHOJ/1ILuVwDAh1g2Au9yZj2w48wQNrX3YwpeRM7H4Fu3QtshIiK6gTV2FjkiqgttIpju+2ucZYWIiGjVZDBzUv24cROcKxVcApA5m8rPSNbTDTeDS0RERCuCASaia542tbEXHe3NDU0JERGRXYsnYxhWn5Ao3g6sXP/bRWTOxgEAni4XVjCORUREdENjgInoGpd5pT//YVcvPHwqS0RE14IP0wg9OaT2wG1H/8OuFdzYDNKvAIAb3gfZ05eIiGilMMBEtAbljg9i8GgauUWLha7kkHzuIXT8URyAB6NPe8H+S0RE1DhTGPnaCBLvzFsuNf92FHs7OzB4Jv9/ZV8YgY0rmKz3ZjCZA9Dpg7t1BbdDRER0g+Mg30RrUO5oN1p8cQAK2rY8BE9XG5zr2tCmLCLzgwxmZhJInEhiRn21wP/qLEZ7+FSWiIgaKY1BRwcGAKDVBW+nGx1OJ5wPONGUm8HMzAxSJxOIn84UvqFsCSH+WhCu2xqWaCIiIqoTBpiI1qDcsV60bI/aWla534fs2cgKp4iIiKiSKQy2bMJArvKSgBOefWEMP+uF8+aVThcRERGtBgaYiNaoxQtTSJyMIXkijZmZaSTf1lrsCtq2rEfHA164vd3wblbQ1NCUEhERqa7MY+ZUAskTScTPTCNzMl2YigKtLrjbN8HV5UHvwx603dnIhBIREVG9McBEREREREREREQ14SDfRERERERERERUEwaYiIiIiIiIiIioJgwwERERERERERFRTRhgIiIiIiIiIiKimjDARERERERERERENWGAiYiIiIiIiIiIasIAExERERERERER1YQBJiIiIiIiIiIiqgkDTEREREREREREVBMGmIiIiIiIiIiIqCYMMBERERERERERUU0YYCIiIiIiIiIiopowwERERERERERERDVhgImIiIiIiIiIiGrCABMREREREREREdWEASYiIiIiIiIiIqoJA0xERERERERERFQTBpiIiIiIiIiIiKgmDDAREREREREREVFNGGAiIiIiIiIiIqKaMMBEREREREREREQ1YYCJiIiIiIiIiIhqwgATERERERERERHVhAEmIiIiIiIiIiKqCQNMRERERERERERUEwaYiIiIiIiIiIioJgwwERERERERERFRTRhgIiIiIiIiIiKimjDARERERERERERENWGAiYiIiIiIiIiIasIAExERERERERER1eTmRiegROQPgQs/AH7x4/z/P/sbwLoHgC8+DHzpjxubNiIiIiIiIiIiMuQQEWl0IvA3/xH4iz8F5t83X6b5C8DvfQP40p+sXrqIiIiIiIiIiKiihgeY5D89BkkN634BwKH7t+z3jo69cPzBt1Y1jUREREREREREZK6hAaar/8/XcfVUtcEiB256cC9u+sMXViRNRERERERERERUnYYFmD5J/Rk+PvLIsr//6V0v4VMdHJeJiIiIiIiIiKjRGhZgmn/sX+Dqz4zHXNLejLNK2E2f+wKav/V3dU8XERERERERERFVpyGzyH2UfAWX3v8xgJuWjrVkeyU/xi3JV/AZ9846p46IiIiIiIiIiKrRkADTP576c/z8w0/VvqJTf24/wPSjQSAyUPx/rwC/BQBp4OkO3YIh4Nmg+jkHfLMF+JcR4C96gbsiwOO+4u8vqottSAE7XLXuDRERERERERHRNakhAaYfT/0Qix/VtmkHgI+mfoi77Sz8o0EgAuBZ9aW7i1Hgp0AhuPR7WcCt5P+W7Aa+GVUDSaof6r5bCDpp31H//yMtYEVEREREREREdGNpSIDp/b//AFc/ucV6kKVKHMBNf/8B/qeKC+aANwbyPZY0d/mAuwD8KJnvlaQFlwDA3Q/8RRi4qC4DAF/WBZsuJoGLId13FODLIeBv08BvsRcTEREREREREd14GhJguvBPn8bVT26qPcD0KTvJzwAXvcDnDf70D5OA4i77pRO4K57v4XSXwXd+mgEwADw9UPr7uyIAGGAiIiIiIiIiohtPQwJMP/+VL+Aff/xjGI/wrUWdrEb+zn/vV3/jN2xszSJg9GubgB9msDQwZBKQAoDPO3VjMRERERERERERUUMCTJ9Z/yWc/bsP1FDS8gJMDgB3r/+Sja0pwL/0ApHB4uDdF6PAT33Ab7mBSAeQdOvGYAoA6DbuvQQAd7kBtJR+h4iIiIiIiIjoBtaQANP9nVvxWux7hf5L+n5MVuGl8v5O93dutbdBdwxAN/C09m2v2gPJBTybAp5uAf5C/VPF3kkK8HjZdwDdrHRERERERERERDcWh4jUMhLSsv3e//gV/OT9XCHABKDks/Z/TXngqeULCv7iv7+2wqkkIiIiIiIiIqJKbmrUhv/dwB58dPWX8OHVX8JH6s+Hun/zP5/WfS79/78b2NOopBMRERERERERkU5DXpEDgJ4/6sLU35zD2Egc1uMtaYp9m/wBL3r+qGvF0kZERERERERERPY17BU5zVP/+zBGR/6T7eV3B/4Az/2HvSuYIiIiIiIiIiIiqkbDA0wA8H/92Rv4P77xZ7jw/k9Nl1n3hc/j3//pH+N/++Mvr2LKiIiIiIiIiIiokjURYNLs2n4AZ37w35D98c8AAC2/8TlsfOA38b88tJmBJSIiIiIiIiKiNWpNBZiIiIiIiIiIiOja07BZ5IiIiIiIiIiI6PrAABMREREREREREdWEASYiIiIiIiIiIqoJA0xERERERERERFQTBpiIiIiIiIiIiKgmDDAREREREREREVFNGGAiIiIiIiIiIqKaMMBEREREREREREQ1YYCJiIiIiIiIiIhqwgATERERERERERHVhAEmIiIiIiIiIiKqCQNMRERERERERERUEwaYiIiIiIiIiIioJgwwERERERERERFRTRhgIiIiIiIiIiKimjDARERERERERERENWGAiYiIiIiIiIiIasIAExERERERERER1YQBJiIiIiIiIiIiqgkDTEREREREREREVBMGmIiIiIiIiIiIqCYMMBERERERERERUU0YYCIiIiIiIiIiopowwERERERERERERDVhgImIiIiIiIiIiGrCABMREREREREREdWEASYiIiIiIiIiIqoJA0xERERERERERFQTBpiIiIiIiIiIiKgmDDAREREREREREVFNGGAiIiIiIiIiIqKaMMBEREREREREREQ1YYCJiIiIiIiIiIhqwgATERERERERERHVpDEBptODcDgcS35wIYpuhwMOxyDSAHJHu/N/O5huSDLp+pU+uDT/DZ4GgDQGHQ44HN2IXmh0Kul6VSjbSn6Y52j1LS0L124+ZJvgemFWz9aj/s0hul1fp68GthuuPRbnrOxehGilGLUFu4/mGp0sopqxBxPdcNIHHeh4ptGpIFrLtJs03jBdt9SbqFUrC7UHSwwO0ZrCso6IVl/uaDdafPFGJ4NoRTQ2wNQTQVYEov5gnQ8xEYgE4Wpowuj6lUZSvaEKpYt5T9Ih9e8uBEUgEoNvXcMSSTeKA6liHlxTeS6DzLFGp4FWTg7RJ3qRb9qGkNLVw9noppXZYmZyRdZLVBuWdVSG9yK04nJIHs/XwN5ottgOPB/BytTARKtrbfVgstMttez1On1XwvKu/uxmSFYGDkdRyCGbgwhudhZ1gQAAFxFJREFUBsq7TRu/yqTLWxb5kWi5luS77bq8qisno+pyg6eL5V/30ZyuLCx93biYP4uvkSzZxoUouh0dGAAAxNF7N3udXHdOj6H3GAB4ETlfehOl7AjCtw6GeWxpvtHV1QavvmuvKKUPOopPap/pKOktUp7XS15rKuT1fP7MrNwRobVI3yYsywv6mlafh7qPlueS5ZZ1WlvAeJv69ubqvYpHq8LwXqQ8H9kow2zkX7N63rJcpOtK3DdWzGfrfAjuUAp/K8kH+jJIq291v9O3AUvuZY4Olrb/9HmR+Y5WSGMDTMd60aJrqFaSO9oNh2ug5HdxXwsGT+f/xteeqDIX/FFv/qOW/8oajnZsciqW+ZHIlmc6llTyJTfjmmO9aFmSTwfQa9C9Ou5r0ZWFA+jY3o2AulyxIWPw1P5YL1oYSLohFHoT9XTDbdlrTp/H0hh0tKiBqeLfO9R8adRDacBl/dqRUV4vfOdCFN13a72sABzrRQdfJ7hBDaCjLC9oZVX5ayZxX0dZHl1GWVcSeFr6nfLX7AdcZcvSdcao7FP/YlWGFX+zJP+OnQZwIWq8NVvrpGubAt8T2psTA+gw6FyxJB8YtgMriaPXpyudTg/Coc+LVtsD8x0t39rqwWSp2J2w8GqT+lrTwEn9JVns7h/TRYGJNMqOGOR8BF7tF8d60WIy/oKyI6Z2Xc0i0pP/nTeaRXCz3fxIVA2jVzhTCAHFRqmOtky+951Kfe0uWwikbkK/2vUamETmAlB8FbTsFdGzGeTW+RDTtgkvIucFsp8vCtyoCnkMyfxNdOHVdrVMPBZD8oK+rNSXl3FkLgCu/br8eCClvg6q5XU1jxXybByxUznkTsXyjWDdq/SpA404AtR4xTxSKKueSSJt+JqJVnZpqi/rCnmv8AqzuswzSaSNymh9e4KuO7mjYTWAqH+duHIZVqT9vdiOnMwU/17IR6/6oMDuOumatzlYVl7lA03ahEOl5Yx5O7ASrWyM7QCih9Vgk354BuY7WgFraAymYIWFi0+hBlzqE39d7xFlR796kWqRYHbtIwuFd+y1wj2O3iPmgaH0wfzTK280qwYurfMjkS3llfyFDPL9QEJwF4JGTjh7jL6sX6bI2+oEAChO9U3+HiecALDOqVuq7PUP5t0bSiFvqMEhc8U8VuihVOh5XPpEv7RrvfHT/hKFvK6+muQofXqaOacGDra5oT0qcrbyNv76ElcD3qpCntgEZ0nPOt3/1zl1wRytHvai+8FCLikrL6sv67S8V+xhquuhZFRGr3Ny3JTrWKEsivpLx2SqUIYVaflXgXND/jfxcxlgnQ+Arg15MF3FOun6oAXAi8HHgcNR5JaUM2btwEr0ZWOxvIzsKntoyHxHdXYN9WAqKhmcWbSn68WnVNpTzgEXpxilcmkMlnQxdcFd4am41h2+GFwqZZwfiZahcKMygGQhQF7/QWi1J7Ja3i30LqEbw2Z3MbB+d2k9mTs6aN0lvmxyDu1J/pgvrvtbeS8SK7reKQa9j+PHk2p5XeytQte64s2Svsdv+oj66oYWFC+YLASiij3b9MvonrJfSCJWEvisoawrmYShfNBnXRl9OslX5K5jWmC7WBYBOB1FNKv9x7oMs1LaK68Dg4U3jZe/TroW5BDdrq97Fbi36cqmJW1Bk3bgsYw6NmGxx5M5rdwt7ZWUPqq/J2K+o/q4hgJMxbFzCtF+g0FsHfppl5c0UohQNvZXMb+EOpcGhvRjLcR9LbqBRJ2W+ZFoeYoBz2K+6ii8muQ36LFUC20b5k+qOMj39cmFYLp8/ActLxjP9lboJVxWfpZMbFD4m8WYNNog3/Ch/wCgf2KqH4vM1RkqW6eNXlF0jdCNP6Ibh65QFz/hQ+ktzdKn6vmebcXyslA/m4wvUk1Z59qlvvKmHyNP6xW/zo3untJ1sgfotcy4/NFTHuzO5wd92eeKAS3WZVhFF6Jl+ccL56Ya10nXkPK617hsy5czZe3AQk9ObR1hTFbs4VQMYunvZzqOA1jHfEf1dQ0FmPJjPNh/+hRC6tXyRgqRcTfTULpsHBsAQA6Zs+Zrqi4/EtlTMl6N5kBKfU++PoqvFCPf6yRd3t9ENxg+XZ+WjP+gKX89SeNC0LRnUml+CaWL3f01JXlO+9Z+i3GVNgdLr4MDKZa315PNwWLPDR3jujiElH7ZA6nCU3XX/tK8Vp73llXWrfMhZjqukgLfq/rrwIvI+Wp67NE1p2SsLk2+nLQsw6oUSsfgq/M6aa0qvi6pp39TYklbUN8OXOfDiO5v3ugI+g3Wt2SrO2JLy90NTihgvqP6coiINDoRREREREQFhZkEQ0iVvJ5GREREa9U11YOJiIiIiIiIiIjWHgaYiIiIiIiIiIioJnxFjoiIiIiIiIiIasIeTEREREREREREVBMGmIiIiIiIiIiIqCYMMBERERERERERUU0YYCIiIiIiIiIiopowwERERERERERERDVhgImIiIiIiIiIiGrCABMREREREREREdWEASYiIiIiIiIiIqoJA0xERERERERERFQTBpiIiIiIiIiIiKgmDDAREREREREREVFNGGAiIiIiIiIiIqKaMMBEREREREREREQ1YYCJiIiIiIiIiIhqwgATERERERERERHVhAEmIiIiIiIiIiKqCQNMRERERERERERUEwaYiIiIiIiIiIioJgwwERERERERERFRTRhgIiIiIiIiIiKimjDARERERERERERENWGAiYiIiIiIiIiIasIAExERERER3dDmf5DEzIeNTgUR0bXt5kYngIiIiIiIqFEyx3Zj6/YxZHbGkH3ZC6XRCaLr14UkBp8ZRPKC1ULNaNsxgPCudjStVrqI6qSBPZjSGHQ44HA44HAMIt24hNCN5vSgmu9K8176oEP3e/VnexQ5ALgQRbf+9wfVb12IoltbpoQ+f+vWQ7RK0gcd6D7KXEcVnB5kHUyNw/xHa0AhuARAuTCDjI1eTLmj3SXtxdL6NofodpP2pE5Ju9OynVjWptRfMyVt2vzP4Gmr7+rasLp9qaq9cCGKbkc3omYBEn2aDvLqLpc7NYKBI0kkT+p/MljQLbOQiWPkkQSm9N8ry3OFY1ueBwzOr537kNzRbvW7aQwuKZdziG63OOcFaQxa5Q2bzPNk8dpqaBu3/Jgv+z6vPsdrrWlQgCmNQUcYzvMCEYFIEK7GJIRuQOmME1lR814a6FALBdd+LT/mf1IHgNATvvxTrAsZxA+kin/fbyfHhpDS1rWhFwHe7NMqcu0XxHbwGSxZySF6eKDRiaAbFvMfNV7uWC861OASAOTeHID3K4NIWwSZcke70XK8u9iWFEH/uZayG3svIueLf89ui6Gl5KY9jXBrttiuPAwkTy/dVlGxTalvuwIA9O1TSQGu8ptv3XdFkELHMm+I1Zv7JzLY1GOyyIUoul1Qt5dF5GxHWcCLDHX2YeyNCUyoP/EDXsPFvNGs8b2ILg+k0KE7/zkkj29CaEMvxizPQxpjvk1I2bq/seJCUGLwrVPXerA84Fmb9MEWxLblj0E/ksVOALbys90gmU366+5V3zJ7PZYer+tFQwJMuaNhTEZHrruDSdcG1w5dIbDOCcMi/EIU/3979w/aSHrGcfynIrBFiitSjMELJ9jmjrg4QcBjuOIUXCQHAVv4wFK1cTofKTYmcFjr4iwlRXQuQtzFbCUZ1owWEi5FDLpiweNKBFxcY5jACqwixRUpFlIoxcxo3pFmJK/Hu5K930+1yPozi169M+/zPs8zjYumtpajh9Yf5W/+mas1tS+96U8EgHfl/EjOWlO1WR8H3k+MP8yBBz/JK29ZscVhGGRqf5fQk6nX0na5oLORBaX99ErNi0bq4tXadHTV6qoRLPz7x434JtBiWeXl5NeOWS6qduIp+arS1u7gTIXyUWpmoP3U3/icHHBIYqn8fKDB8y2lXRH3XzpSaytIHLBUflJT9ZQspqlOa6rd0kZ0bM3R68hZKmp3dcr3cN5Rd/i9zau+vIt1lT71fzex9RzmykwCTN6lVNIR6ZOYvZ6n9lJ+bILqv3RUeBJNXH2vq3Z5YXJJZ1BGN56y2VfroKvm4/metvEuxdPn/d0dM429pFZvPG02aSdorLQz2MUxn+v/26VcEwZXdVva2UxeJiSNvXBuM8dcNN/FyzDij9fVOi4F43okzT/p/B9LPY8fh/na0nErnsY/4XWYN5PHX1LZwI3HYLC73doPz99J829cvBTFPOebry2pdVyPjeHhcTHP3hkffFbT2dWVvv/nrj4yHu9/V1Wp+HN9/Nu2fjBf0PPU/rqYsBC3lF9qy5sw71iflqQXHfXVV+fFbf0Pktgqfl2dmBFlTws43JB32VYhbwbO8lq/8Pg9TGSp+Ie2jjYt6T/9+HjLqP/SUWHV9oOSe53UoKN7Wo1/b1OE15X1sXN5VF7n7ue0sidV7bSWI/GMPrN1TifxUy0V16TKw3r0UK+l0sOK2icVLSReT4fngr5aXyyoctJW5WFKeeFw3p5+jkjjl/a50euD94zKD43j/qKlfmI54t03gwBTX95FW5UXYZkS6ZOYFVd1Oynw46eJFo2dJGvTidKcW914anL4Xg8dlV6ZZUlVreRyyuUWVFnaIWMPQ2aK72Aw0O5ymNkZPuaovGhrqyU5L6PFU2evFhuXklnaeaXmxrqaB8k7OlW7Q7kmhtz9FclNL09PGns7m5bc/Zw6q9GYK73YDoIAtnaNEo347nlVjg6DcR2k4U8qN17ejdLO3YIqz6ILwQXjtYdyNCywOq8rNyzLGGjwqiTn4f27aLsvpo0/KXn+u/EYPKnIWw1aMpwfqbJ0Fpt/R42e8xvDwNaC8dpD6UVU4ufu57Sis6gcis3Tu+O/rg7/2NLC5np8TD7akrO3rg+Mh/peNzWjPf9oXV3vOudXT95J4caH2z9uqJoY5MLd4weXvv3K1oN/t/Ube0G//HVVjeOzxGdHm91pPYj80uPaqq34emZS0NHPDMq/4TqlandUDObb2t549p79NGg34gYlZL2WSk+kQ7PUc9/1j/mLFeMauCiv3E78TGvT0cBVFAxaLMt51dT6RlNXw/k86Vxgqfw8uE5+FVx7nNeVOy3Gyli3j/vSNc4RkqS9lcTNsna5IR0E1+XyMwWtzZ1YgK//0pHWivc2A2tmTb6HvW1kqbh23QkZuCXndeVyHRWT6l6npIlamzsjqcmOtnMN5V+NvpdR877aYUcTgWihZLLyBbXLC7Fge7Tbqanjsn+8Le9Jeh13zd2VJNmPm9F74r3UPy6p8egq/aJJ42PPX8z05V0Eu5Fh8Pwk2rGPsj5WVFXX2Mk3x3te+Y1qQpA+doTR7p9dlYLd777X1brxG7A2d4blVX2vq5oZsFgsa2fKDj5m4zrjT7rlMbhhlLwv5rW+tzKlQWy0A75QbgflJv4iLNqU8st/gk+Wd1Eb9i8ZXUxgPr3+16G+/H1dO7+qqLPa1LctR0d/Dr5fq6zm6V+1/mH8NVa+MLHlwdQskKW8LOWV3+gm/z01wyPctMz5/Z+m9sqZHjCY2Poh9Thwe0aCS6slHV1K7rO6vvl78vxk9mCKlVgOgx3+Bubusox503fbWWvROddW8evJ2XuS/Oy/INMofn735Kmpw+H/x9ZWK7kHlSRpedcP4k+4jki/HjGe43VjQaLhXH+tc4TiPZiM3+P6sA2QGeMwA3x+X6zRdcB9MoMAk6X80rv/VGBoGLFO3j11T7vD+t5rOZG0MWVinVgvj/dKz1N3Iz/evyDI2iieGuU9i0WV5KjT88ssU8fleV0LlztTF2yAv6PZNnZBV1RVVSujJWWLZe0sOer0/DkxWlTHG9dGGXglLVzuGNl0aZ8f9PA4kLYTS+T8NHbvSZiJ1Bz2yRsrvcAddM3xJ729MbhYljMY6FDbKeUPIzeiccMgkp918qa7/JhPr8/r+vwXX+rwT1V987/f6S9f2XogaeGnRdlWWU23qfKHCS9czGs9MXjol71NGh/us4r0KK+wnC5RMD7Hb4JkbFpOayjca6mxN2ms+lkuE+fT1OOYbCyLK6UVBZKDSzdmBDvCwJN7Wo1n2dhV6VqBbz8AOjVglPE4h2O55ykl3JrK2jxUU/75YdT1r0dGmqaHgaKp54ibGQb4zo9UWbrfGYgzyWCyV2uqHoRRR1dHZb3Zgh64sb5aB5pwlwRXnYkn5YTU5I2SDp/7d+1InYTOO6omBRXw/lksqqT0MjX76UBXw9IQS+UnBTnPjuSklVn2Wiod5KfuZoa7Vu6zyr1Oy8U0Zup4kNqums4Ssjnt1YKcly11LkoqBrtx+aV2VLJm8C7b0W54ryPnZMphLJblDM4Ssjw8eSfRznv/paNwGRa/dgjm4uDfVr6gqm3ssvdaaiSUlGLWrj/+pLc7Bv1Si4Qd/Z6nrqLrAPc0HGX+DnTDuDtTdBc8S/mlalDuQQnTvHt9Xtfna1V1gq/S+pH0Ovib35MpJbgkDbMj41mYQX+XCe0Q3P2cVi6iLA37cTN+zXhev52FbNCTppBaghoe69ktbkpFd+eyPi1Jw/JUs1wLcSva2ryl4FIiP1v+bBAPxp/F5rDQaP+w8Xm2f7ytisJ5+IYW81pPKKULr4ujpvP+RsS4vlr74e/Ok5cyx1/3XOBXDqQ3w089R9zU8paaFx3VT1P68vZaKoXZgqP/vmNVMLMpkQtT24LdK7n37/Z8mFeevJMozXisGWxKdonZUDQ5Ndm/a4dsc0fe+BxbY3ccwfvKUvn5mQpGHX39PN5UduFFKUoVXi6qsFf1mzSO6av1pBJPOU5JZa+po1zO7xHi3OO0XNyi5aIK5Ypk3PDAv1OSsSMajDf7cVMKx/SkW1jHmm8m9eHxe+9UHvrP2b4sRHf6XN7V2VI01rdViu5Atrzr98cL3/uho9Kr6++6Y069jTFoNnW1EzacwgBC8JyOcZ87+6k5d29La+bfouO6XgkTZuKHf2jHDC59VlP7b9v65A3ewn46MNYxUVlSvKdceziPhefeWObRYtm/Zgzf47R484CPmaUS9AONv5d53Zt0rPHePplaOiyWdTici41yLYxoq2J/rI/fMLh07e9ppDwuZK/W1E5okzCaeTY6zy4k3DnxOuzVWtTke7Esxy3Efhd+GZql8kFT3eHvoaN8YomcpfKqNx4/CAJUYZPv9HNB2CQ8WKuNXjeE2UrTzhGhvfHz0GSWimtdVS8yBurugNxgMBjM+iAAAG9P2BSXizy8GVf1XEfFNyiPeKfChqEE7++x+R6D/eOStnVI0P5OeS13v6iVPTcILu3K/vGsjwnvlV5H9b16YnlX5AN9tFlV4/EnevBODmq+51rcLQSYAOCeI8CEmxj2MZjTTAx3P6fGoysW9/fYfI/BsFcTWfh3z2t9/92ZHvysqDzBJUDSvM+3uEtmdhc5AAAwn+rzWOYTu6sR5Z73mzuXY9AsZabFw132QB99RnAJMFmbDsEl3AoymAAAAAAAAJAJGUwAAAAAAADIhAATAAAAAAAAMiHABAAAAAAAgEwIMAEAAAAAACATAkwAAAAAAADIhAATAAAAAAAAMiHABAAAAAAAgEwIMAEAAAAAACATAkwAAAAAAADIhAATAAAAAAAAMiHABAAAAAAAgEwIMAEAAAAAACATAkwAAAAAAADIhAATAAAAAAAAMiHABAAAAAAAgEwIMAEAAAAAACATAkwAAAAAAADIhAATAAAAAAAAMiHABAAAAAAAgEwIMAEAAAAAACATAkwAAAAAAADIhAATAAAAAAAAMiHABAAAAAAAgEwIMAEAAAAAACATAkwAAAAAAADIhAATAAAAAAAAMiHABAAAAAAAgEwIMAEAAAAAACATAkwAAAAAAADIhAATAAAAAAAAMvk/zKQpG0ky6tEAAAAASUVORK5CYII=)"
      ],
      "metadata": {
        "id": "jBYNdCdQ9_cu"
      }
    },
    {
      "cell_type": "code",
      "source": [
        "import pandas as pd\n",
        "import numpy as np\n",
        "url = \"https://raw.githubusercontent.com/freeCodeCamp/boilerplate-sea-level-predictor/master/epa-sea-level.csv\"\n",
        "df = pd.read_csv(url)\n",
        "\n",
        "def sea_level():\n",
        "\n",
        "  print(df.head())\n",
        "  print(df.info())\n",
        "\n",
        "sea_level()\n"
      ],
      "metadata": {
        "id": "r1XUCWHV_Cj9",
        "colab": {
          "base_uri": "https://localhost:8080/"
        },
        "outputId": "b963979e-47e2-4c78-a000-8bdb3f89bc0b"
      },
      "execution_count": 92,
      "outputs": [
        {
          "output_type": "stream",
          "name": "stdout",
          "text": [
            "   Year  CSIRO Adjusted Sea Level  Lower Error Bound  Upper Error Bound  \\\n",
            "0  1880                  0.000000          -0.952756           0.952756   \n",
            "1  1881                  0.220472          -0.732283           1.173228   \n",
            "2  1882                 -0.440945          -1.346457           0.464567   \n",
            "3  1883                 -0.232283          -1.129921           0.665354   \n",
            "4  1884                  0.590551          -0.283465           1.464567   \n",
            "\n",
            "   NOAA Adjusted Sea Level  \n",
            "0                      NaN  \n",
            "1                      NaN  \n",
            "2                      NaN  \n",
            "3                      NaN  \n",
            "4                      NaN  \n",
            "<class 'pandas.core.frame.DataFrame'>\n",
            "RangeIndex: 134 entries, 0 to 133\n",
            "Data columns (total 5 columns):\n",
            " #   Column                    Non-Null Count  Dtype  \n",
            "---  ------                    --------------  -----  \n",
            " 0   Year                      134 non-null    int64  \n",
            " 1   CSIRO Adjusted Sea Level  134 non-null    float64\n",
            " 2   Lower Error Bound         134 non-null    float64\n",
            " 3   Upper Error Bound         134 non-null    float64\n",
            " 4   NOAA Adjusted Sea Level   21 non-null     float64\n",
            "dtypes: float64(4), int64(1)\n",
            "memory usage: 5.4 KB\n",
            "None\n"
          ]
        }
      ]
    },
    {
      "cell_type": "markdown",
      "source": [
        "### Then\n",
        "---\n",
        "1.  Calculate some statistics on the level array, eg:\n",
        "*  mean\n",
        "*  standard deviation\n",
        "*  total \n",
        "\n",
        "2.  Use the fact that the arrays are aligned (e.g. the first number in the level array is linked to the first year in the year array and display:\n",
        "\n",
        "*  the year with the biggest rise in level\n",
        "*  the year with the lowest rise in level\n",
        "\n",
        "*(**Hint**:  to do this you can use a new numpy function np.where() )*\n",
        " ```\n",
        "np.where(array == value_to_find)\n",
        "```\n",
        "*There is some reference material [here](https://thispointer.com/find-the-index-of-a-value-in-numpy-array/)*\n",
        "\n",
        "**Note**: ```np.where(...)``` will return a tuple containing all indexes where that value was found.  You can print all, or you can print the first value (it is likely that there will only be one in this case) using [0][0].  *With the correct code you should get an answer of 2012*\n",
        "\n",
        "\n",
        "3.  Calculate the Pearson product-moment correlation coefficient between year and the rise in sea level.  (*Expected output:  0.98 when rounded to 2 decimal places*)"
      ],
      "metadata": {
        "id": "3cf1YPgnBSc2"
      }
    },
    {
      "cell_type": "code",
      "execution_count": 93,
      "metadata": {
        "id": "8VWUtmK4YhoU",
        "colab": {
          "base_uri": "https://localhost:8080/"
        },
        "outputId": "95374849-e28e-437e-96e3-dfcbba89d2ab"
      },
      "outputs": [
        {
          "output_type": "stream",
          "name": "stdout",
          "text": [
            "Total: 489.15 , Max: 9.326771644 , Min: -0.440944881 , Mean: 3.650340811880598 , Stand: 2.476399631426498\n",
            "The year with the biggest rise in sea level was:  2012 \n",
            "The year with the biggest rise in sea level was:  1882\n",
            "[[1.         0.98475713]\n",
            " [0.98475713 1.        ]]\n",
            "0.98\n"
          ]
        }
      ],
      "source": [
        "def sea_level():\n",
        "  #numpy arrays for the sea levels by CSIRO and years\n",
        "  year = df['Year'].to_numpy(np.int64)\n",
        "  sea_level = df['CSIRO Adjusted Sea Level'].to_numpy(np.float64)\n",
        "\n",
        "  #calculate some statistics on the level array\n",
        "  mean = sea_level.mean()\n",
        "  stand_dev = sea_level.std()\n",
        "  total = sea_level.sum()\n",
        "  max = sea_level.max()\n",
        "  min = sea_level.min()\n",
        "\n",
        "  print (\"Total:\",\"{:5.2f}\".format(total),\", Max:\",max,\", Min:\",min,\", Mean:\",mean,\", Stand:\",stand_dev) #formating distance & 2 decimals for total calculation.\n",
        "\n",
        "  #calculate years with the biggest/lowest rise in level\n",
        "  biggest_year = np.where(sea_level == max)[0][0]\n",
        "  lowest_year = np.where(sea_level == min)[0][0]\n",
        "  print(\"The year with the biggest rise in sea level was: \", year[biggest_year],\"\\nThe year with the biggest rise in sea level was: \", year[lowest_year])\n",
        "\n",
        "  #calculate coefficient\n",
        "  coefficient = np.corrcoef(year, sea_level)\n",
        "  print(coefficient)\n",
        "  print(round(coefficient[0][1],2))\n",
        "\n",
        "  #or alternatively use sea_level.describe() coding for a calculation summary.\n",
        "\n",
        "sea_level()"
      ]
    },
    {
      "cell_type": "markdown",
      "source": [
        "**Visualisation of data**\n",
        "\n",
        "Using a plot with matplotlib to display the trend in the yearly increase in sea levels."
      ],
      "metadata": {
        "id": "iLeDZDOQA5yR"
      }
    },
    {
      "cell_type": "code",
      "source": [
        "import matplotlib.pyplot as plt\n",
        "year = df['Year'].to_numpy(np.int64)\n",
        "sea_level = df['CSIRO Adjusted Sea Level'].to_numpy(np.float64)\n",
        "\n",
        "plt.figure(figsize=(10,5))\n",
        "plt.plot(year, sea_level, '.', color = 'darkcyan', label='initial data') #'.' (or '-', 'o') indicating the chr specifier/marker representing the plot trend.\n",
        "plt.legend()\n",
        "plt.title(\"Per year increase in sea level\")\n",
        "plt.xlabel(\"Year\")\n",
        "plt.ylabel(\"Sea levels\")\n",
        "plt.show()"
      ],
      "metadata": {
        "colab": {
          "base_uri": "https://localhost:8080/",
          "height": 350
        },
        "id": "InUewJzI8oMb",
        "outputId": "4741e82c-8c92-4feb-9f03-f888f45bb42d"
      },
      "execution_count": 94,
      "outputs": [
        {
          "output_type": "display_data",
          "data": {
            "text/plain": [
              "<Figure size 720x360 with 1 Axes>"
            ],
            "image/png": "[encoded data removed]"
          },
          "metadata": {
            "needs_background": "light"
          }
        }
      ]
    },
    {
      "cell_type": "markdown",
      "source": [
        "Adding a line of best fit with a linregress function imported from the scipy stats library, in order to establish visually the trend in the increase of sea levels.\n",
        "The process steps are as follows:\n",
        "- creating a regression variable and assign the result of using linregress (regression = linregress(x,y) )\n",
        "- storing the slope and intercept (slope = regression.slope, intercept = regression.intercept)\n",
        "- plotting a line using plt.plot(x, slope*x + intercept)."
      ],
      "metadata": {
        "id": "opRCscnxBP0n"
      }
    },
    {
      "cell_type": "code",
      "source": [
        "from scipy.stats import linregress\n",
        "import pandas as pd\n",
        "import matplotlib.pyplot as plt\n",
        "\n",
        "year = df['Year'].to_numpy(np.int64)\n",
        "sea_level = df['CSIRO Adjusted Sea Level'].to_numpy(np.float64)\n",
        "\n",
        "plt.figure(figsize=(10,5))\n",
        "plt.plot(year, sea_level, '.', color = 'darkcyan', label='initial data')\n",
        "plt.legend()\n",
        "plt.title(\"Per year increase in sea level\")\n",
        "\n",
        "#alternatively can use a Scatterplot:\n",
        "x = df['Year']\n",
        "y = df['CSIRO Adjusted Sea Level']\n",
        "#plt.scatter(x,y)\n",
        "#plt.xlabel('Year')\n",
        "#plt.ylabel('Sea levels')\n",
        "\n",
        "#Adding a line of best fit:\n",
        "regression = linregress(x,y)\n",
        "slope = regression.slope\n",
        "intercept = regression.intercept\n",
        "plt.plot(x, slope*x + intercept, 'r')\n",
        "plt.show()"
      ],
      "metadata": {
        "colab": {
          "base_uri": "https://localhost:8080/",
          "height": 336
        },
        "id": "VnaCcBY-BPPo",
        "outputId": "136199b1-afee-407a-d571-405a56cdb30a"
      },
      "execution_count": 97,
      "outputs": [
        {
          "output_type": "display_data",
          "data": {
            "text/plain": [
              "<Figure size 720x360 with 1 Axes>"
            ],
            "image/png": "[encoded data removed]"
          },
          "metadata": {
            "needs_background": "light"
          }
        }
      ]
    },
    {
      "cell_type": "markdown",
      "source": [
        "**Prediction modelling to get the increase of sea level beyond 2013 and up to 2050 using the existing data.**\n",
        "\n",
        "Using a mathematical calculation to predict the sea level in the year 2050 using the existing data and the intercept line regression code of <slope*x + intercept>, replacing x with the target year.<br>"
      ],
      "metadata": {
        "id": "XsiCx0ENag4x"
      }
    },
    {
      "cell_type": "code",
      "source": [
        "sea_level_2050 = slope*2050 + intercept\n",
        "print(\"The predicted sea level for the year 2050 is: \", sea_level_2050)"
      ],
      "metadata": {
        "colab": {
          "base_uri": "https://localhost:8080/"
        },
        "id": "xGMSYu5seoAr",
        "outputId": "de44c078-6204-40d9-fd4c-22c8bde29201"
      },
      "execution_count": 105,
      "outputs": [
        {
          "output_type": "stream",
          "name": "stdout",
          "text": [
            "The predicted sea level for the year 2050 is:  10.175455257136548\n"
          ]
        }
      ]
    },
    {
      "cell_type": "markdown",
      "source": [
        "# Analysis.\n",
        "\n",
        "The coefficient between year and sea level is 0.98 demonstrating a strong correlation between year and rising sea levels.\n",
        "\n",
        "It is clear that he trend is getting steeper after 2000 which proves the extent of environmental damage, which is further supported by the prediction claculation for 2050.\n"
      ],
      "metadata": {
        "id": "Vko8XwN2kpb3"
      }
    },
    {
      "cell_type": "markdown",
      "metadata": {
        "id": "yQyytEbnZ1lw"
      },
      "source": [
        "# Reflection\n",
        "----\n",
        "\n",
        "## What skills have you demonstrated in completing this notebook?"
      ]
    },
    {
      "cell_type": "markdown",
      "metadata": {
        "id": "MM00hR5aZk1-"
      },
      "source": [
        "The programming skills applied in this project were using linear models, plot and visualize data, using numpy arrays, appending arrays and creating new dataframes from arrays. The skills used for this project were data retrieval, pandas, numpy libraries, linear modelling, and visualisation of data with plotting."
      ]
    },
    {
      "cell_type": "markdown",
      "metadata": {
        "id": "Zgexd27sZ1ly"
      },
      "source": [
        "## What caused you the most difficulty?"
      ]
    },
    {
      "cell_type": "markdown",
      "metadata": {
        "id": "-Y_nrVBwaGXr"
      },
      "source": [
        "The [0][0] indexing and possible further ways of manipulating data."
      ]
    }
  ]
}