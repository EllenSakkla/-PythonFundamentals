{
  "nbformat": 4,
  "nbformat_minor": 0,
  "metadata": {
    "colab": {
      "name": "Copy of Sea-Level-Project.ipynb",
      "provenance": [],
      "collapsed_sections": [],
      "include_colab_link": true
    },
    "kernelspec": {
      "name": "python3",
      "display_name": "Python 3"
    },
    "language_info": {
      "name": "python"
    }
  },
  "cells": [
    {
      "cell_type": "markdown",
      "metadata": {
        "id": "view-in-github",
        "colab_type": "text"
      },
      "source": [
        "<a href=\"https://colab.research.google.com/github/EllenSakkla/Python/blob/main/projects/Copy_of_Sea_Level_Project.ipynb\" target=\"_parent\"><img src=\"https://colab.research.google.com/assets/colab-badge.svg\" alt=\"Open In Colab\"/></a>"
      ]
    },
    {
      "cell_type": "markdown",
      "source": [
        "# Using numpy to look for a correlation between time data and sea level rise\n",
        "---\n",
        "\n",
        "### Data Source\n",
        "Global Average Absolute Sea Level Change, 1880-2014 from the US Environmental Protection Agency using data from CSIRO, 2015; NOAA, 2015.\n",
        "https://datahub.io/core/sea-level-rise\n",
        "\n",
        "The data describes annual sea levels from 1880 to 2013.  Measures are adjusted using two standards: Commonwealth Scientific and Industrial Research Organisation(CSIRO) and National Oceanic and Atmospheric Administration (NOAA)  \n",
        "\n",
        "Raw Data file:  https://raw.githubusercontent.com/freeCodeCamp/boilerplate-sea-level-predictor/master/epa-sea-level.csv\n",
        "\n",
        "For this exercise:\n",
        "*  import the pandas library\n",
        "*  import the numpy library\n",
        "*  read the csv dataset containing data on sea-levels from the year 1880 to 2013 into a dataframe (df)\n",
        "*  use df.head() and df.info() to inspect the data and the column data types\n",
        "\n"
      ],
      "metadata": {
        "id": "jBYNdCdQ9_cu"
      }
    },
    {
      "cell_type": "code",
      "source": [
        "import pandas as pd\n",
        "import numpy as np\n",
        "url = \"https://raw.githubusercontent.com/freeCodeCamp/boilerplate-sea-level-predictor/master/epa-sea-level.csv\"\n",
        "df = pd.read_csv(url)\n",
        "\n",
        "def sea_level():\n",
        "\n",
        "  print(df.head())\n",
        "  print(df.info())\n",
        "\n",
        "sea_level()\n"
      ],
      "metadata": {
        "id": "r1XUCWHV_Cj9",
        "colab": {
          "base_uri": "https://localhost:8080/"
        },
        "outputId": "9c3dfb05-afb6-4cec-a280-d8acd5e78780"
      },
      "execution_count": 30,
      "outputs": [
        {
          "output_type": "stream",
          "name": "stdout",
          "text": [
            "   Year  CSIRO Adjusted Sea Level  Lower Error Bound  Upper Error Bound  \\\n",
            "0  1880                  0.000000          -0.952756           0.952756   \n",
            "1  1881                  0.220472          -0.732283           1.173228   \n",
            "2  1882                 -0.440945          -1.346457           0.464567   \n",
            "3  1883                 -0.232283          -1.129921           0.665354   \n",
            "4  1884                  0.590551          -0.283465           1.464567   \n",
            "\n",
            "   NOAA Adjusted Sea Level  \n",
            "0                      NaN  \n",
            "1                      NaN  \n",
            "2                      NaN  \n",
            "3                      NaN  \n",
            "4                      NaN  \n",
            "<class 'pandas.core.frame.DataFrame'>\n",
            "RangeIndex: 134 entries, 0 to 133\n",
            "Data columns (total 5 columns):\n",
            " #   Column                    Non-Null Count  Dtype  \n",
            "---  ------                    --------------  -----  \n",
            " 0   Year                      134 non-null    int64  \n",
            " 1   CSIRO Adjusted Sea Level  134 non-null    float64\n",
            " 2   Lower Error Bound         134 non-null    float64\n",
            " 3   Upper Error Bound         134 non-null    float64\n",
            " 4   NOAA Adjusted Sea Level   21 non-null     float64\n",
            "dtypes: float64(4), int64(1)\n",
            "memory usage: 5.4 KB\n",
            "None\n"
          ]
        }
      ]
    },
    {
      "cell_type": "markdown",
      "source": [
        "### Then\n",
        "---\n",
        "1.  Calculate some statistics on the level array, eg:\n",
        "*  mean\n",
        "*  standard deviation\n",
        "*  total \n",
        "\n",
        "2.  Use the fact that the arrays are aligned (e.g. the first number in the level array is linked to the first year in the year array and display:\n",
        "\n",
        "*  the year with the biggest rise in level\n",
        "*  the year with the lowest rise in level\n",
        "\n",
        "*(**Hint**:  to do this you can use a new numpy function np.where() )*\n",
        " ```\n",
        "np.where(array == value_to_find)\n",
        "```\n",
        "*There is some reference material [here](https://thispointer.com/find-the-index-of-a-value-in-numpy-array/)*\n",
        "\n",
        "**Note**: ```np.where(...)``` will return a tuple containing all indexes where that value was found.  You can print all, or you can print the first value (it is likely that there will only be one in this case) using [0][0].  *With the correct code you should get an answer of 2012*\n",
        "\n",
        "\n",
        "3.  Calculate the Pearson product-moment correlation coefficient between year and the rise in sea level.  (*Expected output:  0.98 when rounded to 2 decimal places*)"
      ],
      "metadata": {
        "id": "3cf1YPgnBSc2"
      }
    },
    {
      "cell_type": "code",
      "execution_count": 45,
      "metadata": {
        "id": "8VWUtmK4YhoU",
        "colab": {
          "base_uri": "https://localhost:8080/"
        },
        "outputId": "3337e1eb-8b78-4053-978b-810b46772562"
      },
      "outputs": [
        {
          "output_type": "stream",
          "name": "stdout",
          "text": [
            "Total: 489.15 , Max: 9.326771644 , Min: -0.440944881 , Mean: 3.650340811880598 , Stand: 2.476399631426498\n",
            "The year with the biggest rise in sea level was:  2012 \n",
            "The year with the biggest rise in sea level was:  1882\n",
            "[[1.         0.98475713]\n",
            " [0.98475713 1.        ]]\n",
            "0.98\n"
          ]
        }
      ],
      "source": [
        "def sea_level():\n",
        "  #numpy arrays for the sea levels by CSIRO and years\n",
        "  year = df['Year'].to_numpy(np.int64)\n",
        "  sea_level = df['CSIRO Adjusted Sea Level'].to_numpy(np.float64)\n",
        "\n",
        "  #calculate some statistics on the level array\n",
        "  mean = sea_level.mean()\n",
        "  stand_dev = sea_level.std()\n",
        "  total = sea_level.sum()\n",
        "  max = sea_level.max()\n",
        "  min = sea_level.min()\n",
        "\n",
        "  print (\"Total:\",\"{:5.2f}\".format(total),\", Max:\",max,\", Min:\",min,\", Mean:\",mean,\", Stand:\",stand_dev) #formating distance & 2 decimals for total calculation.\n",
        "\n",
        "  #calculate years with the biggest/lowest rise in level\n",
        "  biggest_year = np.where(sea_level == max)[0][0]\n",
        "  lowest_year = np.where(sea_level == min)[0][0]\n",
        "  print(\"The year with the biggest rise in sea level was: \", year[biggest_year],\"\\nThe year with the biggest rise in sea level was: \", year[lowest_year])\n",
        "\n",
        "  #calculate coefficient\n",
        "  coefficient = np.corrcoef(year, sea_level)\n",
        "  print(coefficient)\n",
        "  print(round(coefficient[0][1],2))\n",
        "\n",
        "  #or alternatively use sea_level.describe() coding for a calculation summary.\n",
        "\n",
        "sea_level()"
      ]
    },
    {
      "cell_type": "markdown",
      "source": [
        "**Visualisation of data**\n",
        "\n",
        "Using a plot with matplotlib to display the trend in the yearly increase in sea levels."
      ],
      "metadata": {
        "id": "iLeDZDOQA5yR"
      }
    },
    {
      "cell_type": "code",
      "source": [
        "import matplotlib.pyplot as plt\n",
        "year = df['Year'].to_numpy(np.int64)\n",
        "sea_level = df['CSIRO Adjusted Sea Level'].to_numpy(np.float64)\n",
        "\n",
        "plt.figure(figsize=(10,5))\n",
        "plt.plot(year, sea_level, '.', color = 'darkcyan', label='initial data') #'.' (or '-', 'o') indicating the chr specifier/marker representing the plot trend.\n",
        "plt.legend()\n",
        "plt.title(\"Per year increase in sea levels\")\n",
        "plt.xlabel(\"Year\")\n",
        "plt.ylabel(\"Sea levels\")\n",
        "plt.show()"
      ],
      "metadata": {
        "colab": {
          "base_uri": "https://localhost:8080/",
          "height": 350
        },
        "id": "InUewJzI8oMb",
        "outputId": "ed433529-8f53-4d53-e193-f8ee47d291e1"
      },
      "execution_count": 64,
      "outputs": [
        {
          "output_type": "display_data",
          "data": {
            "text/plain": [
              "<Figure size 720x360 with 1 Axes>"
            ],
            "image/png": "[encoded data removed]"
          },
          "metadata": {
            "needs_background": "light"
          }
        }
      ]
    },
    {
      "cell_type": "markdown",
      "source": [
        "Adding a line of best fit with a linregress function imported from the scipy stats library:\n",
        "- creating a regression variable and assign the result of using linregress (regression = linregress(x,y) )\n",
        "- storing the slope and intercept (slope = regression.slope, intercept = regression.intercept)\n",
        "- plotting a line using plt.plot(x, slope*x + intercept)."
      ],
      "metadata": {
        "id": "opRCscnxBP0n"
      }
    },
    {
      "cell_type": "code",
      "source": [
        "from scipy.stats import linregress\n",
        "import pandas as pd\n",
        "import matplotlib.pyplot as plt\n",
        "\n",
        "year = df['Year'].to_numpy(np.int64)\n",
        "sea_level = df['CSIRO Adjusted Sea Level'].to_numpy(np.float64)\n",
        "\n",
        "plt.figure(figsize=(10,5))\n",
        "plt.plot(year, sea_level, '.', color = 'darkcyan', label='initial data')\n",
        "plt.legend()\n",
        "plt.title(\"Per year increase in sea levels\")\n",
        "\n",
        "#Scatterplot\n",
        "#x = df['Year']\n",
        "#y = df['CSIRO Adjusted Sea Level']\n",
        "#plt.scatter(x,y)\n",
        "#plt.scatter(x,y, '.', color = 'darkcyan', label='initial data') #error?\n",
        "plt.xlabel('Year')\n",
        "plt.ylabel('Sea levels')\n",
        "\n",
        "#Adding a line of best fit\n",
        "regression = linregress(x,y)\n",
        "slope = regression.slope\n",
        "intercept = regression.intercept\n",
        "plt.plot(x, slope*x + intercept, 'r')\n",
        "plt.show()"
      ],
      "metadata": {
        "colab": {
          "base_uri": "https://localhost:8080/",
          "height": 350
        },
        "id": "VnaCcBY-BPPo",
        "outputId": "a31a7396-b875-4e86-a78e-8caad2f42130"
      },
      "execution_count": 71,
      "outputs": [
        {
          "output_type": "display_data",
          "data": {
            "text/plain": [
              "<Figure size 720x360 with 1 Axes>"
            ],
            "image/png": "[encoded data removed]"
          },
          "metadata": {
            "needs_background": "light"
          }
        }
      ]
    },
    {
      "cell_type": "markdown",
      "metadata": {
        "id": "yQyytEbnZ1lw"
      },
      "source": [
        "# Reflection\n",
        "----\n",
        "\n",
        "## What skills have you demonstrated in completing this notebook?"
      ]
    },
    {
      "cell_type": "markdown",
      "metadata": {
        "id": "MM00hR5aZk1-"
      },
      "source": [
        "Practicing old and new numpy and pandas functions."
      ]
    },
    {
      "cell_type": "markdown",
      "metadata": {
        "id": "Zgexd27sZ1ly"
      },
      "source": [
        "## What caused you the most difficulty?"
      ]
    },
    {
      "cell_type": "markdown",
      "metadata": {
        "id": "-Y_nrVBwaGXr"
      },
      "source": [
        "The [0][0] indexing."
      ]
    }
  ]
}