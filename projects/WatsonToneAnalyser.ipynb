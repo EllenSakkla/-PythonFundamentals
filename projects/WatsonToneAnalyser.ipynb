{
  "cells": [
    {
      "cell_type": "markdown",
      "metadata": {
        "id": "view-in-github",
        "colab_type": "text"
      },
      "source": [
        "<a href=\"https://colab.research.google.com/github/EllenSakkla/Python/blob/main/projects/WatsonToneAnalyser.ipynb\" target=\"_parent\"><img src=\"https://colab.research.google.com/assets/colab-badge.svg\" alt=\"Open In Colab\"/></a>"
      ]
    },
    {
      "cell_type": "markdown",
      "metadata": {
        "id": "KyS2Fb7jTftO"
      },
      "source": [
        "# Creating a dataframe from analysed text data\n",
        "\n",
        "This project includes the use the IBM Watson Tone Analyser API, sending text data to it, using security information stored in a config file to keep it secret, receiving the results in JSON format, investigating the structure of the results and building a dataframe from them.\n",
        "\n",
        "Then using the results to create a visualisation of tone and to report an overall set of statistics from the data."
      ]
    },
    {
      "cell_type": "markdown",
      "metadata": {
        "id": "QsZ4_b2rTftU"
      },
      "source": [
        "---\n",
        "\n",
        "## Step 1 - sign up for IBM Watson services to use the Tone Analyser\n",
        "\n",
        "1.  Sign up for [IBM Watson](https://cloud.ibm.com/registration?cm_mmc=dw-_-cognitive-_-topcoder-_-communityEducational1)\n",
        "2.  Click 'Try on Cloud at no cost'  \n",
        "3.  Select the London region  (costs reduced and performance improved when you use the nearest servers)  \n",
        "4.  Create an IBM Cloud account (enter email and accept terms)  \n",
        "5.  Follow the instructions to create the account  \n",
        "6.  Provision the services  \n",
        "7.  Then go to IBM Watson Studio  \n",
        "8.  Select Tone Analyzer under the Your Services heading  \n",
        "9.  You will be shown the **url** for the Tone Analyser API and an **API key** which is needed for using the API."
      ]
    },
    {
      "cell_type": "markdown",
      "source": [
        "# Step 2 - add security to your worksheet to keep your apikey and url hidden\n",
        "\n",
        "You can do this by using environment variables, which are stored in the operating system for this worksheet.\n",
        "\n",
        "We will use a simplified system for storing the sensitive data so that it isn't visible in the worksheet:\n",
        "\n",
        "1.  Ask for the api key to be input and store it in an environment variable called apikey\n",
        "\n",
        "2.  Ask for the url to be input and store it in an environment variable\n",
        "\n",
        "3.  Run the cell, type in the api key, then the url.  Once tis has been done.  Remove the output part of the cell."
      ],
      "metadata": {
        "id": "ZV19Vcgp2JHe"
      }
    },
    {
      "cell_type": "code",
      "source": [
        "import os\n",
        "\n",
        "# add the code to ask for the URL, then run this cell and when it has completed, remove the output (note: you will need to do this again if you return to the worksheet)\n",
        "os.environ['APIKEY'] = input(\"Enter API key: \")\n",
        "os.environ['URL'] = input(\"Enter URL: \")\n"
      ],
      "metadata": {
        "id": "ZM4PRCOZ2zyW",
        "colab": {
          "base_uri": "https://localhost:8080/"
        },
        "outputId": "3e72f2dd-48bc-4ee5-845c-2e126071c41d"
      },
      "execution_count": null,
      "outputs": [
        {
          "name": "stdout",
          "output_type": "stream",
          "text": [
            "Enter API key: \n",
            "Enter URL: \n"
          ]
        }
      ]
    },
    {
      "cell_type": "markdown",
      "source": [
        "# Install the ibm_watson libraries so that you can use their functions"
      ],
      "metadata": {
        "id": "fOKQWCOw1AGn"
      }
    },
    {
      "cell_type": "code",
      "source": [
        "# install the ibm_watson libraries\n",
        "\n",
        "!pip install ibm_watson"
      ],
      "metadata": {
        "id": "Uhi1cWMwQrZy",
        "colab": {
          "base_uri": "https://localhost:8080/"
        },
        "outputId": "59a2ffdf-29e6-4d22-a273-c3b816f9177b"
      },
      "execution_count": null,
      "outputs": [
        {
          "output_type": "stream",
          "name": "stdout",
          "text": [
            "Requirement already satisfied: ibm_watson in /usr/local/lib/python3.7/dist-packages (6.0.0)\n",
            "Requirement already satisfied: python-dateutil>=2.5.3 in /usr/local/lib/python3.7/dist-packages (from ibm_watson) (2.8.2)\n",
            "Requirement already satisfied: ibm-cloud-sdk-core==3.*,>=3.3.6 in /usr/local/lib/python3.7/dist-packages (from ibm_watson) (3.15.1)\n",
            "Requirement already satisfied: requests<3.0,>=2.0 in /usr/local/lib/python3.7/dist-packages (from ibm_watson) (2.27.1)\n",
            "Requirement already satisfied: websocket-client==1.1.0 in /usr/local/lib/python3.7/dist-packages (from ibm_watson) (1.1.0)\n",
            "Requirement already satisfied: PyJWT<3.0.0,>=2.0.1 in /usr/local/lib/python3.7/dist-packages (from ibm-cloud-sdk-core==3.*,>=3.3.6->ibm_watson) (2.3.0)\n",
            "Requirement already satisfied: urllib3<2.0.0,>=1.26.0 in /usr/local/lib/python3.7/dist-packages (from ibm-cloud-sdk-core==3.*,>=3.3.6->ibm_watson) (1.26.9)\n",
            "Requirement already satisfied: six>=1.5 in /usr/local/lib/python3.7/dist-packages (from python-dateutil>=2.5.3->ibm_watson) (1.15.0)\n",
            "Requirement already satisfied: idna<4,>=2.5 in /usr/local/lib/python3.7/dist-packages (from requests<3.0,>=2.0->ibm_watson) (2.10)\n",
            "Requirement already satisfied: charset-normalizer~=2.0.0 in /usr/local/lib/python3.7/dist-packages (from requests<3.0,>=2.0->ibm_watson) (2.0.12)\n",
            "Requirement already satisfied: certifi>=2017.4.17 in /usr/local/lib/python3.7/dist-packages (from requests<3.0,>=2.0->ibm_watson) (2021.10.8)\n"
          ]
        }
      ]
    },
    {
      "cell_type": "markdown",
      "metadata": {
        "id": "Tqs2PZBXTftW"
      },
      "source": [
        "---\n",
        "\n",
        "## Test to make sure it works\n",
        "\n",
        "1.  Open this file, which has some text for you to test with: https://drive.google.com/file/d/1m65cPQGYQd1mwvEmfZw69-GMUBdo43k0/view?usp=sharing.  You will be able to copy and paste the text into here as needed.\n",
        "\n",
        "2.  Get the environment variable for each of the two pieces of security information so that these do not need to be included in your notebook (have the keys available for copying and pasting).  To do this:\n",
        "\n",
        "  ``` apikey = os.environ.get('APIKEY') ```\n",
        "\n",
        "3.  Run the code below,which will create a ToneAnalyzer with the credentials from your environment variables, then paste the text from the **text-for-analysis.txt** file\n",
        "\n",
        "4.  Decide what the data looks like and how this might be represented in a pandas dataframe"
      ]
    },
    {
      "cell_type": "code",
      "execution_count": null,
      "metadata": {
        "id": "8f_zyVYfTftY"
      },
      "outputs": [],
      "source": [
        "from ibm_watson import ToneAnalyzerV3\n",
        "from ibm_cloud_sdk_core.authenticators import IAMAuthenticator\n",
        "import os\n",
        "import json\n",
        "\n",
        "# get credentials from the environment variables you set\n",
        "def get_secret(key):\n",
        "    # add code here to get the keys from the environment variable and return the requested key\n",
        "    # if there is an error print an error message and return None\n",
        "    return os.environ.get(key)\n",
        "    \n",
        "def get_text_for_analysis():\n",
        "    # add code here to input the text from the text-for-analysis.txt file and return the text it reads as one string\n",
        "    # if there is an error, return None\n",
        "    # return 'Team, I know that times are tough! Product sales have been disappointing for the past three quarters. We have a competitive product, but we need to do a better job of selling it!'\n",
        "    return 'But I feel peaceful. Your success in the ring this morning was, to a small degree, my success. Your future is assured. You will live, secure and safe, Wilbur. Nothing can harm you now. These autumn days will shorten and grow cold. The leaves will shake loose from the trees and fall. Christmas will come, and the snows of winter. You will live to enjoy the beauty of the frozen world, for you mean a great deal to Zuckerman and he will not harm you, ever. Winter will pass, the days will lengthen, the ice will melt in the pasture pond. The song sparrow will return and sing, the frogs will awake, the warm wind will blow again. All these sights and sounds and smells will be yours to enjoy, Wilbur-this lovely world, these precious days.'\n",
        "    \n",
        "# create a ToneAnalyzerV3 object, version 2017-09-21 using api key and url from config\n",
        "authenticator = IAMAuthenticator(apikey=get_secret('APIKEY'))\n",
        "tone_analyzer = ToneAnalyzerV3(\n",
        "    version='2017-09-21',\n",
        "    authenticator=authenticator\n",
        ")\n",
        "tone_analyzer.set_service_url(get_secret('URL'))\n",
        "\n",
        "# get the text for analysis from the file\n",
        "text = get_text_for_analysis()\n",
        "if text:\n",
        "    tone_analysis = tone_analyzer.tone(\n",
        "        {'text': text},\n",
        "        content_type='application/json'\n",
        "    ).get_result()    \n",
        "    print(tone_analysis)\n",
        "else:\n",
        "    print(\"No data\")"
      ]
    },
    {
      "cell_type": "markdown",
      "source": [
        "# WORKING WITH THE OUTPUT OF TEXT ANALYSIS"
      ],
      "metadata": {
        "id": "6faYfT24rI7M"
      }
    },
    {
      "cell_type": "markdown",
      "source": [
        "### Watson Tone Analyser API Output\n",
        "---\n",
        "\n",
        "This is the output that the given text will produce. You will need to assign this output to a variable called **tone_analysis** in the function you are going to write below. \n",
        "\n",
        "```\n",
        "{'document_tone': {'tones': [{'score': 0.582191, 'tone_id': 'sadness', 'tone_name': 'Sadness'}, {'score': 0.829888, 'tone_id': 'analytical', 'tone_name': 'Analytical'}]}, 'sentences_tone': [{'sentence_id': 0, 'text': 'Team, I know that times are tough!', 'tones': [{'score': 0.801827, 'tone_id': 'analytical', 'tone_name': 'Analytical'}]}, {'sentence_id': 1, 'text': 'Product sales have been disappointing for the past three quarters.', 'tones': [{'score': 0.817406, 'tone_id': 'sadness', 'tone_name': 'Sadness'}, {'score': 0.687768, 'tone_id': 'analytical', 'tone_name': 'Analytical'}]}, {'sentence_id': 2, 'text': 'We have a competitive product, but we need to do a better job of selling it!', 'tones': [{'score': 0.506763, 'tone_id': 'analytical', 'tone_name': 'Analytical'}]}]}\n",
        "\n",
        "```\n",
        "\n"
      ],
      "metadata": {
        "id": "9hjqn6lrd4RE"
      }
    },
    {
      "cell_type": "markdown",
      "metadata": {
        "id": "XMHlV6wpTftb"
      },
      "source": [
        "### Create (on paper) an idea of how this data might be organised into a data table\n",
        "\n",
        "1.  How many bits of information are there about the document as a whole?\n",
        "2.  How many bits of information are there about each sentence?\n",
        "3.  If all tone analysis records were included in the dataframe, how many rows would there be?\n",
        "4.  What information would be included in each row?"
      ]
    },
    {
      "cell_type": "markdown",
      "source": [
        "{'document_tone': \n",
        "\n",
        "{'tones':\n",
        "[{'score': 0.582191, 'tone_id': 'sadness', 'tone_name': 'Sadness'}, \n",
        "{'score': 0.829888, 'tone_id': 'analytical', 'tone_name': 'Analytical'}]}, \n",
        "\n",
        "'sentences_tone':\n",
        "\n",
        "[{'sentence_id': 0, 'text': 'Team, I know that times are tough!', \n",
        "'tones': \n",
        "[{'score': 0.801827, 'tone_id': 'analytical', 'tone_name': 'Analytical'}]}, \n",
        "\n",
        "{'sentence_id': 1, 'text': 'Product sales have been disappointing for the past three quarters.', \n",
        "'tones': \n",
        "[{'score': 0.817406, 'tone_id': 'sadness', 'tone_name': 'Sadness'},\n",
        "{'score': 0.687768, 'tone_id': 'analytical', 'tone_name': 'Analytical'}]},\n",
        "\n",
        "{'sentence_id': 2, 'text': 'We have a competitive product, but we need to do a better job of selling it!', \n",
        "'tones': \n",
        "[{'score': 0.506763, 'tone_id': 'analytical', 'tone_name': 'Analytical'}]}]}"
      ],
      "metadata": {
        "id": "drOq6g1pqbwI"
      }
    },
    {
      "cell_type": "markdown",
      "source": [
        "If we study the Watson Tone Analyser API Output text (to be assigned the variable 'tone_analysis') on a neutralising editor like Notepad++ we can see that:\n",
        "\n",
        "1. There are 2 document tones (Sadness & Analytical)\n",
        "2. There are 3 sentence tones (sentence_id 0,1, and 2). \n",
        "Sentence id 1 has 2 scores in comparison to the other 2 sentence tones that have 1 score.\n",
        "\n",
        "3. There are 2 rows for document tone and 3 sentence_id rows.\n",
        "\n",
        "4. Each row contains the <score, tone_id and tone_name> sequence.\n",
        "Every document_tone has the following tags: \n",
        "- tones: tone_id, score, tone_name.\n",
        "Every sentence_id has the following tags:\n",
        "- text\n",
        "- tones: tones: tone_id, score, tone_name."
      ],
      "metadata": {
        "id": "xcHOi9hXwmqj"
      }
    },
    {
      "cell_type": "markdown",
      "metadata": {
        "id": "KQ-p60NeTftc"
      },
      "source": [
        "### Create a dataframe and start to populate with the data\n",
        "\n",
        "You can create a **dataframe** from this data either by converting it manually into a table OR by using the pandas function pd.json_normalise(data).  \n",
        "\n",
        "**Manually**:\n",
        "\n",
        "One way to do this would be to create a list of dictionary records, with each record formed from the data from each row in the original 'sentences_tone' data.  You will need to loop through the rows in the 'sentences_tone' list, nesting a loop through the 'tones' list for each sentence.  For each, copy across the columns you feel should be included.\n",
        "\n",
        "_Hint:_  \n",
        "```\n",
        " for row in sentence_data:\n",
        "        for col in row['tones']:\n",
        "            new_row = {'sentence_id':row['sentence_id'], 'text':row['text'], 'tone_score':col['score'], 'tone_id':col['tone_id'],'tone_name':col['tone_name']}\n",
        "```\n",
        "**Using pandas**:\n",
        "\n",
        "An alternative way to do this would be to create a pandas dataframe from the sentences_tone data list (using `pd.json_normalise(data)`)"
      ]
    },
    {
      "cell_type": "code",
      "source": [
        "import pandas as pd\n",
        "import numpy as np\n",
        "import requests\n",
        "import json\n",
        "\n",
        "#Convert json data to a dataframe with one row for each tone for each sentence\n",
        "def convert_to_tones_table(data):\n",
        "    # return the data normalized into a dataframe (pd.json_normalise(data))\n",
        "    # the dataframe should have the columns: sentence_id, text, score, tone_id, tone_name\n",
        "    df = pd.json_normalize(data)\n",
        "    return df\n",
        "\n",
        "#Split 1: split the data into document data + sentence data\n",
        "tone_analysis = {\"document_tone\": {\"tones\": [{\"score\": 0.582191, \"tone_id\": \"sadness\", \"tone_name\": \"Sadness\"}, {\"score\": 0.829888, \"tone_id\": \"analytical\", \"tone_name\": \"Analytical\"}]}, \"sentences_tone\": [{\"sentence_id\": 0, \"text\": \"Team, I know that times are tough!\", \"tones\": [{\"score\": 0.801827, \"tone_id\": \"analytical\", \"tone_name\": \"Analytical\"}]}, {\"sentence_id\": 1, \"text\": \"Product sales have been disappointing for the past three quarters.\", \"tones\": [{\"score\": 0.817406, \"tone_id\": \"sadness\", \"tone_name\": \"Sadness\"}, {\"score\": 0.687768, \"tone_id\": \"analytical\", \"tone_name\": \"Analytical\"}]}, {\"sentence_id\": 2, \"text\": \"We have a competitive product, but we need to do a better job of selling it!\", \"tones\": [{\"score\": 0.506763, \"tone_id\": \"analytical\", \"tone_name\": \"Analytical\"}]}]}\n",
        "document = convert_to_tones_table(tone_analysis[\"document_tone\"])\n",
        "sentences = convert_to_tones_table(tone_analysis[\"sentences_tone\"])\n",
        "print(\"Split 1: document.\\n\", document)\n",
        "print(\"\\nSplit 1: sentences.\\n\", sentences)\n",
        "\n",
        "#Split 2: more separating of nested dictionaries and separating levels of document data\n",
        "def document_separate(data):\n",
        "  document_df = convert_to_tones_table(data[\"tones\"])\n",
        "  document_df2 = document_df.transpose()\n",
        "  document_final = document_df2[0].apply(pd.Series)\n",
        "  return document_final\n",
        "document_final = document_separate(document)\n",
        "print(\"\\nSplit2: The document tones are: \")\n",
        "print(document_final)\n",
        "\n",
        "#Split 3: more separating of nested dictionaries and separating levels of sentence data\n",
        "def sentences_separate(data):\n",
        "  sentences = data.explode([\"tones\"])\n",
        "  sentences_df = convert_to_tones_table(sentences[\"tones\"])\n",
        "  sentences_final = sentences_df\n",
        "  sentences_final['text'] = sentences['text'].values #Returning relevant text to the tones\n",
        "  return sentences_final\n",
        "sentences_final = sentences_separate(sentences)\n",
        "print(\"\\nSplit 3: The sentences' tones are: \")\n",
        "print(sentences_final)\n"
      ],
      "metadata": {
        "colab": {
          "base_uri": "https://localhost:8080/"
        },
        "id": "2AucYc26zJe8",
        "outputId": "3e2c0714-3e7e-45e8-961d-da1cec87ad0a"
      },
      "execution_count": 254,
      "outputs": [
        {
          "output_type": "stream",
          "name": "stdout",
          "text": [
            "Split 1: document.\n",
            "                                                tones\n",
            "0  [{'score': 0.582191, 'tone_id': 'sadness', 'to...\n",
            "\n",
            "Split 1: sentences.\n",
            "    sentence_id                                               text  \\\n",
            "0            0                 Team, I know that times are tough!   \n",
            "1            1  Product sales have been disappointing for the ...   \n",
            "2            2  We have a competitive product, but we need to ...   \n",
            "\n",
            "                                               tones  \n",
            "0  [{'score': 0.801827, 'tone_id': 'analytical', ...  \n",
            "1  [{'score': 0.817406, 'tone_id': 'sadness', 'to...  \n",
            "2  [{'score': 0.506763, 'tone_id': 'analytical', ...  \n",
            "\n",
            "Split2: The document tones are: \n",
            "      score     tone_id   tone_name\n",
            "0  0.582191     sadness     Sadness\n",
            "1  0.829888  analytical  Analytical\n",
            "\n",
            "Split 3: The sentences' tones are: \n",
            "      score     tone_id   tone_name  \\\n",
            "0  0.801827  analytical  Analytical   \n",
            "1  0.817406     sadness     Sadness   \n",
            "2  0.687768  analytical  Analytical   \n",
            "3  0.506763  analytical  Analytical   \n",
            "\n",
            "                                                text  \n",
            "0                 Team, I know that times are tough!  \n",
            "1  Product sales have been disappointing for the ...  \n",
            "2  Product sales have been disappointing for the ...  \n",
            "3  We have a competitive product, but we need to ...  \n"
          ]
        }
      ]
    },
    {
      "cell_type": "markdown",
      "source": [
        "The above splitting of the dataframe included practices of data retrieval and wrangling."
      ],
      "metadata": {
        "id": "WStZEkcR3Ws7"
      }
    },
    {
      "cell_type": "code",
      "source": [
        "import pandas as pd\n",
        "import numpy as np\n",
        "import json\n",
        "\n",
        "#Solution to the problem of creating the sentences dataframe.\n",
        "#Convert json data to a dataframe with one row for each tone for each sentence.\n",
        "def convert_to_sentence_tones(data):\n",
        "    df = pd.json_normalize(data) #converting json.data into a flat table\n",
        "    df = df.explode('tones', ignore_index=True) #the 'flat table' has a column 'tones' that contains more than one value -> explode() turns each part of the column 'tones' go into a row\n",
        "    df['score'] = df['tones'].apply(lambda x: x['score']) #a column 'score' is created containing the df values for score\n",
        "    df['tone_id'] = df['tones'].apply(lambda x: x['tone_id']) #a column 'tones_id' is created containing the df values for tones_id\n",
        "    df['tone_name'] = df['tones'].apply(lambda x: x['tone_name']) #a column 'tone_name' is created containing the df values for score\n",
        "    df = df.drop(['tones'], axis=1) #the original column 'tones' which contained the subcolumns \"score\", tone_id, and tone_name is discarded\n",
        "    #display(df) called with the closing of the function\n",
        "    return df\n",
        "\n",
        "#Create sentences dataframe\n",
        "sentences_data = convert_to_sentence_tones(tone_analysis['sentences_tone'])\n",
        "display(sentences_data)\n",
        "#To move the score, tone_id and tone_name into their own columns, the lambda function has been applied\n",
        "#working through the items in the tones column and, for each, will return the value in the score part of the tones data"
      ],
      "metadata": {
        "colab": {
          "base_uri": "https://localhost:8080/",
          "height": 175
        },
        "id": "avaOlGeM5Hg9",
        "outputId": "0712fbe0-b946-41fd-c913-84edd3b4e048"
      },
      "execution_count": 255,
      "outputs": [
        {
          "output_type": "display_data",
          "data": {
            "text/plain": [
              "   sentence_id                                               text     score  \\\n",
              "0            0                 Team, I know that times are tough!  0.801827   \n",
              "1            1  Product sales have been disappointing for the ...  0.817406   \n",
              "2            1  Product sales have been disappointing for the ...  0.687768   \n",
              "3            2  We have a competitive product, but we need to ...  0.506763   \n",
              "\n",
              "      tone_id   tone_name  \n",
              "0  analytical  Analytical  \n",
              "1     sadness     Sadness  \n",
              "2  analytical  Analytical  \n",
              "3  analytical  Analytical  "
            ],
            "text/html": [
              "\n",
              "  <div id=\"df-90bcd926-3e6c-4589-b4e1-3c24313a6de8\">\n",
              "    <div class=\"colab-df-container\">\n",
              "      <div>\n",
              "<style scoped>\n",
              "    .dataframe tbody tr th:only-of-type {\n",
              "        vertical-align: middle;\n",
              "    }\n",
              "\n",
              "    .dataframe tbody tr th {\n",
              "        vertical-align: top;\n",
              "    }\n",
              "\n",
              "    .dataframe thead th {\n",
              "        text-align: right;\n",
              "    }\n",
              "</style>\n",
              "<table border=\"1\" class=\"dataframe\">\n",
              "  <thead>\n",
              "    <tr style=\"text-align: right;\">\n",
              "      <th></th>\n",
              "      <th>sentence_id</th>\n",
              "      <th>text</th>\n",
              "      <th>score</th>\n",
              "      <th>tone_id</th>\n",
              "      <th>tone_name</th>\n",
              "    </tr>\n",
              "  </thead>\n",
              "  <tbody>\n",
              "    <tr>\n",
              "      <th>0</th>\n",
              "      <td>0</td>\n",
              "      <td>Team, I know that times are tough!</td>\n",
              "      <td>0.801827</td>\n",
              "      <td>analytical</td>\n",
              "      <td>Analytical</td>\n",
              "    </tr>\n",
              "    <tr>\n",
              "      <th>1</th>\n",
              "      <td>1</td>\n",
              "      <td>Product sales have been disappointing for the ...</td>\n",
              "      <td>0.817406</td>\n",
              "      <td>sadness</td>\n",
              "      <td>Sadness</td>\n",
              "    </tr>\n",
              "    <tr>\n",
              "      <th>2</th>\n",
              "      <td>1</td>\n",
              "      <td>Product sales have been disappointing for the ...</td>\n",
              "      <td>0.687768</td>\n",
              "      <td>analytical</td>\n",
              "      <td>Analytical</td>\n",
              "    </tr>\n",
              "    <tr>\n",
              "      <th>3</th>\n",
              "      <td>2</td>\n",
              "      <td>We have a competitive product, but we need to ...</td>\n",
              "      <td>0.506763</td>\n",
              "      <td>analytical</td>\n",
              "      <td>Analytical</td>\n",
              "    </tr>\n",
              "  </tbody>\n",
              "</table>\n",
              "</div>\n",
              "      <button class=\"colab-df-convert\" onclick=\"convertToInteractive('df-90bcd926-3e6c-4589-b4e1-3c24313a6de8')\"\n",
              "              title=\"Convert this dataframe to an interactive table.\"\n",
              "              style=\"display:none;\">\n",
              "        \n",
              "  <svg xmlns=\"http://www.w3.org/2000/svg\" height=\"24px\"viewBox=\"0 0 24 24\"\n",
              "       width=\"24px\">\n",
              "    <path d=\"M0 0h24v24H0V0z\" fill=\"none\"/>\n",
              "    <path d=\"M18.56 5.44l.94 2.06.94-2.06 2.06-.94-2.06-.94-.94-2.06-.94 2.06-2.06.94zm-11 1L8.5 8.5l.94-2.06 2.06-.94-2.06-.94L8.5 2.5l-.94 2.06-2.06.94zm10 10l.94 2.06.94-2.06 2.06-.94-2.06-.94-.94-2.06-.94 2.06-2.06.94z\"/><path d=\"M17.41 7.96l-1.37-1.37c-.4-.4-.92-.59-1.43-.59-.52 0-1.04.2-1.43.59L10.3 9.45l-7.72 7.72c-.78.78-.78 2.05 0 2.83L4 21.41c.39.39.9.59 1.41.59.51 0 1.02-.2 1.41-.59l7.78-7.78 2.81-2.81c.8-.78.8-2.07 0-2.86zM5.41 20L4 18.59l7.72-7.72 1.47 1.35L5.41 20z\"/>\n",
              "  </svg>\n",
              "      </button>\n",
              "      \n",
              "  <style>\n",
              "    .colab-df-container {\n",
              "      display:flex;\n",
              "      flex-wrap:wrap;\n",
              "      gap: 12px;\n",
              "    }\n",
              "\n",
              "    .colab-df-convert {\n",
              "      background-color: #E8F0FE;\n",
              "      border: none;\n",
              "      border-radius: 50%;\n",
              "      cursor: pointer;\n",
              "      display: none;\n",
              "      fill: #1967D2;\n",
              "      height: 32px;\n",
              "      padding: 0 0 0 0;\n",
              "      width: 32px;\n",
              "    }\n",
              "\n",
              "    .colab-df-convert:hover {\n",
              "      background-color: #E2EBFA;\n",
              "      box-shadow: 0px 1px 2px rgba(60, 64, 67, 0.3), 0px 1px 3px 1px rgba(60, 64, 67, 0.15);\n",
              "      fill: #174EA6;\n",
              "    }\n",
              "\n",
              "    [theme=dark] .colab-df-convert {\n",
              "      background-color: #3B4455;\n",
              "      fill: #D2E3FC;\n",
              "    }\n",
              "\n",
              "    [theme=dark] .colab-df-convert:hover {\n",
              "      background-color: #434B5C;\n",
              "      box-shadow: 0px 1px 3px 1px rgba(0, 0, 0, 0.15);\n",
              "      filter: drop-shadow(0px 1px 2px rgba(0, 0, 0, 0.3));\n",
              "      fill: #FFFFFF;\n",
              "    }\n",
              "  </style>\n",
              "\n",
              "      <script>\n",
              "        const buttonEl =\n",
              "          document.querySelector('#df-90bcd926-3e6c-4589-b4e1-3c24313a6de8 button.colab-df-convert');\n",
              "        buttonEl.style.display =\n",
              "          google.colab.kernel.accessAllowed ? 'block' : 'none';\n",
              "\n",
              "        async function convertToInteractive(key) {\n",
              "          const element = document.querySelector('#df-90bcd926-3e6c-4589-b4e1-3c24313a6de8');\n",
              "          const dataTable =\n",
              "            await google.colab.kernel.invokeFunction('convertToInteractive',\n",
              "                                                     [key], {});\n",
              "          if (!dataTable) return;\n",
              "\n",
              "          const docLinkHtml = 'Like what you see? Visit the ' +\n",
              "            '<a target=\"_blank\" href=https://colab.research.google.com/notebooks/data_table.ipynb>data table notebook</a>'\n",
              "            + ' to learn more about interactive tables.';\n",
              "          element.innerHTML = '';\n",
              "          dataTable['output_type'] = 'display_data';\n",
              "          await google.colab.output.renderOutput(dataTable, element);\n",
              "          const docLink = document.createElement('div');\n",
              "          docLink.innerHTML = docLinkHtml;\n",
              "          element.appendChild(docLink);\n",
              "        }\n",
              "      </script>\n",
              "    </div>\n",
              "  </div>\n",
              "  "
            ]
          },
          "metadata": {}
        }
      ]
    },
    {
      "cell_type": "markdown",
      "source": [
        "This prioritisation of data according to sentences allows for a better listing of the tone associated with each sentence with a clearer data-framing and view of the 'sadness' and 'analytical' attributes for each sentence in the last two columns on the right."
      ],
      "metadata": {
        "id": "l8z6kA3_3jgK"
      }
    },
    {
      "cell_type": "markdown",
      "metadata": {
        "id": "4LBNPm67Tfte"
      },
      "source": [
        "### Summarise the sentence data\n",
        "*  Which sentence is the most analytical?\n",
        "*  which sentence is the least analytical?\n",
        "*  what is the average analytical tone score for the sentences?\n",
        "*  what do the analytical scores look like in a bar chart?\n",
        "___________\n",
        "Most analytical sentence (ID 0): \"Team, I know that times are hard!\", with a score of 0.801827.\n",
        "\n",
        "Least analytical sentence (ID 2): \"We have a competitive product, but ....\", with a score of 0.506763.\n"
      ]
    },
    {
      "cell_type": "code",
      "source": [
        "#Average calculation of scores and bar chart plot depicting the analytical score for the relevant sentences\n",
        "\n",
        "def show_bar_chart(df): \n",
        "  analytical_av = df.groupby(['tone_id']).mean(['score'])\n",
        "  print(analytical_av)\n",
        "\n",
        "  analytical = df[df['tone_id'].str.contains('analytical')]\n",
        "  #analytical\n",
        "  #analytical['score'].plot.bar(x=None, y=None, xlabel = \"Sentences\", ylabel = \"Scores\")\n",
        "  analytical['score'].plot.bar(x=None, y=None, xlabel = \"Sentences\", ylabel = \"Scores\").legend(bbox_to_anchor=(1, 1))\n",
        "  print(\"\\nSentences with an analytical tag:\\n0 = Team, I know that times are tough!\",\"\\n2 = Product sales have been disappointing for the ...\",\"\\n3 = We have a competitive product, but we need to ...\")\n",
        "  print(\"\\nBar chart displaying the analytical score of relevant sentences.\")\n",
        "  #ax.legend(bbox_to_anchor= (1.02, 1));\n",
        "  #plt.show()\n",
        "\n",
        "df2 = convert_to_sentence_tones(tone_analysis['sentences_tone'])\n",
        "show_bar_chart(df2)"
      ],
      "metadata": {
        "colab": {
          "base_uri": "https://localhost:8080/",
          "height": 467
        },
        "id": "QLh4oARo7WQ7",
        "outputId": "6d07ef7e-32e8-41f9-d2c6-90588e9f646d"
      },
      "execution_count": 256,
      "outputs": [
        {
          "output_type": "stream",
          "name": "stdout",
          "text": [
            "            sentence_id     score\n",
            "tone_id                          \n",
            "analytical          1.0  0.665453\n",
            "sadness             1.0  0.817406\n",
            "\n",
            "Sentences with an analytical tag:\n",
            "0 = Team, I know that times are tough! \n",
            "2 = Product sales have been disappointing for the ... \n",
            "3 = We have a competitive product, but we need to ...\n",
            "\n",
            "Bar chart displaying the analytical score of relevant sentences.\n"
          ]
        },
        {
          "output_type": "display_data",
          "data": {
            "text/plain": [
              "<Figure size 432x288 with 1 Axes>"
            ],
            "image/png": "[encoded data removed]"
          },
          "metadata": {
            "needs_background": "light"
          }
        }
      ]
    },
    {
      "cell_type": "markdown",
      "metadata": {
        "id": "k5QvI5ilTftf"
      },
      "source": [
        "### Challenging:  Report the tone data for the whole document\n",
        "---\n",
        "\n",
        "Play with the data, create a dataframe for the document_tone, tones data\n",
        "\n",
        " ```pd.json_normalize(document_tone)```  \n",
        "\n",
        "Display the document score for each of the tones in the analysis"
      ]
    },
    {
      "cell_type": "code",
      "source": [
        "#Covered in the Split 2 above: more separating of nested dictionaries and separating levels of document data; just a repetition of the printing can be applied here.\n",
        "def document_separate(data):\n",
        "  document_df = convert_to_tones_table(data[\"tones\"])\n",
        "  document_df2 = document_df.transpose()\n",
        "  document_final = document_df2[0].apply(pd.Series)\n",
        "  return document_final\n",
        "document_final = document_separate(document)\n",
        "\n",
        "print(\"\\nSplit2: The document tones are: \")\n",
        "print(document_final)"
      ],
      "metadata": {
        "colab": {
          "base_uri": "https://localhost:8080/"
        },
        "id": "z9FzY_R3TCPs",
        "outputId": "f766395b-2e4f-4250-878f-ba8d9b0f2bf3"
      },
      "execution_count": 257,
      "outputs": [
        {
          "output_type": "stream",
          "name": "stdout",
          "text": [
            "\n",
            "Split2: The document tones are: \n",
            "      score     tone_id   tone_name\n",
            "0  0.582191     sadness     Sadness\n",
            "1  0.829888  analytical  Analytical\n"
          ]
        }
      ]
    },
    {
      "cell_type": "markdown",
      "metadata": {
        "id": "L0KZ9z-QTfth"
      },
      "source": [
        "### Change the text in the text file and analyse the new text.\n",
        "---\n",
        "\n",
        "Here is some alternative, **happier text**.  Replace the text in the text-for-analysis.txt file with the text below.  Then run the notebook cells again to see the results.\n",
        "\n",
        "The sentences of the new text are as follows:<br>\n",
        "\"*But I feel peaceful. Your success in the ring this morning was, to a small degree, my success. Your future is assured. You will live, secure and safe, Wilbur. Nothing can harm you now. These autumn days will shorten and grow cold. The leaves will shake loose from the trees and fall. Christmas will come, and the snows of winter. You will live to enjoy the beauty of the frozen world, for you mean a great deal to Zuckerman and he will not harm you, ever. Winter will pass, the days will lengthen, the ice will melt in the pasture pond. The song sparrow will return and sing, the frogs will awake, the warm wind will blow again. All these sights and sounds and smells will be yours to enjoy, Wilbur-this lovely world, these precious days.*\"\n",
        "\n",
        "### The result of this analysis is below:\n",
        "\n",
        "```\n",
        "{'document_tone': {'tones': [{'score': 0.525587, 'tone_id': 'sadness', 'tone_name': 'Sadness'}, {'score': 0.670614, 'tone_id': 'joy', 'tone_name': 'Joy'}, {'score': 0.802229, 'tone_id': 'confident', 'tone_name': 'Confident'}]}, 'sentences_tone': [{'sentence_id': 0, 'text': 'But I feel peaceful.', 'tones': [{'score': 0.511185, 'tone_id': 'joy', 'tone_name': 'Joy'}, {'score': 0.88939, 'tone_id': 'tentative', 'tone_name': 'Tentative'}]}, {'sentence_id': 1, 'text': 'Your success in the ring this morning was, to a small degree, my success.', 'tones': [{'score': 0.919911, 'tone_id': 'joy', 'tone_name': 'Joy'}]}, {'sentence_id': 2, 'text': 'Your future is assured.', 'tones': [{'score': 0.97759, 'tone_id': 'confident', 'tone_name': 'Confident'}]}, {'sentence_id': 3, 'text': 'You will live, secure and safe, Wilbur.', 'tones': [{'score': 0.801827, 'tone_id': 'analytical', 'tone_name': 'Analytical'}, {'score': 0.92125, 'tone_id': 'confident', 'tone_name': 'Confident'}]}, {'sentence_id': 4, 'text': 'Nothing can harm you now.', 'tones': []}, {'sentence_id': 5, 'text': 'These autumn days will shorten and grow cold.', 'tones': []}, {'sentence_id': 6, 'text': 'The leaves will shake loose from the trees and fall.', 'tones': [{'score': 0.621679, 'tone_id': 'fear', 'tone_name': 'Fear'}]}, {'sentence_id': 7, 'text': 'Christmas will come, and the snows of winter.', 'tones': [{'score': 0.614764, 'tone_id': 'joy', 'tone_name': 'Joy'}]}, {'sentence_id': 8, 'text': 'You will live to enjoy the beauty of the frozen world, for you mean a great deal to Zuckerman and he will not harm you, ever.', 'tones': [{'score': 0.930779, 'tone_id': 'joy', 'tone_name': 'Joy'}]}, {'sentence_id': 9, 'text': 'Winter will pass, the days will lengthen, the ice will melt in the pasture pond.', 'tones': [{'score': 0.654012, 'tone_id': 'sadness', 'tone_name': 'Sadness'}]}, {'sentence_id': 10, 'text': 'The song sparrow will return and sing, the frogs will awake, the warm wind will blow again.', 'tones': [{'score': 0.600542, 'tone_id': 'joy', 'tone_name': 'Joy'}]}, {'sentence_id': 11, 'text': 'All these sights and sounds and smells will be yours to enjoy, Wilbur-this lovely world, these precious days.', 'tones': [{'score': 0.939404, 'tone_id': 'joy', 'tone_name': 'Joy'}, {'score': 0.660207, 'tone_id': 'confident', 'tone_name': 'Confident'}]}]}\n",
        "```"
      ]
    },
    {
      "cell_type": "markdown",
      "source": [
        "The new dataframe contains sentences and their tones. There are 2 document tones and 12 sentences. Like the previous dataframe, some of the sentences have more than 1 tone. The same functions will be used to analyse this result and split them into two dataframes on the basis of document and sentences."
      ],
      "metadata": {
        "id": "oi9KcwxZCV-e"
      }
    },
    {
      "cell_type": "code",
      "source": [
        "#Solution to the problem of creating the sentences dataframe.\n",
        "#Convert json data to a dataframe with one row for each tone for each sentence.\n",
        "def convert_to_sentence_tones(data):\n",
        "    df = pd.json_normalize(data)\n",
        "    df = df.explode('tones', ignore_index=True)\n",
        "    df = df.dropna() #need to drop Null rows here so that next lines work\n",
        "    df['score'] = df['tones'].apply(lambda x: x['score'])\n",
        "    df['tone_id'] = df['tones'].apply(lambda x: x['tone_id'])\n",
        "    df['tone_name'] = df['tones'].apply(lambda x: x['tone_name'])\n",
        "    df = df.drop(['tones'], axis=1)\n",
        "    #display(df) #called for with the last closing of the function\n",
        "    return df\n",
        "\n",
        "# create sentences dataframe, explode first and then drop null above. ## \n",
        "# sentences_data = convert_to_sentence_tones(tone_analysis['sentences_tone'])  >> applicable to first dataframe above\n",
        "# display(sentences_data)\n",
        "\n",
        "#convert the new text\n",
        "happy_text = {'document_tone': {'tones': [{'score': 0.525587, 'tone_id': 'sadness', 'tone_name': 'Sadness'}, {'score': 0.670614, 'tone_id': 'joy', 'tone_name': 'Joy'}, {'score': 0.802229, 'tone_id': 'confident', 'tone_name': 'Confident'}]}, 'sentences_tone': [{'sentence_id': 0, 'text': 'But I feel peaceful.', 'tones': [{'score': 0.511185, 'tone_id': 'joy', 'tone_name': 'Joy'}, {'score': 0.88939, 'tone_id': 'tentative', 'tone_name': 'Tentative'}]}, {'sentence_id': 1, 'text': 'Your success in the ring this morning was, to a small degree, my success.', 'tones': [{'score': 0.919911, 'tone_id': 'joy', 'tone_name': 'Joy'}]}, {'sentence_id': 2, 'text': 'Your future is assured.', 'tones': [{'score': 0.97759, 'tone_id': 'confident', 'tone_name': 'Confident'}]}, {'sentence_id': 3, 'text': 'You will live, secure and safe, Wilbur.', 'tones': [{'score': 0.801827, 'tone_id': 'analytical', 'tone_name': 'Analytical'}, {'score': 0.92125, 'tone_id': 'confident', 'tone_name': 'Confident'}]}, {'sentence_id': 4, 'text': 'Nothing can harm you now.', 'tones': []}, {'sentence_id': 5, 'text': 'These autumn days will shorten and grow cold.', 'tones': []}, {'sentence_id': 6, 'text': 'The leaves will shake loose from the trees and fall.', 'tones': [{'score': 0.621679, 'tone_id': 'fear', 'tone_name': 'Fear'}]}, {'sentence_id': 7, 'text': 'Christmas will come, and the snows of winter.', 'tones': [{'score': 0.614764, 'tone_id': 'joy', 'tone_name': 'Joy'}]}, {'sentence_id': 8, 'text': 'You will live to enjoy the beauty of the frozen world, for you mean a great deal to Zuckerman and he will not harm you, ever.', 'tones': [{'score': 0.930779, 'tone_id': 'joy', 'tone_name': 'Joy'}]}, {'sentence_id': 9, 'text': 'Winter will pass, the days will lengthen, the ice will melt in the pasture pond.', 'tones': [{'score': 0.654012, 'tone_id': 'sadness', 'tone_name': 'Sadness'}]}, {'sentence_id': 10, 'text': 'The song sparrow will return and sing, the frogs will awake, the warm wind will blow again.', 'tones': [{'score': 0.600542, 'tone_id': 'joy', 'tone_name': 'Joy'}]}, {'sentence_id': 11, 'text': 'All these sights and sounds and smells will be yours to enjoy, Wilbur-this lovely world, these precious days.', 'tones': [{'score': 0.939404, 'tone_id': 'joy', 'tone_name': 'Joy'}, {'score': 0.660207, 'tone_id': 'confident', 'tone_name': 'Confident'}]}]}\n",
        "new_table = convert_to_sentence_tones(happy_text['document_tone'])\n",
        "display(new_table)\n",
        "\n",
        "#conversion of the sentence_tone\n",
        "updated_table = convert_to_sentence_tones(happy_text['sentences_tone'])\n",
        "display(updated_table)\n"
      ],
      "metadata": {
        "colab": {
          "base_uri": "https://localhost:8080/",
          "height": 583
        },
        "id": "DzNpk7F09_O8",
        "outputId": "a810fe6f-3385-4fcd-f5b4-fec2127eccc5"
      },
      "execution_count": 258,
      "outputs": [
        {
          "output_type": "display_data",
          "data": {
            "text/plain": [
              "      score    tone_id  tone_name\n",
              "0  0.525587    sadness    Sadness\n",
              "1  0.670614        joy        Joy\n",
              "2  0.802229  confident  Confident"
            ],
            "text/html": [
              "\n",
              "  <div id=\"df-1509a8f2-f496-46e8-8cc9-0d16f47cc3ef\">\n",
              "    <div class=\"colab-df-container\">\n",
              "      <div>\n",
              "<style scoped>\n",
              "    .dataframe tbody tr th:only-of-type {\n",
              "        vertical-align: middle;\n",
              "    }\n",
              "\n",
              "    .dataframe tbody tr th {\n",
              "        vertical-align: top;\n",
              "    }\n",
              "\n",
              "    .dataframe thead th {\n",
              "        text-align: right;\n",
              "    }\n",
              "</style>\n",
              "<table border=\"1\" class=\"dataframe\">\n",
              "  <thead>\n",
              "    <tr style=\"text-align: right;\">\n",
              "      <th></th>\n",
              "      <th>score</th>\n",
              "      <th>tone_id</th>\n",
              "      <th>tone_name</th>\n",
              "    </tr>\n",
              "  </thead>\n",
              "  <tbody>\n",
              "    <tr>\n",
              "      <th>0</th>\n",
              "      <td>0.525587</td>\n",
              "      <td>sadness</td>\n",
              "      <td>Sadness</td>\n",
              "    </tr>\n",
              "    <tr>\n",
              "      <th>1</th>\n",
              "      <td>0.670614</td>\n",
              "      <td>joy</td>\n",
              "      <td>Joy</td>\n",
              "    </tr>\n",
              "    <tr>\n",
              "      <th>2</th>\n",
              "      <td>0.802229</td>\n",
              "      <td>confident</td>\n",
              "      <td>Confident</td>\n",
              "    </tr>\n",
              "  </tbody>\n",
              "</table>\n",
              "</div>\n",
              "      <button class=\"colab-df-convert\" onclick=\"convertToInteractive('df-1509a8f2-f496-46e8-8cc9-0d16f47cc3ef')\"\n",
              "              title=\"Convert this dataframe to an interactive table.\"\n",
              "              style=\"display:none;\">\n",
              "        \n",
              "  <svg xmlns=\"http://www.w3.org/2000/svg\" height=\"24px\"viewBox=\"0 0 24 24\"\n",
              "       width=\"24px\">\n",
              "    <path d=\"M0 0h24v24H0V0z\" fill=\"none\"/>\n",
              "    <path d=\"M18.56 5.44l.94 2.06.94-2.06 2.06-.94-2.06-.94-.94-2.06-.94 2.06-2.06.94zm-11 1L8.5 8.5l.94-2.06 2.06-.94-2.06-.94L8.5 2.5l-.94 2.06-2.06.94zm10 10l.94 2.06.94-2.06 2.06-.94-2.06-.94-.94-2.06-.94 2.06-2.06.94z\"/><path d=\"M17.41 7.96l-1.37-1.37c-.4-.4-.92-.59-1.43-.59-.52 0-1.04.2-1.43.59L10.3 9.45l-7.72 7.72c-.78.78-.78 2.05 0 2.83L4 21.41c.39.39.9.59 1.41.59.51 0 1.02-.2 1.41-.59l7.78-7.78 2.81-2.81c.8-.78.8-2.07 0-2.86zM5.41 20L4 18.59l7.72-7.72 1.47 1.35L5.41 20z\"/>\n",
              "  </svg>\n",
              "      </button>\n",
              "      \n",
              "  <style>\n",
              "    .colab-df-container {\n",
              "      display:flex;\n",
              "      flex-wrap:wrap;\n",
              "      gap: 12px;\n",
              "    }\n",
              "\n",
              "    .colab-df-convert {\n",
              "      background-color: #E8F0FE;\n",
              "      border: none;\n",
              "      border-radius: 50%;\n",
              "      cursor: pointer;\n",
              "      display: none;\n",
              "      fill: #1967D2;\n",
              "      height: 32px;\n",
              "      padding: 0 0 0 0;\n",
              "      width: 32px;\n",
              "    }\n",
              "\n",
              "    .colab-df-convert:hover {\n",
              "      background-color: #E2EBFA;\n",
              "      box-shadow: 0px 1px 2px rgba(60, 64, 67, 0.3), 0px 1px 3px 1px rgba(60, 64, 67, 0.15);\n",
              "      fill: #174EA6;\n",
              "    }\n",
              "\n",
              "    [theme=dark] .colab-df-convert {\n",
              "      background-color: #3B4455;\n",
              "      fill: #D2E3FC;\n",
              "    }\n",
              "\n",
              "    [theme=dark] .colab-df-convert:hover {\n",
              "      background-color: #434B5C;\n",
              "      box-shadow: 0px 1px 3px 1px rgba(0, 0, 0, 0.15);\n",
              "      filter: drop-shadow(0px 1px 2px rgba(0, 0, 0, 0.3));\n",
              "      fill: #FFFFFF;\n",
              "    }\n",
              "  </style>\n",
              "\n",
              "      <script>\n",
              "        const buttonEl =\n",
              "          document.querySelector('#df-1509a8f2-f496-46e8-8cc9-0d16f47cc3ef button.colab-df-convert');\n",
              "        buttonEl.style.display =\n",
              "          google.colab.kernel.accessAllowed ? 'block' : 'none';\n",
              "\n",
              "        async function convertToInteractive(key) {\n",
              "          const element = document.querySelector('#df-1509a8f2-f496-46e8-8cc9-0d16f47cc3ef');\n",
              "          const dataTable =\n",
              "            await google.colab.kernel.invokeFunction('convertToInteractive',\n",
              "                                                     [key], {});\n",
              "          if (!dataTable) return;\n",
              "\n",
              "          const docLinkHtml = 'Like what you see? Visit the ' +\n",
              "            '<a target=\"_blank\" href=https://colab.research.google.com/notebooks/data_table.ipynb>data table notebook</a>'\n",
              "            + ' to learn more about interactive tables.';\n",
              "          element.innerHTML = '';\n",
              "          dataTable['output_type'] = 'display_data';\n",
              "          await google.colab.output.renderOutput(dataTable, element);\n",
              "          const docLink = document.createElement('div');\n",
              "          docLink.innerHTML = docLinkHtml;\n",
              "          element.appendChild(docLink);\n",
              "        }\n",
              "      </script>\n",
              "    </div>\n",
              "  </div>\n",
              "  "
            ]
          },
          "metadata": {}
        },
        {
          "output_type": "display_data",
          "data": {
            "text/plain": [
              "    sentence_id                                               text     score  \\\n",
              "0             0                               But I feel peaceful.  0.511185   \n",
              "1             0                               But I feel peaceful.  0.889390   \n",
              "2             1  Your success in the ring this morning was, to ...  0.919911   \n",
              "3             2                            Your future is assured.  0.977590   \n",
              "4             3            You will live, secure and safe, Wilbur.  0.801827   \n",
              "5             3            You will live, secure and safe, Wilbur.  0.921250   \n",
              "8             6  The leaves will shake loose from the trees and...  0.621679   \n",
              "9             7      Christmas will come, and the snows of winter.  0.614764   \n",
              "10            8  You will live to enjoy the beauty of the froze...  0.930779   \n",
              "11            9  Winter will pass, the days will lengthen, the ...  0.654012   \n",
              "12           10  The song sparrow will return and sing, the fro...  0.600542   \n",
              "13           11  All these sights and sounds and smells will be...  0.939404   \n",
              "14           11  All these sights and sounds and smells will be...  0.660207   \n",
              "\n",
              "       tone_id   tone_name  \n",
              "0          joy         Joy  \n",
              "1    tentative   Tentative  \n",
              "2          joy         Joy  \n",
              "3    confident   Confident  \n",
              "4   analytical  Analytical  \n",
              "5    confident   Confident  \n",
              "8         fear        Fear  \n",
              "9          joy         Joy  \n",
              "10         joy         Joy  \n",
              "11     sadness     Sadness  \n",
              "12         joy         Joy  \n",
              "13         joy         Joy  \n",
              "14   confident   Confident  "
            ],
            "text/html": [
              "\n",
              "  <div id=\"df-480fbaf1-511f-439e-897f-da4e864116db\">\n",
              "    <div class=\"colab-df-container\">\n",
              "      <div>\n",
              "<style scoped>\n",
              "    .dataframe tbody tr th:only-of-type {\n",
              "        vertical-align: middle;\n",
              "    }\n",
              "\n",
              "    .dataframe tbody tr th {\n",
              "        vertical-align: top;\n",
              "    }\n",
              "\n",
              "    .dataframe thead th {\n",
              "        text-align: right;\n",
              "    }\n",
              "</style>\n",
              "<table border=\"1\" class=\"dataframe\">\n",
              "  <thead>\n",
              "    <tr style=\"text-align: right;\">\n",
              "      <th></th>\n",
              "      <th>sentence_id</th>\n",
              "      <th>text</th>\n",
              "      <th>score</th>\n",
              "      <th>tone_id</th>\n",
              "      <th>tone_name</th>\n",
              "    </tr>\n",
              "  </thead>\n",
              "  <tbody>\n",
              "    <tr>\n",
              "      <th>0</th>\n",
              "      <td>0</td>\n",
              "      <td>But I feel peaceful.</td>\n",
              "      <td>0.511185</td>\n",
              "      <td>joy</td>\n",
              "      <td>Joy</td>\n",
              "    </tr>\n",
              "    <tr>\n",
              "      <th>1</th>\n",
              "      <td>0</td>\n",
              "      <td>But I feel peaceful.</td>\n",
              "      <td>0.889390</td>\n",
              "      <td>tentative</td>\n",
              "      <td>Tentative</td>\n",
              "    </tr>\n",
              "    <tr>\n",
              "      <th>2</th>\n",
              "      <td>1</td>\n",
              "      <td>Your success in the ring this morning was, to ...</td>\n",
              "      <td>0.919911</td>\n",
              "      <td>joy</td>\n",
              "      <td>Joy</td>\n",
              "    </tr>\n",
              "    <tr>\n",
              "      <th>3</th>\n",
              "      <td>2</td>\n",
              "      <td>Your future is assured.</td>\n",
              "      <td>0.977590</td>\n",
              "      <td>confident</td>\n",
              "      <td>Confident</td>\n",
              "    </tr>\n",
              "    <tr>\n",
              "      <th>4</th>\n",
              "      <td>3</td>\n",
              "      <td>You will live, secure and safe, Wilbur.</td>\n",
              "      <td>0.801827</td>\n",
              "      <td>analytical</td>\n",
              "      <td>Analytical</td>\n",
              "    </tr>\n",
              "    <tr>\n",
              "      <th>5</th>\n",
              "      <td>3</td>\n",
              "      <td>You will live, secure and safe, Wilbur.</td>\n",
              "      <td>0.921250</td>\n",
              "      <td>confident</td>\n",
              "      <td>Confident</td>\n",
              "    </tr>\n",
              "    <tr>\n",
              "      <th>8</th>\n",
              "      <td>6</td>\n",
              "      <td>The leaves will shake loose from the trees and...</td>\n",
              "      <td>0.621679</td>\n",
              "      <td>fear</td>\n",
              "      <td>Fear</td>\n",
              "    </tr>\n",
              "    <tr>\n",
              "      <th>9</th>\n",
              "      <td>7</td>\n",
              "      <td>Christmas will come, and the snows of winter.</td>\n",
              "      <td>0.614764</td>\n",
              "      <td>joy</td>\n",
              "      <td>Joy</td>\n",
              "    </tr>\n",
              "    <tr>\n",
              "      <th>10</th>\n",
              "      <td>8</td>\n",
              "      <td>You will live to enjoy the beauty of the froze...</td>\n",
              "      <td>0.930779</td>\n",
              "      <td>joy</td>\n",
              "      <td>Joy</td>\n",
              "    </tr>\n",
              "    <tr>\n",
              "      <th>11</th>\n",
              "      <td>9</td>\n",
              "      <td>Winter will pass, the days will lengthen, the ...</td>\n",
              "      <td>0.654012</td>\n",
              "      <td>sadness</td>\n",
              "      <td>Sadness</td>\n",
              "    </tr>\n",
              "    <tr>\n",
              "      <th>12</th>\n",
              "      <td>10</td>\n",
              "      <td>The song sparrow will return and sing, the fro...</td>\n",
              "      <td>0.600542</td>\n",
              "      <td>joy</td>\n",
              "      <td>Joy</td>\n",
              "    </tr>\n",
              "    <tr>\n",
              "      <th>13</th>\n",
              "      <td>11</td>\n",
              "      <td>All these sights and sounds and smells will be...</td>\n",
              "      <td>0.939404</td>\n",
              "      <td>joy</td>\n",
              "      <td>Joy</td>\n",
              "    </tr>\n",
              "    <tr>\n",
              "      <th>14</th>\n",
              "      <td>11</td>\n",
              "      <td>All these sights and sounds and smells will be...</td>\n",
              "      <td>0.660207</td>\n",
              "      <td>confident</td>\n",
              "      <td>Confident</td>\n",
              "    </tr>\n",
              "  </tbody>\n",
              "</table>\n",
              "</div>\n",
              "      <button class=\"colab-df-convert\" onclick=\"convertToInteractive('df-480fbaf1-511f-439e-897f-da4e864116db')\"\n",
              "              title=\"Convert this dataframe to an interactive table.\"\n",
              "              style=\"display:none;\">\n",
              "        \n",
              "  <svg xmlns=\"http://www.w3.org/2000/svg\" height=\"24px\"viewBox=\"0 0 24 24\"\n",
              "       width=\"24px\">\n",
              "    <path d=\"M0 0h24v24H0V0z\" fill=\"none\"/>\n",
              "    <path d=\"M18.56 5.44l.94 2.06.94-2.06 2.06-.94-2.06-.94-.94-2.06-.94 2.06-2.06.94zm-11 1L8.5 8.5l.94-2.06 2.06-.94-2.06-.94L8.5 2.5l-.94 2.06-2.06.94zm10 10l.94 2.06.94-2.06 2.06-.94-2.06-.94-.94-2.06-.94 2.06-2.06.94z\"/><path d=\"M17.41 7.96l-1.37-1.37c-.4-.4-.92-.59-1.43-.59-.52 0-1.04.2-1.43.59L10.3 9.45l-7.72 7.72c-.78.78-.78 2.05 0 2.83L4 21.41c.39.39.9.59 1.41.59.51 0 1.02-.2 1.41-.59l7.78-7.78 2.81-2.81c.8-.78.8-2.07 0-2.86zM5.41 20L4 18.59l7.72-7.72 1.47 1.35L5.41 20z\"/>\n",
              "  </svg>\n",
              "      </button>\n",
              "      \n",
              "  <style>\n",
              "    .colab-df-container {\n",
              "      display:flex;\n",
              "      flex-wrap:wrap;\n",
              "      gap: 12px;\n",
              "    }\n",
              "\n",
              "    .colab-df-convert {\n",
              "      background-color: #E8F0FE;\n",
              "      border: none;\n",
              "      border-radius: 50%;\n",
              "      cursor: pointer;\n",
              "      display: none;\n",
              "      fill: #1967D2;\n",
              "      height: 32px;\n",
              "      padding: 0 0 0 0;\n",
              "      width: 32px;\n",
              "    }\n",
              "\n",
              "    .colab-df-convert:hover {\n",
              "      background-color: #E2EBFA;\n",
              "      box-shadow: 0px 1px 2px rgba(60, 64, 67, 0.3), 0px 1px 3px 1px rgba(60, 64, 67, 0.15);\n",
              "      fill: #174EA6;\n",
              "    }\n",
              "\n",
              "    [theme=dark] .colab-df-convert {\n",
              "      background-color: #3B4455;\n",
              "      fill: #D2E3FC;\n",
              "    }\n",
              "\n",
              "    [theme=dark] .colab-df-convert:hover {\n",
              "      background-color: #434B5C;\n",
              "      box-shadow: 0px 1px 3px 1px rgba(0, 0, 0, 0.15);\n",
              "      filter: drop-shadow(0px 1px 2px rgba(0, 0, 0, 0.3));\n",
              "      fill: #FFFFFF;\n",
              "    }\n",
              "  </style>\n",
              "\n",
              "      <script>\n",
              "        const buttonEl =\n",
              "          document.querySelector('#df-480fbaf1-511f-439e-897f-da4e864116db button.colab-df-convert');\n",
              "        buttonEl.style.display =\n",
              "          google.colab.kernel.accessAllowed ? 'block' : 'none';\n",
              "\n",
              "        async function convertToInteractive(key) {\n",
              "          const element = document.querySelector('#df-480fbaf1-511f-439e-897f-da4e864116db');\n",
              "          const dataTable =\n",
              "            await google.colab.kernel.invokeFunction('convertToInteractive',\n",
              "                                                     [key], {});\n",
              "          if (!dataTable) return;\n",
              "\n",
              "          const docLinkHtml = 'Like what you see? Visit the ' +\n",
              "            '<a target=\"_blank\" href=https://colab.research.google.com/notebooks/data_table.ipynb>data table notebook</a>'\n",
              "            + ' to learn more about interactive tables.';\n",
              "          element.innerHTML = '';\n",
              "          dataTable['output_type'] = 'display_data';\n",
              "          await google.colab.output.renderOutput(dataTable, element);\n",
              "          const docLink = document.createElement('div');\n",
              "          docLink.innerHTML = docLinkHtml;\n",
              "          element.appendChild(docLink);\n",
              "        }\n",
              "      </script>\n",
              "    </div>\n",
              "  </div>\n",
              "  "
            ]
          },
          "metadata": {}
        }
      ]
    },
    {
      "cell_type": "markdown",
      "source": [
        "###Wordcloud\n",
        "\n",
        "Adding a wordcloud which helps understanding and determining patterns and evolving trends. In this case the wordcloud visualisation will focus on tones attributed to the sentences on the basis of how frequently they are associated with a sentence (numbers of times a tone tag is repeatd in the respective list)."
      ],
      "metadata": {
        "id": "CB6Jm4NaTmwW"
      }
    },
    {
      "cell_type": "code",
      "source": [
        "#Looking into the tone_name column to \n",
        "print(updated_table['tone_name'])"
      ],
      "metadata": {
        "colab": {
          "base_uri": "https://localhost:8080/"
        },
        "outputId": "0c5390dc-d6d3-431f-9c7e-dd04b079b708",
        "id": "EeH1ZfcYgPNt"
      },
      "execution_count": 259,
      "outputs": [
        {
          "output_type": "stream",
          "name": "stdout",
          "text": [
            "0            Joy\n",
            "1      Tentative\n",
            "2            Joy\n",
            "3      Confident\n",
            "4     Analytical\n",
            "5      Confident\n",
            "8           Fear\n",
            "9            Joy\n",
            "10           Joy\n",
            "11       Sadness\n",
            "12           Joy\n",
            "13           Joy\n",
            "14     Confident\n",
            "Name: tone_name, dtype: object\n"
          ]
        }
      ]
    },
    {
      "cell_type": "code",
      "source": [
        "!pip install wordcloud"
      ],
      "metadata": {
        "id": "w4rtEr84CnnG",
        "colab": {
          "base_uri": "https://localhost:8080/"
        },
        "outputId": "d99822fb-04e5-4f68-9fa7-8b6145971f40"
      },
      "execution_count": 260,
      "outputs": [
        {
          "output_type": "stream",
          "name": "stdout",
          "text": [
            "Requirement already satisfied: wordcloud in /usr/local/lib/python3.7/dist-packages (1.5.0)\n",
            "Requirement already satisfied: numpy>=1.6.1 in /usr/local/lib/python3.7/dist-packages (from wordcloud) (1.21.5)\n",
            "Requirement already satisfied: pillow in /usr/local/lib/python3.7/dist-packages (from wordcloud) (7.1.2)\n"
          ]
        }
      ]
    },
    {
      "cell_type": "code",
      "source": [
        "#Importing Libraries\n",
        "import pandas as pd\n",
        "import matplotlib.pyplot as plt\n",
        "%matplotlib inline\n",
        "from wordcloud import WordCloud\n",
        "\n",
        "#Importing Dataset\n",
        "#df = pd.json_normalize(data) #N/A\n",
        "\n",
        "# Creating a word_cloud with text as argument in .generate() method\n",
        "word_cloud = WordCloud(collocations = False, background_color = 'white').generate(\" \".join(list(updated_table['tone_name']))) \n",
        "# the str code is necessary to treat the data imported as string for a wordcloud.\n",
        "# However, an apostrophe is appended to the words in the cloud with (str(list(updated_table['tone_name']))). This is solved by replacing <text = str(test)> with <\" \".join(test)>\n",
        "# Converting a dataframe column to a list via <list(df['column'])>, or <df['column'].tolist()>, or as above by adding <list(df['column_name'])>\n",
        "\n",
        "# Display the generated Word Cloud\n",
        "plt.imshow(word_cloud, interpolation='bilinear')\n",
        "plt.axis(\"off\")\n",
        "plt.show()"
      ],
      "metadata": {
        "colab": {
          "base_uri": "https://localhost:8080/",
          "height": 198
        },
        "id": "KuxB19snKyqh",
        "outputId": "00f03d3b-d73f-4671-b159-906b8d8744cb"
      },
      "execution_count": 275,
      "outputs": [
        {
          "output_type": "display_data",
          "data": {
            "text/plain": [
              "<Figure size 432x288 with 1 Axes>"
            ],
            "image/png": "[encoded data removed]"
          },
          "metadata": {
            "needs_background": "light"
          }
        }
      ]
    },
    {
      "cell_type": "code",
      "source": [
        "#alternative display\n",
        "wordcloud = WordCloud(max_font_size=50, max_words=100, background_color=\"lightgrey\").generate(\" \".join(list(updated_table['tone_name'])))\n",
        "# text = str(test) > \" \".join(test)\n",
        "#plt.figure()\n",
        "plt.imshow(wordcloud, interpolation=\"bilinear\")\n",
        "plt.axis(\"off\")\n",
        "plt.show()"
      ],
      "metadata": {
        "colab": {
          "base_uri": "https://localhost:8080/",
          "height": 198
        },
        "id": "JUF7mJSAEaWG",
        "outputId": "a57fe4e6-dad6-4657-c01f-f2f77dc77321"
      },
      "execution_count": 283,
      "outputs": [
        {
          "output_type": "display_data",
          "data": {
            "text/plain": [
              "<Figure size 432x288 with 1 Axes>"
            ],
            "image/png": "[encoded data removed]"
          },
          "metadata": {
            "needs_background": "light"
          }
        }
      ]
    },
    {
      "cell_type": "markdown",
      "source": [
        "#Reflection\n",
        "\n",
        "Various different Python aspects have been practised in this project like using an API and receiving the results in JSON format. I also have have improved the use of functions in my code to call repeated operations like repeated normalizations, filtering, getting statistical information. In addition, I embarked on doing some research and incorporating some wordcloud visualisations for the 2nd dataframe that included a longer list of tone names tagged for the given sentences, in order to display them according to frequency strength. This allowed me to dive into the world of data management possibilities and to gain a better understanding of the power of Python in making data meaningful."
      ],
      "metadata": {
        "id": "aLN7GyUlSfJh"
      }
    }
  ],
  "metadata": {
    "kernelspec": {
      "display_name": "Python 3",
      "language": "python",
      "name": "python3"
    },
    "language_info": {
      "codemirror_mode": {
        "name": "ipython",
        "version": 3
      },
      "file_extension": ".py",
      "mimetype": "text/x-python",
      "name": "python",
      "nbconvert_exporter": "python",
      "pygments_lexer": "ipython3",
      "version": "3.8.8"
    },
    "colab": {
      "name": "WatsonToneAnalyser.ipynb",
      "provenance": [],
      "collapsed_sections": [],
      "include_colab_link": true
    }
  },
  "nbformat": 4,
  "nbformat_minor": 0
}