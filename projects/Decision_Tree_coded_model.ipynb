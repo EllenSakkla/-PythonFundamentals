{
  "nbformat": 4,
  "nbformat_minor": 0,
  "metadata": {
    "colab": {
      "name": "Decision-Tree-coded-model.ipynb",
      "provenance": [],
      "collapsed_sections": [],
      "include_colab_link": true
    },
    "kernelspec": {
      "display_name": "Python 3",
      "language": "python",
      "name": "python3"
    },
    "language_info": {
      "codemirror_mode": {
        "name": "ipython",
        "version": 3
      },
      "file_extension": ".py",
      "mimetype": "text/x-python",
      "name": "python",
      "nbconvert_exporter": "python",
      "pygments_lexer": "ipython3",
      "version": "3.8.5"
    }
  },
  "cells": [
    {
      "cell_type": "markdown",
      "metadata": {
        "id": "view-in-github",
        "colab_type": "text"
      },
      "source": [
        "<a href=\"https://colab.research.google.com/github/EllenSakkla/Python/blob/main/projects/Decision_Tree_coded_model.ipynb\" target=\"_parent\"><img src=\"https://colab.research.google.com/assets/colab-badge.svg\" alt=\"Open In Colab\"/></a>"
      ]
    },
    {
      "cell_type": "markdown",
      "metadata": {
        "id": "9HyLZK84N75s"
      },
      "source": [
        "# Coding a decision tree\n",
        "---\n",
        "\n",
        "The focus of this project is a **data set**, using the idea of a **decision tree class**.  The model is simplified with Python code to make a simple decision tree classification model.  This is done for two reasons:\n",
        "*   writing the code is often good for helping to understand what is going on under the bonnet of a library function\n",
        "*   it is a good coding exercise for practice as it mostly depends on calculations and if..elif..else statements.\n",
        "\n",
        "This project involves coding a decision tree which will use the calculated probabilities to make decisions about whether a row of given data would be classified as **Iris-virginica**, or not, based on sepal and petal dimensions.  It is easier to classify between two values (Iris-virginica or not - the other two types being 'Iris-setosa' and 'Iris-versicolor').  Later, using this information, species can be further predicted by probabilities of error.\n",
        "\n",
        "![Iris-petals and sepals](https://www.math.umd.edu/~petersd/666/html/iris_with_labels.jpg)\n",
        "\n",
        "The workflow is:\n",
        "*  divide the data set into 70% of the rows for training and 30% for testing  (we can increase the size of the training set later)\n",
        "*  find the mean for each of the 4 size columns\n",
        "*  calculate the proportion of each column that are on or above mean that are of a species (ie proportion of petal-lengths on or above mean that are Iris-virginica)\n",
        "*  infer the proportion of each that are not of that species (using 1 - proportion above).  In both cases we are looking to find if either of these is 1, which could be infered as definitely not that species. \n",
        "*  calculate a Gini Index that will indicate the probability that a prediction will be incorrect\n",
        "*  use the results of the Gini Index to model a decision tree\n",
        "*  code the decision tree model into a function that will return whether or not a row in the test set is predicted to be of species Iris-virginica\n",
        "*  use the decision tree function to predict, for each row in the test set, if the species will be Iris-virginicia or not, using a set of nested if statements to classify\n",
        "*  compare the predicted values against the actual values in the test set - what proportion were predicted correctly?\n"
      ]
    },
    {
      "cell_type": "markdown",
      "metadata": {
        "id": "4iR8g8h_Ol0j"
      },
      "source": [
        "### Exercise 1 - investigate the iris data set\n",
        "---\n",
        "Let's start by looking at the data.  We are going to use a data set that contains data on iris flowers.\n",
        "\n",
        "Read the data at this location: https://raw.githubusercontent.com/jbrownlee/Datasets/master/iris.csv into a dataframe called iris_data\n",
        "\n",
        "The columns in the CSV file do not have headings, when you read the file, add column headings like this:\n",
        "```\n",
        "url = \"https://raw.githubusercontent.com/jbrownlee/Datasets/master/iris.csv\"\n",
        "names = ['sepal-length', 'sepal-width', 'petal-length', 'petal-width', 'species']\n",
        "iris_data = pd.read_csv(url, name=names)\n",
        "```\n",
        "*  Take a look at the column info (how many columns, what type of data, any missing data?)\n",
        "*  Take a look at the data values in the first 10 and the last 10 records to get an idea of the type of values included\n",
        "*  Find out how many unique values there are in the species column\n",
        "*  Find out the maximum, minimum, mean, median and upper and lower quartile values in each of the columns\n"
      ]
    },
    {
      "cell_type": "code",
      "metadata": {
        "id": "eGZuOLPYPgL5",
        "colab": {
          "base_uri": "https://localhost:8080/",
          "height": 424
        },
        "outputId": "ea559da2-7fb4-4d18-daca-3c6507afd6e0"
      },
      "source": [
        "import pandas as pd\n",
        "import numpy as np\n",
        "\n",
        "url = \"https://raw.githubusercontent.com/jbrownlee/Datasets/master/iris.csv\"\n",
        "names = ['sepal-length', 'sepal-width', 'petal-length', 'petal-width', 'species']\n",
        "iris_data = pd.read_csv(url, names=names)\n",
        "\n",
        "iris_data\n",
        "#iris_data.info() #can't run both display requests at the same time"
      ],
      "execution_count": 5,
      "outputs": [
        {
          "output_type": "execute_result",
          "data": {
            "text/plain": [
              "     sepal-length  sepal-width  petal-length  petal-width         species\n",
              "0             5.1          3.5           1.4          0.2     Iris-setosa\n",
              "1             4.9          3.0           1.4          0.2     Iris-setosa\n",
              "2             4.7          3.2           1.3          0.2     Iris-setosa\n",
              "3             4.6          3.1           1.5          0.2     Iris-setosa\n",
              "4             5.0          3.6           1.4          0.2     Iris-setosa\n",
              "..            ...          ...           ...          ...             ...\n",
              "145           6.7          3.0           5.2          2.3  Iris-virginica\n",
              "146           6.3          2.5           5.0          1.9  Iris-virginica\n",
              "147           6.5          3.0           5.2          2.0  Iris-virginica\n",
              "148           6.2          3.4           5.4          2.3  Iris-virginica\n",
              "149           5.9          3.0           5.1          1.8  Iris-virginica\n",
              "\n",
              "[150 rows x 5 columns]"
            ],
            "text/html": [
              "\n",
              "  <div id=\"df-77cefecf-2ee8-4fb0-8629-5a911a4dfdd8\">\n",
              "    <div class=\"colab-df-container\">\n",
              "      <div>\n",
              "<style scoped>\n",
              "    .dataframe tbody tr th:only-of-type {\n",
              "        vertical-align: middle;\n",
              "    }\n",
              "\n",
              "    .dataframe tbody tr th {\n",
              "        vertical-align: top;\n",
              "    }\n",
              "\n",
              "    .dataframe thead th {\n",
              "        text-align: right;\n",
              "    }\n",
              "</style>\n",
              "<table border=\"1\" class=\"dataframe\">\n",
              "  <thead>\n",
              "    <tr style=\"text-align: right;\">\n",
              "      <th></th>\n",
              "      <th>sepal-length</th>\n",
              "      <th>sepal-width</th>\n",
              "      <th>petal-length</th>\n",
              "      <th>petal-width</th>\n",
              "      <th>species</th>\n",
              "    </tr>\n",
              "  </thead>\n",
              "  <tbody>\n",
              "    <tr>\n",
              "      <th>0</th>\n",
              "      <td>5.1</td>\n",
              "      <td>3.5</td>\n",
              "      <td>1.4</td>\n",
              "      <td>0.2</td>\n",
              "      <td>Iris-setosa</td>\n",
              "    </tr>\n",
              "    <tr>\n",
              "      <th>1</th>\n",
              "      <td>4.9</td>\n",
              "      <td>3.0</td>\n",
              "      <td>1.4</td>\n",
              "      <td>0.2</td>\n",
              "      <td>Iris-setosa</td>\n",
              "    </tr>\n",
              "    <tr>\n",
              "      <th>2</th>\n",
              "      <td>4.7</td>\n",
              "      <td>3.2</td>\n",
              "      <td>1.3</td>\n",
              "      <td>0.2</td>\n",
              "      <td>Iris-setosa</td>\n",
              "    </tr>\n",
              "    <tr>\n",
              "      <th>3</th>\n",
              "      <td>4.6</td>\n",
              "      <td>3.1</td>\n",
              "      <td>1.5</td>\n",
              "      <td>0.2</td>\n",
              "      <td>Iris-setosa</td>\n",
              "    </tr>\n",
              "    <tr>\n",
              "      <th>4</th>\n",
              "      <td>5.0</td>\n",
              "      <td>3.6</td>\n",
              "      <td>1.4</td>\n",
              "      <td>0.2</td>\n",
              "      <td>Iris-setosa</td>\n",
              "    </tr>\n",
              "    <tr>\n",
              "      <th>...</th>\n",
              "      <td>...</td>\n",
              "      <td>...</td>\n",
              "      <td>...</td>\n",
              "      <td>...</td>\n",
              "      <td>...</td>\n",
              "    </tr>\n",
              "    <tr>\n",
              "      <th>145</th>\n",
              "      <td>6.7</td>\n",
              "      <td>3.0</td>\n",
              "      <td>5.2</td>\n",
              "      <td>2.3</td>\n",
              "      <td>Iris-virginica</td>\n",
              "    </tr>\n",
              "    <tr>\n",
              "      <th>146</th>\n",
              "      <td>6.3</td>\n",
              "      <td>2.5</td>\n",
              "      <td>5.0</td>\n",
              "      <td>1.9</td>\n",
              "      <td>Iris-virginica</td>\n",
              "    </tr>\n",
              "    <tr>\n",
              "      <th>147</th>\n",
              "      <td>6.5</td>\n",
              "      <td>3.0</td>\n",
              "      <td>5.2</td>\n",
              "      <td>2.0</td>\n",
              "      <td>Iris-virginica</td>\n",
              "    </tr>\n",
              "    <tr>\n",
              "      <th>148</th>\n",
              "      <td>6.2</td>\n",
              "      <td>3.4</td>\n",
              "      <td>5.4</td>\n",
              "      <td>2.3</td>\n",
              "      <td>Iris-virginica</td>\n",
              "    </tr>\n",
              "    <tr>\n",
              "      <th>149</th>\n",
              "      <td>5.9</td>\n",
              "      <td>3.0</td>\n",
              "      <td>5.1</td>\n",
              "      <td>1.8</td>\n",
              "      <td>Iris-virginica</td>\n",
              "    </tr>\n",
              "  </tbody>\n",
              "</table>\n",
              "<p>150 rows × 5 columns</p>\n",
              "</div>\n",
              "      <button class=\"colab-df-convert\" onclick=\"convertToInteractive('df-77cefecf-2ee8-4fb0-8629-5a911a4dfdd8')\"\n",
              "              title=\"Convert this dataframe to an interactive table.\"\n",
              "              style=\"display:none;\">\n",
              "        \n",
              "  <svg xmlns=\"http://www.w3.org/2000/svg\" height=\"24px\"viewBox=\"0 0 24 24\"\n",
              "       width=\"24px\">\n",
              "    <path d=\"M0 0h24v24H0V0z\" fill=\"none\"/>\n",
              "    <path d=\"M18.56 5.44l.94 2.06.94-2.06 2.06-.94-2.06-.94-.94-2.06-.94 2.06-2.06.94zm-11 1L8.5 8.5l.94-2.06 2.06-.94-2.06-.94L8.5 2.5l-.94 2.06-2.06.94zm10 10l.94 2.06.94-2.06 2.06-.94-2.06-.94-.94-2.06-.94 2.06-2.06.94z\"/><path d=\"M17.41 7.96l-1.37-1.37c-.4-.4-.92-.59-1.43-.59-.52 0-1.04.2-1.43.59L10.3 9.45l-7.72 7.72c-.78.78-.78 2.05 0 2.83L4 21.41c.39.39.9.59 1.41.59.51 0 1.02-.2 1.41-.59l7.78-7.78 2.81-2.81c.8-.78.8-2.07 0-2.86zM5.41 20L4 18.59l7.72-7.72 1.47 1.35L5.41 20z\"/>\n",
              "  </svg>\n",
              "      </button>\n",
              "      \n",
              "  <style>\n",
              "    .colab-df-container {\n",
              "      display:flex;\n",
              "      flex-wrap:wrap;\n",
              "      gap: 12px;\n",
              "    }\n",
              "\n",
              "    .colab-df-convert {\n",
              "      background-color: #E8F0FE;\n",
              "      border: none;\n",
              "      border-radius: 50%;\n",
              "      cursor: pointer;\n",
              "      display: none;\n",
              "      fill: #1967D2;\n",
              "      height: 32px;\n",
              "      padding: 0 0 0 0;\n",
              "      width: 32px;\n",
              "    }\n",
              "\n",
              "    .colab-df-convert:hover {\n",
              "      background-color: #E2EBFA;\n",
              "      box-shadow: 0px 1px 2px rgba(60, 64, 67, 0.3), 0px 1px 3px 1px rgba(60, 64, 67, 0.15);\n",
              "      fill: #174EA6;\n",
              "    }\n",
              "\n",
              "    [theme=dark] .colab-df-convert {\n",
              "      background-color: #3B4455;\n",
              "      fill: #D2E3FC;\n",
              "    }\n",
              "\n",
              "    [theme=dark] .colab-df-convert:hover {\n",
              "      background-color: #434B5C;\n",
              "      box-shadow: 0px 1px 3px 1px rgba(0, 0, 0, 0.15);\n",
              "      filter: drop-shadow(0px 1px 2px rgba(0, 0, 0, 0.3));\n",
              "      fill: #FFFFFF;\n",
              "    }\n",
              "  </style>\n",
              "\n",
              "      <script>\n",
              "        const buttonEl =\n",
              "          document.querySelector('#df-77cefecf-2ee8-4fb0-8629-5a911a4dfdd8 button.colab-df-convert');\n",
              "        buttonEl.style.display =\n",
              "          google.colab.kernel.accessAllowed ? 'block' : 'none';\n",
              "\n",
              "        async function convertToInteractive(key) {\n",
              "          const element = document.querySelector('#df-77cefecf-2ee8-4fb0-8629-5a911a4dfdd8');\n",
              "          const dataTable =\n",
              "            await google.colab.kernel.invokeFunction('convertToInteractive',\n",
              "                                                     [key], {});\n",
              "          if (!dataTable) return;\n",
              "\n",
              "          const docLinkHtml = 'Like what you see? Visit the ' +\n",
              "            '<a target=\"_blank\" href=https://colab.research.google.com/notebooks/data_table.ipynb>data table notebook</a>'\n",
              "            + ' to learn more about interactive tables.';\n",
              "          element.innerHTML = '';\n",
              "          dataTable['output_type'] = 'display_data';\n",
              "          await google.colab.output.renderOutput(dataTable, element);\n",
              "          const docLink = document.createElement('div');\n",
              "          docLink.innerHTML = docLinkHtml;\n",
              "          element.appendChild(docLink);\n",
              "        }\n",
              "      </script>\n",
              "    </div>\n",
              "  </div>\n",
              "  "
            ]
          },
          "metadata": {},
          "execution_count": 5
        }
      ]
    },
    {
      "cell_type": "markdown",
      "source": [
        "The initial review of the data set shows that we have 150 rows and 5 columns in total, 4 containing numerical values for sepal/petal width and length and the 5th containing the names of the species."
      ],
      "metadata": {
        "id": "beOCIpD3nJ_i"
      }
    },
    {
      "cell_type": "code",
      "source": [
        "#To view the first or last few records of a dataframe, we can use the methods head and tail\n",
        "# first_ten = iris_data[:10]\n",
        "# first_ten\n",
        "# last_ten = iris_data[-10:]\n",
        "# last_ten\n",
        "\n",
        "iris_data.head() #displaying the top 5 rows of the dataframe"
      ],
      "metadata": {
        "colab": {
          "base_uri": "https://localhost:8080/",
          "height": 206
        },
        "id": "-HHrfl92lGsR",
        "outputId": "4b5b32f2-c53c-4dd4-bbfc-e7b12bbf6ff4"
      },
      "execution_count": 6,
      "outputs": [
        {
          "output_type": "execute_result",
          "data": {
            "text/plain": [
              "   sepal-length  sepal-width  petal-length  petal-width      species\n",
              "0           5.1          3.5           1.4          0.2  Iris-setosa\n",
              "1           4.9          3.0           1.4          0.2  Iris-setosa\n",
              "2           4.7          3.2           1.3          0.2  Iris-setosa\n",
              "3           4.6          3.1           1.5          0.2  Iris-setosa\n",
              "4           5.0          3.6           1.4          0.2  Iris-setosa"
            ],
            "text/html": [
              "\n",
              "  <div id=\"df-4a9870fd-df1e-4e10-9162-ab5db2e28057\">\n",
              "    <div class=\"colab-df-container\">\n",
              "      <div>\n",
              "<style scoped>\n",
              "    .dataframe tbody tr th:only-of-type {\n",
              "        vertical-align: middle;\n",
              "    }\n",
              "\n",
              "    .dataframe tbody tr th {\n",
              "        vertical-align: top;\n",
              "    }\n",
              "\n",
              "    .dataframe thead th {\n",
              "        text-align: right;\n",
              "    }\n",
              "</style>\n",
              "<table border=\"1\" class=\"dataframe\">\n",
              "  <thead>\n",
              "    <tr style=\"text-align: right;\">\n",
              "      <th></th>\n",
              "      <th>sepal-length</th>\n",
              "      <th>sepal-width</th>\n",
              "      <th>petal-length</th>\n",
              "      <th>petal-width</th>\n",
              "      <th>species</th>\n",
              "    </tr>\n",
              "  </thead>\n",
              "  <tbody>\n",
              "    <tr>\n",
              "      <th>0</th>\n",
              "      <td>5.1</td>\n",
              "      <td>3.5</td>\n",
              "      <td>1.4</td>\n",
              "      <td>0.2</td>\n",
              "      <td>Iris-setosa</td>\n",
              "    </tr>\n",
              "    <tr>\n",
              "      <th>1</th>\n",
              "      <td>4.9</td>\n",
              "      <td>3.0</td>\n",
              "      <td>1.4</td>\n",
              "      <td>0.2</td>\n",
              "      <td>Iris-setosa</td>\n",
              "    </tr>\n",
              "    <tr>\n",
              "      <th>2</th>\n",
              "      <td>4.7</td>\n",
              "      <td>3.2</td>\n",
              "      <td>1.3</td>\n",
              "      <td>0.2</td>\n",
              "      <td>Iris-setosa</td>\n",
              "    </tr>\n",
              "    <tr>\n",
              "      <th>3</th>\n",
              "      <td>4.6</td>\n",
              "      <td>3.1</td>\n",
              "      <td>1.5</td>\n",
              "      <td>0.2</td>\n",
              "      <td>Iris-setosa</td>\n",
              "    </tr>\n",
              "    <tr>\n",
              "      <th>4</th>\n",
              "      <td>5.0</td>\n",
              "      <td>3.6</td>\n",
              "      <td>1.4</td>\n",
              "      <td>0.2</td>\n",
              "      <td>Iris-setosa</td>\n",
              "    </tr>\n",
              "  </tbody>\n",
              "</table>\n",
              "</div>\n",
              "      <button class=\"colab-df-convert\" onclick=\"convertToInteractive('df-4a9870fd-df1e-4e10-9162-ab5db2e28057')\"\n",
              "              title=\"Convert this dataframe to an interactive table.\"\n",
              "              style=\"display:none;\">\n",
              "        \n",
              "  <svg xmlns=\"http://www.w3.org/2000/svg\" height=\"24px\"viewBox=\"0 0 24 24\"\n",
              "       width=\"24px\">\n",
              "    <path d=\"M0 0h24v24H0V0z\" fill=\"none\"/>\n",
              "    <path d=\"M18.56 5.44l.94 2.06.94-2.06 2.06-.94-2.06-.94-.94-2.06-.94 2.06-2.06.94zm-11 1L8.5 8.5l.94-2.06 2.06-.94-2.06-.94L8.5 2.5l-.94 2.06-2.06.94zm10 10l.94 2.06.94-2.06 2.06-.94-2.06-.94-.94-2.06-.94 2.06-2.06.94z\"/><path d=\"M17.41 7.96l-1.37-1.37c-.4-.4-.92-.59-1.43-.59-.52 0-1.04.2-1.43.59L10.3 9.45l-7.72 7.72c-.78.78-.78 2.05 0 2.83L4 21.41c.39.39.9.59 1.41.59.51 0 1.02-.2 1.41-.59l7.78-7.78 2.81-2.81c.8-.78.8-2.07 0-2.86zM5.41 20L4 18.59l7.72-7.72 1.47 1.35L5.41 20z\"/>\n",
              "  </svg>\n",
              "      </button>\n",
              "      \n",
              "  <style>\n",
              "    .colab-df-container {\n",
              "      display:flex;\n",
              "      flex-wrap:wrap;\n",
              "      gap: 12px;\n",
              "    }\n",
              "\n",
              "    .colab-df-convert {\n",
              "      background-color: #E8F0FE;\n",
              "      border: none;\n",
              "      border-radius: 50%;\n",
              "      cursor: pointer;\n",
              "      display: none;\n",
              "      fill: #1967D2;\n",
              "      height: 32px;\n",
              "      padding: 0 0 0 0;\n",
              "      width: 32px;\n",
              "    }\n",
              "\n",
              "    .colab-df-convert:hover {\n",
              "      background-color: #E2EBFA;\n",
              "      box-shadow: 0px 1px 2px rgba(60, 64, 67, 0.3), 0px 1px 3px 1px rgba(60, 64, 67, 0.15);\n",
              "      fill: #174EA6;\n",
              "    }\n",
              "\n",
              "    [theme=dark] .colab-df-convert {\n",
              "      background-color: #3B4455;\n",
              "      fill: #D2E3FC;\n",
              "    }\n",
              "\n",
              "    [theme=dark] .colab-df-convert:hover {\n",
              "      background-color: #434B5C;\n",
              "      box-shadow: 0px 1px 3px 1px rgba(0, 0, 0, 0.15);\n",
              "      filter: drop-shadow(0px 1px 2px rgba(0, 0, 0, 0.3));\n",
              "      fill: #FFFFFF;\n",
              "    }\n",
              "  </style>\n",
              "\n",
              "      <script>\n",
              "        const buttonEl =\n",
              "          document.querySelector('#df-4a9870fd-df1e-4e10-9162-ab5db2e28057 button.colab-df-convert');\n",
              "        buttonEl.style.display =\n",
              "          google.colab.kernel.accessAllowed ? 'block' : 'none';\n",
              "\n",
              "        async function convertToInteractive(key) {\n",
              "          const element = document.querySelector('#df-4a9870fd-df1e-4e10-9162-ab5db2e28057');\n",
              "          const dataTable =\n",
              "            await google.colab.kernel.invokeFunction('convertToInteractive',\n",
              "                                                     [key], {});\n",
              "          if (!dataTable) return;\n",
              "\n",
              "          const docLinkHtml = 'Like what you see? Visit the ' +\n",
              "            '<a target=\"_blank\" href=https://colab.research.google.com/notebooks/data_table.ipynb>data table notebook</a>'\n",
              "            + ' to learn more about interactive tables.';\n",
              "          element.innerHTML = '';\n",
              "          dataTable['output_type'] = 'display_data';\n",
              "          await google.colab.output.renderOutput(dataTable, element);\n",
              "          const docLink = document.createElement('div');\n",
              "          docLink.innerHTML = docLinkHtml;\n",
              "          element.appendChild(docLink);\n",
              "        }\n",
              "      </script>\n",
              "    </div>\n",
              "  </div>\n",
              "  "
            ]
          },
          "metadata": {},
          "execution_count": 6
        }
      ]
    },
    {
      "cell_type": "code",
      "source": [
        "#alternative\n",
        "iris_data.info()"
      ],
      "metadata": {
        "colab": {
          "base_uri": "https://localhost:8080/"
        },
        "id": "EH8TOzZFWCYb",
        "outputId": "b67afe77-6d66-44a3-a599-21f0df908e6f"
      },
      "execution_count": 7,
      "outputs": [
        {
          "output_type": "stream",
          "name": "stdout",
          "text": [
            "<class 'pandas.core.frame.DataFrame'>\n",
            "RangeIndex: 150 entries, 0 to 149\n",
            "Data columns (total 5 columns):\n",
            " #   Column        Non-Null Count  Dtype  \n",
            "---  ------        --------------  -----  \n",
            " 0   sepal-length  150 non-null    float64\n",
            " 1   sepal-width   150 non-null    float64\n",
            " 2   petal-length  150 non-null    float64\n",
            " 3   petal-width   150 non-null    float64\n",
            " 4   species       150 non-null    object \n",
            "dtypes: float64(4), object(1)\n",
            "memory usage: 6.0+ KB\n"
          ]
        }
      ]
    },
    {
      "cell_type": "code",
      "source": [
        "print(iris_data)\n",
        "column_values = iris_data[[\"species\"]].values\n",
        "# print(column_values) #will print the whole column 'species'\n",
        "\n",
        "#Indentifying and printing the unique types of iris flowers found in the database\n",
        "unique_values = np.unique(column_values)\n",
        "print(\"The types of iris flower species found in the dataframe are:\", unique_values)"
      ],
      "metadata": {
        "colab": {
          "base_uri": "https://localhost:8080/"
        },
        "id": "Dma9ls_5bIvl",
        "outputId": "771a19d5-f460-405c-c0b0-c0c104b19de6"
      },
      "execution_count": 8,
      "outputs": [
        {
          "output_type": "stream",
          "name": "stdout",
          "text": [
            "     sepal-length  sepal-width  petal-length  petal-width         species\n",
            "0             5.1          3.5           1.4          0.2     Iris-setosa\n",
            "1             4.9          3.0           1.4          0.2     Iris-setosa\n",
            "2             4.7          3.2           1.3          0.2     Iris-setosa\n",
            "3             4.6          3.1           1.5          0.2     Iris-setosa\n",
            "4             5.0          3.6           1.4          0.2     Iris-setosa\n",
            "..            ...          ...           ...          ...             ...\n",
            "145           6.7          3.0           5.2          2.3  Iris-virginica\n",
            "146           6.3          2.5           5.0          1.9  Iris-virginica\n",
            "147           6.5          3.0           5.2          2.0  Iris-virginica\n",
            "148           6.2          3.4           5.4          2.3  Iris-virginica\n",
            "149           5.9          3.0           5.1          1.8  Iris-virginica\n",
            "\n",
            "[150 rows x 5 columns]\n",
            "The types of iris flower species found in the dataframe are: ['Iris-setosa' 'Iris-versicolor' 'Iris-virginica']\n"
          ]
        }
      ]
    },
    {
      "cell_type": "code",
      "source": [
        "# Number of entries for each iris flower under the 'species' column\n",
        "iris_data['species'].value_counts() "
      ],
      "metadata": {
        "colab": {
          "base_uri": "https://localhost:8080/"
        },
        "id": "jWA8hiTUph6x",
        "outputId": "d0117ddd-d076-41ed-fc14-fb23494ee410"
      },
      "execution_count": 9,
      "outputs": [
        {
          "output_type": "execute_result",
          "data": {
            "text/plain": [
              "Iris-setosa        50\n",
              "Iris-versicolor    50\n",
              "Iris-virginica     50\n",
              "Name: species, dtype: int64"
            ]
          },
          "metadata": {},
          "execution_count": 9
        }
      ]
    },
    {
      "cell_type": "code",
      "source": [
        "columns = iris_data[[\"sepal-length\", \"sepal-width\", \"petal-length\", \"petal-width\", \"species\"]]\n",
        "max_value = columns.max()\n",
        "print(max_value)\n",
        "min_value = columns.min()\n",
        "print(min_value)"
      ],
      "metadata": {
        "colab": {
          "base_uri": "https://localhost:8080/"
        },
        "id": "UBGohv-Mb-YC",
        "outputId": "70fb4db1-780c-4f31-ffb7-cdf129ab38ad"
      },
      "execution_count": 10,
      "outputs": [
        {
          "output_type": "stream",
          "name": "stdout",
          "text": [
            "sepal-length               7.9\n",
            "sepal-width                4.4\n",
            "petal-length               6.9\n",
            "petal-width                2.5\n",
            "species         Iris-virginica\n",
            "dtype: object\n",
            "sepal-length            4.3\n",
            "sepal-width             2.0\n",
            "petal-length            1.0\n",
            "petal-width             0.1\n",
            "species         Iris-setosa\n",
            "dtype: object\n"
          ]
        }
      ]
    },
    {
      "cell_type": "code",
      "source": [
        "# Additionally we can use the .describe() for a generic summary of important calculations which covers upper/lower quartiles\n",
        "iris_data[[\"sepal-length\", \"sepal-width\", \"petal-length\", \"petal-width\", \"species\"]].describe() "
      ],
      "metadata": {
        "colab": {
          "base_uri": "https://localhost:8080/",
          "height": 300
        },
        "id": "aOPLtF_ce0AW",
        "outputId": "703d835d-c9b5-40cf-cd53-6d8aa2f852cb"
      },
      "execution_count": 11,
      "outputs": [
        {
          "output_type": "execute_result",
          "data": {
            "text/plain": [
              "       sepal-length  sepal-width  petal-length  petal-width\n",
              "count    150.000000   150.000000    150.000000   150.000000\n",
              "mean       5.843333     3.054000      3.758667     1.198667\n",
              "std        0.828066     0.433594      1.764420     0.763161\n",
              "min        4.300000     2.000000      1.000000     0.100000\n",
              "25%        5.100000     2.800000      1.600000     0.300000\n",
              "50%        5.800000     3.000000      4.350000     1.300000\n",
              "75%        6.400000     3.300000      5.100000     1.800000\n",
              "max        7.900000     4.400000      6.900000     2.500000"
            ],
            "text/html": [
              "\n",
              "  <div id=\"df-b52edf5a-b829-4b85-9078-4dfa2e67fcfc\">\n",
              "    <div class=\"colab-df-container\">\n",
              "      <div>\n",
              "<style scoped>\n",
              "    .dataframe tbody tr th:only-of-type {\n",
              "        vertical-align: middle;\n",
              "    }\n",
              "\n",
              "    .dataframe tbody tr th {\n",
              "        vertical-align: top;\n",
              "    }\n",
              "\n",
              "    .dataframe thead th {\n",
              "        text-align: right;\n",
              "    }\n",
              "</style>\n",
              "<table border=\"1\" class=\"dataframe\">\n",
              "  <thead>\n",
              "    <tr style=\"text-align: right;\">\n",
              "      <th></th>\n",
              "      <th>sepal-length</th>\n",
              "      <th>sepal-width</th>\n",
              "      <th>petal-length</th>\n",
              "      <th>petal-width</th>\n",
              "    </tr>\n",
              "  </thead>\n",
              "  <tbody>\n",
              "    <tr>\n",
              "      <th>count</th>\n",
              "      <td>150.000000</td>\n",
              "      <td>150.000000</td>\n",
              "      <td>150.000000</td>\n",
              "      <td>150.000000</td>\n",
              "    </tr>\n",
              "    <tr>\n",
              "      <th>mean</th>\n",
              "      <td>5.843333</td>\n",
              "      <td>3.054000</td>\n",
              "      <td>3.758667</td>\n",
              "      <td>1.198667</td>\n",
              "    </tr>\n",
              "    <tr>\n",
              "      <th>std</th>\n",
              "      <td>0.828066</td>\n",
              "      <td>0.433594</td>\n",
              "      <td>1.764420</td>\n",
              "      <td>0.763161</td>\n",
              "    </tr>\n",
              "    <tr>\n",
              "      <th>min</th>\n",
              "      <td>4.300000</td>\n",
              "      <td>2.000000</td>\n",
              "      <td>1.000000</td>\n",
              "      <td>0.100000</td>\n",
              "    </tr>\n",
              "    <tr>\n",
              "      <th>25%</th>\n",
              "      <td>5.100000</td>\n",
              "      <td>2.800000</td>\n",
              "      <td>1.600000</td>\n",
              "      <td>0.300000</td>\n",
              "    </tr>\n",
              "    <tr>\n",
              "      <th>50%</th>\n",
              "      <td>5.800000</td>\n",
              "      <td>3.000000</td>\n",
              "      <td>4.350000</td>\n",
              "      <td>1.300000</td>\n",
              "    </tr>\n",
              "    <tr>\n",
              "      <th>75%</th>\n",
              "      <td>6.400000</td>\n",
              "      <td>3.300000</td>\n",
              "      <td>5.100000</td>\n",
              "      <td>1.800000</td>\n",
              "    </tr>\n",
              "    <tr>\n",
              "      <th>max</th>\n",
              "      <td>7.900000</td>\n",
              "      <td>4.400000</td>\n",
              "      <td>6.900000</td>\n",
              "      <td>2.500000</td>\n",
              "    </tr>\n",
              "  </tbody>\n",
              "</table>\n",
              "</div>\n",
              "      <button class=\"colab-df-convert\" onclick=\"convertToInteractive('df-b52edf5a-b829-4b85-9078-4dfa2e67fcfc')\"\n",
              "              title=\"Convert this dataframe to an interactive table.\"\n",
              "              style=\"display:none;\">\n",
              "        \n",
              "  <svg xmlns=\"http://www.w3.org/2000/svg\" height=\"24px\"viewBox=\"0 0 24 24\"\n",
              "       width=\"24px\">\n",
              "    <path d=\"M0 0h24v24H0V0z\" fill=\"none\"/>\n",
              "    <path d=\"M18.56 5.44l.94 2.06.94-2.06 2.06-.94-2.06-.94-.94-2.06-.94 2.06-2.06.94zm-11 1L8.5 8.5l.94-2.06 2.06-.94-2.06-.94L8.5 2.5l-.94 2.06-2.06.94zm10 10l.94 2.06.94-2.06 2.06-.94-2.06-.94-.94-2.06-.94 2.06-2.06.94z\"/><path d=\"M17.41 7.96l-1.37-1.37c-.4-.4-.92-.59-1.43-.59-.52 0-1.04.2-1.43.59L10.3 9.45l-7.72 7.72c-.78.78-.78 2.05 0 2.83L4 21.41c.39.39.9.59 1.41.59.51 0 1.02-.2 1.41-.59l7.78-7.78 2.81-2.81c.8-.78.8-2.07 0-2.86zM5.41 20L4 18.59l7.72-7.72 1.47 1.35L5.41 20z\"/>\n",
              "  </svg>\n",
              "      </button>\n",
              "      \n",
              "  <style>\n",
              "    .colab-df-container {\n",
              "      display:flex;\n",
              "      flex-wrap:wrap;\n",
              "      gap: 12px;\n",
              "    }\n",
              "\n",
              "    .colab-df-convert {\n",
              "      background-color: #E8F0FE;\n",
              "      border: none;\n",
              "      border-radius: 50%;\n",
              "      cursor: pointer;\n",
              "      display: none;\n",
              "      fill: #1967D2;\n",
              "      height: 32px;\n",
              "      padding: 0 0 0 0;\n",
              "      width: 32px;\n",
              "    }\n",
              "\n",
              "    .colab-df-convert:hover {\n",
              "      background-color: #E2EBFA;\n",
              "      box-shadow: 0px 1px 2px rgba(60, 64, 67, 0.3), 0px 1px 3px 1px rgba(60, 64, 67, 0.15);\n",
              "      fill: #174EA6;\n",
              "    }\n",
              "\n",
              "    [theme=dark] .colab-df-convert {\n",
              "      background-color: #3B4455;\n",
              "      fill: #D2E3FC;\n",
              "    }\n",
              "\n",
              "    [theme=dark] .colab-df-convert:hover {\n",
              "      background-color: #434B5C;\n",
              "      box-shadow: 0px 1px 3px 1px rgba(0, 0, 0, 0.15);\n",
              "      filter: drop-shadow(0px 1px 2px rgba(0, 0, 0, 0.3));\n",
              "      fill: #FFFFFF;\n",
              "    }\n",
              "  </style>\n",
              "\n",
              "      <script>\n",
              "        const buttonEl =\n",
              "          document.querySelector('#df-b52edf5a-b829-4b85-9078-4dfa2e67fcfc button.colab-df-convert');\n",
              "        buttonEl.style.display =\n",
              "          google.colab.kernel.accessAllowed ? 'block' : 'none';\n",
              "\n",
              "        async function convertToInteractive(key) {\n",
              "          const element = document.querySelector('#df-b52edf5a-b829-4b85-9078-4dfa2e67fcfc');\n",
              "          const dataTable =\n",
              "            await google.colab.kernel.invokeFunction('convertToInteractive',\n",
              "                                                     [key], {});\n",
              "          if (!dataTable) return;\n",
              "\n",
              "          const docLinkHtml = 'Like what you see? Visit the ' +\n",
              "            '<a target=\"_blank\" href=https://colab.research.google.com/notebooks/data_table.ipynb>data table notebook</a>'\n",
              "            + ' to learn more about interactive tables.';\n",
              "          element.innerHTML = '';\n",
              "          dataTable['output_type'] = 'display_data';\n",
              "          await google.colab.output.renderOutput(dataTable, element);\n",
              "          const docLink = document.createElement('div');\n",
              "          docLink.innerHTML = docLinkHtml;\n",
              "          element.appendChild(docLink);\n",
              "        }\n",
              "      </script>\n",
              "    </div>\n",
              "  </div>\n",
              "  "
            ]
          },
          "metadata": {},
          "execution_count": 11
        }
      ]
    },
    {
      "cell_type": "code",
      "source": [
        "#Examining whether there are null values in the dataframe. It returns 'False' hence no empty spaces appear in the dataframe requiring cleaning.\n",
        "iris_data.isnull().values.any()"
      ],
      "metadata": {
        "colab": {
          "base_uri": "https://localhost:8080/"
        },
        "id": "WVp6Uu7bp3xr",
        "outputId": "6742da39-9fab-40e7-a179-3f8529f4be6e"
      },
      "execution_count": 12,
      "outputs": [
        {
          "output_type": "execute_result",
          "data": {
            "text/plain": [
              "False"
            ]
          },
          "metadata": {},
          "execution_count": 12
        }
      ]
    },
    {
      "cell_type": "code",
      "source": [
        "#Alternative check for null values.\n",
        "iris_data.isnull().sum()"
      ],
      "metadata": {
        "colab": {
          "base_uri": "https://localhost:8080/"
        },
        "id": "kjnm_eyMqa87",
        "outputId": "1046e6c5-4a01-46a0-b409-3fe4539aea36"
      },
      "execution_count": 13,
      "outputs": [
        {
          "output_type": "execute_result",
          "data": {
            "text/plain": [
              "sepal-length    0\n",
              "sepal-width     0\n",
              "petal-length    0\n",
              "petal-width     0\n",
              "species         0\n",
              "dtype: int64"
            ]
          },
          "metadata": {},
          "execution_count": 13
        }
      ]
    },
    {
      "cell_type": "markdown",
      "source": [
        "The above reviewing methods of the data set help us understand the contents and important metrics related to the 3 types of iris flowers in order to apply further interpretations of the data."
      ],
      "metadata": {
        "id": "Ule10-euonsx"
      }
    },
    {
      "cell_type": "markdown",
      "source": [
        "###Visualisation of the correlation betwn the 3 flower species and their respecive measurement specifications with a pairplot.\n",
        "\n",
        "Paiplots allow illustrating pairwise relationships in a dataset.\n",
        "https://seaborn.pydata.org/generated/seaborn.pairplot.html "
      ],
      "metadata": {
        "id": "NXvzZT-wuWyy"
      }
    },
    {
      "cell_type": "code",
      "source": [
        "import matplotlib.pyplot as plt\n",
        "import seaborn as sns\n",
        "import numpy as np\n",
        "import pandas as pd\n",
        "sns.set_palette('husl')\n",
        "\n",
        "def iris_data_pairplot():\n",
        "  sns.pairplot(iris_data, hue='species', height = 2, diag_kind = \"kde\")\n",
        "  plt.show()\n",
        "\n",
        "iris_data_pairplot() "
      ],
      "metadata": {
        "colab": {
          "base_uri": "https://localhost:8080/",
          "height": 585
        },
        "id": "1cewuH1HtFPJ",
        "outputId": "811f64d1-3a3d-4c59-b36d-704d7734a3af"
      },
      "execution_count": 14,
      "outputs": [
        {
          "output_type": "display_data",
          "data": {
            "text/plain": [
              "<Figure size 679.25x576 with 20 Axes>"
            ],
            "image/png": "[encoded data removed]"
          },
          "metadata": {
            "needs_background": "light"
          }
        }
      ]
    },
    {
      "cell_type": "markdown",
      "source": [
        "We can see in this pairplot visualisation of the iris data set that Setosa species has significantly higher measurements when it comes to petal width & length, whereas in terms of sepal width the 3 species have a closer association. In terms of sepal width again Setosa iris have a higher reach but not as distinguishable as in the case of petal metrics."
      ],
      "metadata": {
        "id": "9y_8eE-2vqHZ"
      }
    },
    {
      "cell_type": "markdown",
      "metadata": {
        "id": "0b8Pm0bK_Ca1"
      },
      "source": [
        "### Exercise 2 - split the data into train and test sets\n",
        "---\n",
        "\n",
        "Split the data set into and 70% train, 30% test, split.  From now, just use the train data set.\n"
      ]
    },
    {
      "cell_type": "code",
      "metadata": {
        "id": "CSG-ZEPEawMJ",
        "colab": {
          "base_uri": "https://localhost:8080/",
          "height": 543
        },
        "outputId": "9de12f8a-c5d5-478b-8001-06f5c079bc6d"
      },
      "source": [
        "# import the train_test_split function\n",
        "from sklearn.model_selection import train_test_split\n",
        "\n",
        "# create the classification variables from all columns\n",
        "train, test = train_test_split(iris_data, test_size=0.30)\n",
        "print(train)\n",
        "train.describe()\n",
        "#'train' is the name for the new separated dataframe for training"
      ],
      "execution_count": 15,
      "outputs": [
        {
          "output_type": "stream",
          "name": "stdout",
          "text": [
            "     sepal-length  sepal-width  petal-length  petal-width          species\n",
            "18            5.7          3.8           1.7          0.3      Iris-setosa\n",
            "6             4.6          3.4           1.4          0.3      Iris-setosa\n",
            "72            6.3          2.5           4.9          1.5  Iris-versicolor\n",
            "39            5.1          3.4           1.5          0.2      Iris-setosa\n",
            "59            5.2          2.7           3.9          1.4  Iris-versicolor\n",
            "..            ...          ...           ...          ...              ...\n",
            "12            4.8          3.0           1.4          0.1      Iris-setosa\n",
            "16            5.4          3.9           1.3          0.4      Iris-setosa\n",
            "23            5.1          3.3           1.7          0.5      Iris-setosa\n",
            "108           6.7          2.5           5.8          1.8   Iris-virginica\n",
            "37            4.9          3.1           1.5          0.1      Iris-setosa\n",
            "\n",
            "[105 rows x 5 columns]\n"
          ]
        },
        {
          "output_type": "execute_result",
          "data": {
            "text/plain": [
              "       sepal-length  sepal-width  petal-length  petal-width\n",
              "count    105.000000   105.000000    105.000000   105.000000\n",
              "mean       5.858095     3.049524      3.788571     1.215238\n",
              "std        0.816863     0.419506      1.712865     0.746889\n",
              "min        4.300000     2.000000      1.000000     0.100000\n",
              "25%        5.100000     2.800000      1.600000     0.300000\n",
              "50%        5.800000     3.000000      4.300000     1.400000\n",
              "75%        6.400000     3.300000      5.100000     1.800000\n",
              "max        7.900000     4.200000      6.900000     2.400000"
            ],
            "text/html": [
              "\n",
              "  <div id=\"df-b88ea1bb-628f-4aa5-a6c2-969e205004fd\">\n",
              "    <div class=\"colab-df-container\">\n",
              "      <div>\n",
              "<style scoped>\n",
              "    .dataframe tbody tr th:only-of-type {\n",
              "        vertical-align: middle;\n",
              "    }\n",
              "\n",
              "    .dataframe tbody tr th {\n",
              "        vertical-align: top;\n",
              "    }\n",
              "\n",
              "    .dataframe thead th {\n",
              "        text-align: right;\n",
              "    }\n",
              "</style>\n",
              "<table border=\"1\" class=\"dataframe\">\n",
              "  <thead>\n",
              "    <tr style=\"text-align: right;\">\n",
              "      <th></th>\n",
              "      <th>sepal-length</th>\n",
              "      <th>sepal-width</th>\n",
              "      <th>petal-length</th>\n",
              "      <th>petal-width</th>\n",
              "    </tr>\n",
              "  </thead>\n",
              "  <tbody>\n",
              "    <tr>\n",
              "      <th>count</th>\n",
              "      <td>105.000000</td>\n",
              "      <td>105.000000</td>\n",
              "      <td>105.000000</td>\n",
              "      <td>105.000000</td>\n",
              "    </tr>\n",
              "    <tr>\n",
              "      <th>mean</th>\n",
              "      <td>5.858095</td>\n",
              "      <td>3.049524</td>\n",
              "      <td>3.788571</td>\n",
              "      <td>1.215238</td>\n",
              "    </tr>\n",
              "    <tr>\n",
              "      <th>std</th>\n",
              "      <td>0.816863</td>\n",
              "      <td>0.419506</td>\n",
              "      <td>1.712865</td>\n",
              "      <td>0.746889</td>\n",
              "    </tr>\n",
              "    <tr>\n",
              "      <th>min</th>\n",
              "      <td>4.300000</td>\n",
              "      <td>2.000000</td>\n",
              "      <td>1.000000</td>\n",
              "      <td>0.100000</td>\n",
              "    </tr>\n",
              "    <tr>\n",
              "      <th>25%</th>\n",
              "      <td>5.100000</td>\n",
              "      <td>2.800000</td>\n",
              "      <td>1.600000</td>\n",
              "      <td>0.300000</td>\n",
              "    </tr>\n",
              "    <tr>\n",
              "      <th>50%</th>\n",
              "      <td>5.800000</td>\n",
              "      <td>3.000000</td>\n",
              "      <td>4.300000</td>\n",
              "      <td>1.400000</td>\n",
              "    </tr>\n",
              "    <tr>\n",
              "      <th>75%</th>\n",
              "      <td>6.400000</td>\n",
              "      <td>3.300000</td>\n",
              "      <td>5.100000</td>\n",
              "      <td>1.800000</td>\n",
              "    </tr>\n",
              "    <tr>\n",
              "      <th>max</th>\n",
              "      <td>7.900000</td>\n",
              "      <td>4.200000</td>\n",
              "      <td>6.900000</td>\n",
              "      <td>2.400000</td>\n",
              "    </tr>\n",
              "  </tbody>\n",
              "</table>\n",
              "</div>\n",
              "      <button class=\"colab-df-convert\" onclick=\"convertToInteractive('df-b88ea1bb-628f-4aa5-a6c2-969e205004fd')\"\n",
              "              title=\"Convert this dataframe to an interactive table.\"\n",
              "              style=\"display:none;\">\n",
              "        \n",
              "  <svg xmlns=\"http://www.w3.org/2000/svg\" height=\"24px\"viewBox=\"0 0 24 24\"\n",
              "       width=\"24px\">\n",
              "    <path d=\"M0 0h24v24H0V0z\" fill=\"none\"/>\n",
              "    <path d=\"M18.56 5.44l.94 2.06.94-2.06 2.06-.94-2.06-.94-.94-2.06-.94 2.06-2.06.94zm-11 1L8.5 8.5l.94-2.06 2.06-.94-2.06-.94L8.5 2.5l-.94 2.06-2.06.94zm10 10l.94 2.06.94-2.06 2.06-.94-2.06-.94-.94-2.06-.94 2.06-2.06.94z\"/><path d=\"M17.41 7.96l-1.37-1.37c-.4-.4-.92-.59-1.43-.59-.52 0-1.04.2-1.43.59L10.3 9.45l-7.72 7.72c-.78.78-.78 2.05 0 2.83L4 21.41c.39.39.9.59 1.41.59.51 0 1.02-.2 1.41-.59l7.78-7.78 2.81-2.81c.8-.78.8-2.07 0-2.86zM5.41 20L4 18.59l7.72-7.72 1.47 1.35L5.41 20z\"/>\n",
              "  </svg>\n",
              "      </button>\n",
              "      \n",
              "  <style>\n",
              "    .colab-df-container {\n",
              "      display:flex;\n",
              "      flex-wrap:wrap;\n",
              "      gap: 12px;\n",
              "    }\n",
              "\n",
              "    .colab-df-convert {\n",
              "      background-color: #E8F0FE;\n",
              "      border: none;\n",
              "      border-radius: 50%;\n",
              "      cursor: pointer;\n",
              "      display: none;\n",
              "      fill: #1967D2;\n",
              "      height: 32px;\n",
              "      padding: 0 0 0 0;\n",
              "      width: 32px;\n",
              "    }\n",
              "\n",
              "    .colab-df-convert:hover {\n",
              "      background-color: #E2EBFA;\n",
              "      box-shadow: 0px 1px 2px rgba(60, 64, 67, 0.3), 0px 1px 3px 1px rgba(60, 64, 67, 0.15);\n",
              "      fill: #174EA6;\n",
              "    }\n",
              "\n",
              "    [theme=dark] .colab-df-convert {\n",
              "      background-color: #3B4455;\n",
              "      fill: #D2E3FC;\n",
              "    }\n",
              "\n",
              "    [theme=dark] .colab-df-convert:hover {\n",
              "      background-color: #434B5C;\n",
              "      box-shadow: 0px 1px 3px 1px rgba(0, 0, 0, 0.15);\n",
              "      filter: drop-shadow(0px 1px 2px rgba(0, 0, 0, 0.3));\n",
              "      fill: #FFFFFF;\n",
              "    }\n",
              "  </style>\n",
              "\n",
              "      <script>\n",
              "        const buttonEl =\n",
              "          document.querySelector('#df-b88ea1bb-628f-4aa5-a6c2-969e205004fd button.colab-df-convert');\n",
              "        buttonEl.style.display =\n",
              "          google.colab.kernel.accessAllowed ? 'block' : 'none';\n",
              "\n",
              "        async function convertToInteractive(key) {\n",
              "          const element = document.querySelector('#df-b88ea1bb-628f-4aa5-a6c2-969e205004fd');\n",
              "          const dataTable =\n",
              "            await google.colab.kernel.invokeFunction('convertToInteractive',\n",
              "                                                     [key], {});\n",
              "          if (!dataTable) return;\n",
              "\n",
              "          const docLinkHtml = 'Like what you see? Visit the ' +\n",
              "            '<a target=\"_blank\" href=https://colab.research.google.com/notebooks/data_table.ipynb>data table notebook</a>'\n",
              "            + ' to learn more about interactive tables.';\n",
              "          element.innerHTML = '';\n",
              "          dataTable['output_type'] = 'display_data';\n",
              "          await google.colab.output.renderOutput(dataTable, element);\n",
              "          const docLink = document.createElement('div');\n",
              "          docLink.innerHTML = docLinkHtml;\n",
              "          element.appendChild(docLink);\n",
              "        }\n",
              "      </script>\n",
              "    </div>\n",
              "  </div>\n",
              "  "
            ]
          },
          "metadata": {},
          "execution_count": 15
        }
      ]
    },
    {
      "cell_type": "markdown",
      "source": [
        "We can see that after split code by a 70% portion and then running the .describe() code, the summary metrics have changed i.e. the count has dropped from 150 to 105. Therefore the 70% train split of the total for training is complete."
      ],
      "metadata": {
        "id": "FT2Rq5jD1DPX"
      }
    },
    {
      "cell_type": "markdown",
      "metadata": {
        "id": "nd-9JfKbQl-q"
      },
      "source": [
        "### Exercise 3 - assumptions and classification\n",
        "---\n",
        "\n",
        "Let's make some assumptions based on the data\n",
        "\n",
        "1.  Iris-setosa, Iris-versicolor, Iris-virginica are the full range of types of iris to be analysed\n",
        "2.  Although this is a small data set, the means are fairly representative\n",
        "\n",
        "With these in mind, let's start by classifying sepal/petal size into long/short and wide/narrow with values on or above the mean taken as long or wide and those below as short or narrow.\n",
        "\n",
        "This is a starting point.  We will be trying to find a value (indicator) for each column where rows on or above do not contain any of a particular species, this might indicate that this column is a good (if not rough) indicator of species. For now, the indicator is the mean.\n",
        "\n",
        "*  Drop any null values from each column\n",
        "\n",
        "Calculate, and store the means of the four columns\n",
        "\n",
        "*  **Test**:\n",
        "Display train.describe() to see the value of the means of the training set.<br> Print the four means and compare to the output of train.describe() to check that they have been calculated correctly.\n",
        "\n",
        "*  Create a new dataframe with the numeric columns encoded so show a 1 for any value that is above the mean for its column and 0 for any that isn't."
      ]
    },
    {
      "cell_type": "code",
      "metadata": {
        "id": "rAahb5HSWiw-",
        "colab": {
          "base_uri": "https://localhost:8080/",
          "height": 736
        },
        "outputId": "1ad75d9b-aa62-4295-f9c2-742168aad8e1"
      },
      "source": [
        "#get the mean for each column and apply a function to encode into 1 (above mean) and 0 (mean or below mean)\n",
        "#step1\n",
        "def encode(df, **kdws):\n",
        "  indicator = kdws['indicator']\n",
        "  key = kdws['key']\n",
        "  if df[key] > indicator:\n",
        "    return 1\n",
        "  else:\n",
        "    return 0\n",
        "\n",
        "#step2\n",
        "#calculating the means of the metrics columns\n",
        "sl_mean = train[\"sepal-length\"].mean()\n",
        "print(\"mean of sepal length: \", sl_mean)\n",
        "sw_mean = train[\"sepal-width\"].mean()\n",
        "print(\"mean of sepal width: \", sw_mean)\n",
        "pl_mean = train[\"petal-length\"].mean()\n",
        "print(\"mean of petal length: \", pl_mean)\n",
        "pw_mean = train[\"petal-width\"].mean()\n",
        "print(\"mean of petal with: \", pw_mean)\n",
        "\n",
        "#step3\n",
        "#run the function for each column so that each of the four columns are encoded [0 = below mean, 1 = above mean], then drop the original columns, saving as a new dataframe\n",
        "train_mean = train.copy() #creating a new copy of the original dtframe\n",
        "train_mean['sepal-length'] = train_mean.apply(encode, axis=1, key='sepal-length', indicator=train['sepal-length'].mean())\n",
        "train_mean['sepal-width'] = train_mean.apply(encode, axis=1, key='sepal-width', indicator=train['sepal-width'].mean())\n",
        "train_mean['petal-length'] = train_mean.apply(encode, axis=1, key='petal-length', indicator=train['petal-length'].mean())\n",
        "train_mean['petal-width'] = train_mean.apply(encode, axis=1, key='petal-width', indicator=train['petal-width'].mean())\n",
        "\n",
        "#If we rename the column titles to 'sepal-length2' etc, that will create a copy of the dataframe with the new columns created via renaming. \n",
        "#The variant 'train_mean' is also a exact copy of the variant 'train'. \n",
        "# train_mean['sepal-length2'] = train.apply(encode, axis=1, key='sepal-length', indicator=train['sepal-length'].mean())\n",
        "# train_mean['sepal-width2'] = train.apply(encode, axis=1, key='sepal-width', indicator=train['sepal-width'].mean())\n",
        "# train_mean['petal-length2'] = train.apply(encode, axis=1, key='petal-length', indicator=train['petal-length'].mean())\n",
        "# train_mean['petal-width2'] = train.apply(encode, axis=1, key='petal-width', indicator=train['petal-width'].mean())\n",
        "print(train_mean)\n",
        "train_mean\n",
        "#train_mean.describe()"
      ],
      "execution_count": 16,
      "outputs": [
        {
          "output_type": "stream",
          "name": "stdout",
          "text": [
            "mean of sepal length:  5.858095238095238\n",
            "mean of sepal width:  3.04952380952381\n",
            "mean of petal length:  3.788571428571428\n",
            "mean of petal with:  1.215238095238095\n",
            "     sepal-length  sepal-width  petal-length  petal-width          species\n",
            "18              0            1             0            0      Iris-setosa\n",
            "6               0            1             0            0      Iris-setosa\n",
            "72              1            0             1            1  Iris-versicolor\n",
            "39              0            1             0            0      Iris-setosa\n",
            "59              0            0             1            1  Iris-versicolor\n",
            "..            ...          ...           ...          ...              ...\n",
            "12              0            0             0            0      Iris-setosa\n",
            "16              0            1             0            0      Iris-setosa\n",
            "23              0            1             0            0      Iris-setosa\n",
            "108             1            0             1            1   Iris-virginica\n",
            "37              0            1             0            0      Iris-setosa\n",
            "\n",
            "[105 rows x 5 columns]\n"
          ]
        },
        {
          "output_type": "execute_result",
          "data": {
            "text/plain": [
              "     sepal-length  sepal-width  petal-length  petal-width          species\n",
              "18              0            1             0            0      Iris-setosa\n",
              "6               0            1             0            0      Iris-setosa\n",
              "72              1            0             1            1  Iris-versicolor\n",
              "39              0            1             0            0      Iris-setosa\n",
              "59              0            0             1            1  Iris-versicolor\n",
              "..            ...          ...           ...          ...              ...\n",
              "12              0            0             0            0      Iris-setosa\n",
              "16              0            1             0            0      Iris-setosa\n",
              "23              0            1             0            0      Iris-setosa\n",
              "108             1            0             1            1   Iris-virginica\n",
              "37              0            1             0            0      Iris-setosa\n",
              "\n",
              "[105 rows x 5 columns]"
            ],
            "text/html": [
              "\n",
              "  <div id=\"df-416ece52-ede5-4caa-95b7-0e3144cfaa92\">\n",
              "    <div class=\"colab-df-container\">\n",
              "      <div>\n",
              "<style scoped>\n",
              "    .dataframe tbody tr th:only-of-type {\n",
              "        vertical-align: middle;\n",
              "    }\n",
              "\n",
              "    .dataframe tbody tr th {\n",
              "        vertical-align: top;\n",
              "    }\n",
              "\n",
              "    .dataframe thead th {\n",
              "        text-align: right;\n",
              "    }\n",
              "</style>\n",
              "<table border=\"1\" class=\"dataframe\">\n",
              "  <thead>\n",
              "    <tr style=\"text-align: right;\">\n",
              "      <th></th>\n",
              "      <th>sepal-length</th>\n",
              "      <th>sepal-width</th>\n",
              "      <th>petal-length</th>\n",
              "      <th>petal-width</th>\n",
              "      <th>species</th>\n",
              "    </tr>\n",
              "  </thead>\n",
              "  <tbody>\n",
              "    <tr>\n",
              "      <th>18</th>\n",
              "      <td>0</td>\n",
              "      <td>1</td>\n",
              "      <td>0</td>\n",
              "      <td>0</td>\n",
              "      <td>Iris-setosa</td>\n",
              "    </tr>\n",
              "    <tr>\n",
              "      <th>6</th>\n",
              "      <td>0</td>\n",
              "      <td>1</td>\n",
              "      <td>0</td>\n",
              "      <td>0</td>\n",
              "      <td>Iris-setosa</td>\n",
              "    </tr>\n",
              "    <tr>\n",
              "      <th>72</th>\n",
              "      <td>1</td>\n",
              "      <td>0</td>\n",
              "      <td>1</td>\n",
              "      <td>1</td>\n",
              "      <td>Iris-versicolor</td>\n",
              "    </tr>\n",
              "    <tr>\n",
              "      <th>39</th>\n",
              "      <td>0</td>\n",
              "      <td>1</td>\n",
              "      <td>0</td>\n",
              "      <td>0</td>\n",
              "      <td>Iris-setosa</td>\n",
              "    </tr>\n",
              "    <tr>\n",
              "      <th>59</th>\n",
              "      <td>0</td>\n",
              "      <td>0</td>\n",
              "      <td>1</td>\n",
              "      <td>1</td>\n",
              "      <td>Iris-versicolor</td>\n",
              "    </tr>\n",
              "    <tr>\n",
              "      <th>...</th>\n",
              "      <td>...</td>\n",
              "      <td>...</td>\n",
              "      <td>...</td>\n",
              "      <td>...</td>\n",
              "      <td>...</td>\n",
              "    </tr>\n",
              "    <tr>\n",
              "      <th>12</th>\n",
              "      <td>0</td>\n",
              "      <td>0</td>\n",
              "      <td>0</td>\n",
              "      <td>0</td>\n",
              "      <td>Iris-setosa</td>\n",
              "    </tr>\n",
              "    <tr>\n",
              "      <th>16</th>\n",
              "      <td>0</td>\n",
              "      <td>1</td>\n",
              "      <td>0</td>\n",
              "      <td>0</td>\n",
              "      <td>Iris-setosa</td>\n",
              "    </tr>\n",
              "    <tr>\n",
              "      <th>23</th>\n",
              "      <td>0</td>\n",
              "      <td>1</td>\n",
              "      <td>0</td>\n",
              "      <td>0</td>\n",
              "      <td>Iris-setosa</td>\n",
              "    </tr>\n",
              "    <tr>\n",
              "      <th>108</th>\n",
              "      <td>1</td>\n",
              "      <td>0</td>\n",
              "      <td>1</td>\n",
              "      <td>1</td>\n",
              "      <td>Iris-virginica</td>\n",
              "    </tr>\n",
              "    <tr>\n",
              "      <th>37</th>\n",
              "      <td>0</td>\n",
              "      <td>1</td>\n",
              "      <td>0</td>\n",
              "      <td>0</td>\n",
              "      <td>Iris-setosa</td>\n",
              "    </tr>\n",
              "  </tbody>\n",
              "</table>\n",
              "<p>105 rows × 5 columns</p>\n",
              "</div>\n",
              "      <button class=\"colab-df-convert\" onclick=\"convertToInteractive('df-416ece52-ede5-4caa-95b7-0e3144cfaa92')\"\n",
              "              title=\"Convert this dataframe to an interactive table.\"\n",
              "              style=\"display:none;\">\n",
              "        \n",
              "  <svg xmlns=\"http://www.w3.org/2000/svg\" height=\"24px\"viewBox=\"0 0 24 24\"\n",
              "       width=\"24px\">\n",
              "    <path d=\"M0 0h24v24H0V0z\" fill=\"none\"/>\n",
              "    <path d=\"M18.56 5.44l.94 2.06.94-2.06 2.06-.94-2.06-.94-.94-2.06-.94 2.06-2.06.94zm-11 1L8.5 8.5l.94-2.06 2.06-.94-2.06-.94L8.5 2.5l-.94 2.06-2.06.94zm10 10l.94 2.06.94-2.06 2.06-.94-2.06-.94-.94-2.06-.94 2.06-2.06.94z\"/><path d=\"M17.41 7.96l-1.37-1.37c-.4-.4-.92-.59-1.43-.59-.52 0-1.04.2-1.43.59L10.3 9.45l-7.72 7.72c-.78.78-.78 2.05 0 2.83L4 21.41c.39.39.9.59 1.41.59.51 0 1.02-.2 1.41-.59l7.78-7.78 2.81-2.81c.8-.78.8-2.07 0-2.86zM5.41 20L4 18.59l7.72-7.72 1.47 1.35L5.41 20z\"/>\n",
              "  </svg>\n",
              "      </button>\n",
              "      \n",
              "  <style>\n",
              "    .colab-df-container {\n",
              "      display:flex;\n",
              "      flex-wrap:wrap;\n",
              "      gap: 12px;\n",
              "    }\n",
              "\n",
              "    .colab-df-convert {\n",
              "      background-color: #E8F0FE;\n",
              "      border: none;\n",
              "      border-radius: 50%;\n",
              "      cursor: pointer;\n",
              "      display: none;\n",
              "      fill: #1967D2;\n",
              "      height: 32px;\n",
              "      padding: 0 0 0 0;\n",
              "      width: 32px;\n",
              "    }\n",
              "\n",
              "    .colab-df-convert:hover {\n",
              "      background-color: #E2EBFA;\n",
              "      box-shadow: 0px 1px 2px rgba(60, 64, 67, 0.3), 0px 1px 3px 1px rgba(60, 64, 67, 0.15);\n",
              "      fill: #174EA6;\n",
              "    }\n",
              "\n",
              "    [theme=dark] .colab-df-convert {\n",
              "      background-color: #3B4455;\n",
              "      fill: #D2E3FC;\n",
              "    }\n",
              "\n",
              "    [theme=dark] .colab-df-convert:hover {\n",
              "      background-color: #434B5C;\n",
              "      box-shadow: 0px 1px 3px 1px rgba(0, 0, 0, 0.15);\n",
              "      filter: drop-shadow(0px 1px 2px rgba(0, 0, 0, 0.3));\n",
              "      fill: #FFFFFF;\n",
              "    }\n",
              "  </style>\n",
              "\n",
              "      <script>\n",
              "        const buttonEl =\n",
              "          document.querySelector('#df-416ece52-ede5-4caa-95b7-0e3144cfaa92 button.colab-df-convert');\n",
              "        buttonEl.style.display =\n",
              "          google.colab.kernel.accessAllowed ? 'block' : 'none';\n",
              "\n",
              "        async function convertToInteractive(key) {\n",
              "          const element = document.querySelector('#df-416ece52-ede5-4caa-95b7-0e3144cfaa92');\n",
              "          const dataTable =\n",
              "            await google.colab.kernel.invokeFunction('convertToInteractive',\n",
              "                                                     [key], {});\n",
              "          if (!dataTable) return;\n",
              "\n",
              "          const docLinkHtml = 'Like what you see? Visit the ' +\n",
              "            '<a target=\"_blank\" href=https://colab.research.google.com/notebooks/data_table.ipynb>data table notebook</a>'\n",
              "            + ' to learn more about interactive tables.';\n",
              "          element.innerHTML = '';\n",
              "          dataTable['output_type'] = 'display_data';\n",
              "          await google.colab.output.renderOutput(dataTable, element);\n",
              "          const docLink = document.createElement('div');\n",
              "          docLink.innerHTML = docLinkHtml;\n",
              "          element.appendChild(docLink);\n",
              "        }\n",
              "      </script>\n",
              "    </div>\n",
              "  </div>\n",
              "  "
            ]
          },
          "metadata": {},
          "execution_count": 16
        }
      ]
    },
    {
      "cell_type": "markdown",
      "source": [
        "We can see that the calculated means in part 2 of this function match the .describe() calculations we got in the ex 2 above and furthermore the recoding of the measurements to 0 and 1 depending on whether the original number was above the mean or not is actually representative as reframed data set of the original into 'train_mean'."
      ],
      "metadata": {
        "id": "I-bvkqMbMfsG"
      }
    },
    {
      "cell_type": "markdown",
      "metadata": {
        "id": "t9lP8lC1dCsa"
      },
      "source": [
        "### Exercise 4 - Calculate the proportion of values on or above the mean that are of each species\n",
        "\n",
        "We are going to focus on the `Iris-virginica` species first.\n",
        "\n",
        "First we will calculate, for each dimension column (`sepal-length, sepal-width, petal-length, petal-width`) what proportion of values in that column, where the value is on or above the mean, are classified as `Iris-virginica`.\n",
        "\n",
        "We will do this by filtering all the records in each column of the `train` set that are on or above the mean and match the species.  \n",
        "Then use the outcome to calculate the proportion of the full `train` set for which a value on or above the mean that are of species `Iris-virginica`.\n",
        "\n",
        "*  filter for values in the `sepal-length` column being on or above the mean and the species column being `Iris-virginica`.  Then divide the count of rows in this filtered dataset by the count of rows in a second data set, filtered for just the value being on or above the mean.\n",
        "\n",
        "*  Do this for all four columns, for `Iris-virginica`  (4 operations).\n",
        "\n",
        "Print the results to see which columns look like they might most reliably predict the species as `Iris-virginica` (the result is as close as possible to 1).  The highest numbers may indicate the most reliable indicators, but we will do some more before coming to this conclusion.\n",
        "\n",
        "*  By definition, those on or above the mean that are NOT Iris_virginica will be `1 - the proportion of those that are.  Calculate these\n",
        "\n",
        "The first one has been done for you.\n",
        "\n",
        "*  We will also need the proportion of those BELOW the median that are NOT Iris-virginica.  Calculate these in the same way\n",
        "\n"
      ]
    },
    {
      "cell_type": "markdown",
      "source": [
        "##i) Iris-virginica above and below mean proportions."
      ],
      "metadata": {
        "id": "MIR08Q2Rngy1"
      }
    },
    {
      "cell_type": "code",
      "source": [
        "def virginica_proportion():\n",
        "\n",
        "  #step1\n",
        "  #Getting a count of all the rows with name 'iris virginica' in the column species\n",
        "  train_species_count=train_mean.loc[(train_mean['species']=='Iris-virginica')]['species'].count()\n",
        "  print(\"virginica count: \",train_species_count)\n",
        "  #step2\n",
        "  #Counting all iris virignica per column with values above the mean\n",
        "  virginica_count_sl=train_mean.loc[(train_mean['species']=='Iris-virginica')& (train_mean['sepal-length']==1)]['sepal-length'].count()\n",
        "  virginica_count_sw=train_mean.loc[(train_mean['species']=='Iris-virginica')& (train_mean['sepal-width']==1)]['sepal-width'].count()\n",
        "  virginica_count_pl=train_mean.loc[(train_mean['species']=='Iris-virginica')& (train_mean['petal-length']==1)]['petal-length'].count()\n",
        "  virginica_count_pw=train_mean.loc[(train_mean['species']=='Iris-virginica')& (train_mean['petal-width']==1)]['petal-width'].count()\n",
        "  print(\"sepal length count:\", virginica_count_sl,\n",
        "         \"\\nsepal width count:\", virginica_count_sw,\n",
        "         \"\\npetal length count:\", virginica_count_pl,\n",
        "         \"\\npetal width count:\", virginica_count_pw)\n",
        "  #step3\n",
        "  #Calculating the proportion of all iris virginica per column that are above the mean (>1) (count of virginica from step2 / total count of iris virginica from step1)\n",
        "  proportion_virginica_sl=virginica_count_sl/train_species_count\n",
        "  proportion_virginica_sw=virginica_count_sw/train_species_count\n",
        "  proportion_virginica_pl=virginica_count_pl/train_species_count\n",
        "  proportion_virginica_pw=virginica_count_pw/train_species_count\n",
        "  print(\"virginica proportion with sepal legth > mean:\", round(proportion_virginica_sl,2),\n",
        "        \"\\nvirginica proportion with sepal width > mean:\", round(proportion_virginica_sw,2),\n",
        "        \"\\nvirginica proportion with petal legth > mean:\", round(proportion_virginica_pl,2),\n",
        "        \"\\nvirginica proportion with petal width > mean:\", round(proportion_virginica_pw,2))\n",
        "  #step4\n",
        "  #Calculating the proportion per column that are above the mean and not virginica (calculating as: 1 - proportion from step3)\n",
        "  proportion2_nonvirginica_sl=1-proportion_virginica_sl\n",
        "  proportion2_nonvirginica_sw=1-proportion_virginica_sw\n",
        "  proportion2_nonvirginica_pl=1-proportion_virginica_pl\n",
        "  proportion2_nonvirginica_pw=1-proportion_virginica_pw\n",
        "  print(\"non-virginica proportion with sepal legth > mean:\", round(proportion2_nonvirginica_sl,2),\n",
        "        \"\\nnon-virginica proportion with sepal width > mean:\", round(proportion2_nonvirginica_sw,2),\n",
        "        \"\\nnon-virginica proportion with petal legth > mean:\", round(proportion2_nonvirginica_pl,2),\n",
        "        \"\\nnon-virginica proportion with petal width > mean:\", round(proportion2_nonvirginica_pw,2))\n",
        "\n",
        "virginica_proportion()"
      ],
      "metadata": {
        "colab": {
          "base_uri": "https://localhost:8080/"
        },
        "id": "u0L3BcWnQN1o",
        "outputId": "4a0b188e-46ee-4d3d-e5c3-0277f7aa7bd7"
      },
      "execution_count": 17,
      "outputs": [
        {
          "output_type": "stream",
          "name": "stdout",
          "text": [
            "virginica count:  34\n",
            "sepal length count: 30 \n",
            "sepal width count: 12 \n",
            "petal length count: 34 \n",
            "petal width count: 34\n",
            "virginica proportion with sepal legth > mean: 0.88 \n",
            "virginica proportion with sepal width > mean: 0.35 \n",
            "virginica proportion with petal legth > mean: 1.0 \n",
            "virginica proportion with petal width > mean: 1.0\n",
            "non-virginica proportion with sepal legth > mean: 0.12 \n",
            "non-virginica proportion with sepal width > mean: 0.65 \n",
            "non-virginica proportion with petal legth > mean: 0.0 \n",
            "non-virginica proportion with petal width > mean: 0.0\n"
          ]
        }
      ]
    },
    {
      "cell_type": "markdown",
      "metadata": {
        "id": "M-HgetRIxJpx"
      },
      "source": [
        "### Exercise 5 - Calculate the proportion of each column where the value is below median that are of species `Iris-virginica` and for the other 2 species\n",
        "\n",
        "Repeat the code above, this time looking for values below the mean."
      ]
    },
    {
      "cell_type": "code",
      "source": [
        "def virginica_proportion2():\n",
        "\n",
        "  #step1\n",
        "  #Getting a count of all the rows with name 'iris virginica' in the column species\n",
        "  train_species_count=train_mean.loc[(train_mean['species']=='Iris-virginica')]['species'].count()\n",
        "  print(\"virginica count: \",train_species_count)\n",
        "  #step2\n",
        "  #Counting all iris virignica per column with values below the mean\n",
        "  virginica_count_sl=train_mean.loc[(train_mean['species']=='Iris-virginica')& (train_mean['sepal-length']==0)]['sepal-length'].count()\n",
        "  virginica_count_sw=train_mean.loc[(train_mean['species']=='Iris-virginica')& (train_mean['sepal-width']==0)]['sepal-width'].count()\n",
        "  virginica_count_pl=train_mean.loc[(train_mean['species']=='Iris-virginica')& (train_mean['petal-length']==0)]['petal-length'].count()\n",
        "  virginica_count_pw=train_mean.loc[(train_mean['species']=='Iris-virginica')& (train_mean['petal-width']==0)]['petal-width'].count()\n",
        "  print(\"sepal length count:\", virginica_count_sl,\n",
        "         \"\\nsepal width count:\", virginica_count_sw,\n",
        "         \"\\npetal length count:\", virginica_count_pl,\n",
        "         \"\\npetal width count:\", virginica_count_pw)\n",
        "  #step3\n",
        "  #Calculating the proportion of all iris virginica per column that are below the mean (<1) (count of virginica from step2 / total count of iris virginica from step1)\n",
        "  proportion_virginica_sl=virginica_count_sl/train_species_count\n",
        "  proportion_virginica_sw=virginica_count_sw/train_species_count\n",
        "  proportion_virginica_pl=virginica_count_pl/train_species_count\n",
        "  proportion_virginica_pw=virginica_count_pw/train_species_count\n",
        "  print(\"virginica proportion with sepal legth < mean:\", round(proportion_virginica_sl,2),\n",
        "        \"\\nvirginica proportion with sepal width < mean:\", round(proportion_virginica_sw,2),\n",
        "        \"\\nvirginica proportion with petal legth < mean:\", round(proportion_virginica_pl,2),\n",
        "        \"\\nvirginica proportion with petal width < mean:\", round(proportion_virginica_pw,2))\n",
        "  #step4\n",
        "  #Calculating the proportion per column that are below the mean and not virginica (calculating as: 1 - proportion from step3)\n",
        "  proportion2_nonvirginica_sl=1-proportion_virginica_sl\n",
        "  proportion2_nonvirginica_sw=1-proportion_virginica_sw\n",
        "  proportion2_nonvirginica_pl=1-proportion_virginica_pl\n",
        "  proportion2_nonvirginica_pw=1-proportion_virginica_pw\n",
        "  print(\"non-virginica proportion with sepal legth < mean:\", round(proportion2_nonvirginica_sl,2),\n",
        "        \"\\nnon-virginica proportion with sepal width < mean:\", round(proportion2_nonvirginica_sw,2),\n",
        "        \"\\nnon-virginica proportion with petal legth < mean:\", round(proportion2_nonvirginica_pl,2),\n",
        "        \"\\nnon-virginica proportion with petal width < mean:\", round(proportion2_nonvirginica_pw,2))\n",
        "\n",
        "virginica_proportion2()"
      ],
      "metadata": {
        "colab": {
          "base_uri": "https://localhost:8080/"
        },
        "id": "Pdqm_pTkjTf6",
        "outputId": "f3b6ff0b-4307-4fa5-b1fa-62a76f10d65c"
      },
      "execution_count": 18,
      "outputs": [
        {
          "output_type": "stream",
          "name": "stdout",
          "text": [
            "virginica count:  34\n",
            "sepal length count: 4 \n",
            "sepal width count: 22 \n",
            "petal length count: 0 \n",
            "petal width count: 0\n",
            "virginica proportion with sepal legth < mean: 0.12 \n",
            "virginica proportion with sepal width < mean: 0.65 \n",
            "virginica proportion with petal legth < mean: 0.0 \n",
            "virginica proportion with petal width < mean: 0.0\n",
            "non-virginica proportion with sepal legth < mean: 0.88 \n",
            "non-virginica proportion with sepal width < mean: 0.35 \n",
            "non-virginica proportion with petal legth < mean: 1.0 \n",
            "non-virginica proportion with petal width < mean: 1.0\n"
          ]
        }
      ]
    },
    {
      "cell_type": "markdown",
      "source": [
        "##ii) Iris-versicolor above & below mean proportions."
      ],
      "metadata": {
        "id": "cl3V_FBbnRk1"
      }
    },
    {
      "cell_type": "code",
      "source": [
        "def versicolor_proportion():\n",
        "\n",
        "  #step1\n",
        "  #Getting a count of all the rows with name 'iris versicolor' in the column species\n",
        "  train_species_count=train_mean.loc[(train_mean['species']=='Iris-versicolor')]['species'].count()\n",
        "  print(\"versicolor count: \",train_species_count)\n",
        "  #step2\n",
        "  #Counting all iris virignica per column with values above the mean\n",
        "  versicolor_count_sl=train_mean.loc[(train_mean['species']=='Iris-versicolor')& (train_mean['sepal-length']==1)]['sepal-length'].count()\n",
        "  versicolor_count_sw=train_mean.loc[(train_mean['species']=='Iris-versicolor')& (train_mean['sepal-width']==1)]['sepal-width'].count()\n",
        "  versicolor_count_pl=train_mean.loc[(train_mean['species']=='Iris-versicolor')& (train_mean['petal-length']==1)]['petal-length'].count()\n",
        "  versicolor_count_pw=train_mean.loc[(train_mean['species']=='Iris-versicolor')& (train_mean['petal-width']==1)]['petal-width'].count()\n",
        "  print(\"sepal length count:\", versicolor_count_sl,\n",
        "         \"\\nsepal width count:\", versicolor_count_sw,\n",
        "         \"\\npetal length count:\", versicolor_count_pl,\n",
        "         \"\\npetal width count:\", versicolor_count_pw)\n",
        "  #step3\n",
        "  #Calculating the proportion of all iris versicolor per column that are above the mean (>1) (count of versicolor from step2 / total count of iris versicolor from step1)\n",
        "  proportion_versicolor_sl=versicolor_count_sl/train_species_count\n",
        "  proportion_versicolor_sw=versicolor_count_sw/train_species_count\n",
        "  proportion_versicolor_pl=versicolor_count_pl/train_species_count\n",
        "  proportion_versicolor_pw=versicolor_count_pw/train_species_count\n",
        "  print(\"versicolor proportion with sepal legth > mean:\", round(proportion_versicolor_sl,2),\n",
        "        \"\\nversicolor proportion with sepal width > mean:\", round(proportion_versicolor_sw,2),\n",
        "        \"\\nversicolor proportion with petal legth > mean:\", round(proportion_versicolor_pl,2),\n",
        "        \"\\nversicolor proportion with petal width > mean:\", round(proportion_versicolor_pw,2))\n",
        "  \n",
        "  #step4 - below the mean\n",
        "  #Counting all iris virignica per column with values below the mean\n",
        "  versicolor2_count_sl=train_mean.loc[(train_mean['species']=='Iris-versicolor')& (train_mean['sepal-length']==0)]['sepal-length'].count()\n",
        "  versicolor2_count_sw=train_mean.loc[(train_mean['species']=='Iris-versicolor')& (train_mean['sepal-width']==0)]['sepal-width'].count()\n",
        "  versicolor2_count_pl=train_mean.loc[(train_mean['species']=='Iris-versicolor')& (train_mean['petal-length']==0)]['petal-length'].count()\n",
        "  versicolor2_count_pw=train_mean.loc[(train_mean['species']=='Iris-versicolor')& (train_mean['petal-width']==0)]['petal-width'].count()\n",
        "  print(\"sepal length count:\", versicolor2_count_sl,\n",
        "         \"\\nsepal width count:\", versicolor2_count_sw,\n",
        "         \"\\npetal length count:\", versicolor2_count_pl,\n",
        "         \"\\npetal width count:\", versicolor2_count_pw)\n",
        "  #step5 - below the mean\n",
        "  #Calculating the proportion of all iris versicolor per column that are below the mean (<1) (count of versicolor from step2 / total count of iris versicolor from step1)\n",
        "  proportion_versicolor2_sl=versicolor_count_sl/train_species_count\n",
        "  proportion_versicolor2_sw=versicolor_count_sw/train_species_count\n",
        "  proportion_versicolor2_pl=versicolor_count_pl/train_species_count\n",
        "  proportion_versicolor2_pw=versicolor_count_pw/train_species_count\n",
        "  print(\"versicolor proportion with sepal legth < mean:\", round(proportion_versicolor2_sl,2),\n",
        "        \"\\nversicolor proportion with sepal width < mean:\", round(proportion_versicolor2_sw,2),\n",
        "        \"\\nversicolor proportion with petal legth < mean:\", round(proportion_versicolor2_pl,2),\n",
        "        \"\\nversicolor proportion with petal width < mean:\", round(proportion_versicolor2_pw,2))\n",
        "  \n",
        "versicolor_proportion()"
      ],
      "metadata": {
        "colab": {
          "base_uri": "https://localhost:8080/"
        },
        "id": "_qdqdWTsm5Ay",
        "outputId": "dd5fb367-4719-44e5-a067-217d16a9f77d"
      },
      "execution_count": 19,
      "outputs": [
        {
          "output_type": "stream",
          "name": "stdout",
          "text": [
            "versicolor count:  38\n",
            "sepal length count: 21 \n",
            "sepal width count: 7 \n",
            "petal length count: 33 \n",
            "petal width count: 27\n",
            "versicolor proportion with sepal legth > mean: 0.55 \n",
            "versicolor proportion with sepal width > mean: 0.18 \n",
            "versicolor proportion with petal legth > mean: 0.87 \n",
            "versicolor proportion with petal width > mean: 0.71\n",
            "sepal length count: 17 \n",
            "sepal width count: 31 \n",
            "petal length count: 5 \n",
            "petal width count: 11\n",
            "versicolor proportion with sepal legth < mean: 0.55 \n",
            "versicolor proportion with sepal width < mean: 0.18 \n",
            "versicolor proportion with petal legth < mean: 0.87 \n",
            "versicolor proportion with petal width < mean: 0.71\n"
          ]
        }
      ]
    },
    {
      "cell_type": "markdown",
      "source": [
        "##ii) Iris-setosa above & below mean proportions."
      ],
      "metadata": {
        "id": "0B8Ya7l6pgVL"
      }
    },
    {
      "cell_type": "code",
      "source": [
        "def setosa_proportion():\n",
        "\n",
        "  #step1\n",
        "  #Getting a count of all the rows with name 'iris setosa' in the column species\n",
        "  train_species_count=train_mean.loc[(train_mean['species']=='Iris-setosa')]['species'].count()\n",
        "  print(\"setosa count: \",train_species_count)\n",
        "  #step2\n",
        "  #Counting all iris virignica per column with values above the mean\n",
        "  setosa_count_sl=train_mean.loc[(train_mean['species']=='Iris-setosa')& (train_mean['sepal-length']==1)]['sepal-length'].count()\n",
        "  setosa_count_sw=train_mean.loc[(train_mean['species']=='Iris-setosa')& (train_mean['sepal-width']==1)]['sepal-width'].count()\n",
        "  setosa_count_pl=train_mean.loc[(train_mean['species']=='Iris-setosa')& (train_mean['petal-length']==1)]['petal-length'].count()\n",
        "  setosa_count_pw=train_mean.loc[(train_mean['species']=='Iris-setosa')& (train_mean['petal-width']==1)]['petal-width'].count()\n",
        "  print(\"sepal length count:\", setosa_count_sl,\n",
        "         \"\\nsepal width count:\", setosa_count_sw,\n",
        "         \"\\npetal length count:\", setosa_count_pl,\n",
        "         \"\\npetal width count:\", setosa_count_pw)\n",
        "  #step3\n",
        "  #Calculating the proportion of all iris setosa per column that are above the mean (>1) (count of setosa from step2 / total count of iris setosa from step1)\n",
        "  proportion_setosa_sl=setosa_count_sl/train_species_count\n",
        "  proportion_setosa_sw=setosa_count_sw/train_species_count\n",
        "  proportion_setosa_pl=setosa_count_pl/train_species_count\n",
        "  proportion_setosa_pw=setosa_count_pw/train_species_count\n",
        "  print(\"setosa proportion with sepal legth > mean:\", round(proportion_setosa_sl,2),\n",
        "        \"\\nsetosa proportion with sepal width > mean:\", round(proportion_setosa_sw,2),\n",
        "        \"\\nsetosa proportion with petal legth > mean:\", round(proportion_setosa_pl,2),\n",
        "        \"\\nsetosa proportion with petal width > mean:\", round(proportion_setosa_pw,2))\n",
        "  \n",
        "  #step4 - below the mean\n",
        "  #Counting all iris virignica per column with values below the mean\n",
        "  setosa2_count_sl=train_mean.loc[(train_mean['species']=='Iris-setosa')& (train_mean['sepal-length']==0)]['sepal-length'].count()\n",
        "  setosa2_count_sw=train_mean.loc[(train_mean['species']=='Iris-setosa')& (train_mean['sepal-width']==0)]['sepal-width'].count()\n",
        "  setosa2_count_pl=train_mean.loc[(train_mean['species']=='Iris-setosa')& (train_mean['petal-length']==0)]['petal-length'].count()\n",
        "  setosa2_count_pw=train_mean.loc[(train_mean['species']=='Iris-setosa')& (train_mean['petal-width']==0)]['petal-width'].count()\n",
        "  print(\"sepal length count:\", setosa2_count_sl,\n",
        "         \"\\nsepal width count:\", setosa2_count_sw,\n",
        "         \"\\npetal length count:\", setosa2_count_pl,\n",
        "         \"\\npetal width count:\", setosa2_count_pw)\n",
        "  #step5 - below the mean\n",
        "  #Calculating the proportion of all iris setosa per column that are below the mean (<1) (count of setosa from step2 / total count of iris setosa from step1)\n",
        "  proportion_setosa2_sl=setosa_count_sl/train_species_count\n",
        "  proportion_setosa2_sw=setosa_count_sw/train_species_count\n",
        "  proportion_setosa2_pl=setosa_count_pl/train_species_count\n",
        "  proportion_setosa2_pw=setosa_count_pw/train_species_count\n",
        "  print(\"setosa proportion with sepal legth < mean:\", round(proportion_setosa2_sl,2),\n",
        "        \"\\nsetosa proportion with sepal width < mean:\", round(proportion_setosa2_sw,2),\n",
        "        \"\\nsetosa proportion with petal legth < mean:\", round(proportion_setosa2_pl,2),\n",
        "        \"\\nsetosa proportion with petal width < mean:\", round(proportion_setosa2_pw,2))\n",
        "  \n",
        "setosa_proportion()"
      ],
      "metadata": {
        "colab": {
          "base_uri": "https://localhost:8080/"
        },
        "outputId": "b0230e5f-7517-4d5d-94e7-b924d4d982f2",
        "id": "yM5ln-T0p2-s"
      },
      "execution_count": 20,
      "outputs": [
        {
          "output_type": "stream",
          "name": "stdout",
          "text": [
            "setosa count:  33\n",
            "sepal length count: 0 \n",
            "sepal width count: 27 \n",
            "petal length count: 0 \n",
            "petal width count: 0\n",
            "setosa proportion with sepal legth > mean: 0.0 \n",
            "setosa proportion with sepal width > mean: 0.82 \n",
            "setosa proportion with petal legth > mean: 0.0 \n",
            "setosa proportion with petal width > mean: 0.0\n",
            "sepal length count: 33 \n",
            "sepal width count: 6 \n",
            "petal length count: 33 \n",
            "petal width count: 33\n",
            "setosa proportion with sepal legth < mean: 0.0 \n",
            "setosa proportion with sepal width < mean: 0.82 \n",
            "setosa proportion with petal legth < mean: 0.0 \n",
            "setosa proportion with petal width < mean: 0.0\n"
          ]
        }
      ]
    },
    {
      "cell_type": "markdown",
      "metadata": {
        "id": "5Ix6Hh0Uy9MS"
      },
      "source": [
        "### Exercise 6 - predict from the results\n",
        "---\n",
        "\n",
        "Create a list of dictionaries from the results Exercise 4 and 5 (e.g. {'species':..., 'above_mean': 0.xx, 'below_mean': 0.xx}  \n",
        "\n",
        "Then use a loop to go through the list and print:  \n",
        "*  any species and indicator (above or below mean) that can reliably be predicted.  A reliable prediction may be one over 0.5"
      ]
    },
    {
      "cell_type": "code",
      "metadata": {
        "id": "FPvXa8x81re7",
        "colab": {
          "base_uri": "https://localhost:8080/",
          "height": 450
        },
        "outputId": "6d6c04af-fe78-495b-ad0b-4ebb98f26494"
      },
      "source": [
        "#show which columns are reliable predictors\n",
        "\n",
        "import numpy as np\n",
        "import pandas as pd\n",
        "\n",
        "data = {'species': [\"virginica\", 'versicolor', 'setosa'], \n",
        "        'sepal_length_above_mean': [\"0.88\", '0.55', '0.0'],\n",
        "        'sepal_width_above_mean': [\"0.35\", '0.18', '0.82'],\n",
        "        'petal_length_above_mean': [\"1\", '0.87', '0.0'],\n",
        "        'petal_width_above_mean': [\"1\", '0.71', '0.0'],\n",
        "        'sepal_length_below_mean': [\"0.12\", '0.55', '0.0'],\n",
        "        'sepal_width_below_mean': [\"0.65\", '0.18', '0.82'],\n",
        "        'petal_length_below_mean': [\"0.0\", '0.87', '0.0'],\n",
        "        'petal_width_below_mean': [\"0.0\", '0.71', '0.0']}\n",
        "\t\t\n",
        "#passing column names in the columns parameter \n",
        "iris_stats = pd.DataFrame(data)\n",
        "print (iris_stats)\n",
        "iris_stats"
      ],
      "execution_count": 25,
      "outputs": [
        {
          "output_type": "stream",
          "name": "stdout",
          "text": [
            "      species sepal_length_above_mean sepal_width_above_mean  \\\n",
            "0   virginica                    0.88                   0.35   \n",
            "1  versicolor                    0.55                   0.18   \n",
            "2      setosa                     0.0                   0.82   \n",
            "\n",
            "  petal_length_above_mean petal_width_above_mean sepal_length_below_mean  \\\n",
            "0                       1                      1                    0.12   \n",
            "1                    0.87                   0.71                    0.55   \n",
            "2                     0.0                    0.0                     0.0   \n",
            "\n",
            "  sepal_width_below_mean petal_length_below_mean petal_width_below_mean  \n",
            "0                   0.65                     0.0                    0.0  \n",
            "1                   0.18                    0.87                   0.71  \n",
            "2                   0.82                     0.0                    0.0  \n"
          ]
        },
        {
          "output_type": "execute_result",
          "data": {
            "text/plain": [
              "      species sepal_length_above_mean sepal_width_above_mean  \\\n",
              "0   virginica                    0.88                   0.35   \n",
              "1  versicolor                    0.55                   0.18   \n",
              "2      setosa                     0.0                   0.82   \n",
              "\n",
              "  petal_length_above_mean petal_width_above_mean sepal_length_below_mean  \\\n",
              "0                       1                      1                    0.12   \n",
              "1                    0.87                   0.71                    0.55   \n",
              "2                     0.0                    0.0                     0.0   \n",
              "\n",
              "  sepal_width_below_mean petal_length_below_mean petal_width_below_mean  \n",
              "0                   0.65                     0.0                    0.0  \n",
              "1                   0.18                    0.87                   0.71  \n",
              "2                   0.82                     0.0                    0.0  "
            ],
            "text/html": [
              "\n",
              "  <div id=\"df-fcf37bea-6b30-4071-bb37-e1e511c276da\">\n",
              "    <div class=\"colab-df-container\">\n",
              "      <div>\n",
              "<style scoped>\n",
              "    .dataframe tbody tr th:only-of-type {\n",
              "        vertical-align: middle;\n",
              "    }\n",
              "\n",
              "    .dataframe tbody tr th {\n",
              "        vertical-align: top;\n",
              "    }\n",
              "\n",
              "    .dataframe thead th {\n",
              "        text-align: right;\n",
              "    }\n",
              "</style>\n",
              "<table border=\"1\" class=\"dataframe\">\n",
              "  <thead>\n",
              "    <tr style=\"text-align: right;\">\n",
              "      <th></th>\n",
              "      <th>species</th>\n",
              "      <th>sepal_length_above_mean</th>\n",
              "      <th>sepal_width_above_mean</th>\n",
              "      <th>petal_length_above_mean</th>\n",
              "      <th>petal_width_above_mean</th>\n",
              "      <th>sepal_length_below_mean</th>\n",
              "      <th>sepal_width_below_mean</th>\n",
              "      <th>petal_length_below_mean</th>\n",
              "      <th>petal_width_below_mean</th>\n",
              "    </tr>\n",
              "  </thead>\n",
              "  <tbody>\n",
              "    <tr>\n",
              "      <th>0</th>\n",
              "      <td>virginica</td>\n",
              "      <td>0.88</td>\n",
              "      <td>0.35</td>\n",
              "      <td>1</td>\n",
              "      <td>1</td>\n",
              "      <td>0.12</td>\n",
              "      <td>0.65</td>\n",
              "      <td>0.0</td>\n",
              "      <td>0.0</td>\n",
              "    </tr>\n",
              "    <tr>\n",
              "      <th>1</th>\n",
              "      <td>versicolor</td>\n",
              "      <td>0.55</td>\n",
              "      <td>0.18</td>\n",
              "      <td>0.87</td>\n",
              "      <td>0.71</td>\n",
              "      <td>0.55</td>\n",
              "      <td>0.18</td>\n",
              "      <td>0.87</td>\n",
              "      <td>0.71</td>\n",
              "    </tr>\n",
              "    <tr>\n",
              "      <th>2</th>\n",
              "      <td>setosa</td>\n",
              "      <td>0.0</td>\n",
              "      <td>0.82</td>\n",
              "      <td>0.0</td>\n",
              "      <td>0.0</td>\n",
              "      <td>0.0</td>\n",
              "      <td>0.82</td>\n",
              "      <td>0.0</td>\n",
              "      <td>0.0</td>\n",
              "    </tr>\n",
              "  </tbody>\n",
              "</table>\n",
              "</div>\n",
              "      <button class=\"colab-df-convert\" onclick=\"convertToInteractive('df-fcf37bea-6b30-4071-bb37-e1e511c276da')\"\n",
              "              title=\"Convert this dataframe to an interactive table.\"\n",
              "              style=\"display:none;\">\n",
              "        \n",
              "  <svg xmlns=\"http://www.w3.org/2000/svg\" height=\"24px\"viewBox=\"0 0 24 24\"\n",
              "       width=\"24px\">\n",
              "    <path d=\"M0 0h24v24H0V0z\" fill=\"none\"/>\n",
              "    <path d=\"M18.56 5.44l.94 2.06.94-2.06 2.06-.94-2.06-.94-.94-2.06-.94 2.06-2.06.94zm-11 1L8.5 8.5l.94-2.06 2.06-.94-2.06-.94L8.5 2.5l-.94 2.06-2.06.94zm10 10l.94 2.06.94-2.06 2.06-.94-2.06-.94-.94-2.06-.94 2.06-2.06.94z\"/><path d=\"M17.41 7.96l-1.37-1.37c-.4-.4-.92-.59-1.43-.59-.52 0-1.04.2-1.43.59L10.3 9.45l-7.72 7.72c-.78.78-.78 2.05 0 2.83L4 21.41c.39.39.9.59 1.41.59.51 0 1.02-.2 1.41-.59l7.78-7.78 2.81-2.81c.8-.78.8-2.07 0-2.86zM5.41 20L4 18.59l7.72-7.72 1.47 1.35L5.41 20z\"/>\n",
              "  </svg>\n",
              "      </button>\n",
              "      \n",
              "  <style>\n",
              "    .colab-df-container {\n",
              "      display:flex;\n",
              "      flex-wrap:wrap;\n",
              "      gap: 12px;\n",
              "    }\n",
              "\n",
              "    .colab-df-convert {\n",
              "      background-color: #E8F0FE;\n",
              "      border: none;\n",
              "      border-radius: 50%;\n",
              "      cursor: pointer;\n",
              "      display: none;\n",
              "      fill: #1967D2;\n",
              "      height: 32px;\n",
              "      padding: 0 0 0 0;\n",
              "      width: 32px;\n",
              "    }\n",
              "\n",
              "    .colab-df-convert:hover {\n",
              "      background-color: #E2EBFA;\n",
              "      box-shadow: 0px 1px 2px rgba(60, 64, 67, 0.3), 0px 1px 3px 1px rgba(60, 64, 67, 0.15);\n",
              "      fill: #174EA6;\n",
              "    }\n",
              "\n",
              "    [theme=dark] .colab-df-convert {\n",
              "      background-color: #3B4455;\n",
              "      fill: #D2E3FC;\n",
              "    }\n",
              "\n",
              "    [theme=dark] .colab-df-convert:hover {\n",
              "      background-color: #434B5C;\n",
              "      box-shadow: 0px 1px 3px 1px rgba(0, 0, 0, 0.15);\n",
              "      filter: drop-shadow(0px 1px 2px rgba(0, 0, 0, 0.3));\n",
              "      fill: #FFFFFF;\n",
              "    }\n",
              "  </style>\n",
              "\n",
              "      <script>\n",
              "        const buttonEl =\n",
              "          document.querySelector('#df-fcf37bea-6b30-4071-bb37-e1e511c276da button.colab-df-convert');\n",
              "        buttonEl.style.display =\n",
              "          google.colab.kernel.accessAllowed ? 'block' : 'none';\n",
              "\n",
              "        async function convertToInteractive(key) {\n",
              "          const element = document.querySelector('#df-fcf37bea-6b30-4071-bb37-e1e511c276da');\n",
              "          const dataTable =\n",
              "            await google.colab.kernel.invokeFunction('convertToInteractive',\n",
              "                                                     [key], {});\n",
              "          if (!dataTable) return;\n",
              "\n",
              "          const docLinkHtml = 'Like what you see? Visit the ' +\n",
              "            '<a target=\"_blank\" href=https://colab.research.google.com/notebooks/data_table.ipynb>data table notebook</a>'\n",
              "            + ' to learn more about interactive tables.';\n",
              "          element.innerHTML = '';\n",
              "          dataTable['output_type'] = 'display_data';\n",
              "          await google.colab.output.renderOutput(dataTable, element);\n",
              "          const docLink = document.createElement('div');\n",
              "          docLink.innerHTML = docLinkHtml;\n",
              "          element.appendChild(docLink);\n",
              "        }\n",
              "      </script>\n",
              "    </div>\n",
              "  </div>\n",
              "  "
            ]
          },
          "metadata": {},
          "execution_count": 25
        }
      ]
    },
    {
      "cell_type": "markdown",
      "source": [
        "In order to identify certain predictors as reliable, we need to look at values that are over 0.5.<br>\n",
        "\n",
        "We can conclude as reliable predictors for each species, the following from the table above:\n",
        "- **Virginica**: \n",
        "sepal_length_above_mean, petal_length_above_mean, width_above_mean, and sepal_width_below_mean are all above 0.5 with the strongest ones being petal length & width above mean that are equal to 1.\n",
        "- **Versicolor**: there is a clear reliability in all petal metrics and the only sepal metric that makes the mark is sepal_length_below_mean.\n",
        "- **Setosa**: there is a distinctive lack of reliability in the data for this species with only sepal_width_above_mean and sepal_width_mean above the 0.5 threshold. This result of the setosa distinction matches the overall data analysis and is also visible in the pairplot of part 1 of the project that demonstrated a clear separation of the setosa species in relation to the other two species."
      ],
      "metadata": {
        "id": "DEDlu8Puuwtu"
      }
    },
    {
      "cell_type": "markdown",
      "metadata": {
        "id": "ws2TxeRrnIJ4"
      },
      "source": [
        "### Exercise 6 - Make a decision tree\n",
        "---\n",
        "\n",
        "Use pencil and paper or a graphical application to create a decision tree for Iris-virginica, using the following rules (use the picture below as a guide):\n",
        "\n",
        "*  The column with the highest indicator is placed at the top\n",
        "*  Other columns are placed in order below\n",
        "*  The rest of the columns are placed in order below these\n",
        "\n",
        "Any column where one branch (on or above mean OR below mean) has an indicator of 0, could be classified as a strong indicator of Iris_virginica being the species.  Anything else, unless there is something very close to 0, could be classified as a weak indicator of Iris_virginica being the species.\n",
        "\n",
        "Let's code the decision tree using the following logic for this decision tree (yours might be slightly different):\n",
        "\n",
        "![Decision tree](https://drive.google.com/uc?id=1CTo23EHwR2IPCRjcfSyCQsT_oQ5Exwso)\n",
        "\n",
        "In the decision tree above, there is no certainty below petal-length so our decision tree will only include petal-width and petal-length.\n",
        "\n",
        "\n"
      ]
    },
    {
      "cell_type": "markdown",
      "source": [
        "The Decision Tree based on the above calculations is as follows:\n",
        "![Decision_Tree_Python.png](data:image/png;base64,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)"
      ],
      "metadata": {
        "id": "U7I5K7fG7-G6"
      }
    },
    {
      "cell_type": "code",
      "metadata": {
        "id": "tkCCL0ERDife",
        "colab": {
          "base_uri": "https://localhost:8080/"
        },
        "outputId": "ad97c486-7e28-4931-ef91-8de5803b2607"
      },
      "source": [
        "def get_species(df):\n",
        "  # ADD CODE HERE TO RETURN None if petal-width is below mean (encoded as 0) or if petal-length is below mean (encoded as 0), otherwise return 'Iris-virginia'\n",
        "    if df['petal-width'] == 0:\n",
        "        return None\n",
        "        if df['petal-length'] == 0:\n",
        "            return None\n",
        "            if df['sepal-length'] == 0:\n",
        "                return None\n",
        "    return 'Iris-virginica' \n",
        "\n",
        "# use the get_species(df) function to predict the species, count how many are predicted correct and use this to calculate the proportion correct\n",
        "correct = 0\n",
        "test_size = test.shape[0]\n",
        "for i in range(0, test_size):\n",
        "  species = get_species(test.iloc[i])\n",
        "  if species == test.iloc[i]['species']:\n",
        "      correct += 1\n",
        "\n",
        "print (\"Proportion correctly identified\", correct / test_size) \n"
      ],
      "execution_count": 22,
      "outputs": [
        {
          "output_type": "stream",
          "name": "stdout",
          "text": [
            "Proportion correctly identified 0.35555555555555557\n"
          ]
        }
      ]
    },
    {
      "cell_type": "markdown",
      "metadata": {
        "id": "-2tQcT5ILtxl"
      },
      "source": [
        "### Exercise 7 - change the measure\n",
        "\n",
        "We are currently using the mean to act as the decision making line.  We can use the decision tree with a different line.\n",
        "\n",
        "Change the mean values so that you are instead using the median instead for all four columns.  The code should not need changing except for where you calculated the mean.\n",
        "\n",
        "Run all the code again.  Is the proportion of correct values better this time?   Is the decision tree still appropriate?\n"
      ]
    },
    {
      "cell_type": "markdown",
      "metadata": {
        "id": "WimD4E5zNub1"
      },
      "source": [
        "What do you notice? (write your answer here)"
      ]
    },
    {
      "cell_type": "markdown",
      "metadata": {
        "id": "6WoHQeYLNyk8"
      },
      "source": [
        "### Exercise 8 - try different measures\n",
        "---\n",
        "\n",
        "Do the same again but with upper quantile, then again with the lower quantile.  Is it making any difference?  Which give the best looking results?"
      ]
    },
    {
      "cell_type": "markdown",
      "metadata": {
        "id": "8C69ns9VODh3"
      },
      "source": [
        "### Exercise 9 - try a different species\n",
        "\n",
        "Run the mean test again for the Iris-versicolor species.  Again, try some different decision making lines.\n",
        "\n",
        "What are the results.  Record them in the text cell below:"
      ]
    },
    {
      "cell_type": "markdown",
      "metadata": {
        "id": "t3oXJbqlOU0P"
      },
      "source": [
        "Write your answers here:  "
      ]
    },
    {
      "cell_type": "markdown",
      "metadata": {
        "id": "Co14Ws3gupwP"
      },
      "source": [
        "# New logic introduced in this worksheet:\n",
        "\n",
        "1.  Adding headings to a CSV if none currently exist\n",
        "2.  Splitting a data set into train and test sets"
      ]
    },
    {
      "cell_type": "code",
      "metadata": {
        "id": "-hpupKkeezXP",
        "colab": {
          "base_uri": "https://localhost:8080/",
          "height": 499
        },
        "outputId": "480169d4-6786-4150-e7c2-93fc24235813"
      },
      "source": [
        "## this type of plot will show the distribution on a chart\n",
        "from plotnine import *\n",
        "ggplot(train, aes(x='petal-length', y='petal-width', color='species')) + geom_point() + geom_vline(train, aes(xintercept=train['sepal-length'].mean(), color='species')) + geom_hline(train, aes(yintercept=train['sepal-length'].mean(), color='species'))"
      ],
      "execution_count": 23,
      "outputs": [
        {
          "output_type": "stream",
          "name": "stderr",
          "text": [
            "/usr/local/lib/python3.7/dist-packages/plotnine/utils.py:1246: FutureWarning: is_categorical is deprecated and will be removed in a future version.  Use is_categorical_dtype instead\n",
            "  if pdtypes.is_categorical(arr):\n"
          ]
        },
        {
          "output_type": "display_data",
          "data": {
            "text/plain": [
              "<Figure size 640x480 with 1 Axes>"
            ],
            "image/png": "[encoded data removed]"
          },
          "metadata": {}
        },
        {
          "output_type": "execute_result",
          "data": {
            "text/plain": [
              "<ggplot: (8787026413713)>"
            ]
          },
          "metadata": {},
          "execution_count": 23
        }
      ]
    }
  ]
}