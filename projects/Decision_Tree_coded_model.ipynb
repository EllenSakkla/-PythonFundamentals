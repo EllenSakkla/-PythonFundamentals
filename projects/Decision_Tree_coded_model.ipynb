{
  "nbformat": 4,
  "nbformat_minor": 0,
  "metadata": {
    "colab": {
      "name": "Decision-Tree-coded-model.ipynb",
      "provenance": [],
      "collapsed_sections": [],
      "include_colab_link": true
    },
    "kernelspec": {
      "display_name": "Python 3",
      "language": "python",
      "name": "python3"
    },
    "language_info": {
      "codemirror_mode": {
        "name": "ipython",
        "version": 3
      },
      "file_extension": ".py",
      "mimetype": "text/x-python",
      "name": "python",
      "nbconvert_exporter": "python",
      "pygments_lexer": "ipython3",
      "version": "3.8.5"
    }
  },
  "cells": [
    {
      "cell_type": "markdown",
      "metadata": {
        "id": "view-in-github",
        "colab_type": "text"
      },
      "source": [
        "<a href=\"https://colab.research.google.com/github/EllenSakkla/Python/blob/main/projects/Decision_Tree_coded_model.ipynb\" target=\"_parent\"><img src=\"https://colab.research.google.com/assets/colab-badge.svg\" alt=\"Open In Colab\"/></a>"
      ]
    },
    {
      "cell_type": "markdown",
      "metadata": {
        "id": "9HyLZK84N75s"
      },
      "source": [
        "# Coding a decision tree\n",
        "---\n",
        "\n",
        "The focus of this project is a **dataset*, using the idea of a **decision tree class**.  The model is simplified with Python code to make a simple decision tree classification model.  This is done for two reasons:\n",
        "*   writing the code is often good for helping to understand what is going on under the bonnet of a library function\n",
        "*   it is a good coding exercise for practice as it mostly depends on calculations and if..elif..else statements.\n",
        "\n",
        "This project involves coding a decision tree which will use the calculated probabilities to make decisions about whether a row of given data would be classified as **Iris-virginica**, or not, based on sepal and petal dimensions.  It is easier to classify between two values (Iris-virginica or not - the other two types being 'Iris-setosa' and 'Iris-versicolor').  Later, using this information, species can be further predicted by probabilities of error.\n",
        "\n",
        "![Iris-petals and sepals](https://www.math.umd.edu/~petersd/666/html/iris_with_labels.jpg)\n",
        "\n",
        "The workflow is:\n",
        "*  divide the dataset into 70% of the rows for training and 30% for testing  (we can increase the size of the training set later)\n",
        "*  find the mean for each of the 4 size columns\n",
        "*  calculate the proportion of each column that are on or above mean that are of a species (ie proportion of petal-lengths on or above mean that are Iris-virginica)\n",
        "*  infer the proportion of each that are not of that species (using 1 - proportion above).  In both cases we are looking to find if either of these is 1, which could be infered as definitely not that species. \n",
        "*  calculate a Gini Index that will indicate the probability that a prediction will be incorrect\n",
        "*  use the results of the Gini Index to model a decision tree\n",
        "*  code the decision tree model into a function that will return whether or not a row in the test set is predicted to be of species Iris-virginica\n",
        "*  use the decision tree function to predict, for each row in the test set, if the species will be Iris-virginicia or not, using a set of nested if statements to classify\n",
        "*  compare the predicted values against the actual values in the test set - what proportion were predicted correctly?\n"
      ]
    },
    {
      "cell_type": "markdown",
      "metadata": {
        "id": "4iR8g8h_Ol0j"
      },
      "source": [
        "### Exercise 1 - investigate the iris dataset\n",
        "---\n",
        "Let's start by looking at the data.  We are going to use a dataset that contains data on iris flowers.\n",
        "\n",
        "Read the data at this location: https://raw.githubusercontent.com/jbrownlee/Datasets/master/iris.csv into a dataframe called iris_data\n",
        "\n",
        "The columns in the CSV file do not have headings, when you read the file, add column headings like this:\n",
        "```\n",
        "url = \"https://raw.githubusercontent.com/jbrownlee/Datasets/master/iris.csv\"\n",
        "names = ['sepal-length', 'sepal-width', 'petal-length', 'petal-width', 'species']\n",
        "iris_data = pd.read_csv(url, name=names)\n",
        "```\n",
        "*  Take a look at the column info (how many columns, what type of data, any missing data?)\n",
        "*  Take a look at the data values in the first 10 and the last 10 records to get an idea of the type of values included\n",
        "*  Find out how many unique values there are in the species column\n",
        "*  Find out the maximum, minimum, mean, median and upper and lower quartile values in each of the columns\n"
      ]
    },
    {
      "cell_type": "code",
      "metadata": {
        "id": "eGZuOLPYPgL5",
        "colab": {
          "base_uri": "https://localhost:8080/",
          "height": 424
        },
        "outputId": "3e52001f-0ade-4308-9965-dd54ed1c9129"
      },
      "source": [
        "import pandas as pd\n",
        "import numpy as np\n",
        "\n",
        "data = \"https://raw.githubusercontent.com/jbrownlee/Datasets/master/iris.csv\"\n",
        "names = ['sepal-length', 'sepal-width', 'petal-length', 'petal-width', 'species']\n",
        "iris_data = pd.read_csv(data, names=names)\n",
        "\n",
        "iris_data"
      ],
      "execution_count": 71,
      "outputs": [
        {
          "output_type": "execute_result",
          "data": {
            "text/plain": [
              "     sepal-length  sepal-width  petal-length  petal-width         species\n",
              "0             5.1          3.5           1.4          0.2     Iris-setosa\n",
              "1             4.9          3.0           1.4          0.2     Iris-setosa\n",
              "2             4.7          3.2           1.3          0.2     Iris-setosa\n",
              "3             4.6          3.1           1.5          0.2     Iris-setosa\n",
              "4             5.0          3.6           1.4          0.2     Iris-setosa\n",
              "..            ...          ...           ...          ...             ...\n",
              "145           6.7          3.0           5.2          2.3  Iris-virginica\n",
              "146           6.3          2.5           5.0          1.9  Iris-virginica\n",
              "147           6.5          3.0           5.2          2.0  Iris-virginica\n",
              "148           6.2          3.4           5.4          2.3  Iris-virginica\n",
              "149           5.9          3.0           5.1          1.8  Iris-virginica\n",
              "\n",
              "[150 rows x 5 columns]"
            ],
            "text/html": [
              "\n",
              "  <div id=\"df-13dae0a7-6526-4790-8f34-c39e2255a3af\">\n",
              "    <div class=\"colab-df-container\">\n",
              "      <div>\n",
              "<style scoped>\n",
              "    .dataframe tbody tr th:only-of-type {\n",
              "        vertical-align: middle;\n",
              "    }\n",
              "\n",
              "    .dataframe tbody tr th {\n",
              "        vertical-align: top;\n",
              "    }\n",
              "\n",
              "    .dataframe thead th {\n",
              "        text-align: right;\n",
              "    }\n",
              "</style>\n",
              "<table border=\"1\" class=\"dataframe\">\n",
              "  <thead>\n",
              "    <tr style=\"text-align: right;\">\n",
              "      <th></th>\n",
              "      <th>sepal-length</th>\n",
              "      <th>sepal-width</th>\n",
              "      <th>petal-length</th>\n",
              "      <th>petal-width</th>\n",
              "      <th>species</th>\n",
              "    </tr>\n",
              "  </thead>\n",
              "  <tbody>\n",
              "    <tr>\n",
              "      <th>0</th>\n",
              "      <td>5.1</td>\n",
              "      <td>3.5</td>\n",
              "      <td>1.4</td>\n",
              "      <td>0.2</td>\n",
              "      <td>Iris-setosa</td>\n",
              "    </tr>\n",
              "    <tr>\n",
              "      <th>1</th>\n",
              "      <td>4.9</td>\n",
              "      <td>3.0</td>\n",
              "      <td>1.4</td>\n",
              "      <td>0.2</td>\n",
              "      <td>Iris-setosa</td>\n",
              "    </tr>\n",
              "    <tr>\n",
              "      <th>2</th>\n",
              "      <td>4.7</td>\n",
              "      <td>3.2</td>\n",
              "      <td>1.3</td>\n",
              "      <td>0.2</td>\n",
              "      <td>Iris-setosa</td>\n",
              "    </tr>\n",
              "    <tr>\n",
              "      <th>3</th>\n",
              "      <td>4.6</td>\n",
              "      <td>3.1</td>\n",
              "      <td>1.5</td>\n",
              "      <td>0.2</td>\n",
              "      <td>Iris-setosa</td>\n",
              "    </tr>\n",
              "    <tr>\n",
              "      <th>4</th>\n",
              "      <td>5.0</td>\n",
              "      <td>3.6</td>\n",
              "      <td>1.4</td>\n",
              "      <td>0.2</td>\n",
              "      <td>Iris-setosa</td>\n",
              "    </tr>\n",
              "    <tr>\n",
              "      <th>...</th>\n",
              "      <td>...</td>\n",
              "      <td>...</td>\n",
              "      <td>...</td>\n",
              "      <td>...</td>\n",
              "      <td>...</td>\n",
              "    </tr>\n",
              "    <tr>\n",
              "      <th>145</th>\n",
              "      <td>6.7</td>\n",
              "      <td>3.0</td>\n",
              "      <td>5.2</td>\n",
              "      <td>2.3</td>\n",
              "      <td>Iris-virginica</td>\n",
              "    </tr>\n",
              "    <tr>\n",
              "      <th>146</th>\n",
              "      <td>6.3</td>\n",
              "      <td>2.5</td>\n",
              "      <td>5.0</td>\n",
              "      <td>1.9</td>\n",
              "      <td>Iris-virginica</td>\n",
              "    </tr>\n",
              "    <tr>\n",
              "      <th>147</th>\n",
              "      <td>6.5</td>\n",
              "      <td>3.0</td>\n",
              "      <td>5.2</td>\n",
              "      <td>2.0</td>\n",
              "      <td>Iris-virginica</td>\n",
              "    </tr>\n",
              "    <tr>\n",
              "      <th>148</th>\n",
              "      <td>6.2</td>\n",
              "      <td>3.4</td>\n",
              "      <td>5.4</td>\n",
              "      <td>2.3</td>\n",
              "      <td>Iris-virginica</td>\n",
              "    </tr>\n",
              "    <tr>\n",
              "      <th>149</th>\n",
              "      <td>5.9</td>\n",
              "      <td>3.0</td>\n",
              "      <td>5.1</td>\n",
              "      <td>1.8</td>\n",
              "      <td>Iris-virginica</td>\n",
              "    </tr>\n",
              "  </tbody>\n",
              "</table>\n",
              "<p>150 rows × 5 columns</p>\n",
              "</div>\n",
              "      <button class=\"colab-df-convert\" onclick=\"convertToInteractive('df-13dae0a7-6526-4790-8f34-c39e2255a3af')\"\n",
              "              title=\"Convert this dataframe to an interactive table.\"\n",
              "              style=\"display:none;\">\n",
              "        \n",
              "  <svg xmlns=\"http://www.w3.org/2000/svg\" height=\"24px\"viewBox=\"0 0 24 24\"\n",
              "       width=\"24px\">\n",
              "    <path d=\"M0 0h24v24H0V0z\" fill=\"none\"/>\n",
              "    <path d=\"M18.56 5.44l.94 2.06.94-2.06 2.06-.94-2.06-.94-.94-2.06-.94 2.06-2.06.94zm-11 1L8.5 8.5l.94-2.06 2.06-.94-2.06-.94L8.5 2.5l-.94 2.06-2.06.94zm10 10l.94 2.06.94-2.06 2.06-.94-2.06-.94-.94-2.06-.94 2.06-2.06.94z\"/><path d=\"M17.41 7.96l-1.37-1.37c-.4-.4-.92-.59-1.43-.59-.52 0-1.04.2-1.43.59L10.3 9.45l-7.72 7.72c-.78.78-.78 2.05 0 2.83L4 21.41c.39.39.9.59 1.41.59.51 0 1.02-.2 1.41-.59l7.78-7.78 2.81-2.81c.8-.78.8-2.07 0-2.86zM5.41 20L4 18.59l7.72-7.72 1.47 1.35L5.41 20z\"/>\n",
              "  </svg>\n",
              "      </button>\n",
              "      \n",
              "  <style>\n",
              "    .colab-df-container {\n",
              "      display:flex;\n",
              "      flex-wrap:wrap;\n",
              "      gap: 12px;\n",
              "    }\n",
              "\n",
              "    .colab-df-convert {\n",
              "      background-color: #E8F0FE;\n",
              "      border: none;\n",
              "      border-radius: 50%;\n",
              "      cursor: pointer;\n",
              "      display: none;\n",
              "      fill: #1967D2;\n",
              "      height: 32px;\n",
              "      padding: 0 0 0 0;\n",
              "      width: 32px;\n",
              "    }\n",
              "\n",
              "    .colab-df-convert:hover {\n",
              "      background-color: #E2EBFA;\n",
              "      box-shadow: 0px 1px 2px rgba(60, 64, 67, 0.3), 0px 1px 3px 1px rgba(60, 64, 67, 0.15);\n",
              "      fill: #174EA6;\n",
              "    }\n",
              "\n",
              "    [theme=dark] .colab-df-convert {\n",
              "      background-color: #3B4455;\n",
              "      fill: #D2E3FC;\n",
              "    }\n",
              "\n",
              "    [theme=dark] .colab-df-convert:hover {\n",
              "      background-color: #434B5C;\n",
              "      box-shadow: 0px 1px 3px 1px rgba(0, 0, 0, 0.15);\n",
              "      filter: drop-shadow(0px 1px 2px rgba(0, 0, 0, 0.3));\n",
              "      fill: #FFFFFF;\n",
              "    }\n",
              "  </style>\n",
              "\n",
              "      <script>\n",
              "        const buttonEl =\n",
              "          document.querySelector('#df-13dae0a7-6526-4790-8f34-c39e2255a3af button.colab-df-convert');\n",
              "        buttonEl.style.display =\n",
              "          google.colab.kernel.accessAllowed ? 'block' : 'none';\n",
              "\n",
              "        async function convertToInteractive(key) {\n",
              "          const element = document.querySelector('#df-13dae0a7-6526-4790-8f34-c39e2255a3af');\n",
              "          const dataTable =\n",
              "            await google.colab.kernel.invokeFunction('convertToInteractive',\n",
              "                                                     [key], {});\n",
              "          if (!dataTable) return;\n",
              "\n",
              "          const docLinkHtml = 'Like what you see? Visit the ' +\n",
              "            '<a target=\"_blank\" href=https://colab.research.google.com/notebooks/data_table.ipynb>data table notebook</a>'\n",
              "            + ' to learn more about interactive tables.';\n",
              "          element.innerHTML = '';\n",
              "          dataTable['output_type'] = 'display_data';\n",
              "          await google.colab.output.renderOutput(dataTable, element);\n",
              "          const docLink = document.createElement('div');\n",
              "          docLink.innerHTML = docLinkHtml;\n",
              "          element.appendChild(docLink);\n",
              "        }\n",
              "      </script>\n",
              "    </div>\n",
              "  </div>\n",
              "  "
            ]
          },
          "metadata": {},
          "execution_count": 71
        }
      ]
    },
    {
      "cell_type": "markdown",
      "source": [
        "The initial review of the dataset shows that we have 150 rows and 5 columns in total, 4 containing numerical values for sepal/petal width and length and the 5th containing the names of the species."
      ],
      "metadata": {
        "id": "beOCIpD3nJ_i"
      }
    },
    {
      "cell_type": "code",
      "source": [
        "#Display the top 5 rows of the dataframe\n",
        "iris_data.head() "
      ],
      "metadata": {
        "colab": {
          "base_uri": "https://localhost:8080/",
          "height": 206
        },
        "id": "-HHrfl92lGsR",
        "outputId": "a67e46db-2330-4fd0-9c04-1d88b7b9e1e2"
      },
      "execution_count": 72,
      "outputs": [
        {
          "output_type": "execute_result",
          "data": {
            "text/plain": [
              "   sepal-length  sepal-width  petal-length  petal-width      species\n",
              "0           5.1          3.5           1.4          0.2  Iris-setosa\n",
              "1           4.9          3.0           1.4          0.2  Iris-setosa\n",
              "2           4.7          3.2           1.3          0.2  Iris-setosa\n",
              "3           4.6          3.1           1.5          0.2  Iris-setosa\n",
              "4           5.0          3.6           1.4          0.2  Iris-setosa"
            ],
            "text/html": [
              "\n",
              "  <div id=\"df-007db545-4be7-49d0-8b53-60d34508a87b\">\n",
              "    <div class=\"colab-df-container\">\n",
              "      <div>\n",
              "<style scoped>\n",
              "    .dataframe tbody tr th:only-of-type {\n",
              "        vertical-align: middle;\n",
              "    }\n",
              "\n",
              "    .dataframe tbody tr th {\n",
              "        vertical-align: top;\n",
              "    }\n",
              "\n",
              "    .dataframe thead th {\n",
              "        text-align: right;\n",
              "    }\n",
              "</style>\n",
              "<table border=\"1\" class=\"dataframe\">\n",
              "  <thead>\n",
              "    <tr style=\"text-align: right;\">\n",
              "      <th></th>\n",
              "      <th>sepal-length</th>\n",
              "      <th>sepal-width</th>\n",
              "      <th>petal-length</th>\n",
              "      <th>petal-width</th>\n",
              "      <th>species</th>\n",
              "    </tr>\n",
              "  </thead>\n",
              "  <tbody>\n",
              "    <tr>\n",
              "      <th>0</th>\n",
              "      <td>5.1</td>\n",
              "      <td>3.5</td>\n",
              "      <td>1.4</td>\n",
              "      <td>0.2</td>\n",
              "      <td>Iris-setosa</td>\n",
              "    </tr>\n",
              "    <tr>\n",
              "      <th>1</th>\n",
              "      <td>4.9</td>\n",
              "      <td>3.0</td>\n",
              "      <td>1.4</td>\n",
              "      <td>0.2</td>\n",
              "      <td>Iris-setosa</td>\n",
              "    </tr>\n",
              "    <tr>\n",
              "      <th>2</th>\n",
              "      <td>4.7</td>\n",
              "      <td>3.2</td>\n",
              "      <td>1.3</td>\n",
              "      <td>0.2</td>\n",
              "      <td>Iris-setosa</td>\n",
              "    </tr>\n",
              "    <tr>\n",
              "      <th>3</th>\n",
              "      <td>4.6</td>\n",
              "      <td>3.1</td>\n",
              "      <td>1.5</td>\n",
              "      <td>0.2</td>\n",
              "      <td>Iris-setosa</td>\n",
              "    </tr>\n",
              "    <tr>\n",
              "      <th>4</th>\n",
              "      <td>5.0</td>\n",
              "      <td>3.6</td>\n",
              "      <td>1.4</td>\n",
              "      <td>0.2</td>\n",
              "      <td>Iris-setosa</td>\n",
              "    </tr>\n",
              "  </tbody>\n",
              "</table>\n",
              "</div>\n",
              "      <button class=\"colab-df-convert\" onclick=\"convertToInteractive('df-007db545-4be7-49d0-8b53-60d34508a87b')\"\n",
              "              title=\"Convert this dataframe to an interactive table.\"\n",
              "              style=\"display:none;\">\n",
              "        \n",
              "  <svg xmlns=\"http://www.w3.org/2000/svg\" height=\"24px\"viewBox=\"0 0 24 24\"\n",
              "       width=\"24px\">\n",
              "    <path d=\"M0 0h24v24H0V0z\" fill=\"none\"/>\n",
              "    <path d=\"M18.56 5.44l.94 2.06.94-2.06 2.06-.94-2.06-.94-.94-2.06-.94 2.06-2.06.94zm-11 1L8.5 8.5l.94-2.06 2.06-.94-2.06-.94L8.5 2.5l-.94 2.06-2.06.94zm10 10l.94 2.06.94-2.06 2.06-.94-2.06-.94-.94-2.06-.94 2.06-2.06.94z\"/><path d=\"M17.41 7.96l-1.37-1.37c-.4-.4-.92-.59-1.43-.59-.52 0-1.04.2-1.43.59L10.3 9.45l-7.72 7.72c-.78.78-.78 2.05 0 2.83L4 21.41c.39.39.9.59 1.41.59.51 0 1.02-.2 1.41-.59l7.78-7.78 2.81-2.81c.8-.78.8-2.07 0-2.86zM5.41 20L4 18.59l7.72-7.72 1.47 1.35L5.41 20z\"/>\n",
              "  </svg>\n",
              "      </button>\n",
              "      \n",
              "  <style>\n",
              "    .colab-df-container {\n",
              "      display:flex;\n",
              "      flex-wrap:wrap;\n",
              "      gap: 12px;\n",
              "    }\n",
              "\n",
              "    .colab-df-convert {\n",
              "      background-color: #E8F0FE;\n",
              "      border: none;\n",
              "      border-radius: 50%;\n",
              "      cursor: pointer;\n",
              "      display: none;\n",
              "      fill: #1967D2;\n",
              "      height: 32px;\n",
              "      padding: 0 0 0 0;\n",
              "      width: 32px;\n",
              "    }\n",
              "\n",
              "    .colab-df-convert:hover {\n",
              "      background-color: #E2EBFA;\n",
              "      box-shadow: 0px 1px 2px rgba(60, 64, 67, 0.3), 0px 1px 3px 1px rgba(60, 64, 67, 0.15);\n",
              "      fill: #174EA6;\n",
              "    }\n",
              "\n",
              "    [theme=dark] .colab-df-convert {\n",
              "      background-color: #3B4455;\n",
              "      fill: #D2E3FC;\n",
              "    }\n",
              "\n",
              "    [theme=dark] .colab-df-convert:hover {\n",
              "      background-color: #434B5C;\n",
              "      box-shadow: 0px 1px 3px 1px rgba(0, 0, 0, 0.15);\n",
              "      filter: drop-shadow(0px 1px 2px rgba(0, 0, 0, 0.3));\n",
              "      fill: #FFFFFF;\n",
              "    }\n",
              "  </style>\n",
              "\n",
              "      <script>\n",
              "        const buttonEl =\n",
              "          document.querySelector('#df-007db545-4be7-49d0-8b53-60d34508a87b button.colab-df-convert');\n",
              "        buttonEl.style.display =\n",
              "          google.colab.kernel.accessAllowed ? 'block' : 'none';\n",
              "\n",
              "        async function convertToInteractive(key) {\n",
              "          const element = document.querySelector('#df-007db545-4be7-49d0-8b53-60d34508a87b');\n",
              "          const dataTable =\n",
              "            await google.colab.kernel.invokeFunction('convertToInteractive',\n",
              "                                                     [key], {});\n",
              "          if (!dataTable) return;\n",
              "\n",
              "          const docLinkHtml = 'Like what you see? Visit the ' +\n",
              "            '<a target=\"_blank\" href=https://colab.research.google.com/notebooks/data_table.ipynb>data table notebook</a>'\n",
              "            + ' to learn more about interactive tables.';\n",
              "          element.innerHTML = '';\n",
              "          dataTable['output_type'] = 'display_data';\n",
              "          await google.colab.output.renderOutput(dataTable, element);\n",
              "          const docLink = document.createElement('div');\n",
              "          docLink.innerHTML = docLinkHtml;\n",
              "          element.appendChild(docLink);\n",
              "        }\n",
              "      </script>\n",
              "    </div>\n",
              "  </div>\n",
              "  "
            ]
          },
          "metadata": {},
          "execution_count": 72
        }
      ]
    },
    {
      "cell_type": "code",
      "source": [
        "#Alternative\n",
        "iris_data.info()"
      ],
      "metadata": {
        "colab": {
          "base_uri": "https://localhost:8080/"
        },
        "id": "EH8TOzZFWCYb",
        "outputId": "7495d6b8-ff11-4eb0-b2fd-a03cd0fe4713"
      },
      "execution_count": 73,
      "outputs": [
        {
          "output_type": "stream",
          "name": "stdout",
          "text": [
            "<class 'pandas.core.frame.DataFrame'>\n",
            "RangeIndex: 150 entries, 0 to 149\n",
            "Data columns (total 5 columns):\n",
            " #   Column        Non-Null Count  Dtype  \n",
            "---  ------        --------------  -----  \n",
            " 0   sepal-length  150 non-null    float64\n",
            " 1   sepal-width   150 non-null    float64\n",
            " 2   petal-length  150 non-null    float64\n",
            " 3   petal-width   150 non-null    float64\n",
            " 4   species       150 non-null    object \n",
            "dtypes: float64(4), object(1)\n",
            "memory usage: 6.0+ KB\n"
          ]
        }
      ]
    },
    {
      "cell_type": "code",
      "source": [
        "print(iris_data)\n",
        "column_values = iris_data[[\"species\"]].values\n",
        "\n",
        "#Identify and printing the unique types of iris flowers found in the database\n",
        "unique_values = np.unique(column_values)\n",
        "print(\"The types of iris flower species found in the dataframe are:\", unique_values)"
      ],
      "metadata": {
        "colab": {
          "base_uri": "https://localhost:8080/"
        },
        "id": "Dma9ls_5bIvl",
        "outputId": "c34742af-c67b-4214-fd20-e381b304b0c3"
      },
      "execution_count": 74,
      "outputs": [
        {
          "output_type": "stream",
          "name": "stdout",
          "text": [
            "     sepal-length  sepal-width  petal-length  petal-width         species\n",
            "0             5.1          3.5           1.4          0.2     Iris-setosa\n",
            "1             4.9          3.0           1.4          0.2     Iris-setosa\n",
            "2             4.7          3.2           1.3          0.2     Iris-setosa\n",
            "3             4.6          3.1           1.5          0.2     Iris-setosa\n",
            "4             5.0          3.6           1.4          0.2     Iris-setosa\n",
            "..            ...          ...           ...          ...             ...\n",
            "145           6.7          3.0           5.2          2.3  Iris-virginica\n",
            "146           6.3          2.5           5.0          1.9  Iris-virginica\n",
            "147           6.5          3.0           5.2          2.0  Iris-virginica\n",
            "148           6.2          3.4           5.4          2.3  Iris-virginica\n",
            "149           5.9          3.0           5.1          1.8  Iris-virginica\n",
            "\n",
            "[150 rows x 5 columns]\n",
            "The types of iris flower species found in the dataframe are: ['Iris-setosa' 'Iris-versicolor' 'Iris-virginica']\n"
          ]
        }
      ]
    },
    {
      "cell_type": "code",
      "source": [
        "#Number of entries for each iris flower under the 'species' column\n",
        "iris_data['species'].value_counts() "
      ],
      "metadata": {
        "colab": {
          "base_uri": "https://localhost:8080/"
        },
        "id": "jWA8hiTUph6x",
        "outputId": "6765e275-5f32-4b1f-b1e4-eebbc25b37cd"
      },
      "execution_count": 75,
      "outputs": [
        {
          "output_type": "execute_result",
          "data": {
            "text/plain": [
              "Iris-setosa        50\n",
              "Iris-versicolor    50\n",
              "Iris-virginica     50\n",
              "Name: species, dtype: int64"
            ]
          },
          "metadata": {},
          "execution_count": 75
        }
      ]
    },
    {
      "cell_type": "code",
      "source": [
        "#Max & min values for length and width metrics respectively.\n",
        "columns = iris_data[[\"sepal-length\", \"sepal-width\", \"petal-length\", \"petal-width\", \"species\"]]\n",
        "max_value = columns.max()\n",
        "print(max_value)\n",
        "min_value = columns.min()\n",
        "print(min_value)"
      ],
      "metadata": {
        "colab": {
          "base_uri": "https://localhost:8080/"
        },
        "id": "UBGohv-Mb-YC",
        "outputId": "74983eac-8533-4b61-e2ef-87baeba82dca"
      },
      "execution_count": 76,
      "outputs": [
        {
          "output_type": "stream",
          "name": "stdout",
          "text": [
            "sepal-length               7.9\n",
            "sepal-width                4.4\n",
            "petal-length               6.9\n",
            "petal-width                2.5\n",
            "species         Iris-virginica\n",
            "dtype: object\n",
            "sepal-length            4.3\n",
            "sepal-width             2.0\n",
            "petal-length            1.0\n",
            "petal-width             0.1\n",
            "species         Iris-setosa\n",
            "dtype: object\n"
          ]
        }
      ]
    },
    {
      "cell_type": "code",
      "source": [
        "# Additionally we can use the .describe() for a generic summary of important calculations which covers upper/lower quartiles\n",
        "iris_data[[\"sepal-length\", \"sepal-width\", \"petal-length\", \"petal-width\", \"species\"]].describe() "
      ],
      "metadata": {
        "colab": {
          "base_uri": "https://localhost:8080/",
          "height": 300
        },
        "id": "aOPLtF_ce0AW",
        "outputId": "45f953f4-b69d-41dc-81c4-379d532f73cf"
      },
      "execution_count": 77,
      "outputs": [
        {
          "output_type": "execute_result",
          "data": {
            "text/plain": [
              "       sepal-length  sepal-width  petal-length  petal-width\n",
              "count    150.000000   150.000000    150.000000   150.000000\n",
              "mean       5.843333     3.054000      3.758667     1.198667\n",
              "std        0.828066     0.433594      1.764420     0.763161\n",
              "min        4.300000     2.000000      1.000000     0.100000\n",
              "25%        5.100000     2.800000      1.600000     0.300000\n",
              "50%        5.800000     3.000000      4.350000     1.300000\n",
              "75%        6.400000     3.300000      5.100000     1.800000\n",
              "max        7.900000     4.400000      6.900000     2.500000"
            ],
            "text/html": [
              "\n",
              "  <div id=\"df-b3aac98e-2503-4110-bb3e-cad6fe7973f1\">\n",
              "    <div class=\"colab-df-container\">\n",
              "      <div>\n",
              "<style scoped>\n",
              "    .dataframe tbody tr th:only-of-type {\n",
              "        vertical-align: middle;\n",
              "    }\n",
              "\n",
              "    .dataframe tbody tr th {\n",
              "        vertical-align: top;\n",
              "    }\n",
              "\n",
              "    .dataframe thead th {\n",
              "        text-align: right;\n",
              "    }\n",
              "</style>\n",
              "<table border=\"1\" class=\"dataframe\">\n",
              "  <thead>\n",
              "    <tr style=\"text-align: right;\">\n",
              "      <th></th>\n",
              "      <th>sepal-length</th>\n",
              "      <th>sepal-width</th>\n",
              "      <th>petal-length</th>\n",
              "      <th>petal-width</th>\n",
              "    </tr>\n",
              "  </thead>\n",
              "  <tbody>\n",
              "    <tr>\n",
              "      <th>count</th>\n",
              "      <td>150.000000</td>\n",
              "      <td>150.000000</td>\n",
              "      <td>150.000000</td>\n",
              "      <td>150.000000</td>\n",
              "    </tr>\n",
              "    <tr>\n",
              "      <th>mean</th>\n",
              "      <td>5.843333</td>\n",
              "      <td>3.054000</td>\n",
              "      <td>3.758667</td>\n",
              "      <td>1.198667</td>\n",
              "    </tr>\n",
              "    <tr>\n",
              "      <th>std</th>\n",
              "      <td>0.828066</td>\n",
              "      <td>0.433594</td>\n",
              "      <td>1.764420</td>\n",
              "      <td>0.763161</td>\n",
              "    </tr>\n",
              "    <tr>\n",
              "      <th>min</th>\n",
              "      <td>4.300000</td>\n",
              "      <td>2.000000</td>\n",
              "      <td>1.000000</td>\n",
              "      <td>0.100000</td>\n",
              "    </tr>\n",
              "    <tr>\n",
              "      <th>25%</th>\n",
              "      <td>5.100000</td>\n",
              "      <td>2.800000</td>\n",
              "      <td>1.600000</td>\n",
              "      <td>0.300000</td>\n",
              "    </tr>\n",
              "    <tr>\n",
              "      <th>50%</th>\n",
              "      <td>5.800000</td>\n",
              "      <td>3.000000</td>\n",
              "      <td>4.350000</td>\n",
              "      <td>1.300000</td>\n",
              "    </tr>\n",
              "    <tr>\n",
              "      <th>75%</th>\n",
              "      <td>6.400000</td>\n",
              "      <td>3.300000</td>\n",
              "      <td>5.100000</td>\n",
              "      <td>1.800000</td>\n",
              "    </tr>\n",
              "    <tr>\n",
              "      <th>max</th>\n",
              "      <td>7.900000</td>\n",
              "      <td>4.400000</td>\n",
              "      <td>6.900000</td>\n",
              "      <td>2.500000</td>\n",
              "    </tr>\n",
              "  </tbody>\n",
              "</table>\n",
              "</div>\n",
              "      <button class=\"colab-df-convert\" onclick=\"convertToInteractive('df-b3aac98e-2503-4110-bb3e-cad6fe7973f1')\"\n",
              "              title=\"Convert this dataframe to an interactive table.\"\n",
              "              style=\"display:none;\">\n",
              "        \n",
              "  <svg xmlns=\"http://www.w3.org/2000/svg\" height=\"24px\"viewBox=\"0 0 24 24\"\n",
              "       width=\"24px\">\n",
              "    <path d=\"M0 0h24v24H0V0z\" fill=\"none\"/>\n",
              "    <path d=\"M18.56 5.44l.94 2.06.94-2.06 2.06-.94-2.06-.94-.94-2.06-.94 2.06-2.06.94zm-11 1L8.5 8.5l.94-2.06 2.06-.94-2.06-.94L8.5 2.5l-.94 2.06-2.06.94zm10 10l.94 2.06.94-2.06 2.06-.94-2.06-.94-.94-2.06-.94 2.06-2.06.94z\"/><path d=\"M17.41 7.96l-1.37-1.37c-.4-.4-.92-.59-1.43-.59-.52 0-1.04.2-1.43.59L10.3 9.45l-7.72 7.72c-.78.78-.78 2.05 0 2.83L4 21.41c.39.39.9.59 1.41.59.51 0 1.02-.2 1.41-.59l7.78-7.78 2.81-2.81c.8-.78.8-2.07 0-2.86zM5.41 20L4 18.59l7.72-7.72 1.47 1.35L5.41 20z\"/>\n",
              "  </svg>\n",
              "      </button>\n",
              "      \n",
              "  <style>\n",
              "    .colab-df-container {\n",
              "      display:flex;\n",
              "      flex-wrap:wrap;\n",
              "      gap: 12px;\n",
              "    }\n",
              "\n",
              "    .colab-df-convert {\n",
              "      background-color: #E8F0FE;\n",
              "      border: none;\n",
              "      border-radius: 50%;\n",
              "      cursor: pointer;\n",
              "      display: none;\n",
              "      fill: #1967D2;\n",
              "      height: 32px;\n",
              "      padding: 0 0 0 0;\n",
              "      width: 32px;\n",
              "    }\n",
              "\n",
              "    .colab-df-convert:hover {\n",
              "      background-color: #E2EBFA;\n",
              "      box-shadow: 0px 1px 2px rgba(60, 64, 67, 0.3), 0px 1px 3px 1px rgba(60, 64, 67, 0.15);\n",
              "      fill: #174EA6;\n",
              "    }\n",
              "\n",
              "    [theme=dark] .colab-df-convert {\n",
              "      background-color: #3B4455;\n",
              "      fill: #D2E3FC;\n",
              "    }\n",
              "\n",
              "    [theme=dark] .colab-df-convert:hover {\n",
              "      background-color: #434B5C;\n",
              "      box-shadow: 0px 1px 3px 1px rgba(0, 0, 0, 0.15);\n",
              "      filter: drop-shadow(0px 1px 2px rgba(0, 0, 0, 0.3));\n",
              "      fill: #FFFFFF;\n",
              "    }\n",
              "  </style>\n",
              "\n",
              "      <script>\n",
              "        const buttonEl =\n",
              "          document.querySelector('#df-b3aac98e-2503-4110-bb3e-cad6fe7973f1 button.colab-df-convert');\n",
              "        buttonEl.style.display =\n",
              "          google.colab.kernel.accessAllowed ? 'block' : 'none';\n",
              "\n",
              "        async function convertToInteractive(key) {\n",
              "          const element = document.querySelector('#df-b3aac98e-2503-4110-bb3e-cad6fe7973f1');\n",
              "          const dataTable =\n",
              "            await google.colab.kernel.invokeFunction('convertToInteractive',\n",
              "                                                     [key], {});\n",
              "          if (!dataTable) return;\n",
              "\n",
              "          const docLinkHtml = 'Like what you see? Visit the ' +\n",
              "            '<a target=\"_blank\" href=https://colab.research.google.com/notebooks/data_table.ipynb>data table notebook</a>'\n",
              "            + ' to learn more about interactive tables.';\n",
              "          element.innerHTML = '';\n",
              "          dataTable['output_type'] = 'display_data';\n",
              "          await google.colab.output.renderOutput(dataTable, element);\n",
              "          const docLink = document.createElement('div');\n",
              "          docLink.innerHTML = docLinkHtml;\n",
              "          element.appendChild(docLink);\n",
              "        }\n",
              "      </script>\n",
              "    </div>\n",
              "  </div>\n",
              "  "
            ]
          },
          "metadata": {},
          "execution_count": 77
        }
      ]
    },
    {
      "cell_type": "code",
      "source": [
        "#Examine whether there are null values in the dataframe. It returns 'False', hence no empty spaces appear in the dataframe requiring cleaning\n",
        "iris_data.isnull().values.any()"
      ],
      "metadata": {
        "colab": {
          "base_uri": "https://localhost:8080/"
        },
        "id": "WVp6Uu7bp3xr",
        "outputId": "239a4dbc-2122-47b3-ced7-b9f653e939a8"
      },
      "execution_count": 78,
      "outputs": [
        {
          "output_type": "execute_result",
          "data": {
            "text/plain": [
              "False"
            ]
          },
          "metadata": {},
          "execution_count": 78
        }
      ]
    },
    {
      "cell_type": "code",
      "source": [
        "#Alternative check for null values\n",
        "iris_data.isnull().sum()"
      ],
      "metadata": {
        "colab": {
          "base_uri": "https://localhost:8080/"
        },
        "id": "kjnm_eyMqa87",
        "outputId": "79b74c06-5a08-4cb9-b5a0-d9fe23eba6dd"
      },
      "execution_count": 79,
      "outputs": [
        {
          "output_type": "execute_result",
          "data": {
            "text/plain": [
              "sepal-length    0\n",
              "sepal-width     0\n",
              "petal-length    0\n",
              "petal-width     0\n",
              "species         0\n",
              "dtype: int64"
            ]
          },
          "metadata": {},
          "execution_count": 79
        }
      ]
    },
    {
      "cell_type": "markdown",
      "source": [
        "The above reviewing methods of the dataset help us understand the contents and important metrics related to the 3 types of iris flowers in order to apply further interpretations of the data."
      ],
      "metadata": {
        "id": "Ule10-euonsx"
      }
    },
    {
      "cell_type": "markdown",
      "source": [
        "###Visualisation of the correlation btwn the 3 flower species and their respecive measurement specifications with a pairplot.\n",
        "\n",
        "Paiplots allow illustrating pairwise relationships in a dataset:\n",
        "https://seaborn.pydata.org/generated/seaborn.pairplot.html "
      ],
      "metadata": {
        "id": "NXvzZT-wuWyy"
      }
    },
    {
      "cell_type": "code",
      "source": [
        "import matplotlib.pyplot as plt\n",
        "import seaborn as sns\n",
        "import numpy as np\n",
        "import pandas as pd\n",
        "sns.set_palette('husl')\n",
        "\n",
        "def iris_data_pairplot():\n",
        "  sns.pairplot(iris_data, hue='species', height = 2, diag_kind = \"kde\")\n",
        "  plt.show()\n",
        "\n",
        "iris_data_pairplot() "
      ],
      "metadata": {
        "colab": {
          "base_uri": "https://localhost:8080/",
          "height": 585
        },
        "id": "1cewuH1HtFPJ",
        "outputId": "fc93da37-873c-4ee5-ccdf-7354e8b47578"
      },
      "execution_count": 80,
      "outputs": [
        {
          "output_type": "display_data",
          "data": {
            "text/plain": [
              "<Figure size 679.25x576 with 20 Axes>"
            ],
            "image/png": "[encoded data removed]"
          },
          "metadata": {
            "needs_background": "light"
          }
        }
      ]
    },
    {
      "cell_type": "markdown",
      "source": [
        "We can see in this pairplot visualisation of the iris dataset that Setosa species has significantly higher measurements when it comes to petal width & length, whereas in terms of sepal width the 3 species have a closer association. In terms of sepal width again Setosa iris have a higher reach but not as distinguishable as in the case of petal metrics."
      ],
      "metadata": {
        "id": "9y_8eE-2vqHZ"
      }
    },
    {
      "cell_type": "markdown",
      "metadata": {
        "id": "0b8Pm0bK_Ca1"
      },
      "source": [
        "### Exercise 2 - split the data into train and test sets\n",
        "---\n",
        "\n",
        "Split the dataset into and 70% train, 30% test, split.  From now, just use the train dataset.\n"
      ]
    },
    {
      "cell_type": "code",
      "metadata": {
        "id": "CSG-ZEPEawMJ",
        "colab": {
          "base_uri": "https://localhost:8080/",
          "height": 543
        },
        "outputId": "d5e6e0ed-3eec-47d2-f423-6749f6217d2e"
      },
      "source": [
        "#Import the train_test_split function\n",
        "from sklearn.model_selection import train_test_split\n",
        "\n",
        "#Create the classification variables from all columns\n",
        "train, test = train_test_split(iris_data, test_size=0.30)\n",
        "print(train)\n",
        "train.describe()\n",
        "#'train' is the name for the new separated dataframe for training"
      ],
      "execution_count": 81,
      "outputs": [
        {
          "output_type": "stream",
          "name": "stdout",
          "text": [
            "     sepal-length  sepal-width  petal-length  petal-width          species\n",
            "128           6.4          2.8           5.6          2.1   Iris-virginica\n",
            "142           5.8          2.7           5.1          1.9   Iris-virginica\n",
            "28            5.2          3.4           1.4          0.2      Iris-setosa\n",
            "18            5.7          3.8           1.7          0.3      Iris-setosa\n",
            "53            5.5          2.3           4.0          1.3  Iris-versicolor\n",
            "..            ...          ...           ...          ...              ...\n",
            "115           6.4          3.2           5.3          2.3   Iris-virginica\n",
            "38            4.4          3.0           1.3          0.2      Iris-setosa\n",
            "102           7.1          3.0           5.9          2.1   Iris-virginica\n",
            "66            5.6          3.0           4.5          1.5  Iris-versicolor\n",
            "20            5.4          3.4           1.7          0.2      Iris-setosa\n",
            "\n",
            "[105 rows x 5 columns]\n"
          ]
        },
        {
          "output_type": "execute_result",
          "data": {
            "text/plain": [
              "       sepal-length  sepal-width  petal-length  petal-width\n",
              "count    105.000000   105.000000    105.000000   105.000000\n",
              "mean       5.842857     3.064762      3.758095     1.196190\n",
              "std        0.819692     0.412539      1.771233     0.775332\n",
              "min        4.300000     2.200000      1.000000     0.100000\n",
              "25%        5.100000     2.800000      1.600000     0.300000\n",
              "50%        5.800000     3.000000      4.400000     1.300000\n",
              "75%        6.500000     3.300000      5.100000     1.800000\n",
              "max        7.700000     4.200000      6.900000     2.500000"
            ],
            "text/html": [
              "\n",
              "  <div id=\"df-b0ae261f-8979-46a3-82a6-5b0a67e2d651\">\n",
              "    <div class=\"colab-df-container\">\n",
              "      <div>\n",
              "<style scoped>\n",
              "    .dataframe tbody tr th:only-of-type {\n",
              "        vertical-align: middle;\n",
              "    }\n",
              "\n",
              "    .dataframe tbody tr th {\n",
              "        vertical-align: top;\n",
              "    }\n",
              "\n",
              "    .dataframe thead th {\n",
              "        text-align: right;\n",
              "    }\n",
              "</style>\n",
              "<table border=\"1\" class=\"dataframe\">\n",
              "  <thead>\n",
              "    <tr style=\"text-align: right;\">\n",
              "      <th></th>\n",
              "      <th>sepal-length</th>\n",
              "      <th>sepal-width</th>\n",
              "      <th>petal-length</th>\n",
              "      <th>petal-width</th>\n",
              "    </tr>\n",
              "  </thead>\n",
              "  <tbody>\n",
              "    <tr>\n",
              "      <th>count</th>\n",
              "      <td>105.000000</td>\n",
              "      <td>105.000000</td>\n",
              "      <td>105.000000</td>\n",
              "      <td>105.000000</td>\n",
              "    </tr>\n",
              "    <tr>\n",
              "      <th>mean</th>\n",
              "      <td>5.842857</td>\n",
              "      <td>3.064762</td>\n",
              "      <td>3.758095</td>\n",
              "      <td>1.196190</td>\n",
              "    </tr>\n",
              "    <tr>\n",
              "      <th>std</th>\n",
              "      <td>0.819692</td>\n",
              "      <td>0.412539</td>\n",
              "      <td>1.771233</td>\n",
              "      <td>0.775332</td>\n",
              "    </tr>\n",
              "    <tr>\n",
              "      <th>min</th>\n",
              "      <td>4.300000</td>\n",
              "      <td>2.200000</td>\n",
              "      <td>1.000000</td>\n",
              "      <td>0.100000</td>\n",
              "    </tr>\n",
              "    <tr>\n",
              "      <th>25%</th>\n",
              "      <td>5.100000</td>\n",
              "      <td>2.800000</td>\n",
              "      <td>1.600000</td>\n",
              "      <td>0.300000</td>\n",
              "    </tr>\n",
              "    <tr>\n",
              "      <th>50%</th>\n",
              "      <td>5.800000</td>\n",
              "      <td>3.000000</td>\n",
              "      <td>4.400000</td>\n",
              "      <td>1.300000</td>\n",
              "    </tr>\n",
              "    <tr>\n",
              "      <th>75%</th>\n",
              "      <td>6.500000</td>\n",
              "      <td>3.300000</td>\n",
              "      <td>5.100000</td>\n",
              "      <td>1.800000</td>\n",
              "    </tr>\n",
              "    <tr>\n",
              "      <th>max</th>\n",
              "      <td>7.700000</td>\n",
              "      <td>4.200000</td>\n",
              "      <td>6.900000</td>\n",
              "      <td>2.500000</td>\n",
              "    </tr>\n",
              "  </tbody>\n",
              "</table>\n",
              "</div>\n",
              "      <button class=\"colab-df-convert\" onclick=\"convertToInteractive('df-b0ae261f-8979-46a3-82a6-5b0a67e2d651')\"\n",
              "              title=\"Convert this dataframe to an interactive table.\"\n",
              "              style=\"display:none;\">\n",
              "        \n",
              "  <svg xmlns=\"http://www.w3.org/2000/svg\" height=\"24px\"viewBox=\"0 0 24 24\"\n",
              "       width=\"24px\">\n",
              "    <path d=\"M0 0h24v24H0V0z\" fill=\"none\"/>\n",
              "    <path d=\"M18.56 5.44l.94 2.06.94-2.06 2.06-.94-2.06-.94-.94-2.06-.94 2.06-2.06.94zm-11 1L8.5 8.5l.94-2.06 2.06-.94-2.06-.94L8.5 2.5l-.94 2.06-2.06.94zm10 10l.94 2.06.94-2.06 2.06-.94-2.06-.94-.94-2.06-.94 2.06-2.06.94z\"/><path d=\"M17.41 7.96l-1.37-1.37c-.4-.4-.92-.59-1.43-.59-.52 0-1.04.2-1.43.59L10.3 9.45l-7.72 7.72c-.78.78-.78 2.05 0 2.83L4 21.41c.39.39.9.59 1.41.59.51 0 1.02-.2 1.41-.59l7.78-7.78 2.81-2.81c.8-.78.8-2.07 0-2.86zM5.41 20L4 18.59l7.72-7.72 1.47 1.35L5.41 20z\"/>\n",
              "  </svg>\n",
              "      </button>\n",
              "      \n",
              "  <style>\n",
              "    .colab-df-container {\n",
              "      display:flex;\n",
              "      flex-wrap:wrap;\n",
              "      gap: 12px;\n",
              "    }\n",
              "\n",
              "    .colab-df-convert {\n",
              "      background-color: #E8F0FE;\n",
              "      border: none;\n",
              "      border-radius: 50%;\n",
              "      cursor: pointer;\n",
              "      display: none;\n",
              "      fill: #1967D2;\n",
              "      height: 32px;\n",
              "      padding: 0 0 0 0;\n",
              "      width: 32px;\n",
              "    }\n",
              "\n",
              "    .colab-df-convert:hover {\n",
              "      background-color: #E2EBFA;\n",
              "      box-shadow: 0px 1px 2px rgba(60, 64, 67, 0.3), 0px 1px 3px 1px rgba(60, 64, 67, 0.15);\n",
              "      fill: #174EA6;\n",
              "    }\n",
              "\n",
              "    [theme=dark] .colab-df-convert {\n",
              "      background-color: #3B4455;\n",
              "      fill: #D2E3FC;\n",
              "    }\n",
              "\n",
              "    [theme=dark] .colab-df-convert:hover {\n",
              "      background-color: #434B5C;\n",
              "      box-shadow: 0px 1px 3px 1px rgba(0, 0, 0, 0.15);\n",
              "      filter: drop-shadow(0px 1px 2px rgba(0, 0, 0, 0.3));\n",
              "      fill: #FFFFFF;\n",
              "    }\n",
              "  </style>\n",
              "\n",
              "      <script>\n",
              "        const buttonEl =\n",
              "          document.querySelector('#df-b0ae261f-8979-46a3-82a6-5b0a67e2d651 button.colab-df-convert');\n",
              "        buttonEl.style.display =\n",
              "          google.colab.kernel.accessAllowed ? 'block' : 'none';\n",
              "\n",
              "        async function convertToInteractive(key) {\n",
              "          const element = document.querySelector('#df-b0ae261f-8979-46a3-82a6-5b0a67e2d651');\n",
              "          const dataTable =\n",
              "            await google.colab.kernel.invokeFunction('convertToInteractive',\n",
              "                                                     [key], {});\n",
              "          if (!dataTable) return;\n",
              "\n",
              "          const docLinkHtml = 'Like what you see? Visit the ' +\n",
              "            '<a target=\"_blank\" href=https://colab.research.google.com/notebooks/data_table.ipynb>data table notebook</a>'\n",
              "            + ' to learn more about interactive tables.';\n",
              "          element.innerHTML = '';\n",
              "          dataTable['output_type'] = 'display_data';\n",
              "          await google.colab.output.renderOutput(dataTable, element);\n",
              "          const docLink = document.createElement('div');\n",
              "          docLink.innerHTML = docLinkHtml;\n",
              "          element.appendChild(docLink);\n",
              "        }\n",
              "      </script>\n",
              "    </div>\n",
              "  </div>\n",
              "  "
            ]
          },
          "metadata": {},
          "execution_count": 81
        }
      ]
    },
    {
      "cell_type": "markdown",
      "source": [
        "We can see that after applying a split code by a 70% portion and then running the .describe() code, the summary metrics have changed i.e. the count has dropped from 150 to 105. Therefore the 70% train split of the total for training is complete."
      ],
      "metadata": {
        "id": "FT2Rq5jD1DPX"
      }
    },
    {
      "cell_type": "markdown",
      "metadata": {
        "id": "nd-9JfKbQl-q"
      },
      "source": [
        "### Exercise 3 - assumptions and classification\n",
        "---\n",
        "\n",
        "Let's make some assumptions based on the data\n",
        "\n",
        "1.  Iris-setosa, Iris-versicolor, Iris-virginica are the full range of types of iris to be analysed\n",
        "2.  Although this is a small dataset, the means are fairly representative\n",
        "\n",
        "With these in mind, let's start by classifying sepal/petal size into long/short and wide/narrow with values on or above the mean taken as long or wide and those below as short or narrow.\n",
        "\n",
        "This is a starting point.  We will be trying to find a value (indicator) for each column where rows on or above do not contain any of a particular species, this might indicate that this column is a good (if not rough) indicator of species. For now, the indicator is the mean.\n",
        "\n",
        "*  Drop any null values from each column\n",
        "\n",
        "Calculate, and store the means of the four columns\n",
        "\n",
        "*  **Test**:\n",
        "Display train.describe() to see the value of the means of the training set.<br> Print the four means and compare to the output of train.describe() to check that they have been calculated correctly.\n",
        "\n",
        "*  Create a new dataframe with the numeric columns encoded so show a 1 for any value that is above the mean for its column and 0 for any that isn't."
      ]
    },
    {
      "cell_type": "code",
      "metadata": {
        "id": "rAahb5HSWiw-",
        "colab": {
          "base_uri": "https://localhost:8080/",
          "height": 736
        },
        "outputId": "02c0acd6-6a6c-457c-8bf4-bca48e276f15"
      },
      "source": [
        "#step1\n",
        "#Getting the mean for each column and apply a function to encode into 1 (above mean) and 0 (mean or below mean)\n",
        "def encode(df, **kdws):\n",
        "  indicator = kdws['indicator']\n",
        "  key = kdws['key']\n",
        "  if df[key] > indicator:\n",
        "    return 1\n",
        "  else:\n",
        "    return 0\n",
        "\n",
        "#step2\n",
        "#Calculating the means of the metrics columns\n",
        "sl_mean = train[\"sepal-length\"].mean()\n",
        "print(\"mean of sepal length: \", sl_mean)\n",
        "sw_mean = train[\"sepal-width\"].mean()\n",
        "print(\"mean of sepal width: \", sw_mean)\n",
        "pl_mean = train[\"petal-length\"].mean()\n",
        "print(\"mean of petal length: \", pl_mean)\n",
        "pw_mean = train[\"petal-width\"].mean()\n",
        "print(\"mean of petal with: \", pw_mean)\n",
        "\n",
        "#step3\n",
        "#Running the function for each column so that each of the four columns are encoded [0 = below mean, 1 = above mean], then drop the original columns, saving as a new dataframe\n",
        "train_mean = train.copy() #creating a new copy of the original dtframe\n",
        "train_mean['sepal-length'] = train_mean.apply(encode, axis=1, key='sepal-length', indicator=train['sepal-length'].mean())\n",
        "train_mean['sepal-width'] = train_mean.apply(encode, axis=1, key='sepal-width', indicator=train['sepal-width'].mean())\n",
        "train_mean['petal-length'] = train_mean.apply(encode, axis=1, key='petal-length', indicator=train['petal-length'].mean())\n",
        "train_mean['petal-width'] = train_mean.apply(encode, axis=1, key='petal-width', indicator=train['petal-width'].mean())\n",
        "\n",
        "print(train_mean)\n",
        "train_mean"
      ],
      "execution_count": 82,
      "outputs": [
        {
          "output_type": "stream",
          "name": "stdout",
          "text": [
            "mean of sepal length:  5.842857142857141\n",
            "mean of sepal width:  3.064761904761904\n",
            "mean of petal length:  3.758095238095238\n",
            "mean of petal with:  1.196190476190476\n",
            "     sepal-length  sepal-width  petal-length  petal-width          species\n",
            "128             1            0             1            1   Iris-virginica\n",
            "142             0            0             1            1   Iris-virginica\n",
            "28              0            1             0            0      Iris-setosa\n",
            "18              0            1             0            0      Iris-setosa\n",
            "53              0            0             1            1  Iris-versicolor\n",
            "..            ...          ...           ...          ...              ...\n",
            "115             1            1             1            1   Iris-virginica\n",
            "38              0            0             0            0      Iris-setosa\n",
            "102             1            0             1            1   Iris-virginica\n",
            "66              0            0             1            1  Iris-versicolor\n",
            "20              0            1             0            0      Iris-setosa\n",
            "\n",
            "[105 rows x 5 columns]\n"
          ]
        },
        {
          "output_type": "execute_result",
          "data": {
            "text/plain": [
              "     sepal-length  sepal-width  petal-length  petal-width          species\n",
              "128             1            0             1            1   Iris-virginica\n",
              "142             0            0             1            1   Iris-virginica\n",
              "28              0            1             0            0      Iris-setosa\n",
              "18              0            1             0            0      Iris-setosa\n",
              "53              0            0             1            1  Iris-versicolor\n",
              "..            ...          ...           ...          ...              ...\n",
              "115             1            1             1            1   Iris-virginica\n",
              "38              0            0             0            0      Iris-setosa\n",
              "102             1            0             1            1   Iris-virginica\n",
              "66              0            0             1            1  Iris-versicolor\n",
              "20              0            1             0            0      Iris-setosa\n",
              "\n",
              "[105 rows x 5 columns]"
            ],
            "text/html": [
              "\n",
              "  <div id=\"df-2164278d-d91b-420b-bccd-38862dc4e25c\">\n",
              "    <div class=\"colab-df-container\">\n",
              "      <div>\n",
              "<style scoped>\n",
              "    .dataframe tbody tr th:only-of-type {\n",
              "        vertical-align: middle;\n",
              "    }\n",
              "\n",
              "    .dataframe tbody tr th {\n",
              "        vertical-align: top;\n",
              "    }\n",
              "\n",
              "    .dataframe thead th {\n",
              "        text-align: right;\n",
              "    }\n",
              "</style>\n",
              "<table border=\"1\" class=\"dataframe\">\n",
              "  <thead>\n",
              "    <tr style=\"text-align: right;\">\n",
              "      <th></th>\n",
              "      <th>sepal-length</th>\n",
              "      <th>sepal-width</th>\n",
              "      <th>petal-length</th>\n",
              "      <th>petal-width</th>\n",
              "      <th>species</th>\n",
              "    </tr>\n",
              "  </thead>\n",
              "  <tbody>\n",
              "    <tr>\n",
              "      <th>128</th>\n",
              "      <td>1</td>\n",
              "      <td>0</td>\n",
              "      <td>1</td>\n",
              "      <td>1</td>\n",
              "      <td>Iris-virginica</td>\n",
              "    </tr>\n",
              "    <tr>\n",
              "      <th>142</th>\n",
              "      <td>0</td>\n",
              "      <td>0</td>\n",
              "      <td>1</td>\n",
              "      <td>1</td>\n",
              "      <td>Iris-virginica</td>\n",
              "    </tr>\n",
              "    <tr>\n",
              "      <th>28</th>\n",
              "      <td>0</td>\n",
              "      <td>1</td>\n",
              "      <td>0</td>\n",
              "      <td>0</td>\n",
              "      <td>Iris-setosa</td>\n",
              "    </tr>\n",
              "    <tr>\n",
              "      <th>18</th>\n",
              "      <td>0</td>\n",
              "      <td>1</td>\n",
              "      <td>0</td>\n",
              "      <td>0</td>\n",
              "      <td>Iris-setosa</td>\n",
              "    </tr>\n",
              "    <tr>\n",
              "      <th>53</th>\n",
              "      <td>0</td>\n",
              "      <td>0</td>\n",
              "      <td>1</td>\n",
              "      <td>1</td>\n",
              "      <td>Iris-versicolor</td>\n",
              "    </tr>\n",
              "    <tr>\n",
              "      <th>...</th>\n",
              "      <td>...</td>\n",
              "      <td>...</td>\n",
              "      <td>...</td>\n",
              "      <td>...</td>\n",
              "      <td>...</td>\n",
              "    </tr>\n",
              "    <tr>\n",
              "      <th>115</th>\n",
              "      <td>1</td>\n",
              "      <td>1</td>\n",
              "      <td>1</td>\n",
              "      <td>1</td>\n",
              "      <td>Iris-virginica</td>\n",
              "    </tr>\n",
              "    <tr>\n",
              "      <th>38</th>\n",
              "      <td>0</td>\n",
              "      <td>0</td>\n",
              "      <td>0</td>\n",
              "      <td>0</td>\n",
              "      <td>Iris-setosa</td>\n",
              "    </tr>\n",
              "    <tr>\n",
              "      <th>102</th>\n",
              "      <td>1</td>\n",
              "      <td>0</td>\n",
              "      <td>1</td>\n",
              "      <td>1</td>\n",
              "      <td>Iris-virginica</td>\n",
              "    </tr>\n",
              "    <tr>\n",
              "      <th>66</th>\n",
              "      <td>0</td>\n",
              "      <td>0</td>\n",
              "      <td>1</td>\n",
              "      <td>1</td>\n",
              "      <td>Iris-versicolor</td>\n",
              "    </tr>\n",
              "    <tr>\n",
              "      <th>20</th>\n",
              "      <td>0</td>\n",
              "      <td>1</td>\n",
              "      <td>0</td>\n",
              "      <td>0</td>\n",
              "      <td>Iris-setosa</td>\n",
              "    </tr>\n",
              "  </tbody>\n",
              "</table>\n",
              "<p>105 rows × 5 columns</p>\n",
              "</div>\n",
              "      <button class=\"colab-df-convert\" onclick=\"convertToInteractive('df-2164278d-d91b-420b-bccd-38862dc4e25c')\"\n",
              "              title=\"Convert this dataframe to an interactive table.\"\n",
              "              style=\"display:none;\">\n",
              "        \n",
              "  <svg xmlns=\"http://www.w3.org/2000/svg\" height=\"24px\"viewBox=\"0 0 24 24\"\n",
              "       width=\"24px\">\n",
              "    <path d=\"M0 0h24v24H0V0z\" fill=\"none\"/>\n",
              "    <path d=\"M18.56 5.44l.94 2.06.94-2.06 2.06-.94-2.06-.94-.94-2.06-.94 2.06-2.06.94zm-11 1L8.5 8.5l.94-2.06 2.06-.94-2.06-.94L8.5 2.5l-.94 2.06-2.06.94zm10 10l.94 2.06.94-2.06 2.06-.94-2.06-.94-.94-2.06-.94 2.06-2.06.94z\"/><path d=\"M17.41 7.96l-1.37-1.37c-.4-.4-.92-.59-1.43-.59-.52 0-1.04.2-1.43.59L10.3 9.45l-7.72 7.72c-.78.78-.78 2.05 0 2.83L4 21.41c.39.39.9.59 1.41.59.51 0 1.02-.2 1.41-.59l7.78-7.78 2.81-2.81c.8-.78.8-2.07 0-2.86zM5.41 20L4 18.59l7.72-7.72 1.47 1.35L5.41 20z\"/>\n",
              "  </svg>\n",
              "      </button>\n",
              "      \n",
              "  <style>\n",
              "    .colab-df-container {\n",
              "      display:flex;\n",
              "      flex-wrap:wrap;\n",
              "      gap: 12px;\n",
              "    }\n",
              "\n",
              "    .colab-df-convert {\n",
              "      background-color: #E8F0FE;\n",
              "      border: none;\n",
              "      border-radius: 50%;\n",
              "      cursor: pointer;\n",
              "      display: none;\n",
              "      fill: #1967D2;\n",
              "      height: 32px;\n",
              "      padding: 0 0 0 0;\n",
              "      width: 32px;\n",
              "    }\n",
              "\n",
              "    .colab-df-convert:hover {\n",
              "      background-color: #E2EBFA;\n",
              "      box-shadow: 0px 1px 2px rgba(60, 64, 67, 0.3), 0px 1px 3px 1px rgba(60, 64, 67, 0.15);\n",
              "      fill: #174EA6;\n",
              "    }\n",
              "\n",
              "    [theme=dark] .colab-df-convert {\n",
              "      background-color: #3B4455;\n",
              "      fill: #D2E3FC;\n",
              "    }\n",
              "\n",
              "    [theme=dark] .colab-df-convert:hover {\n",
              "      background-color: #434B5C;\n",
              "      box-shadow: 0px 1px 3px 1px rgba(0, 0, 0, 0.15);\n",
              "      filter: drop-shadow(0px 1px 2px rgba(0, 0, 0, 0.3));\n",
              "      fill: #FFFFFF;\n",
              "    }\n",
              "  </style>\n",
              "\n",
              "      <script>\n",
              "        const buttonEl =\n",
              "          document.querySelector('#df-2164278d-d91b-420b-bccd-38862dc4e25c button.colab-df-convert');\n",
              "        buttonEl.style.display =\n",
              "          google.colab.kernel.accessAllowed ? 'block' : 'none';\n",
              "\n",
              "        async function convertToInteractive(key) {\n",
              "          const element = document.querySelector('#df-2164278d-d91b-420b-bccd-38862dc4e25c');\n",
              "          const dataTable =\n",
              "            await google.colab.kernel.invokeFunction('convertToInteractive',\n",
              "                                                     [key], {});\n",
              "          if (!dataTable) return;\n",
              "\n",
              "          const docLinkHtml = 'Like what you see? Visit the ' +\n",
              "            '<a target=\"_blank\" href=https://colab.research.google.com/notebooks/data_table.ipynb>data table notebook</a>'\n",
              "            + ' to learn more about interactive tables.';\n",
              "          element.innerHTML = '';\n",
              "          dataTable['output_type'] = 'display_data';\n",
              "          await google.colab.output.renderOutput(dataTable, element);\n",
              "          const docLink = document.createElement('div');\n",
              "          docLink.innerHTML = docLinkHtml;\n",
              "          element.appendChild(docLink);\n",
              "        }\n",
              "      </script>\n",
              "    </div>\n",
              "  </div>\n",
              "  "
            ]
          },
          "metadata": {},
          "execution_count": 82
        }
      ]
    },
    {
      "cell_type": "markdown",
      "source": [
        "We can see that the calculated means in part 2 of this function match the .describe() calculations we got in the ex 2 above. Furthermore recoding the measurements to 0 and 1 depending on whether the original number was above the mean or not is now the reframed dataset of the original defined with the new variable 'train_mean'."
      ],
      "metadata": {
        "id": "I-bvkqMbMfsG"
      }
    },
    {
      "cell_type": "markdown",
      "metadata": {
        "id": "t9lP8lC1dCsa"
      },
      "source": [
        "### Exercise 4 - Calculate the proportion of values **on or above the mean** that are of each species\n",
        "\n",
        "We are going to focus on the `Iris-virginica` species first.\n",
        "\n",
        "First we will calculate, for each dimension column (`sepal-length, sepal-width, petal-length, petal-width`) what proportion of values in that column, where the value is on or above the mean, are classified as `Iris-virginica`.\n",
        "\n",
        "We will do this by filtering all the records in each column of the `train` set that are on or above the mean and match the species.  \n",
        "Then use the outcome to calculate the proportion of the full `train` set for which a value on or above the mean that are of species `Iris-virginica`.\n",
        "\n",
        "*  filter for values in the `sepal-length` column being on or above the mean and the species column being `Iris-virginica`.  Then divide the count of rows in this filtered dataset by the count of rows in a second dataset, filtered for just the value being on or above the mean.\n",
        "\n",
        "*  Do this for all four columns, for **Iris-virginica**  (4 operations).\n",
        "\n",
        "Print the results to see which columns look like they might most reliably predict the species as `Iris-virginica` (the result is as close as possible to 1).  The highest numbers may indicate the most reliable indicators, but we will do some more before coming to this conclusion.\n",
        "\n",
        "*  By definition, those on or above the mean that are **NOT Iris_virginica** will be `1 - the proportion of those that are.  Calculate these\n",
        "\n",
        "The first one has been done for you.\n",
        "\n",
        "*  We will also need the proportion of those BELOW the median that are NOT Iris-virginica.  Calculate these in the same way\n",
        "\n"
      ]
    },
    {
      "cell_type": "markdown",
      "source": [
        "## Iris-virginica above and below mean proportions.\n",
        "###i) Looking for values above mean."
      ],
      "metadata": {
        "id": "MIR08Q2Rngy1"
      }
    },
    {
      "cell_type": "code",
      "source": [
        "def virginica_above_mean_proportions():\n",
        "\n",
        "  #step1\n",
        "  #Getting a count of all the rows with name 'iris virginica' in the column species\n",
        "  train_species_count=train_mean.loc[(train_mean['species']=='Iris-virginica')]['species'].count()\n",
        "  print(\"virginica count: \",train_species_count)\n",
        "  #step2\n",
        "  #Counting all iris virignica per column with values above the mean\n",
        "  virginica_count_sl=train_mean.loc[(train_mean['species']=='Iris-virginica')& (train_mean['sepal-length']==1)]['sepal-length'].count()\n",
        "  virginica_count_sw=train_mean.loc[(train_mean['species']=='Iris-virginica')& (train_mean['sepal-width']==1)]['sepal-width'].count()\n",
        "  virginica_count_pl=train_mean.loc[(train_mean['species']=='Iris-virginica')& (train_mean['petal-length']==1)]['petal-length'].count()\n",
        "  virginica_count_pw=train_mean.loc[(train_mean['species']=='Iris-virginica')& (train_mean['petal-width']==1)]['petal-width'].count()\n",
        "  print(\"sepal length count:\", virginica_count_sl,\n",
        "         \"\\nsepal width count:\", virginica_count_sw,\n",
        "         \"\\npetal length count:\", virginica_count_pl,\n",
        "         \"\\npetal width count:\", virginica_count_pw)\n",
        "  #step3\n",
        "  #Calculating the proportion of all iris virginica per column that are above the mean (>1) (count of virginica from step2 / total count of iris virginica from step1)\n",
        "  proportion_virginica_sl=virginica_count_sl/train_species_count\n",
        "  proportion_virginica_sw=virginica_count_sw/train_species_count\n",
        "  proportion_virginica_pl=virginica_count_pl/train_species_count\n",
        "  proportion_virginica_pw=virginica_count_pw/train_species_count\n",
        "  print(\"virginica proportion with sepal legth > mean:\", round(proportion_virginica_sl,2),\n",
        "        \"\\nvirginica proportion with sepal width > mean:\", round(proportion_virginica_sw,2),\n",
        "        \"\\nvirginica proportion with petal legth > mean:\", round(proportion_virginica_pl,2),\n",
        "        \"\\nvirginica proportion with petal width > mean:\", round(proportion_virginica_pw,2))\n",
        "  #step4\n",
        "  #Calculating the proportion per column that are above the mean and not virginica (calculating as: 1 - proportion from step3)\n",
        "  proportion2_nonvirginica_sl=1-proportion_virginica_sl\n",
        "  proportion2_nonvirginica_sw=1-proportion_virginica_sw\n",
        "  proportion2_nonvirginica_pl=1-proportion_virginica_pl\n",
        "  proportion2_nonvirginica_pw=1-proportion_virginica_pw\n",
        "  print(\"\\nnon-virginica proportion with sepal legth > mean:\", round(proportion2_nonvirginica_sl,2),\n",
        "        \"\\nnon-virginica proportion with sepal width > mean:\", round(proportion2_nonvirginica_sw,2),\n",
        "        \"\\nnon-virginica proportion with petal legth > mean:\", round(proportion2_nonvirginica_pl,2),\n",
        "        \"\\nnon-virginica proportion with petal width > mean:\", round(proportion2_nonvirginica_pw,2))\n",
        "\n",
        "virginica_above_mean_proportions()"
      ],
      "metadata": {
        "colab": {
          "base_uri": "https://localhost:8080/"
        },
        "id": "u0L3BcWnQN1o",
        "outputId": "5f02bb6a-1a19-4919-b007-b3b0ceb8ef8d"
      },
      "execution_count": 83,
      "outputs": [
        {
          "output_type": "stream",
          "name": "stdout",
          "text": [
            "virginica count:  33\n",
            "sepal length count: 29 \n",
            "sepal width count: 13 \n",
            "petal length count: 33 \n",
            "petal width count: 33\n",
            "virginica proportion with sepal legth > mean: 0.88 \n",
            "virginica proportion with sepal width > mean: 0.39 \n",
            "virginica proportion with petal legth > mean: 1.0 \n",
            "virginica proportion with petal width > mean: 1.0\n",
            "\n",
            "non-virginica proportion with sepal legth > mean: 0.12 \n",
            "non-virginica proportion with sepal width > mean: 0.61 \n",
            "non-virginica proportion with petal legth > mean: 0.0 \n",
            "non-virginica proportion with petal width > mean: 0.0\n"
          ]
        }
      ]
    },
    {
      "cell_type": "markdown",
      "metadata": {
        "id": "M-HgetRIxJpx"
      },
      "source": [
        "### Exercise 5 - Calculate the proportion of each column where the value is below the mean, that are of species `Iris-virginica` and for the other 2 non-virginica species\n",
        "\n",
        "Repeat the code above, this time looking for values below the mean."
      ]
    },
    {
      "cell_type": "code",
      "source": [
        "def virginica_below_mean_proportions():\n",
        "\n",
        "  #step1\n",
        "  #Getting a count of all the rows with name 'iris virginica' in the column species\n",
        "  train_species_count=train_mean.loc[(train_mean['species']=='Iris-virginica')]['species'].count()\n",
        "  print(\"virginica count: \",train_species_count)\n",
        "  #step2\n",
        "  #Counting all iris virignica per column with values below the mean\n",
        "  virginica_count_sl=train_mean.loc[(train_mean['species']=='Iris-virginica')& (train_mean['sepal-length']==0)]['sepal-length'].count()\n",
        "  virginica_count_sw=train_mean.loc[(train_mean['species']=='Iris-virginica')& (train_mean['sepal-width']==0)]['sepal-width'].count()\n",
        "  virginica_count_pl=train_mean.loc[(train_mean['species']=='Iris-virginica')& (train_mean['petal-length']==0)]['petal-length'].count()\n",
        "  virginica_count_pw=train_mean.loc[(train_mean['species']=='Iris-virginica')& (train_mean['petal-width']==0)]['petal-width'].count()\n",
        "  print(\"sepal length count:\", virginica_count_sl,\n",
        "         \"\\nsepal width count:\", virginica_count_sw,\n",
        "         \"\\npetal length count:\", virginica_count_pl,\n",
        "         \"\\npetal width count:\", virginica_count_pw)\n",
        "  #step3\n",
        "  #Calculating the proportion of all iris virginica per column that are below the mean (<1) (count of virginica from step2 / total count of iris virginica from step1)\n",
        "  proportion_virginica_sl=virginica_count_sl/train_species_count\n",
        "  proportion_virginica_sw=virginica_count_sw/train_species_count\n",
        "  proportion_virginica_pl=virginica_count_pl/train_species_count\n",
        "  proportion_virginica_pw=virginica_count_pw/train_species_count\n",
        "  print(\"virginica proportion with sepal legth < mean:\", round(proportion_virginica_sl,2),\n",
        "        \"\\nvirginica proportion with sepal width < mean:\", round(proportion_virginica_sw,2),\n",
        "        \"\\nvirginica proportion with petal legth < mean:\", round(proportion_virginica_pl,2),\n",
        "        \"\\nvirginica proportion with petal width < mean:\", round(proportion_virginica_pw,2))\n",
        "  #step4\n",
        "  #Calculating the proportion per column that are below the mean and not virginica (calculating as: 1 - proportion from step3)\n",
        "  proportion2_nonvirginica_sl=1-proportion_virginica_sl\n",
        "  proportion2_nonvirginica_sw=1-proportion_virginica_sw\n",
        "  proportion2_nonvirginica_pl=1-proportion_virginica_pl\n",
        "  proportion2_nonvirginica_pw=1-proportion_virginica_pw\n",
        "  print(\"\\nnon-virginica proportion with sepal legth < mean:\", round(proportion2_nonvirginica_sl,2),\n",
        "        \"\\nnon-virginica proportion with sepal width < mean:\", round(proportion2_nonvirginica_sw,2),\n",
        "        \"\\nnon-virginica proportion with petal legth < mean:\", round(proportion2_nonvirginica_pl,2),\n",
        "        \"\\nnon-virginica proportion with petal width < mean:\", round(proportion2_nonvirginica_pw,2))\n",
        "\n",
        "virginica_below_mean_proportions()"
      ],
      "metadata": {
        "colab": {
          "base_uri": "https://localhost:8080/"
        },
        "id": "Pdqm_pTkjTf6",
        "outputId": "2043e1f4-7e7f-45fb-c750-6b81f96da298"
      },
      "execution_count": 84,
      "outputs": [
        {
          "output_type": "stream",
          "name": "stdout",
          "text": [
            "virginica count:  33\n",
            "sepal length count: 4 \n",
            "sepal width count: 20 \n",
            "petal length count: 0 \n",
            "petal width count: 0\n",
            "virginica proportion with sepal legth < mean: 0.12 \n",
            "virginica proportion with sepal width < mean: 0.61 \n",
            "virginica proportion with petal legth < mean: 0.0 \n",
            "virginica proportion with petal width < mean: 0.0\n",
            "\n",
            "non-virginica proportion with sepal legth < mean: 0.88 \n",
            "non-virginica proportion with sepal width < mean: 0.39 \n",
            "non-virginica proportion with petal legth < mean: 1.0 \n",
            "non-virginica proportion with petal width < mean: 1.0\n"
          ]
        }
      ]
    },
    {
      "cell_type": "markdown",
      "source": [
        "##ii) Iris-versicolor above & below mean proportions."
      ],
      "metadata": {
        "id": "cl3V_FBbnRk1"
      }
    },
    {
      "cell_type": "code",
      "source": [
        "def versicolor_mean_proportions():\n",
        "\n",
        "  #step1\n",
        "  #Getting a count of all the rows with name 'iris versicolor' in the column species\n",
        "  train_species_count=train_mean.loc[(train_mean['species']=='Iris-versicolor')]['species'].count()\n",
        "  print(\"versicolor count: \",train_species_count)\n",
        "  #step2\n",
        "  #Counting all iris virignica per column with values above the mean\n",
        "  versicolor_count_sl=train_mean.loc[(train_mean['species']=='Iris-versicolor')& (train_mean['sepal-length']==1)]['sepal-length'].count()\n",
        "  versicolor_count_sw=train_mean.loc[(train_mean['species']=='Iris-versicolor')& (train_mean['sepal-width']==1)]['sepal-width'].count()\n",
        "  versicolor_count_pl=train_mean.loc[(train_mean['species']=='Iris-versicolor')& (train_mean['petal-length']==1)]['petal-length'].count()\n",
        "  versicolor_count_pw=train_mean.loc[(train_mean['species']=='Iris-versicolor')& (train_mean['petal-width']==1)]['petal-width'].count()\n",
        "  print(\"sepal length count:\", versicolor_count_sl,\n",
        "         \"\\nsepal width count:\", versicolor_count_sw,\n",
        "         \"\\npetal length count:\", versicolor_count_pl,\n",
        "         \"\\npetal width count:\", versicolor_count_pw)\n",
        "  #step3\n",
        "  #Calculating the proportion of all iris versicolor per column that are above the mean (>1) (count of versicolor from step2 / total count of iris versicolor from step1)\n",
        "  proportion_versicolor_sl=versicolor_count_sl/train_species_count\n",
        "  proportion_versicolor_sw=versicolor_count_sw/train_species_count\n",
        "  proportion_versicolor_pl=versicolor_count_pl/train_species_count\n",
        "  proportion_versicolor_pw=versicolor_count_pw/train_species_count\n",
        "  print(\"versicolor proportion with sepal legth > mean:\", round(proportion_versicolor_sl,2),\n",
        "        \"\\nversicolor proportion with sepal width > mean:\", round(proportion_versicolor_sw,2),\n",
        "        \"\\nversicolor proportion with petal legth > mean:\", round(proportion_versicolor_pl,2),\n",
        "        \"\\nversicolor proportion with petal width > mean:\", round(proportion_versicolor_pw,2))\n",
        "  \n",
        "  #step4 - below the mean\n",
        "  #Counting all iris virignica per column with values below the mean\n",
        "  versicolor2_count_sl=train_mean.loc[(train_mean['species']=='Iris-versicolor')& (train_mean['sepal-length']==0)]['sepal-length'].count()\n",
        "  versicolor2_count_sw=train_mean.loc[(train_mean['species']=='Iris-versicolor')& (train_mean['sepal-width']==0)]['sepal-width'].count()\n",
        "  versicolor2_count_pl=train_mean.loc[(train_mean['species']=='Iris-versicolor')& (train_mean['petal-length']==0)]['petal-length'].count()\n",
        "  versicolor2_count_pw=train_mean.loc[(train_mean['species']=='Iris-versicolor')& (train_mean['petal-width']==0)]['petal-width'].count()\n",
        "  print(\"sepal length count:\", versicolor2_count_sl,\n",
        "         \"\\nsepal width count:\", versicolor2_count_sw,\n",
        "         \"\\npetal length count:\", versicolor2_count_pl,\n",
        "         \"\\npetal width count:\", versicolor2_count_pw)\n",
        "  #step5 - below the mean\n",
        "  #Calculating the proportion of all iris versicolor per column that are below the mean (<1) (count of versicolor from step2 / total count of iris versicolor from step1)\n",
        "  proportion_versicolor2_sl=versicolor2_count_sl/train_species_count\n",
        "  proportion_versicolor2_sw=versicolor2_count_sw/train_species_count\n",
        "  proportion_versicolor2_pl=versicolor2_count_pl/train_species_count\n",
        "  proportion_versicolor2_pw=versicolor2_count_pw/train_species_count\n",
        "  print(\"versicolor proportion with sepal legth < mean:\", round(proportion_versicolor2_sl,2),\n",
        "        \"\\nversicolor proportion with sepal width < mean:\", round(proportion_versicolor2_sw,2),\n",
        "        \"\\nversicolor proportion with petal legth < mean:\", round(proportion_versicolor2_pl,2),\n",
        "        \"\\nversicolor proportion with petal width < mean:\", round(proportion_versicolor2_pw,2))\n",
        "  \n",
        "versicolor_mean_proportions()"
      ],
      "metadata": {
        "colab": {
          "base_uri": "https://localhost:8080/"
        },
        "id": "_qdqdWTsm5Ay",
        "outputId": "25252a47-f6f0-41d5-c4d6-6e893e48d6b2"
      },
      "execution_count": 85,
      "outputs": [
        {
          "output_type": "stream",
          "name": "stdout",
          "text": [
            "versicolor count:  36\n",
            "sepal length count: 20 \n",
            "sepal width count: 6 \n",
            "petal length count: 33 \n",
            "petal width count: 30\n",
            "versicolor proportion with sepal legth > mean: 0.56 \n",
            "versicolor proportion with sepal width > mean: 0.17 \n",
            "versicolor proportion with petal legth > mean: 0.92 \n",
            "versicolor proportion with petal width > mean: 0.83\n",
            "sepal length count: 16 \n",
            "sepal width count: 30 \n",
            "petal length count: 3 \n",
            "petal width count: 6\n",
            "versicolor proportion with sepal legth < mean: 0.44 \n",
            "versicolor proportion with sepal width < mean: 0.83 \n",
            "versicolor proportion with petal legth < mean: 0.08 \n",
            "versicolor proportion with petal width < mean: 0.17\n"
          ]
        }
      ]
    },
    {
      "cell_type": "markdown",
      "source": [
        "##ii) Iris-setosa above & below mean proportions."
      ],
      "metadata": {
        "id": "0B8Ya7l6pgVL"
      }
    },
    {
      "cell_type": "code",
      "source": [
        "def setosa_mean_proportions():\n",
        "\n",
        "  #step1\n",
        "  #Getting a count of all the rows with name 'iris setosa' in the column species\n",
        "  train_species_count=train_mean.loc[(train_mean['species']=='Iris-setosa')]['species'].count()\n",
        "  print(\"setosa count: \",train_species_count)\n",
        "  #step2\n",
        "  #Counting all iris virignica per column with values above the mean\n",
        "  setosa_count_sl=train_mean.loc[(train_mean['species']=='Iris-setosa')& (train_mean['sepal-length']==1)]['sepal-length'].count()\n",
        "  setosa_count_sw=train_mean.loc[(train_mean['species']=='Iris-setosa')& (train_mean['sepal-width']==1)]['sepal-width'].count()\n",
        "  setosa_count_pl=train_mean.loc[(train_mean['species']=='Iris-setosa')& (train_mean['petal-length']==1)]['petal-length'].count()\n",
        "  setosa_count_pw=train_mean.loc[(train_mean['species']=='Iris-setosa')& (train_mean['petal-width']==1)]['petal-width'].count()\n",
        "  print(\"sepal length count:\", setosa_count_sl,\n",
        "         \"\\nsepal width count:\", setosa_count_sw,\n",
        "         \"\\npetal length count:\", setosa_count_pl,\n",
        "         \"\\npetal width count:\", setosa_count_pw)\n",
        "  #step3\n",
        "  #Calculating the proportion of all iris setosa per column that are above the mean (>1) (count of setosa from step2 / total count of iris setosa from step1)\n",
        "  proportion_setosa_sl=setosa_count_sl/train_species_count\n",
        "  proportion_setosa_sw=setosa_count_sw/train_species_count\n",
        "  proportion_setosa_pl=setosa_count_pl/train_species_count\n",
        "  proportion_setosa_pw=setosa_count_pw/train_species_count\n",
        "  print(\"setosa proportion with sepal legth > mean:\", round(proportion_setosa_sl,2),\n",
        "        \"\\nsetosa proportion with sepal width > mean:\", round(proportion_setosa_sw,2),\n",
        "        \"\\nsetosa proportion with petal legth > mean:\", round(proportion_setosa_pl,2),\n",
        "        \"\\nsetosa proportion with petal width > mean:\", round(proportion_setosa_pw,2))\n",
        "  \n",
        "  #step4 - below the mean\n",
        "  #Counting all iris virignica per column with values below the mean\n",
        "  setosa2_count_sl=train_mean.loc[(train_mean['species']=='Iris-setosa')& (train_mean['sepal-length']==0)]['sepal-length'].count()\n",
        "  setosa2_count_sw=train_mean.loc[(train_mean['species']=='Iris-setosa')& (train_mean['sepal-width']==0)]['sepal-width'].count()\n",
        "  setosa2_count_pl=train_mean.loc[(train_mean['species']=='Iris-setosa')& (train_mean['petal-length']==0)]['petal-length'].count()\n",
        "  setosa2_count_pw=train_mean.loc[(train_mean['species']=='Iris-setosa')& (train_mean['petal-width']==0)]['petal-width'].count()\n",
        "  print(\"sepal length count:\", setosa2_count_sl,\n",
        "         \"\\nsepal width count:\", setosa2_count_sw,\n",
        "         \"\\npetal length count:\", setosa2_count_pl,\n",
        "         \"\\npetal width count:\", setosa2_count_pw)\n",
        "  #step5 - below the mean\n",
        "  #Calculating the proportion of all iris setosa per column that are below the mean (<1) (count of setosa from step2 / total count of iris setosa from step1)\n",
        "  proportion_setosa2_sl=setosa2_count_sl/train_species_count\n",
        "  proportion_setosa2_sw=setosa2_count_sw/train_species_count\n",
        "  proportion_setosa2_pl=setosa2_count_pl/train_species_count\n",
        "  proportion_setosa2_pw=setosa2_count_pw/train_species_count\n",
        "  print(\"setosa proportion with sepal legth < mean:\", round(proportion_setosa2_sl,2),\n",
        "        \"\\nsetosa proportion with sepal width < mean:\", round(proportion_setosa2_sw,2),\n",
        "        \"\\nsetosa proportion with petal legth < mean:\", round(proportion_setosa2_pl,2),\n",
        "        \"\\nsetosa proportion with petal width < mean:\", round(proportion_setosa2_pw,2))\n",
        "  \n",
        "setosa_mean_proportions()"
      ],
      "metadata": {
        "colab": {
          "base_uri": "https://localhost:8080/"
        },
        "outputId": "7bb806bf-9193-4abf-ecd8-5d8a1cd4d49c",
        "id": "yM5ln-T0p2-s"
      },
      "execution_count": 86,
      "outputs": [
        {
          "output_type": "stream",
          "name": "stdout",
          "text": [
            "setosa count:  36\n",
            "sepal length count: 0 \n",
            "sepal width count: 29 \n",
            "petal length count: 0 \n",
            "petal width count: 0\n",
            "setosa proportion with sepal legth > mean: 0.0 \n",
            "setosa proportion with sepal width > mean: 0.81 \n",
            "setosa proportion with petal legth > mean: 0.0 \n",
            "setosa proportion with petal width > mean: 0.0\n",
            "sepal length count: 36 \n",
            "sepal width count: 7 \n",
            "petal length count: 36 \n",
            "petal width count: 36\n",
            "setosa proportion with sepal legth < mean: 1.0 \n",
            "setosa proportion with sepal width < mean: 0.19 \n",
            "setosa proportion with petal legth < mean: 1.0 \n",
            "setosa proportion with petal width < mean: 1.0\n"
          ]
        }
      ]
    },
    {
      "cell_type": "markdown",
      "metadata": {
        "id": "5Ix6Hh0Uy9MS"
      },
      "source": [
        "### Exercise 6 - predict from the results\n",
        "---\n",
        "\n",
        "Create a list of dictionaries from the results Exercise 4 and 5 (e.g. {'species':..., 'above_mean': 0.xx, 'below_mean': 0.xx}  \n",
        "\n",
        "Then use a loop to go through the list and print:  \n",
        "*  any species and indicator (above or below mean) that can reliably be predicted.  A reliable prediction may be one over 0.5"
      ]
    },
    {
      "cell_type": "code",
      "metadata": {
        "id": "FPvXa8x81re7",
        "colab": {
          "base_uri": "https://localhost:8080/",
          "height": 450
        },
        "outputId": "ebadfb03-fecb-4cdb-d723-ae704b67e33f"
      },
      "source": [
        "#show which columns are reliable predictors\n",
        "import numpy as np\n",
        "import pandas as pd\n",
        "\n",
        "def showing_reliable_predictors():\n",
        "  data = {'species': [\"virginica\", 'versicolor', 'setosa'], \n",
        "        'sepal_length_above_mean': [\"0.88\", '0.55', '0.0'],\n",
        "        'sepal_width_above_mean': [\"0.32\", '0.09', '0.81'],\n",
        "        'petal_length_above_mean': [\"1\", '0.91', '0.0'],\n",
        "        'petal_width_above_mean': [\"1\", '0.79', '0.0'],\n",
        "        'sepal_length_below_mean': [\"0.12\", '0.5', '1'],\n",
        "        'sepal_width_below_mean': [\"0.68\", '0.91', '0.19'],\n",
        "        'petal_length_below_mean': [\"0.0\", '0.09', '1'],\n",
        "        'petal_width_below_mean': [\"0.0\", '0.11', '1']}\n",
        "  iris_stats = pd.DataFrame(data) #passing column names in the columns parameter \n",
        "  print(iris_stats)\n",
        "  return iris_stats\n",
        "\n",
        "showing_reliable_predictors()"
      ],
      "execution_count": 99,
      "outputs": [
        {
          "output_type": "stream",
          "name": "stdout",
          "text": [
            "      species sepal_length_above_mean sepal_width_above_mean  \\\n",
            "0   virginica                    0.88                   0.32   \n",
            "1  versicolor                    0.55                   0.09   \n",
            "2      setosa                     0.0                   0.81   \n",
            "\n",
            "  petal_length_above_mean petal_width_above_mean sepal_length_below_mean  \\\n",
            "0                       1                      1                    0.12   \n",
            "1                    0.91                   0.79                     0.5   \n",
            "2                     0.0                    0.0                       1   \n",
            "\n",
            "  sepal_width_below_mean petal_length_below_mean petal_width_below_mean  \n",
            "0                   0.68                     0.0                    0.0  \n",
            "1                   0.91                    0.09                   0.11  \n",
            "2                   0.19                       1                      1  \n"
          ]
        },
        {
          "output_type": "execute_result",
          "data": {
            "text/plain": [
              "      species sepal_length_above_mean sepal_width_above_mean  \\\n",
              "0   virginica                    0.88                   0.32   \n",
              "1  versicolor                    0.55                   0.09   \n",
              "2      setosa                     0.0                   0.81   \n",
              "\n",
              "  petal_length_above_mean petal_width_above_mean sepal_length_below_mean  \\\n",
              "0                       1                      1                    0.12   \n",
              "1                    0.91                   0.79                     0.5   \n",
              "2                     0.0                    0.0                       1   \n",
              "\n",
              "  sepal_width_below_mean petal_length_below_mean petal_width_below_mean  \n",
              "0                   0.68                     0.0                    0.0  \n",
              "1                   0.91                    0.09                   0.11  \n",
              "2                   0.19                       1                      1  "
            ],
            "text/html": [
              "\n",
              "  <div id=\"df-0199c670-838c-46c9-90a4-9614bf6c072a\">\n",
              "    <div class=\"colab-df-container\">\n",
              "      <div>\n",
              "<style scoped>\n",
              "    .dataframe tbody tr th:only-of-type {\n",
              "        vertical-align: middle;\n",
              "    }\n",
              "\n",
              "    .dataframe tbody tr th {\n",
              "        vertical-align: top;\n",
              "    }\n",
              "\n",
              "    .dataframe thead th {\n",
              "        text-align: right;\n",
              "    }\n",
              "</style>\n",
              "<table border=\"1\" class=\"dataframe\">\n",
              "  <thead>\n",
              "    <tr style=\"text-align: right;\">\n",
              "      <th></th>\n",
              "      <th>species</th>\n",
              "      <th>sepal_length_above_mean</th>\n",
              "      <th>sepal_width_above_mean</th>\n",
              "      <th>petal_length_above_mean</th>\n",
              "      <th>petal_width_above_mean</th>\n",
              "      <th>sepal_length_below_mean</th>\n",
              "      <th>sepal_width_below_mean</th>\n",
              "      <th>petal_length_below_mean</th>\n",
              "      <th>petal_width_below_mean</th>\n",
              "    </tr>\n",
              "  </thead>\n",
              "  <tbody>\n",
              "    <tr>\n",
              "      <th>0</th>\n",
              "      <td>virginica</td>\n",
              "      <td>0.88</td>\n",
              "      <td>0.32</td>\n",
              "      <td>1</td>\n",
              "      <td>1</td>\n",
              "      <td>0.12</td>\n",
              "      <td>0.68</td>\n",
              "      <td>0.0</td>\n",
              "      <td>0.0</td>\n",
              "    </tr>\n",
              "    <tr>\n",
              "      <th>1</th>\n",
              "      <td>versicolor</td>\n",
              "      <td>0.55</td>\n",
              "      <td>0.09</td>\n",
              "      <td>0.91</td>\n",
              "      <td>0.79</td>\n",
              "      <td>0.5</td>\n",
              "      <td>0.91</td>\n",
              "      <td>0.09</td>\n",
              "      <td>0.11</td>\n",
              "    </tr>\n",
              "    <tr>\n",
              "      <th>2</th>\n",
              "      <td>setosa</td>\n",
              "      <td>0.0</td>\n",
              "      <td>0.81</td>\n",
              "      <td>0.0</td>\n",
              "      <td>0.0</td>\n",
              "      <td>1</td>\n",
              "      <td>0.19</td>\n",
              "      <td>1</td>\n",
              "      <td>1</td>\n",
              "    </tr>\n",
              "  </tbody>\n",
              "</table>\n",
              "</div>\n",
              "      <button class=\"colab-df-convert\" onclick=\"convertToInteractive('df-0199c670-838c-46c9-90a4-9614bf6c072a')\"\n",
              "              title=\"Convert this dataframe to an interactive table.\"\n",
              "              style=\"display:none;\">\n",
              "        \n",
              "  <svg xmlns=\"http://www.w3.org/2000/svg\" height=\"24px\"viewBox=\"0 0 24 24\"\n",
              "       width=\"24px\">\n",
              "    <path d=\"M0 0h24v24H0V0z\" fill=\"none\"/>\n",
              "    <path d=\"M18.56 5.44l.94 2.06.94-2.06 2.06-.94-2.06-.94-.94-2.06-.94 2.06-2.06.94zm-11 1L8.5 8.5l.94-2.06 2.06-.94-2.06-.94L8.5 2.5l-.94 2.06-2.06.94zm10 10l.94 2.06.94-2.06 2.06-.94-2.06-.94-.94-2.06-.94 2.06-2.06.94z\"/><path d=\"M17.41 7.96l-1.37-1.37c-.4-.4-.92-.59-1.43-.59-.52 0-1.04.2-1.43.59L10.3 9.45l-7.72 7.72c-.78.78-.78 2.05 0 2.83L4 21.41c.39.39.9.59 1.41.59.51 0 1.02-.2 1.41-.59l7.78-7.78 2.81-2.81c.8-.78.8-2.07 0-2.86zM5.41 20L4 18.59l7.72-7.72 1.47 1.35L5.41 20z\"/>\n",
              "  </svg>\n",
              "      </button>\n",
              "      \n",
              "  <style>\n",
              "    .colab-df-container {\n",
              "      display:flex;\n",
              "      flex-wrap:wrap;\n",
              "      gap: 12px;\n",
              "    }\n",
              "\n",
              "    .colab-df-convert {\n",
              "      background-color: #E8F0FE;\n",
              "      border: none;\n",
              "      border-radius: 50%;\n",
              "      cursor: pointer;\n",
              "      display: none;\n",
              "      fill: #1967D2;\n",
              "      height: 32px;\n",
              "      padding: 0 0 0 0;\n",
              "      width: 32px;\n",
              "    }\n",
              "\n",
              "    .colab-df-convert:hover {\n",
              "      background-color: #E2EBFA;\n",
              "      box-shadow: 0px 1px 2px rgba(60, 64, 67, 0.3), 0px 1px 3px 1px rgba(60, 64, 67, 0.15);\n",
              "      fill: #174EA6;\n",
              "    }\n",
              "\n",
              "    [theme=dark] .colab-df-convert {\n",
              "      background-color: #3B4455;\n",
              "      fill: #D2E3FC;\n",
              "    }\n",
              "\n",
              "    [theme=dark] .colab-df-convert:hover {\n",
              "      background-color: #434B5C;\n",
              "      box-shadow: 0px 1px 3px 1px rgba(0, 0, 0, 0.15);\n",
              "      filter: drop-shadow(0px 1px 2px rgba(0, 0, 0, 0.3));\n",
              "      fill: #FFFFFF;\n",
              "    }\n",
              "  </style>\n",
              "\n",
              "      <script>\n",
              "        const buttonEl =\n",
              "          document.querySelector('#df-0199c670-838c-46c9-90a4-9614bf6c072a button.colab-df-convert');\n",
              "        buttonEl.style.display =\n",
              "          google.colab.kernel.accessAllowed ? 'block' : 'none';\n",
              "\n",
              "        async function convertToInteractive(key) {\n",
              "          const element = document.querySelector('#df-0199c670-838c-46c9-90a4-9614bf6c072a');\n",
              "          const dataTable =\n",
              "            await google.colab.kernel.invokeFunction('convertToInteractive',\n",
              "                                                     [key], {});\n",
              "          if (!dataTable) return;\n",
              "\n",
              "          const docLinkHtml = 'Like what you see? Visit the ' +\n",
              "            '<a target=\"_blank\" href=https://colab.research.google.com/notebooks/data_table.ipynb>data table notebook</a>'\n",
              "            + ' to learn more about interactive tables.';\n",
              "          element.innerHTML = '';\n",
              "          dataTable['output_type'] = 'display_data';\n",
              "          await google.colab.output.renderOutput(dataTable, element);\n",
              "          const docLink = document.createElement('div');\n",
              "          docLink.innerHTML = docLinkHtml;\n",
              "          element.appendChild(docLink);\n",
              "        }\n",
              "      </script>\n",
              "    </div>\n",
              "  </div>\n",
              "  "
            ]
          },
          "metadata": {},
          "execution_count": 99
        }
      ]
    },
    {
      "cell_type": "markdown",
      "source": [
        "In order to identify certain predictors as reliable, we need to look at values that are over 0.5.<br>\n",
        "\n",
        "We can conclude as reliable predictors for each species, the following from the table above:\n",
        "- **Virginica**: \n",
        "sepal_length_above_mean, petal_length_above_mean, width_above_mean, and sepal_width_below_mean are all above 0.5 with the strongest ones being petal length & width above mean that are equal to 1.\n",
        "- **Versicolor**: there is a clear reliability in all above mean petal metrics and the only sepal metric that makes the mark is sepal_length_below_mean.\n",
        "- **Setosa**: there is a distinctive lack of reliability in the above mean values for this species with the exception of sepal_width_above_mean. And the rverse applies for below men values with the sepal_width_below_mean being the only one not passing the 0.5 threshold."
      ],
      "metadata": {
        "id": "DEDlu8Puuwtu"
      }
    },
    {
      "cell_type": "markdown",
      "metadata": {
        "id": "ws2TxeRrnIJ4"
      },
      "source": [
        "### Exercise 6 - Make a decision tree\n",
        "---\n",
        "\n",
        "Use pencil and paper or a graphical application to create a decision tree for Iris-virginica, using the following rules (use the picture below as a guide):\n",
        "\n",
        "*  The column with the highest indicator is placed at the top\n",
        "*  Other columns are placed in order below\n",
        "*  The rest of the columns are placed in order below these\n",
        "\n",
        "Any column where one branch (on or above mean OR below mean) has an indicator of 0, could be classified as a strong indicator of Iris_virginica being the species.  Anything else, unless there is something very close to 0, could be classified as a weak indicator of Iris_virginica being the species.\n",
        "\n",
        "Let's code the decision tree using the following logic for this decision tree (yours might be slightly different):\n",
        "\n",
        "![Decision tree](https://drive.google.com/uc?id=1CTo23EHwR2IPCRjcfSyCQsT_oQ5Exwso)\n",
        "\n",
        "In the decision tree above, there is no certainty below petal-length so our decision tree will only include petal-width and petal-length.\n",
        "\n",
        "\n"
      ]
    },
    {
      "cell_type": "markdown",
      "source": [
        "###Calculations for mean:"
      ],
      "metadata": {
        "id": "pZ-2A8ZA_6FO"
      }
    },
    {
      "cell_type": "markdown",
      "source": [
        "The Decision Tree based on the above calculations is as follows:\n",
        "![Decision_Tree_Python.png](data:image/png;base64,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)"
      ],
      "metadata": {
        "id": "d5R_mh7hZNhX"
      }
    },
    {
      "cell_type": "code",
      "metadata": {
        "id": "tkCCL0ERDife",
        "colab": {
          "base_uri": "https://localhost:8080/"
        },
        "outputId": "3d8e00e0-f750-42fa-8a03-a0969a067bf1"
      },
      "source": [
        "def get_species(df):\n",
        "  # ADD CODE HERE TO RETURN None if petal-width is below mean (encoded as 0) or if petal-length is below mean (encoded as 0), otherwise return 'Iris-virginia'\n",
        "    if df['petal-width'] == 0:\n",
        "        return None\n",
        "        if df['petal-length'] == 0:\n",
        "            return None\n",
        "            if df['sepal-length'] == 0:\n",
        "                return None\n",
        "    return 'Iris-virginica' \n",
        "\n",
        "# use the get_species(df) function to predict the species, count how many are predicted correct and use this to calculate the proportion correct\n",
        "correct = 0\n",
        "test_size = test.shape[0]\n",
        "for i in range(0, test_size):\n",
        "  species = get_species(test.iloc[i])\n",
        "  if species == test.iloc[i]['species']:\n",
        "      correct += 1\n",
        "\n",
        "print (\"Proportion correctly identified\", correct / test_size) \n"
      ],
      "execution_count": 100,
      "outputs": [
        {
          "output_type": "stream",
          "name": "stdout",
          "text": [
            "Proportion correctly identified 0.37777777777777777\n"
          ]
        }
      ]
    },
    {
      "cell_type": "markdown",
      "metadata": {
        "id": "-2tQcT5ILtxl"
      },
      "source": [
        "### Exercise 7 - change the measure into median\n",
        "\n",
        "We are currently using the mean to act as the decision making line.  We can use the decision tree with a different line.\n",
        "\n",
        "Change the mean values so that you are instead using the **median** instead for all four columns.  The code should not need changing except for where you calculated the mean.\n",
        "\n",
        "Run all the code again.  Is the proportion of correct values better this time?   Is the decision tree still appropriate?\n"
      ]
    },
    {
      "cell_type": "code",
      "metadata": {
        "colab": {
          "base_uri": "https://localhost:8080/",
          "height": 736
        },
        "outputId": "a7c53147-91a8-401f-a8e2-08e71e5dc956",
        "id": "Q89bJo7YCsmr"
      },
      "source": [
        "#Get the median for each column and apply a function to encode into 1 (above median) and 0 (median or below median)\n",
        "#step1\n",
        "def encode2(df, **kdws):\n",
        "  indicator2 = kdws['indicator2']\n",
        "  key = kdws['key']\n",
        "  if df[key] > indicator2:\n",
        "    return 1\n",
        "  else:\n",
        "    return 0\n",
        "\n",
        "#step2\n",
        "#Calculating the medians of the metrics columns\n",
        "sl_median = train[\"sepal-length\"].median()\n",
        "print(\"median of sepal length: \", sl_median)\n",
        "sw_median = train[\"sepal-width\"].median()\n",
        "print(\"median of sepal width: \", sw_median)\n",
        "pl_median = train[\"petal-length\"].median()\n",
        "print(\"median of petal length: \", pl_median)\n",
        "pw_median = train[\"petal-width\"].median()\n",
        "print(\"median of petal with: \", pw_median)\n",
        "\n",
        "#step3\n",
        "#Run the function for each column so that each of the four columns are encoded [0 = below median, 1 = above median], then drop the original columns, saving as a new dataframe\n",
        "train_median = train.copy() #creating a new copy of the original dtframe\n",
        "train_median['sepal-length'] = train_median.apply(encode, axis=1, key='sepal-length', indicator=train['sepal-length'].median())\n",
        "train_median['sepal-width'] = train_median.apply(encode, axis=1, key='sepal-width', indicator=train['sepal-width'].median())\n",
        "train_median['petal-length'] = train_median.apply(encode, axis=1, key='petal-length', indicator=train['petal-length'].median())\n",
        "train_median['petal-width'] = train_median.apply(encode, axis=1, key='petal-width', indicator=train['petal-width'].median())\n",
        "\n",
        "print(train_median)\n",
        "train_median"
      ],
      "execution_count": 101,
      "outputs": [
        {
          "output_type": "stream",
          "name": "stdout",
          "text": [
            "median of sepal length:  5.8\n",
            "median of sepal width:  3.0\n",
            "median of petal length:  4.4\n",
            "median of petal with:  1.3\n",
            "     sepal-length  sepal-width  petal-length  petal-width          species\n",
            "128             1            0             1            1   Iris-virginica\n",
            "142             0            0             1            1   Iris-virginica\n",
            "28              0            1             0            0      Iris-setosa\n",
            "18              0            1             0            0      Iris-setosa\n",
            "53              0            0             0            0  Iris-versicolor\n",
            "..            ...          ...           ...          ...              ...\n",
            "115             1            1             1            1   Iris-virginica\n",
            "38              0            0             0            0      Iris-setosa\n",
            "102             1            0             1            1   Iris-virginica\n",
            "66              0            0             1            1  Iris-versicolor\n",
            "20              0            1             0            0      Iris-setosa\n",
            "\n",
            "[105 rows x 5 columns]\n"
          ]
        },
        {
          "output_type": "execute_result",
          "data": {
            "text/plain": [
              "     sepal-length  sepal-width  petal-length  petal-width          species\n",
              "128             1            0             1            1   Iris-virginica\n",
              "142             0            0             1            1   Iris-virginica\n",
              "28              0            1             0            0      Iris-setosa\n",
              "18              0            1             0            0      Iris-setosa\n",
              "53              0            0             0            0  Iris-versicolor\n",
              "..            ...          ...           ...          ...              ...\n",
              "115             1            1             1            1   Iris-virginica\n",
              "38              0            0             0            0      Iris-setosa\n",
              "102             1            0             1            1   Iris-virginica\n",
              "66              0            0             1            1  Iris-versicolor\n",
              "20              0            1             0            0      Iris-setosa\n",
              "\n",
              "[105 rows x 5 columns]"
            ],
            "text/html": [
              "\n",
              "  <div id=\"df-59a823c3-f1a0-47e9-ad99-7ab63880ffda\">\n",
              "    <div class=\"colab-df-container\">\n",
              "      <div>\n",
              "<style scoped>\n",
              "    .dataframe tbody tr th:only-of-type {\n",
              "        vertical-align: middle;\n",
              "    }\n",
              "\n",
              "    .dataframe tbody tr th {\n",
              "        vertical-align: top;\n",
              "    }\n",
              "\n",
              "    .dataframe thead th {\n",
              "        text-align: right;\n",
              "    }\n",
              "</style>\n",
              "<table border=\"1\" class=\"dataframe\">\n",
              "  <thead>\n",
              "    <tr style=\"text-align: right;\">\n",
              "      <th></th>\n",
              "      <th>sepal-length</th>\n",
              "      <th>sepal-width</th>\n",
              "      <th>petal-length</th>\n",
              "      <th>petal-width</th>\n",
              "      <th>species</th>\n",
              "    </tr>\n",
              "  </thead>\n",
              "  <tbody>\n",
              "    <tr>\n",
              "      <th>128</th>\n",
              "      <td>1</td>\n",
              "      <td>0</td>\n",
              "      <td>1</td>\n",
              "      <td>1</td>\n",
              "      <td>Iris-virginica</td>\n",
              "    </tr>\n",
              "    <tr>\n",
              "      <th>142</th>\n",
              "      <td>0</td>\n",
              "      <td>0</td>\n",
              "      <td>1</td>\n",
              "      <td>1</td>\n",
              "      <td>Iris-virginica</td>\n",
              "    </tr>\n",
              "    <tr>\n",
              "      <th>28</th>\n",
              "      <td>0</td>\n",
              "      <td>1</td>\n",
              "      <td>0</td>\n",
              "      <td>0</td>\n",
              "      <td>Iris-setosa</td>\n",
              "    </tr>\n",
              "    <tr>\n",
              "      <th>18</th>\n",
              "      <td>0</td>\n",
              "      <td>1</td>\n",
              "      <td>0</td>\n",
              "      <td>0</td>\n",
              "      <td>Iris-setosa</td>\n",
              "    </tr>\n",
              "    <tr>\n",
              "      <th>53</th>\n",
              "      <td>0</td>\n",
              "      <td>0</td>\n",
              "      <td>0</td>\n",
              "      <td>0</td>\n",
              "      <td>Iris-versicolor</td>\n",
              "    </tr>\n",
              "    <tr>\n",
              "      <th>...</th>\n",
              "      <td>...</td>\n",
              "      <td>...</td>\n",
              "      <td>...</td>\n",
              "      <td>...</td>\n",
              "      <td>...</td>\n",
              "    </tr>\n",
              "    <tr>\n",
              "      <th>115</th>\n",
              "      <td>1</td>\n",
              "      <td>1</td>\n",
              "      <td>1</td>\n",
              "      <td>1</td>\n",
              "      <td>Iris-virginica</td>\n",
              "    </tr>\n",
              "    <tr>\n",
              "      <th>38</th>\n",
              "      <td>0</td>\n",
              "      <td>0</td>\n",
              "      <td>0</td>\n",
              "      <td>0</td>\n",
              "      <td>Iris-setosa</td>\n",
              "    </tr>\n",
              "    <tr>\n",
              "      <th>102</th>\n",
              "      <td>1</td>\n",
              "      <td>0</td>\n",
              "      <td>1</td>\n",
              "      <td>1</td>\n",
              "      <td>Iris-virginica</td>\n",
              "    </tr>\n",
              "    <tr>\n",
              "      <th>66</th>\n",
              "      <td>0</td>\n",
              "      <td>0</td>\n",
              "      <td>1</td>\n",
              "      <td>1</td>\n",
              "      <td>Iris-versicolor</td>\n",
              "    </tr>\n",
              "    <tr>\n",
              "      <th>20</th>\n",
              "      <td>0</td>\n",
              "      <td>1</td>\n",
              "      <td>0</td>\n",
              "      <td>0</td>\n",
              "      <td>Iris-setosa</td>\n",
              "    </tr>\n",
              "  </tbody>\n",
              "</table>\n",
              "<p>105 rows × 5 columns</p>\n",
              "</div>\n",
              "      <button class=\"colab-df-convert\" onclick=\"convertToInteractive('df-59a823c3-f1a0-47e9-ad99-7ab63880ffda')\"\n",
              "              title=\"Convert this dataframe to an interactive table.\"\n",
              "              style=\"display:none;\">\n",
              "        \n",
              "  <svg xmlns=\"http://www.w3.org/2000/svg\" height=\"24px\"viewBox=\"0 0 24 24\"\n",
              "       width=\"24px\">\n",
              "    <path d=\"M0 0h24v24H0V0z\" fill=\"none\"/>\n",
              "    <path d=\"M18.56 5.44l.94 2.06.94-2.06 2.06-.94-2.06-.94-.94-2.06-.94 2.06-2.06.94zm-11 1L8.5 8.5l.94-2.06 2.06-.94-2.06-.94L8.5 2.5l-.94 2.06-2.06.94zm10 10l.94 2.06.94-2.06 2.06-.94-2.06-.94-.94-2.06-.94 2.06-2.06.94z\"/><path d=\"M17.41 7.96l-1.37-1.37c-.4-.4-.92-.59-1.43-.59-.52 0-1.04.2-1.43.59L10.3 9.45l-7.72 7.72c-.78.78-.78 2.05 0 2.83L4 21.41c.39.39.9.59 1.41.59.51 0 1.02-.2 1.41-.59l7.78-7.78 2.81-2.81c.8-.78.8-2.07 0-2.86zM5.41 20L4 18.59l7.72-7.72 1.47 1.35L5.41 20z\"/>\n",
              "  </svg>\n",
              "      </button>\n",
              "      \n",
              "  <style>\n",
              "    .colab-df-container {\n",
              "      display:flex;\n",
              "      flex-wrap:wrap;\n",
              "      gap: 12px;\n",
              "    }\n",
              "\n",
              "    .colab-df-convert {\n",
              "      background-color: #E8F0FE;\n",
              "      border: none;\n",
              "      border-radius: 50%;\n",
              "      cursor: pointer;\n",
              "      display: none;\n",
              "      fill: #1967D2;\n",
              "      height: 32px;\n",
              "      padding: 0 0 0 0;\n",
              "      width: 32px;\n",
              "    }\n",
              "\n",
              "    .colab-df-convert:hover {\n",
              "      background-color: #E2EBFA;\n",
              "      box-shadow: 0px 1px 2px rgba(60, 64, 67, 0.3), 0px 1px 3px 1px rgba(60, 64, 67, 0.15);\n",
              "      fill: #174EA6;\n",
              "    }\n",
              "\n",
              "    [theme=dark] .colab-df-convert {\n",
              "      background-color: #3B4455;\n",
              "      fill: #D2E3FC;\n",
              "    }\n",
              "\n",
              "    [theme=dark] .colab-df-convert:hover {\n",
              "      background-color: #434B5C;\n",
              "      box-shadow: 0px 1px 3px 1px rgba(0, 0, 0, 0.15);\n",
              "      filter: drop-shadow(0px 1px 2px rgba(0, 0, 0, 0.3));\n",
              "      fill: #FFFFFF;\n",
              "    }\n",
              "  </style>\n",
              "\n",
              "      <script>\n",
              "        const buttonEl =\n",
              "          document.querySelector('#df-59a823c3-f1a0-47e9-ad99-7ab63880ffda button.colab-df-convert');\n",
              "        buttonEl.style.display =\n",
              "          google.colab.kernel.accessAllowed ? 'block' : 'none';\n",
              "\n",
              "        async function convertToInteractive(key) {\n",
              "          const element = document.querySelector('#df-59a823c3-f1a0-47e9-ad99-7ab63880ffda');\n",
              "          const dataTable =\n",
              "            await google.colab.kernel.invokeFunction('convertToInteractive',\n",
              "                                                     [key], {});\n",
              "          if (!dataTable) return;\n",
              "\n",
              "          const docLinkHtml = 'Like what you see? Visit the ' +\n",
              "            '<a target=\"_blank\" href=https://colab.research.google.com/notebooks/data_table.ipynb>data table notebook</a>'\n",
              "            + ' to learn more about interactive tables.';\n",
              "          element.innerHTML = '';\n",
              "          dataTable['output_type'] = 'display_data';\n",
              "          await google.colab.output.renderOutput(dataTable, element);\n",
              "          const docLink = document.createElement('div');\n",
              "          docLink.innerHTML = docLinkHtml;\n",
              "          element.appendChild(docLink);\n",
              "        }\n",
              "      </script>\n",
              "    </div>\n",
              "  </div>\n",
              "  "
            ]
          },
          "metadata": {},
          "execution_count": 101
        }
      ]
    },
    {
      "cell_type": "markdown",
      "source": [
        "##Iris-virginica above & below median proportions."
      ],
      "metadata": {
        "id": "KQAgtKAYM2VB"
      }
    },
    {
      "cell_type": "code",
      "source": [
        "def virginica_median_proportions():\n",
        "\n",
        "  #step1\n",
        "  #Getting a count of all the rows with name 'iris virginica' in the column species\n",
        "  train_species_count=train_median.loc[(train_median['species']=='Iris-virginica')]['species'].count()\n",
        "  print(\"virginica count: \",train_species_count)\n",
        "  #step2\n",
        "  #Counting all iris virignica per column with values above the median\n",
        "  virginica_count_sl=train_median.loc[(train_median['species']=='Iris-virginica')& (train_median['sepal-length']==1)]['sepal-length'].count()\n",
        "  virginica_count_sw=train_median.loc[(train_median['species']=='Iris-virginica')& (train_median['sepal-width']==1)]['sepal-width'].count()\n",
        "  virginica_count_pl=train_median.loc[(train_median['species']=='Iris-virginica')& (train_median['petal-length']==1)]['petal-length'].count()\n",
        "  virginica_count_pw=train_median.loc[(train_median['species']=='Iris-virginica')& (train_median['petal-width']==1)]['petal-width'].count()\n",
        "  print(\"sepal length count:\", virginica_count_sl,\n",
        "         \"\\nsepal width count:\", virginica_count_sw,\n",
        "         \"\\npetal length count:\", virginica_count_pl,\n",
        "         \"\\npetal width count:\", virginica_count_pw)\n",
        "  #step3\n",
        "  #Calculating the proportion of all iris virginica per column that are above the median (>1) (count of virginica from step2 / total count of iris virginica from step1)\n",
        "  proportion_virginica_sl=virginica_count_sl/train_species_count\n",
        "  proportion_virginica_sw=virginica_count_sw/train_species_count\n",
        "  proportion_virginica_pl=virginica_count_pl/train_species_count\n",
        "  proportion_virginica_pw=virginica_count_pw/train_species_count\n",
        "  print(\"virginica proportion with sepal legth > median:\", round(proportion_virginica_sl,2),\n",
        "        \"\\nvirginica proportion with sepal width > median:\", round(proportion_virginica_sw,2),\n",
        "        \"\\nvirginica proportion with petal legth > median:\", round(proportion_virginica_pl,2),\n",
        "        \"\\nvirginica proportion with petal width > median:\", round(proportion_virginica_pw,2))\n",
        "  \n",
        "  #step4 - below the median\n",
        "  #Counting all iris virignica per column with values below the median\n",
        "  virginica2_count_sl=train_median.loc[(train_median['species']=='Iris-virginica')& (train_median['sepal-length']==0)]['sepal-length'].count()\n",
        "  virginica2_count_sw=train_median.loc[(train_median['species']=='Iris-virginica')& (train_median['sepal-width']==0)]['sepal-width'].count()\n",
        "  virginica2_count_pl=train_median.loc[(train_median['species']=='Iris-virginica')& (train_median['petal-length']==0)]['petal-length'].count()\n",
        "  virginica2_count_pw=train_median.loc[(train_median['species']=='Iris-virginica')& (train_median['petal-width']==0)]['petal-width'].count()\n",
        "  print(\"sepal length count:\", virginica2_count_sl,\n",
        "         \"\\nsepal width count:\", virginica2_count_sw,\n",
        "         \"\\npetal length count:\", virginica2_count_pl,\n",
        "         \"\\npetal width count:\", virginica2_count_pw)\n",
        "  #step5 - below the median\n",
        "  #Calculating the proportion of all iris virginica per column that are below the median (<1) (count of virginica from step2 / total count of iris virginica from step1)\n",
        "  proportion_virginica2_sl=virginica2_count_sl/train_species_count\n",
        "  proportion_virginica2_sw=virginica2_count_sw/train_species_count\n",
        "  proportion_virginica2_pl=virginica2_count_pl/train_species_count\n",
        "  proportion_virginica2_pw=virginica2_count_pw/train_species_count\n",
        "  print(\"virginica proportion with sepal legth < median:\", round(proportion_virginica2_sl,2),\n",
        "        \"\\nvirginica proportion with sepal width < median:\", round(proportion_virginica2_sw,2),\n",
        "        \"\\nvirginica proportion with petal legth < median:\", round(proportion_virginica2_pl,2),\n",
        "        \"\\nvirginica proportion with petal width < median:\", round(proportion_virginica2_pw,2))\n",
        "  \n",
        "virginica_median_proportions()"
      ],
      "metadata": {
        "colab": {
          "base_uri": "https://localhost:8080/"
        },
        "id": "vJvGX1-5NQhW",
        "outputId": "6e364243-f677-4003-f490-da594f232e7c"
      },
      "execution_count": 103,
      "outputs": [
        {
          "output_type": "stream",
          "name": "stdout",
          "text": [
            "virginica count:  33\n",
            "sepal length count: 29 \n",
            "sepal width count: 13 \n",
            "petal length count: 33 \n",
            "petal width count: 33\n",
            "virginica proportion with sepal legth > median: 0.88 \n",
            "virginica proportion with sepal width > median: 0.39 \n",
            "virginica proportion with petal legth > median: 1.0 \n",
            "virginica proportion with petal width > median: 1.0\n",
            "sepal length count: 4 \n",
            "sepal width count: 20 \n",
            "petal length count: 0 \n",
            "petal width count: 0\n",
            "virginica proportion with sepal legth < median: 0.12 \n",
            "virginica proportion with sepal width < median: 0.61 \n",
            "virginica proportion with petal legth < median: 0.0 \n",
            "virginica proportion with petal width < median: 0.0\n"
          ]
        }
      ]
    },
    {
      "cell_type": "markdown",
      "source": [
        "## Iris-versicolor above & below median proportions."
      ],
      "metadata": {
        "id": "5UffAon7MMNc"
      }
    },
    {
      "cell_type": "code",
      "source": [
        "def versicolor_median_proportion():\n",
        "\n",
        "  #step1\n",
        "  #Getting a count of all the rows with name 'iris versicolor' in the column species\n",
        "  train_species_count=train_median.loc[(train_median['species']=='Iris-versicolor')]['species'].count()\n",
        "  print(\"versicolor count: \",train_species_count)\n",
        "  #step2\n",
        "  #Counting all iris virignica per column with values above the median\n",
        "  versicolor_count_sl=train_median.loc[(train_median['species']=='Iris-versicolor')& (train_median['sepal-length']==1)]['sepal-length'].count()\n",
        "  versicolor_count_sw=train_median.loc[(train_median['species']=='Iris-versicolor')& (train_median['sepal-width']==1)]['sepal-width'].count()\n",
        "  versicolor_count_pl=train_median.loc[(train_median['species']=='Iris-versicolor')& (train_median['petal-length']==1)]['petal-length'].count()\n",
        "  versicolor_count_pw=train_median.loc[(train_median['species']=='Iris-versicolor')& (train_median['petal-width']==1)]['petal-width'].count()\n",
        "  print(\"sepal length count:\", versicolor_count_sl,\n",
        "         \"\\nsepal width count:\", versicolor_count_sw,\n",
        "         \"\\npetal length count:\", versicolor_count_pl,\n",
        "         \"\\npetal width count:\", versicolor_count_pw)\n",
        "  #step3\n",
        "  #Calculating the proportion of all iris versicolor per column that are above the median (>1) (count of versicolor from step2 / total count of iris versicolor from step1)\n",
        "  proportion_versicolor_sl=versicolor_count_sl/train_species_count\n",
        "  proportion_versicolor_sw=versicolor_count_sw/train_species_count\n",
        "  proportion_versicolor_pl=versicolor_count_pl/train_species_count\n",
        "  proportion_versicolor_pw=versicolor_count_pw/train_species_count\n",
        "  print(\"versicolor proportion with sepal legth > median:\", round(proportion_versicolor_sl,2),\n",
        "        \"\\nversicolor proportion with sepal width > median:\", round(proportion_versicolor_sw,2),\n",
        "        \"\\nversicolor proportion with petal legth > median:\", round(proportion_versicolor_pl,2),\n",
        "        \"\\nversicolor proportion with petal width > median:\", round(proportion_versicolor_pw,2))\n",
        "  \n",
        "  #step4 - below the median\n",
        "  #Counting all iris virignica per column with values below the median\n",
        "  versicolor2_count_sl=train_median.loc[(train_median['species']=='Iris-versicolor')& (train_median['sepal-length']==0)]['sepal-length'].count()\n",
        "  versicolor2_count_sw=train_median.loc[(train_median['species']=='Iris-versicolor')& (train_median['sepal-width']==0)]['sepal-width'].count()\n",
        "  versicolor2_count_pl=train_median.loc[(train_median['species']=='Iris-versicolor')& (train_median['petal-length']==0)]['petal-length'].count()\n",
        "  versicolor2_count_pw=train_median.loc[(train_median['species']=='Iris-versicolor')& (train_median['petal-width']==0)]['petal-width'].count()\n",
        "  print(\"sepal length count:\", versicolor2_count_sl,\n",
        "         \"\\nsepal width count:\", versicolor2_count_sw,\n",
        "         \"\\npetal length count:\", versicolor2_count_pl,\n",
        "         \"\\npetal width count:\", versicolor2_count_pw)\n",
        "  #step5 - below the median\n",
        "  #Calculating the proportion of all iris versicolor per column that are below the median (<1) (count of versicolor from step2 / total count of iris versicolor from step1)\n",
        "  proportion_versicolor2_sl=versicolor2_count_sl/train_species_count\n",
        "  proportion_versicolor2_sw=versicolor2_count_sw/train_species_count\n",
        "  proportion_versicolor2_pl=versicolor2_count_pl/train_species_count\n",
        "  proportion_versicolor2_pw=versicolor2_count_pw/train_species_count\n",
        "  print(\"versicolor proportion with sepal legth < median:\", round(proportion_versicolor2_sl,2),\n",
        "        \"\\nversicolor proportion with sepal width < median:\", round(proportion_versicolor2_sw,2),\n",
        "        \"\\nversicolor proportion with petal legth < median:\", round(proportion_versicolor2_pl,2),\n",
        "        \"\\nversicolor proportion with petal width < median:\", round(proportion_versicolor2_pw,2))\n",
        "  \n",
        "versicolor_median_proportion()"
      ],
      "metadata": {
        "colab": {
          "base_uri": "https://localhost:8080/"
        },
        "id": "P_DIYbV8MWX-",
        "outputId": "502abf7a-dd03-4bf1-c0c4-60552db75d61"
      },
      "execution_count": 104,
      "outputs": [
        {
          "output_type": "stream",
          "name": "stdout",
          "text": [
            "versicolor count:  36\n",
            "sepal length count: 20 \n",
            "sepal width count: 6 \n",
            "petal length count: 16 \n",
            "petal width count: 17\n",
            "versicolor proportion with sepal legth > median: 0.56 \n",
            "versicolor proportion with sepal width > median: 0.17 \n",
            "versicolor proportion with petal legth > median: 0.44 \n",
            "versicolor proportion with petal width > median: 0.47\n",
            "sepal length count: 16 \n",
            "sepal width count: 30 \n",
            "petal length count: 20 \n",
            "petal width count: 19\n",
            "versicolor proportion with sepal legth < median: 0.44 \n",
            "versicolor proportion with sepal width < median: 0.83 \n",
            "versicolor proportion with petal legth < median: 0.56 \n",
            "versicolor proportion with petal width < median: 0.53\n"
          ]
        }
      ]
    },
    {
      "cell_type": "markdown",
      "source": [
        "## Iris-setosa above & below median proportions."
      ],
      "metadata": {
        "id": "6CkGKqIJLYHR"
      }
    },
    {
      "cell_type": "code",
      "source": [
        "def setosa_median_proportion():\n",
        "\n",
        "  #step1\n",
        "  #Getting a count of all the rows with name 'iris setosa' in the column species\n",
        "  train_species_count=train_median.loc[(train_median['species']=='Iris-setosa')]['species'].count()\n",
        "  print(\"setosa count: \",train_species_count)\n",
        "  #step2\n",
        "  #Counting all iris virignica per column with values above the median\n",
        "  setosa_count_sl=train_median.loc[(train_median['species']=='Iris-setosa')& (train_median['sepal-length']==1)]['sepal-length'].count()\n",
        "  setosa_count_sw=train_median.loc[(train_median['species']=='Iris-setosa')& (train_median['sepal-width']==1)]['sepal-width'].count()\n",
        "  setosa_count_pl=train_median.loc[(train_median['species']=='Iris-setosa')& (train_median['petal-length']==1)]['petal-length'].count()\n",
        "  setosa_count_pw=train_median.loc[(train_median['species']=='Iris-setosa')& (train_median['petal-width']==1)]['petal-width'].count()\n",
        "  print(\"sepal length count:\", setosa_count_sl,\n",
        "         \"\\nsepal width count:\", setosa_count_sw,\n",
        "         \"\\npetal length count:\", setosa_count_pl,\n",
        "         \"\\npetal width count:\", setosa_count_pw)\n",
        "  #step3\n",
        "  #Calculating the proportion of all iris setosa per column that are above the median (>1) (count of setosa from step2 / total count of iris setosa from step1)\n",
        "  proportion_setosa_sl=setosa_count_sl/train_species_count\n",
        "  proportion_setosa_sw=setosa_count_sw/train_species_count\n",
        "  proportion_setosa_pl=setosa_count_pl/train_species_count\n",
        "  proportion_setosa_pw=setosa_count_pw/train_species_count\n",
        "  print(\"setosa proportion with sepal legth > median:\", round(proportion_setosa_sl,2),\n",
        "        \"\\nsetosa proportion with sepal width > median:\", round(proportion_setosa_sw,2),\n",
        "        \"\\nsetosa proportion with petal legth > median:\", round(proportion_setosa_pl,2),\n",
        "        \"\\nsetosa proportion with petal width > median:\", round(proportion_setosa_pw,2))\n",
        "  \n",
        "  #step4 - below the median\n",
        "  #Counting all iris virignica per column with values below the median\n",
        "  setosa2_count_sl=train_median.loc[(train_median['species']=='Iris-setosa')& (train_median['sepal-length']==0)]['sepal-length'].count()\n",
        "  setosa2_count_sw=train_median.loc[(train_median['species']=='Iris-setosa')& (train_median['sepal-width']==0)]['sepal-width'].count()\n",
        "  setosa2_count_pl=train_median.loc[(train_median['species']=='Iris-setosa')& (train_median['petal-length']==0)]['petal-length'].count()\n",
        "  setosa2_count_pw=train_median.loc[(train_median['species']=='Iris-setosa')& (train_median['petal-width']==0)]['petal-width'].count()\n",
        "  print(\"sepal length count:\", setosa2_count_sl,\n",
        "         \"\\nsepal width count:\", setosa2_count_sw,\n",
        "         \"\\npetal length count:\", setosa2_count_pl,\n",
        "         \"\\npetal width count:\", setosa2_count_pw)\n",
        "\n",
        "  #step5 - below the median\n",
        "  #Calculating the proportion of all iris setosa per column that are below the median (<1) (count of setosa from step2 / total count of iris setosa from step1)\n",
        "  proportion_setosa2_sl=setosa2_count_sl/train_species_count\n",
        "  proportion_setosa2_sw=setosa2_count_sw/train_species_count\n",
        "  proportion_setosa2_pl=setosa2_count_pl/train_species_count\n",
        "  proportion_setosa2_pw=setosa2_count_pw/train_species_count\n",
        "  print(\"setosa proportion with sepal legth < median:\", round(proportion_setosa2_sl,2),\n",
        "        \"\\nsetosa proportion with sepal width < median:\", round(proportion_setosa2_sw,2),\n",
        "        \"\\nsetosa proportion with petal legth < median:\", round(proportion_setosa2_pl,2),\n",
        "        \"\\nsetosa proportion with petal width < median:\", round(proportion_setosa2_pw,2))\n",
        "  \n",
        "setosa_median_proportion()"
      ],
      "metadata": {
        "colab": {
          "base_uri": "https://localhost:8080/"
        },
        "id": "YFPKy4piCOqv",
        "outputId": "3d730c04-9fbe-4074-f720-739c886d79f5"
      },
      "execution_count": 105,
      "outputs": [
        {
          "output_type": "stream",
          "name": "stdout",
          "text": [
            "setosa count:  36\n",
            "sepal length count: 0 \n",
            "sepal width count: 29 \n",
            "petal length count: 0 \n",
            "petal width count: 0\n",
            "setosa proportion with sepal legth > median: 0.0 \n",
            "setosa proportion with sepal width > median: 0.81 \n",
            "setosa proportion with petal legth > median: 0.0 \n",
            "setosa proportion with petal width > median: 0.0\n",
            "sepal length count: 36 \n",
            "sepal width count: 7 \n",
            "petal length count: 36 \n",
            "petal width count: 36\n",
            "setosa proportion with sepal legth < median: 1.0 \n",
            "setosa proportion with sepal width < median: 0.19 \n",
            "setosa proportion with petal legth < median: 1.0 \n",
            "setosa proportion with petal width < median: 1.0\n"
          ]
        }
      ]
    },
    {
      "cell_type": "markdown",
      "source": [
        "###Distribution of petal mean values for virginica, setosa and versicolor."
      ],
      "metadata": {
        "id": "KjytnYhQUNIr"
      }
    },
    {
      "cell_type": "code",
      "metadata": {
        "id": "-hpupKkeezXP",
        "colab": {
          "base_uri": "https://localhost:8080/",
          "height": 499
        },
        "outputId": "6a79491f-24a0-4b2f-bf37-7fadf567075c"
      },
      "source": [
        "## this type of plot will show the distribution on a chart using mean. The line crossing the chart is defined by the geom_vline part of the code.\n",
        "from plotnine import *\n",
        "ggplot(train, aes(x='petal-length', y='petal-width', color='species')) + geom_point() + geom_vline(train, aes(xintercept=train['petal-length'].mean(), color='species')) + geom_hline(train, aes(yintercept=train['petal-length'].mean(), color='species'))"
      ],
      "execution_count": 106,
      "outputs": [
        {
          "output_type": "stream",
          "name": "stderr",
          "text": [
            "/usr/local/lib/python3.7/dist-packages/plotnine/utils.py:1246: FutureWarning: is_categorical is deprecated and will be removed in a future version.  Use is_categorical_dtype instead\n",
            "  if pdtypes.is_categorical(arr):\n"
          ]
        },
        {
          "output_type": "display_data",
          "data": {
            "text/plain": [
              "<Figure size 640x480 with 1 Axes>"
            ],
            "image/png": "[encoded data removed]"
          },
          "metadata": {}
        },
        {
          "output_type": "execute_result",
          "data": {
            "text/plain": [
              "<ggplot: (8760456740777)>"
            ]
          },
          "metadata": {},
          "execution_count": 106
        }
      ]
    },
    {
      "cell_type": "markdown",
      "source": [
        "###Distribution of petal median values for virginica, setosa and versicolor."
      ],
      "metadata": {
        "id": "VLyni4ayUHbj"
      }
    },
    {
      "cell_type": "code",
      "source": [
        "## this type of plot will show the median distribution on a chart.\n",
        "from plotnine import *\n",
        "ggplot(train, aes(x='petal-length', y='petal-width', color='species')) + geom_point() + geom_vline(train, aes(xintercept=train['petal-length'].median(), color='species')) + geom_hline(train, aes(yintercept=train['petal-length'].median(), color='species'))"
      ],
      "metadata": {
        "colab": {
          "base_uri": "https://localhost:8080/",
          "height": 499
        },
        "id": "4KVxU_Q5QFSy",
        "outputId": "9541343f-df0e-4b25-90f3-0cef71f29750"
      },
      "execution_count": 107,
      "outputs": [
        {
          "output_type": "stream",
          "name": "stderr",
          "text": [
            "/usr/local/lib/python3.7/dist-packages/plotnine/utils.py:1246: FutureWarning: is_categorical is deprecated and will be removed in a future version.  Use is_categorical_dtype instead\n",
            "  if pdtypes.is_categorical(arr):\n"
          ]
        },
        {
          "output_type": "display_data",
          "data": {
            "text/plain": [
              "<Figure size 640x480 with 1 Axes>"
            ],
            "image/png": "[encoded data removed]"
          },
          "metadata": {}
        },
        {
          "output_type": "execute_result",
          "data": {
            "text/plain": [
              "<ggplot: (8760456699597)>"
            ]
          },
          "metadata": {},
          "execution_count": 107
        }
      ]
    },
    {
      "cell_type": "markdown",
      "source": [
        "###Distribution of sepal mean values for virginica, setosa and versicolor."
      ],
      "metadata": {
        "id": "SvBkclaYhdA6"
      }
    },
    {
      "cell_type": "code",
      "source": [
        "## this type of plot will show the distribution on a chart using mean. The line crossing the chart is defined by the geom_vline part of the code.\n",
        "from plotnine import *\n",
        "ggplot(train, aes(x='sepal-length', y='sepal-width', color='species')) + geom_point() + geom_vline(train, aes(xintercept=train['sepal-length'].mean(), color='species')) + geom_hline(train, aes(yintercept=train['sepal-length'].mean(), color='species'))"
      ],
      "metadata": {
        "colab": {
          "base_uri": "https://localhost:8080/",
          "height": 503
        },
        "id": "Gd0GTqX6hKHo",
        "outputId": "72f281ed-778a-4b66-de19-39bedaa356b7"
      },
      "execution_count": 108,
      "outputs": [
        {
          "output_type": "stream",
          "name": "stderr",
          "text": [
            "/usr/local/lib/python3.7/dist-packages/plotnine/utils.py:1246: FutureWarning: is_categorical is deprecated and will be removed in a future version.  Use is_categorical_dtype instead\n",
            "  if pdtypes.is_categorical(arr):\n"
          ]
        },
        {
          "output_type": "display_data",
          "data": {
            "text/plain": [
              "<Figure size 640x480 with 1 Axes>"
            ],
            "image/png": "[encoded data removed]"
          },
          "metadata": {}
        },
        {
          "output_type": "execute_result",
          "data": {
            "text/plain": [
              "<ggplot: (8760456723141)>"
            ]
          },
          "metadata": {},
          "execution_count": 108
        }
      ]
    },
    {
      "cell_type": "markdown",
      "source": [
        "###Distribution of sepal median values for virginica, setosa and versicolor."
      ],
      "metadata": {
        "id": "-_6dDncdhqnA"
      }
    },
    {
      "cell_type": "code",
      "source": [
        "## this type of plot will show the distribution on a chart using median. The line crossing the chart is defined by the geom_vline part of the code.\n",
        "from plotnine import *\n",
        "ggplot(train, aes(x='sepal-length', y='sepal-width', color='species')) + geom_point() + geom_vline(train, aes(xintercept=train['sepal-length'].median(), color='species')) + geom_hline(train, aes(yintercept=train['sepal-length'].median(), color='species'))"
      ],
      "metadata": {
        "colab": {
          "base_uri": "https://localhost:8080/",
          "height": 499
        },
        "id": "Xg8rZVCxhvWp",
        "outputId": "2074bcd7-31ee-4529-d716-a061528e2c05"
      },
      "execution_count": 109,
      "outputs": [
        {
          "output_type": "stream",
          "name": "stderr",
          "text": [
            "/usr/local/lib/python3.7/dist-packages/plotnine/utils.py:1246: FutureWarning: is_categorical is deprecated and will be removed in a future version.  Use is_categorical_dtype instead\n",
            "  if pdtypes.is_categorical(arr):\n"
          ]
        },
        {
          "output_type": "display_data",
          "data": {
            "text/plain": [
              "<Figure size 640x480 with 1 Axes>"
            ],
            "image/png": "[encoded data removed]"
          },
          "metadata": {}
        },
        {
          "output_type": "execute_result",
          "data": {
            "text/plain": [
              "<ggplot: (8760483743829)>"
            ]
          },
          "metadata": {},
          "execution_count": 109
        }
      ]
    },
    {
      "cell_type": "markdown",
      "source": [
        "###Reflection:\n",
        "\n",
        "The skills practised for this project were grouping and splitting parts of a column for analysis, adding headings to columns as the original dataframe didn't have any, producing a decision tree on the basis of calculations of metrics like the mean value, including ggplot visualisation with a plotnine (which is an implementation of a grammar of graphics in Python, it is based on ggplot2. The grammar allows users to compose plots by explicitly mapping data to the visual objects that make up the plot).\n",
        "\n",
        "Overall the decision-tree project was challenging in terms of specifying the target hypothesis and process of calculating, excluding/including parameters and making a prediction decision tree as the end result of the data analysis."
      ],
      "metadata": {
        "id": "WvU4__hoWrt9"
      }
    }
  ]
}