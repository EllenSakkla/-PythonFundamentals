{
  "nbformat": 4,
  "nbformat_minor": 0,
  "metadata": {
    "colab": {
      "name": "Decision-Tree-coded-model.ipynb",
      "provenance": [],
      "collapsed_sections": [],
      "include_colab_link": true
    },
    "kernelspec": {
      "display_name": "Python 3",
      "language": "python",
      "name": "python3"
    },
    "language_info": {
      "codemirror_mode": {
        "name": "ipython",
        "version": 3
      },
      "file_extension": ".py",
      "mimetype": "text/x-python",
      "name": "python",
      "nbconvert_exporter": "python",
      "pygments_lexer": "ipython3",
      "version": "3.8.5"
    }
  },
  "cells": [
    {
      "cell_type": "markdown",
      "metadata": {
        "id": "view-in-github",
        "colab_type": "text"
      },
      "source": [
        "<a href=\"https://colab.research.google.com/github/EllenSakkla/Python/blob/main/projects/Decision_Tree_coded_model.ipynb\" target=\"_parent\"><img src=\"https://colab.research.google.com/assets/colab-badge.svg\" alt=\"Open In Colab\"/></a>"
      ]
    },
    {
      "cell_type": "markdown",
      "metadata": {
        "id": "9HyLZK84N75s"
      },
      "source": [
        "# Coding a decision tree\n",
        "---\n",
        "\n",
        "The focus of this project is a **data set**, using the idea of a **decision tree class**.  The model is simplified with Python code to make a simple decision tree classification model.  This is done for two reasons:\n",
        "*   writing the code is often good for helping to understand what is going on under the bonnet of a library function\n",
        "*   it is a good coding exercise for practice as it mostly depends on calculations and if..elif..else statements.\n",
        "\n",
        "This project involves coding a decision tree which will use the calculated probabilities to make decisions about whether a row of given data would be classified as **Iris-virginica**, or not, based on sepal and petal dimensions.  It is easier to classify between two values (Iris-virginica or not - the other two types being 'Iris-setosa' and 'Iris-versicolor').  Later, using this information, species can be further predicted by probabilities of error.\n",
        "\n",
        "![Iris-petals and sepals](https://www.math.umd.edu/~petersd/666/html/iris_with_labels.jpg)\n",
        "\n",
        "The workflow is:\n",
        "*  divide the data set into 70% of the rows for training and 30% for testing  (we can increase the size of the training set later)\n",
        "*  find the mean for each of the 4 size columns\n",
        "*  calculate the proportion of each column that are on or above mean that are of a species (ie proportion of petal-lengths on or above mean that are Iris-virginica)\n",
        "*  infer the proportion of each that are not of that species (using 1 - proportion above).  In both cases we are looking to find if either of these is 1, which could be infered as definitely not that species. \n",
        "*  calculate a Gini Index that will indicate the probability that a prediction will be incorrect\n",
        "*  use the results of the Gini Index to model a decision tree\n",
        "*  code the decision tree model into a function that will return whether or not a row in the test set is predicted to be of species Iris-virginica\n",
        "*  use the decision tree function to predict, for each row in the test set, if the species will be Iris-virginicia or not, using a set of nested if statements to classify\n",
        "*  compare the predicted values against the actual values in the test set - what proportion were predicted correctly?\n"
      ]
    },
    {
      "cell_type": "markdown",
      "metadata": {
        "id": "4iR8g8h_Ol0j"
      },
      "source": [
        "### Exercise 1 - investigate the iris data set\n",
        "---\n",
        "Let's start by looking at the data.  We are going to use a data set that contains data on iris flowers.\n",
        "\n",
        "Read the data at this location: https://raw.githubusercontent.com/jbrownlee/Datasets/master/iris.csv into a dataframe called iris_data\n",
        "\n",
        "The columns in the CSV file do not have headings, when you read the file, add column headings like this:\n",
        "```\n",
        "url = \"https://raw.githubusercontent.com/jbrownlee/Datasets/master/iris.csv\"\n",
        "names = ['sepal-length', 'sepal-width', 'petal-length', 'petal-width', 'species']\n",
        "iris_data = pd.read_csv(url, name=names)\n",
        "```\n",
        "*  Take a look at the column info (how many columns, what type of data, any missing data?)\n",
        "*  Take a look at the data values in the first 10 and the last 10 records to get an idea of the type of values included\n",
        "*  Find out how many unique values there are in the species column\n",
        "*  Find out the maximum, minimum, mean, median and upper and lower quartile values in each of the columns\n"
      ]
    },
    {
      "cell_type": "code",
      "metadata": {
        "id": "eGZuOLPYPgL5",
        "colab": {
          "base_uri": "https://localhost:8080/",
          "height": 424
        },
        "outputId": "fb359892-040b-4a7b-82fa-501efcbdf558"
      },
      "source": [
        "import pandas as pd\n",
        "import numpy as np\n",
        "\n",
        "url = \"https://raw.githubusercontent.com/jbrownlee/Datasets/master/iris.csv\"\n",
        "names = ['sepal-length', 'sepal-width', 'petal-length', 'petal-width', 'species']\n",
        "iris_data = pd.read_csv(url, names=names)\n",
        "\n",
        "iris_data\n",
        "#iris_data.info() #can't run both display requests at the same time"
      ],
      "execution_count": 32,
      "outputs": [
        {
          "output_type": "execute_result",
          "data": {
            "text/plain": [
              "     sepal-length  sepal-width  petal-length  petal-width         species\n",
              "0             5.1          3.5           1.4          0.2     Iris-setosa\n",
              "1             4.9          3.0           1.4          0.2     Iris-setosa\n",
              "2             4.7          3.2           1.3          0.2     Iris-setosa\n",
              "3             4.6          3.1           1.5          0.2     Iris-setosa\n",
              "4             5.0          3.6           1.4          0.2     Iris-setosa\n",
              "..            ...          ...           ...          ...             ...\n",
              "145           6.7          3.0           5.2          2.3  Iris-virginica\n",
              "146           6.3          2.5           5.0          1.9  Iris-virginica\n",
              "147           6.5          3.0           5.2          2.0  Iris-virginica\n",
              "148           6.2          3.4           5.4          2.3  Iris-virginica\n",
              "149           5.9          3.0           5.1          1.8  Iris-virginica\n",
              "\n",
              "[150 rows x 5 columns]"
            ],
            "text/html": [
              "\n",
              "  <div id=\"df-f6873f76-a9c8-4229-b410-4191bdfba7ac\">\n",
              "    <div class=\"colab-df-container\">\n",
              "      <div>\n",
              "<style scoped>\n",
              "    .dataframe tbody tr th:only-of-type {\n",
              "        vertical-align: middle;\n",
              "    }\n",
              "\n",
              "    .dataframe tbody tr th {\n",
              "        vertical-align: top;\n",
              "    }\n",
              "\n",
              "    .dataframe thead th {\n",
              "        text-align: right;\n",
              "    }\n",
              "</style>\n",
              "<table border=\"1\" class=\"dataframe\">\n",
              "  <thead>\n",
              "    <tr style=\"text-align: right;\">\n",
              "      <th></th>\n",
              "      <th>sepal-length</th>\n",
              "      <th>sepal-width</th>\n",
              "      <th>petal-length</th>\n",
              "      <th>petal-width</th>\n",
              "      <th>species</th>\n",
              "    </tr>\n",
              "  </thead>\n",
              "  <tbody>\n",
              "    <tr>\n",
              "      <th>0</th>\n",
              "      <td>5.1</td>\n",
              "      <td>3.5</td>\n",
              "      <td>1.4</td>\n",
              "      <td>0.2</td>\n",
              "      <td>Iris-setosa</td>\n",
              "    </tr>\n",
              "    <tr>\n",
              "      <th>1</th>\n",
              "      <td>4.9</td>\n",
              "      <td>3.0</td>\n",
              "      <td>1.4</td>\n",
              "      <td>0.2</td>\n",
              "      <td>Iris-setosa</td>\n",
              "    </tr>\n",
              "    <tr>\n",
              "      <th>2</th>\n",
              "      <td>4.7</td>\n",
              "      <td>3.2</td>\n",
              "      <td>1.3</td>\n",
              "      <td>0.2</td>\n",
              "      <td>Iris-setosa</td>\n",
              "    </tr>\n",
              "    <tr>\n",
              "      <th>3</th>\n",
              "      <td>4.6</td>\n",
              "      <td>3.1</td>\n",
              "      <td>1.5</td>\n",
              "      <td>0.2</td>\n",
              "      <td>Iris-setosa</td>\n",
              "    </tr>\n",
              "    <tr>\n",
              "      <th>4</th>\n",
              "      <td>5.0</td>\n",
              "      <td>3.6</td>\n",
              "      <td>1.4</td>\n",
              "      <td>0.2</td>\n",
              "      <td>Iris-setosa</td>\n",
              "    </tr>\n",
              "    <tr>\n",
              "      <th>...</th>\n",
              "      <td>...</td>\n",
              "      <td>...</td>\n",
              "      <td>...</td>\n",
              "      <td>...</td>\n",
              "      <td>...</td>\n",
              "    </tr>\n",
              "    <tr>\n",
              "      <th>145</th>\n",
              "      <td>6.7</td>\n",
              "      <td>3.0</td>\n",
              "      <td>5.2</td>\n",
              "      <td>2.3</td>\n",
              "      <td>Iris-virginica</td>\n",
              "    </tr>\n",
              "    <tr>\n",
              "      <th>146</th>\n",
              "      <td>6.3</td>\n",
              "      <td>2.5</td>\n",
              "      <td>5.0</td>\n",
              "      <td>1.9</td>\n",
              "      <td>Iris-virginica</td>\n",
              "    </tr>\n",
              "    <tr>\n",
              "      <th>147</th>\n",
              "      <td>6.5</td>\n",
              "      <td>3.0</td>\n",
              "      <td>5.2</td>\n",
              "      <td>2.0</td>\n",
              "      <td>Iris-virginica</td>\n",
              "    </tr>\n",
              "    <tr>\n",
              "      <th>148</th>\n",
              "      <td>6.2</td>\n",
              "      <td>3.4</td>\n",
              "      <td>5.4</td>\n",
              "      <td>2.3</td>\n",
              "      <td>Iris-virginica</td>\n",
              "    </tr>\n",
              "    <tr>\n",
              "      <th>149</th>\n",
              "      <td>5.9</td>\n",
              "      <td>3.0</td>\n",
              "      <td>5.1</td>\n",
              "      <td>1.8</td>\n",
              "      <td>Iris-virginica</td>\n",
              "    </tr>\n",
              "  </tbody>\n",
              "</table>\n",
              "<p>150 rows × 5 columns</p>\n",
              "</div>\n",
              "      <button class=\"colab-df-convert\" onclick=\"convertToInteractive('df-f6873f76-a9c8-4229-b410-4191bdfba7ac')\"\n",
              "              title=\"Convert this dataframe to an interactive table.\"\n",
              "              style=\"display:none;\">\n",
              "        \n",
              "  <svg xmlns=\"http://www.w3.org/2000/svg\" height=\"24px\"viewBox=\"0 0 24 24\"\n",
              "       width=\"24px\">\n",
              "    <path d=\"M0 0h24v24H0V0z\" fill=\"none\"/>\n",
              "    <path d=\"M18.56 5.44l.94 2.06.94-2.06 2.06-.94-2.06-.94-.94-2.06-.94 2.06-2.06.94zm-11 1L8.5 8.5l.94-2.06 2.06-.94-2.06-.94L8.5 2.5l-.94 2.06-2.06.94zm10 10l.94 2.06.94-2.06 2.06-.94-2.06-.94-.94-2.06-.94 2.06-2.06.94z\"/><path d=\"M17.41 7.96l-1.37-1.37c-.4-.4-.92-.59-1.43-.59-.52 0-1.04.2-1.43.59L10.3 9.45l-7.72 7.72c-.78.78-.78 2.05 0 2.83L4 21.41c.39.39.9.59 1.41.59.51 0 1.02-.2 1.41-.59l7.78-7.78 2.81-2.81c.8-.78.8-2.07 0-2.86zM5.41 20L4 18.59l7.72-7.72 1.47 1.35L5.41 20z\"/>\n",
              "  </svg>\n",
              "      </button>\n",
              "      \n",
              "  <style>\n",
              "    .colab-df-container {\n",
              "      display:flex;\n",
              "      flex-wrap:wrap;\n",
              "      gap: 12px;\n",
              "    }\n",
              "\n",
              "    .colab-df-convert {\n",
              "      background-color: #E8F0FE;\n",
              "      border: none;\n",
              "      border-radius: 50%;\n",
              "      cursor: pointer;\n",
              "      display: none;\n",
              "      fill: #1967D2;\n",
              "      height: 32px;\n",
              "      padding: 0 0 0 0;\n",
              "      width: 32px;\n",
              "    }\n",
              "\n",
              "    .colab-df-convert:hover {\n",
              "      background-color: #E2EBFA;\n",
              "      box-shadow: 0px 1px 2px rgba(60, 64, 67, 0.3), 0px 1px 3px 1px rgba(60, 64, 67, 0.15);\n",
              "      fill: #174EA6;\n",
              "    }\n",
              "\n",
              "    [theme=dark] .colab-df-convert {\n",
              "      background-color: #3B4455;\n",
              "      fill: #D2E3FC;\n",
              "    }\n",
              "\n",
              "    [theme=dark] .colab-df-convert:hover {\n",
              "      background-color: #434B5C;\n",
              "      box-shadow: 0px 1px 3px 1px rgba(0, 0, 0, 0.15);\n",
              "      filter: drop-shadow(0px 1px 2px rgba(0, 0, 0, 0.3));\n",
              "      fill: #FFFFFF;\n",
              "    }\n",
              "  </style>\n",
              "\n",
              "      <script>\n",
              "        const buttonEl =\n",
              "          document.querySelector('#df-f6873f76-a9c8-4229-b410-4191bdfba7ac button.colab-df-convert');\n",
              "        buttonEl.style.display =\n",
              "          google.colab.kernel.accessAllowed ? 'block' : 'none';\n",
              "\n",
              "        async function convertToInteractive(key) {\n",
              "          const element = document.querySelector('#df-f6873f76-a9c8-4229-b410-4191bdfba7ac');\n",
              "          const dataTable =\n",
              "            await google.colab.kernel.invokeFunction('convertToInteractive',\n",
              "                                                     [key], {});\n",
              "          if (!dataTable) return;\n",
              "\n",
              "          const docLinkHtml = 'Like what you see? Visit the ' +\n",
              "            '<a target=\"_blank\" href=https://colab.research.google.com/notebooks/data_table.ipynb>data table notebook</a>'\n",
              "            + ' to learn more about interactive tables.';\n",
              "          element.innerHTML = '';\n",
              "          dataTable['output_type'] = 'display_data';\n",
              "          await google.colab.output.renderOutput(dataTable, element);\n",
              "          const docLink = document.createElement('div');\n",
              "          docLink.innerHTML = docLinkHtml;\n",
              "          element.appendChild(docLink);\n",
              "        }\n",
              "      </script>\n",
              "    </div>\n",
              "  </div>\n",
              "  "
            ]
          },
          "metadata": {},
          "execution_count": 32
        }
      ]
    },
    {
      "cell_type": "markdown",
      "source": [
        "The initial review of the data set shows that we have 150 rows and 5 columns in total, 4 containing numerical values for sepal/petal width and length and the 5th containing the names of the species."
      ],
      "metadata": {
        "id": "beOCIpD3nJ_i"
      }
    },
    {
      "cell_type": "code",
      "source": [
        "#To view the first or last few records of a dataframe, we can use the methods head and tail\n",
        "# first_ten = iris_data[:10]\n",
        "# first_ten\n",
        "# last_ten = iris_data[-10:]\n",
        "# last_ten\n",
        "\n",
        "iris_data.head() #displaying the top 5 rows of the dataframe"
      ],
      "metadata": {
        "colab": {
          "base_uri": "https://localhost:8080/",
          "height": 206
        },
        "id": "-HHrfl92lGsR",
        "outputId": "0c16c69c-88ee-4790-8e4d-659f6504af8e"
      },
      "execution_count": 33,
      "outputs": [
        {
          "output_type": "execute_result",
          "data": {
            "text/plain": [
              "   sepal-length  sepal-width  petal-length  petal-width      species\n",
              "0           5.1          3.5           1.4          0.2  Iris-setosa\n",
              "1           4.9          3.0           1.4          0.2  Iris-setosa\n",
              "2           4.7          3.2           1.3          0.2  Iris-setosa\n",
              "3           4.6          3.1           1.5          0.2  Iris-setosa\n",
              "4           5.0          3.6           1.4          0.2  Iris-setosa"
            ],
            "text/html": [
              "\n",
              "  <div id=\"df-41d2b678-d0c7-468f-9a24-e0fd159bd054\">\n",
              "    <div class=\"colab-df-container\">\n",
              "      <div>\n",
              "<style scoped>\n",
              "    .dataframe tbody tr th:only-of-type {\n",
              "        vertical-align: middle;\n",
              "    }\n",
              "\n",
              "    .dataframe tbody tr th {\n",
              "        vertical-align: top;\n",
              "    }\n",
              "\n",
              "    .dataframe thead th {\n",
              "        text-align: right;\n",
              "    }\n",
              "</style>\n",
              "<table border=\"1\" class=\"dataframe\">\n",
              "  <thead>\n",
              "    <tr style=\"text-align: right;\">\n",
              "      <th></th>\n",
              "      <th>sepal-length</th>\n",
              "      <th>sepal-width</th>\n",
              "      <th>petal-length</th>\n",
              "      <th>petal-width</th>\n",
              "      <th>species</th>\n",
              "    </tr>\n",
              "  </thead>\n",
              "  <tbody>\n",
              "    <tr>\n",
              "      <th>0</th>\n",
              "      <td>5.1</td>\n",
              "      <td>3.5</td>\n",
              "      <td>1.4</td>\n",
              "      <td>0.2</td>\n",
              "      <td>Iris-setosa</td>\n",
              "    </tr>\n",
              "    <tr>\n",
              "      <th>1</th>\n",
              "      <td>4.9</td>\n",
              "      <td>3.0</td>\n",
              "      <td>1.4</td>\n",
              "      <td>0.2</td>\n",
              "      <td>Iris-setosa</td>\n",
              "    </tr>\n",
              "    <tr>\n",
              "      <th>2</th>\n",
              "      <td>4.7</td>\n",
              "      <td>3.2</td>\n",
              "      <td>1.3</td>\n",
              "      <td>0.2</td>\n",
              "      <td>Iris-setosa</td>\n",
              "    </tr>\n",
              "    <tr>\n",
              "      <th>3</th>\n",
              "      <td>4.6</td>\n",
              "      <td>3.1</td>\n",
              "      <td>1.5</td>\n",
              "      <td>0.2</td>\n",
              "      <td>Iris-setosa</td>\n",
              "    </tr>\n",
              "    <tr>\n",
              "      <th>4</th>\n",
              "      <td>5.0</td>\n",
              "      <td>3.6</td>\n",
              "      <td>1.4</td>\n",
              "      <td>0.2</td>\n",
              "      <td>Iris-setosa</td>\n",
              "    </tr>\n",
              "  </tbody>\n",
              "</table>\n",
              "</div>\n",
              "      <button class=\"colab-df-convert\" onclick=\"convertToInteractive('df-41d2b678-d0c7-468f-9a24-e0fd159bd054')\"\n",
              "              title=\"Convert this dataframe to an interactive table.\"\n",
              "              style=\"display:none;\">\n",
              "        \n",
              "  <svg xmlns=\"http://www.w3.org/2000/svg\" height=\"24px\"viewBox=\"0 0 24 24\"\n",
              "       width=\"24px\">\n",
              "    <path d=\"M0 0h24v24H0V0z\" fill=\"none\"/>\n",
              "    <path d=\"M18.56 5.44l.94 2.06.94-2.06 2.06-.94-2.06-.94-.94-2.06-.94 2.06-2.06.94zm-11 1L8.5 8.5l.94-2.06 2.06-.94-2.06-.94L8.5 2.5l-.94 2.06-2.06.94zm10 10l.94 2.06.94-2.06 2.06-.94-2.06-.94-.94-2.06-.94 2.06-2.06.94z\"/><path d=\"M17.41 7.96l-1.37-1.37c-.4-.4-.92-.59-1.43-.59-.52 0-1.04.2-1.43.59L10.3 9.45l-7.72 7.72c-.78.78-.78 2.05 0 2.83L4 21.41c.39.39.9.59 1.41.59.51 0 1.02-.2 1.41-.59l7.78-7.78 2.81-2.81c.8-.78.8-2.07 0-2.86zM5.41 20L4 18.59l7.72-7.72 1.47 1.35L5.41 20z\"/>\n",
              "  </svg>\n",
              "      </button>\n",
              "      \n",
              "  <style>\n",
              "    .colab-df-container {\n",
              "      display:flex;\n",
              "      flex-wrap:wrap;\n",
              "      gap: 12px;\n",
              "    }\n",
              "\n",
              "    .colab-df-convert {\n",
              "      background-color: #E8F0FE;\n",
              "      border: none;\n",
              "      border-radius: 50%;\n",
              "      cursor: pointer;\n",
              "      display: none;\n",
              "      fill: #1967D2;\n",
              "      height: 32px;\n",
              "      padding: 0 0 0 0;\n",
              "      width: 32px;\n",
              "    }\n",
              "\n",
              "    .colab-df-convert:hover {\n",
              "      background-color: #E2EBFA;\n",
              "      box-shadow: 0px 1px 2px rgba(60, 64, 67, 0.3), 0px 1px 3px 1px rgba(60, 64, 67, 0.15);\n",
              "      fill: #174EA6;\n",
              "    }\n",
              "\n",
              "    [theme=dark] .colab-df-convert {\n",
              "      background-color: #3B4455;\n",
              "      fill: #D2E3FC;\n",
              "    }\n",
              "\n",
              "    [theme=dark] .colab-df-convert:hover {\n",
              "      background-color: #434B5C;\n",
              "      box-shadow: 0px 1px 3px 1px rgba(0, 0, 0, 0.15);\n",
              "      filter: drop-shadow(0px 1px 2px rgba(0, 0, 0, 0.3));\n",
              "      fill: #FFFFFF;\n",
              "    }\n",
              "  </style>\n",
              "\n",
              "      <script>\n",
              "        const buttonEl =\n",
              "          document.querySelector('#df-41d2b678-d0c7-468f-9a24-e0fd159bd054 button.colab-df-convert');\n",
              "        buttonEl.style.display =\n",
              "          google.colab.kernel.accessAllowed ? 'block' : 'none';\n",
              "\n",
              "        async function convertToInteractive(key) {\n",
              "          const element = document.querySelector('#df-41d2b678-d0c7-468f-9a24-e0fd159bd054');\n",
              "          const dataTable =\n",
              "            await google.colab.kernel.invokeFunction('convertToInteractive',\n",
              "                                                     [key], {});\n",
              "          if (!dataTable) return;\n",
              "\n",
              "          const docLinkHtml = 'Like what you see? Visit the ' +\n",
              "            '<a target=\"_blank\" href=https://colab.research.google.com/notebooks/data_table.ipynb>data table notebook</a>'\n",
              "            + ' to learn more about interactive tables.';\n",
              "          element.innerHTML = '';\n",
              "          dataTable['output_type'] = 'display_data';\n",
              "          await google.colab.output.renderOutput(dataTable, element);\n",
              "          const docLink = document.createElement('div');\n",
              "          docLink.innerHTML = docLinkHtml;\n",
              "          element.appendChild(docLink);\n",
              "        }\n",
              "      </script>\n",
              "    </div>\n",
              "  </div>\n",
              "  "
            ]
          },
          "metadata": {},
          "execution_count": 33
        }
      ]
    },
    {
      "cell_type": "code",
      "source": [
        "#alternative\n",
        "iris_data.info()"
      ],
      "metadata": {
        "colab": {
          "base_uri": "https://localhost:8080/"
        },
        "id": "EH8TOzZFWCYb",
        "outputId": "7f4dc566-5f5c-4a64-afa0-a4bd6406bea3"
      },
      "execution_count": 34,
      "outputs": [
        {
          "output_type": "stream",
          "name": "stdout",
          "text": [
            "<class 'pandas.core.frame.DataFrame'>\n",
            "RangeIndex: 150 entries, 0 to 149\n",
            "Data columns (total 5 columns):\n",
            " #   Column        Non-Null Count  Dtype  \n",
            "---  ------        --------------  -----  \n",
            " 0   sepal-length  150 non-null    float64\n",
            " 1   sepal-width   150 non-null    float64\n",
            " 2   petal-length  150 non-null    float64\n",
            " 3   petal-width   150 non-null    float64\n",
            " 4   species       150 non-null    object \n",
            "dtypes: float64(4), object(1)\n",
            "memory usage: 6.0+ KB\n"
          ]
        }
      ]
    },
    {
      "cell_type": "code",
      "source": [
        "print(iris_data)\n",
        "column_values = iris_data[[\"species\"]].values\n",
        "# print(column_values) #will print the whole column 'species'\n",
        "\n",
        "#Indentifying and printing the unique types of iris flowers found in the database\n",
        "unique_values = np.unique(column_values)\n",
        "print(\"The types of iris flower species found in the dataframe are:\", unique_values)"
      ],
      "metadata": {
        "colab": {
          "base_uri": "https://localhost:8080/"
        },
        "id": "Dma9ls_5bIvl",
        "outputId": "cae37f9e-a78f-4c4c-dc91-9f53842f4dd9"
      },
      "execution_count": 35,
      "outputs": [
        {
          "output_type": "stream",
          "name": "stdout",
          "text": [
            "     sepal-length  sepal-width  petal-length  petal-width         species\n",
            "0             5.1          3.5           1.4          0.2     Iris-setosa\n",
            "1             4.9          3.0           1.4          0.2     Iris-setosa\n",
            "2             4.7          3.2           1.3          0.2     Iris-setosa\n",
            "3             4.6          3.1           1.5          0.2     Iris-setosa\n",
            "4             5.0          3.6           1.4          0.2     Iris-setosa\n",
            "..            ...          ...           ...          ...             ...\n",
            "145           6.7          3.0           5.2          2.3  Iris-virginica\n",
            "146           6.3          2.5           5.0          1.9  Iris-virginica\n",
            "147           6.5          3.0           5.2          2.0  Iris-virginica\n",
            "148           6.2          3.4           5.4          2.3  Iris-virginica\n",
            "149           5.9          3.0           5.1          1.8  Iris-virginica\n",
            "\n",
            "[150 rows x 5 columns]\n",
            "The types of iris flower species found in the dataframe are: ['Iris-setosa' 'Iris-versicolor' 'Iris-virginica']\n"
          ]
        }
      ]
    },
    {
      "cell_type": "code",
      "source": [
        "# Number of entries for each iris flower under the 'species' column\n",
        "iris_data['species'].value_counts() "
      ],
      "metadata": {
        "colab": {
          "base_uri": "https://localhost:8080/"
        },
        "id": "jWA8hiTUph6x",
        "outputId": "bf87e637-f6e7-49f1-b5db-f70eac418fa1"
      },
      "execution_count": 36,
      "outputs": [
        {
          "output_type": "execute_result",
          "data": {
            "text/plain": [
              "Iris-setosa        50\n",
              "Iris-versicolor    50\n",
              "Iris-virginica     50\n",
              "Name: species, dtype: int64"
            ]
          },
          "metadata": {},
          "execution_count": 36
        }
      ]
    },
    {
      "cell_type": "code",
      "source": [
        "columns = iris_data[[\"sepal-length\", \"sepal-width\", \"petal-length\", \"petal-width\", \"species\"]]\n",
        "max_value = columns.max()\n",
        "print(max_value)\n",
        "min_value = columns.min()\n",
        "print(min_value)"
      ],
      "metadata": {
        "colab": {
          "base_uri": "https://localhost:8080/"
        },
        "id": "UBGohv-Mb-YC",
        "outputId": "50a14607-8576-4040-c2fa-15a071041430"
      },
      "execution_count": 37,
      "outputs": [
        {
          "output_type": "stream",
          "name": "stdout",
          "text": [
            "sepal-length               7.9\n",
            "sepal-width                4.4\n",
            "petal-length               6.9\n",
            "petal-width                2.5\n",
            "species         Iris-virginica\n",
            "dtype: object\n",
            "sepal-length            4.3\n",
            "sepal-width             2.0\n",
            "petal-length            1.0\n",
            "petal-width             0.1\n",
            "species         Iris-setosa\n",
            "dtype: object\n"
          ]
        }
      ]
    },
    {
      "cell_type": "code",
      "source": [
        "# Additionally we can use the .describe() for a generic summary of important calculations which covers upper/lower quartiles\n",
        "iris_data[[\"sepal-length\", \"sepal-width\", \"petal-length\", \"petal-width\", \"species\"]].describe() "
      ],
      "metadata": {
        "colab": {
          "base_uri": "https://localhost:8080/",
          "height": 300
        },
        "id": "aOPLtF_ce0AW",
        "outputId": "6ec32e12-c218-451e-da51-9e0b22299187"
      },
      "execution_count": 38,
      "outputs": [
        {
          "output_type": "execute_result",
          "data": {
            "text/plain": [
              "       sepal-length  sepal-width  petal-length  petal-width\n",
              "count    150.000000   150.000000    150.000000   150.000000\n",
              "mean       5.843333     3.054000      3.758667     1.198667\n",
              "std        0.828066     0.433594      1.764420     0.763161\n",
              "min        4.300000     2.000000      1.000000     0.100000\n",
              "25%        5.100000     2.800000      1.600000     0.300000\n",
              "50%        5.800000     3.000000      4.350000     1.300000\n",
              "75%        6.400000     3.300000      5.100000     1.800000\n",
              "max        7.900000     4.400000      6.900000     2.500000"
            ],
            "text/html": [
              "\n",
              "  <div id=\"df-cd1fb233-a64e-4fd1-840a-ff005af031de\">\n",
              "    <div class=\"colab-df-container\">\n",
              "      <div>\n",
              "<style scoped>\n",
              "    .dataframe tbody tr th:only-of-type {\n",
              "        vertical-align: middle;\n",
              "    }\n",
              "\n",
              "    .dataframe tbody tr th {\n",
              "        vertical-align: top;\n",
              "    }\n",
              "\n",
              "    .dataframe thead th {\n",
              "        text-align: right;\n",
              "    }\n",
              "</style>\n",
              "<table border=\"1\" class=\"dataframe\">\n",
              "  <thead>\n",
              "    <tr style=\"text-align: right;\">\n",
              "      <th></th>\n",
              "      <th>sepal-length</th>\n",
              "      <th>sepal-width</th>\n",
              "      <th>petal-length</th>\n",
              "      <th>petal-width</th>\n",
              "    </tr>\n",
              "  </thead>\n",
              "  <tbody>\n",
              "    <tr>\n",
              "      <th>count</th>\n",
              "      <td>150.000000</td>\n",
              "      <td>150.000000</td>\n",
              "      <td>150.000000</td>\n",
              "      <td>150.000000</td>\n",
              "    </tr>\n",
              "    <tr>\n",
              "      <th>mean</th>\n",
              "      <td>5.843333</td>\n",
              "      <td>3.054000</td>\n",
              "      <td>3.758667</td>\n",
              "      <td>1.198667</td>\n",
              "    </tr>\n",
              "    <tr>\n",
              "      <th>std</th>\n",
              "      <td>0.828066</td>\n",
              "      <td>0.433594</td>\n",
              "      <td>1.764420</td>\n",
              "      <td>0.763161</td>\n",
              "    </tr>\n",
              "    <tr>\n",
              "      <th>min</th>\n",
              "      <td>4.300000</td>\n",
              "      <td>2.000000</td>\n",
              "      <td>1.000000</td>\n",
              "      <td>0.100000</td>\n",
              "    </tr>\n",
              "    <tr>\n",
              "      <th>25%</th>\n",
              "      <td>5.100000</td>\n",
              "      <td>2.800000</td>\n",
              "      <td>1.600000</td>\n",
              "      <td>0.300000</td>\n",
              "    </tr>\n",
              "    <tr>\n",
              "      <th>50%</th>\n",
              "      <td>5.800000</td>\n",
              "      <td>3.000000</td>\n",
              "      <td>4.350000</td>\n",
              "      <td>1.300000</td>\n",
              "    </tr>\n",
              "    <tr>\n",
              "      <th>75%</th>\n",
              "      <td>6.400000</td>\n",
              "      <td>3.300000</td>\n",
              "      <td>5.100000</td>\n",
              "      <td>1.800000</td>\n",
              "    </tr>\n",
              "    <tr>\n",
              "      <th>max</th>\n",
              "      <td>7.900000</td>\n",
              "      <td>4.400000</td>\n",
              "      <td>6.900000</td>\n",
              "      <td>2.500000</td>\n",
              "    </tr>\n",
              "  </tbody>\n",
              "</table>\n",
              "</div>\n",
              "      <button class=\"colab-df-convert\" onclick=\"convertToInteractive('df-cd1fb233-a64e-4fd1-840a-ff005af031de')\"\n",
              "              title=\"Convert this dataframe to an interactive table.\"\n",
              "              style=\"display:none;\">\n",
              "        \n",
              "  <svg xmlns=\"http://www.w3.org/2000/svg\" height=\"24px\"viewBox=\"0 0 24 24\"\n",
              "       width=\"24px\">\n",
              "    <path d=\"M0 0h24v24H0V0z\" fill=\"none\"/>\n",
              "    <path d=\"M18.56 5.44l.94 2.06.94-2.06 2.06-.94-2.06-.94-.94-2.06-.94 2.06-2.06.94zm-11 1L8.5 8.5l.94-2.06 2.06-.94-2.06-.94L8.5 2.5l-.94 2.06-2.06.94zm10 10l.94 2.06.94-2.06 2.06-.94-2.06-.94-.94-2.06-.94 2.06-2.06.94z\"/><path d=\"M17.41 7.96l-1.37-1.37c-.4-.4-.92-.59-1.43-.59-.52 0-1.04.2-1.43.59L10.3 9.45l-7.72 7.72c-.78.78-.78 2.05 0 2.83L4 21.41c.39.39.9.59 1.41.59.51 0 1.02-.2 1.41-.59l7.78-7.78 2.81-2.81c.8-.78.8-2.07 0-2.86zM5.41 20L4 18.59l7.72-7.72 1.47 1.35L5.41 20z\"/>\n",
              "  </svg>\n",
              "      </button>\n",
              "      \n",
              "  <style>\n",
              "    .colab-df-container {\n",
              "      display:flex;\n",
              "      flex-wrap:wrap;\n",
              "      gap: 12px;\n",
              "    }\n",
              "\n",
              "    .colab-df-convert {\n",
              "      background-color: #E8F0FE;\n",
              "      border: none;\n",
              "      border-radius: 50%;\n",
              "      cursor: pointer;\n",
              "      display: none;\n",
              "      fill: #1967D2;\n",
              "      height: 32px;\n",
              "      padding: 0 0 0 0;\n",
              "      width: 32px;\n",
              "    }\n",
              "\n",
              "    .colab-df-convert:hover {\n",
              "      background-color: #E2EBFA;\n",
              "      box-shadow: 0px 1px 2px rgba(60, 64, 67, 0.3), 0px 1px 3px 1px rgba(60, 64, 67, 0.15);\n",
              "      fill: #174EA6;\n",
              "    }\n",
              "\n",
              "    [theme=dark] .colab-df-convert {\n",
              "      background-color: #3B4455;\n",
              "      fill: #D2E3FC;\n",
              "    }\n",
              "\n",
              "    [theme=dark] .colab-df-convert:hover {\n",
              "      background-color: #434B5C;\n",
              "      box-shadow: 0px 1px 3px 1px rgba(0, 0, 0, 0.15);\n",
              "      filter: drop-shadow(0px 1px 2px rgba(0, 0, 0, 0.3));\n",
              "      fill: #FFFFFF;\n",
              "    }\n",
              "  </style>\n",
              "\n",
              "      <script>\n",
              "        const buttonEl =\n",
              "          document.querySelector('#df-cd1fb233-a64e-4fd1-840a-ff005af031de button.colab-df-convert');\n",
              "        buttonEl.style.display =\n",
              "          google.colab.kernel.accessAllowed ? 'block' : 'none';\n",
              "\n",
              "        async function convertToInteractive(key) {\n",
              "          const element = document.querySelector('#df-cd1fb233-a64e-4fd1-840a-ff005af031de');\n",
              "          const dataTable =\n",
              "            await google.colab.kernel.invokeFunction('convertToInteractive',\n",
              "                                                     [key], {});\n",
              "          if (!dataTable) return;\n",
              "\n",
              "          const docLinkHtml = 'Like what you see? Visit the ' +\n",
              "            '<a target=\"_blank\" href=https://colab.research.google.com/notebooks/data_table.ipynb>data table notebook</a>'\n",
              "            + ' to learn more about interactive tables.';\n",
              "          element.innerHTML = '';\n",
              "          dataTable['output_type'] = 'display_data';\n",
              "          await google.colab.output.renderOutput(dataTable, element);\n",
              "          const docLink = document.createElement('div');\n",
              "          docLink.innerHTML = docLinkHtml;\n",
              "          element.appendChild(docLink);\n",
              "        }\n",
              "      </script>\n",
              "    </div>\n",
              "  </div>\n",
              "  "
            ]
          },
          "metadata": {},
          "execution_count": 38
        }
      ]
    },
    {
      "cell_type": "code",
      "source": [
        "#Examining whether there are null values in the dataframe. It returns 'False' hence no empty spaces appear in the dataframe requiring cleaning.\n",
        "iris_data.isnull().values.any()"
      ],
      "metadata": {
        "colab": {
          "base_uri": "https://localhost:8080/"
        },
        "id": "WVp6Uu7bp3xr",
        "outputId": "da4f2b18-7355-437f-e11e-e3f3d76864d8"
      },
      "execution_count": 39,
      "outputs": [
        {
          "output_type": "execute_result",
          "data": {
            "text/plain": [
              "False"
            ]
          },
          "metadata": {},
          "execution_count": 39
        }
      ]
    },
    {
      "cell_type": "code",
      "source": [
        "#Alternative check for null values.\n",
        "iris_data.isnull().sum()"
      ],
      "metadata": {
        "colab": {
          "base_uri": "https://localhost:8080/"
        },
        "id": "kjnm_eyMqa87",
        "outputId": "12aa9b0f-8fdb-457c-9d91-6b981ee16dbd"
      },
      "execution_count": 40,
      "outputs": [
        {
          "output_type": "execute_result",
          "data": {
            "text/plain": [
              "sepal-length    0\n",
              "sepal-width     0\n",
              "petal-length    0\n",
              "petal-width     0\n",
              "species         0\n",
              "dtype: int64"
            ]
          },
          "metadata": {},
          "execution_count": 40
        }
      ]
    },
    {
      "cell_type": "markdown",
      "source": [
        "The above reviewing methods of the data set help us understand the contents and important metrics related to the 3 types of iris flowers in order to apply further interpretations of the data."
      ],
      "metadata": {
        "id": "Ule10-euonsx"
      }
    },
    {
      "cell_type": "markdown",
      "source": [
        "###Visualisation of the correlation betwn the 3 flower species and their respecive measurement specifications with a pairplot.\n",
        "\n",
        "Paiplots allow illustrating pairwise relationships in a dataset.\n",
        "https://seaborn.pydata.org/generated/seaborn.pairplot.html "
      ],
      "metadata": {
        "id": "NXvzZT-wuWyy"
      }
    },
    {
      "cell_type": "code",
      "source": [
        "import matplotlib.pyplot as plt\n",
        "import seaborn as sns\n",
        "import numpy as np\n",
        "import pandas as pd\n",
        "sns.set_palette('husl')\n",
        "\n",
        "def iris_data_pairplot():\n",
        "  sns.pairplot(iris_data, hue='species', height = 2, diag_kind = \"kde\")\n",
        "  plt.show()\n",
        "\n",
        "iris_data_pairplot() "
      ],
      "metadata": {
        "colab": {
          "base_uri": "https://localhost:8080/",
          "height": 585
        },
        "id": "1cewuH1HtFPJ",
        "outputId": "6afa0ff5-93f9-4ad1-e1ad-1ecc8aab6901"
      },
      "execution_count": 41,
      "outputs": [
        {
          "output_type": "display_data",
          "data": {
            "text/plain": [
              "<Figure size 679.25x576 with 20 Axes>"
            ],
            "image/png": "[encoded data removed]"
          },
          "metadata": {
            "needs_background": "light"
          }
        }
      ]
    },
    {
      "cell_type": "markdown",
      "source": [
        "We can see in this pairplot visualisation of the iris data set that Setosa species has significantly higher measurements when it comes to petal width & length, whereas in terms of sepal width the 3 species have a closer association. In terms of sepal width again Setosa iris have a higher reach but not as distinguishable as in the case of petal metrics."
      ],
      "metadata": {
        "id": "9y_8eE-2vqHZ"
      }
    },
    {
      "cell_type": "markdown",
      "metadata": {
        "id": "0b8Pm0bK_Ca1"
      },
      "source": [
        "### Exercise 2 - split the data into train and test sets\n",
        "---\n",
        "\n",
        "Split the data set into and 70% train, 30% test, split.  From now, just use the train data set.\n"
      ]
    },
    {
      "cell_type": "code",
      "metadata": {
        "id": "CSG-ZEPEawMJ",
        "colab": {
          "base_uri": "https://localhost:8080/",
          "height": 543
        },
        "outputId": "6eb85997-31b6-4d16-8813-de19792b23d6"
      },
      "source": [
        "# import the train_test_split function\n",
        "from sklearn.model_selection import train_test_split\n",
        "\n",
        "# create the classification variables from all columns\n",
        "train, test = train_test_split(iris_data, test_size=0.30)\n",
        "print(train)\n",
        "train.describe()\n",
        "#'train' is the name for the new separated dataframe for training"
      ],
      "execution_count": 42,
      "outputs": [
        {
          "output_type": "stream",
          "name": "stdout",
          "text": [
            "     sepal-length  sepal-width  petal-length  petal-width          species\n",
            "129           7.2          3.0           5.8          1.6   Iris-virginica\n",
            "72            6.3          2.5           4.9          1.5  Iris-versicolor\n",
            "108           6.7          2.5           5.8          1.8   Iris-virginica\n",
            "18            5.7          3.8           1.7          0.3      Iris-setosa\n",
            "120           6.9          3.2           5.7          2.3   Iris-virginica\n",
            "..            ...          ...           ...          ...              ...\n",
            "118           7.7          2.6           6.9          2.3   Iris-virginica\n",
            "93            5.0          2.3           3.3          1.0  Iris-versicolor\n",
            "146           6.3          2.5           5.0          1.9   Iris-virginica\n",
            "132           6.4          2.8           5.6          2.2   Iris-virginica\n",
            "3             4.6          3.1           1.5          0.2      Iris-setosa\n",
            "\n",
            "[105 rows x 5 columns]\n"
          ]
        },
        {
          "output_type": "execute_result",
          "data": {
            "text/plain": [
              "       sepal-length  sepal-width  petal-length  petal-width\n",
              "count    105.000000   105.000000    105.000000   105.000000\n",
              "mean       5.850476     3.020952      3.860952     1.235238\n",
              "std        0.792164     0.419179      1.691636     0.723504\n",
              "min        4.400000     2.000000      1.200000     0.100000\n",
              "25%        5.100000     2.800000      1.600000     0.400000\n",
              "50%        5.800000     3.000000      4.500000     1.400000\n",
              "75%        6.400000     3.200000      5.100000     1.800000\n",
              "max        7.700000     4.100000      6.900000     2.400000"
            ],
            "text/html": [
              "\n",
              "  <div id=\"df-05c41bec-ff27-4b09-b38d-676c458c100d\">\n",
              "    <div class=\"colab-df-container\">\n",
              "      <div>\n",
              "<style scoped>\n",
              "    .dataframe tbody tr th:only-of-type {\n",
              "        vertical-align: middle;\n",
              "    }\n",
              "\n",
              "    .dataframe tbody tr th {\n",
              "        vertical-align: top;\n",
              "    }\n",
              "\n",
              "    .dataframe thead th {\n",
              "        text-align: right;\n",
              "    }\n",
              "</style>\n",
              "<table border=\"1\" class=\"dataframe\">\n",
              "  <thead>\n",
              "    <tr style=\"text-align: right;\">\n",
              "      <th></th>\n",
              "      <th>sepal-length</th>\n",
              "      <th>sepal-width</th>\n",
              "      <th>petal-length</th>\n",
              "      <th>petal-width</th>\n",
              "    </tr>\n",
              "  </thead>\n",
              "  <tbody>\n",
              "    <tr>\n",
              "      <th>count</th>\n",
              "      <td>105.000000</td>\n",
              "      <td>105.000000</td>\n",
              "      <td>105.000000</td>\n",
              "      <td>105.000000</td>\n",
              "    </tr>\n",
              "    <tr>\n",
              "      <th>mean</th>\n",
              "      <td>5.850476</td>\n",
              "      <td>3.020952</td>\n",
              "      <td>3.860952</td>\n",
              "      <td>1.235238</td>\n",
              "    </tr>\n",
              "    <tr>\n",
              "      <th>std</th>\n",
              "      <td>0.792164</td>\n",
              "      <td>0.419179</td>\n",
              "      <td>1.691636</td>\n",
              "      <td>0.723504</td>\n",
              "    </tr>\n",
              "    <tr>\n",
              "      <th>min</th>\n",
              "      <td>4.400000</td>\n",
              "      <td>2.000000</td>\n",
              "      <td>1.200000</td>\n",
              "      <td>0.100000</td>\n",
              "    </tr>\n",
              "    <tr>\n",
              "      <th>25%</th>\n",
              "      <td>5.100000</td>\n",
              "      <td>2.800000</td>\n",
              "      <td>1.600000</td>\n",
              "      <td>0.400000</td>\n",
              "    </tr>\n",
              "    <tr>\n",
              "      <th>50%</th>\n",
              "      <td>5.800000</td>\n",
              "      <td>3.000000</td>\n",
              "      <td>4.500000</td>\n",
              "      <td>1.400000</td>\n",
              "    </tr>\n",
              "    <tr>\n",
              "      <th>75%</th>\n",
              "      <td>6.400000</td>\n",
              "      <td>3.200000</td>\n",
              "      <td>5.100000</td>\n",
              "      <td>1.800000</td>\n",
              "    </tr>\n",
              "    <tr>\n",
              "      <th>max</th>\n",
              "      <td>7.700000</td>\n",
              "      <td>4.100000</td>\n",
              "      <td>6.900000</td>\n",
              "      <td>2.400000</td>\n",
              "    </tr>\n",
              "  </tbody>\n",
              "</table>\n",
              "</div>\n",
              "      <button class=\"colab-df-convert\" onclick=\"convertToInteractive('df-05c41bec-ff27-4b09-b38d-676c458c100d')\"\n",
              "              title=\"Convert this dataframe to an interactive table.\"\n",
              "              style=\"display:none;\">\n",
              "        \n",
              "  <svg xmlns=\"http://www.w3.org/2000/svg\" height=\"24px\"viewBox=\"0 0 24 24\"\n",
              "       width=\"24px\">\n",
              "    <path d=\"M0 0h24v24H0V0z\" fill=\"none\"/>\n",
              "    <path d=\"M18.56 5.44l.94 2.06.94-2.06 2.06-.94-2.06-.94-.94-2.06-.94 2.06-2.06.94zm-11 1L8.5 8.5l.94-2.06 2.06-.94-2.06-.94L8.5 2.5l-.94 2.06-2.06.94zm10 10l.94 2.06.94-2.06 2.06-.94-2.06-.94-.94-2.06-.94 2.06-2.06.94z\"/><path d=\"M17.41 7.96l-1.37-1.37c-.4-.4-.92-.59-1.43-.59-.52 0-1.04.2-1.43.59L10.3 9.45l-7.72 7.72c-.78.78-.78 2.05 0 2.83L4 21.41c.39.39.9.59 1.41.59.51 0 1.02-.2 1.41-.59l7.78-7.78 2.81-2.81c.8-.78.8-2.07 0-2.86zM5.41 20L4 18.59l7.72-7.72 1.47 1.35L5.41 20z\"/>\n",
              "  </svg>\n",
              "      </button>\n",
              "      \n",
              "  <style>\n",
              "    .colab-df-container {\n",
              "      display:flex;\n",
              "      flex-wrap:wrap;\n",
              "      gap: 12px;\n",
              "    }\n",
              "\n",
              "    .colab-df-convert {\n",
              "      background-color: #E8F0FE;\n",
              "      border: none;\n",
              "      border-radius: 50%;\n",
              "      cursor: pointer;\n",
              "      display: none;\n",
              "      fill: #1967D2;\n",
              "      height: 32px;\n",
              "      padding: 0 0 0 0;\n",
              "      width: 32px;\n",
              "    }\n",
              "\n",
              "    .colab-df-convert:hover {\n",
              "      background-color: #E2EBFA;\n",
              "      box-shadow: 0px 1px 2px rgba(60, 64, 67, 0.3), 0px 1px 3px 1px rgba(60, 64, 67, 0.15);\n",
              "      fill: #174EA6;\n",
              "    }\n",
              "\n",
              "    [theme=dark] .colab-df-convert {\n",
              "      background-color: #3B4455;\n",
              "      fill: #D2E3FC;\n",
              "    }\n",
              "\n",
              "    [theme=dark] .colab-df-convert:hover {\n",
              "      background-color: #434B5C;\n",
              "      box-shadow: 0px 1px 3px 1px rgba(0, 0, 0, 0.15);\n",
              "      filter: drop-shadow(0px 1px 2px rgba(0, 0, 0, 0.3));\n",
              "      fill: #FFFFFF;\n",
              "    }\n",
              "  </style>\n",
              "\n",
              "      <script>\n",
              "        const buttonEl =\n",
              "          document.querySelector('#df-05c41bec-ff27-4b09-b38d-676c458c100d button.colab-df-convert');\n",
              "        buttonEl.style.display =\n",
              "          google.colab.kernel.accessAllowed ? 'block' : 'none';\n",
              "\n",
              "        async function convertToInteractive(key) {\n",
              "          const element = document.querySelector('#df-05c41bec-ff27-4b09-b38d-676c458c100d');\n",
              "          const dataTable =\n",
              "            await google.colab.kernel.invokeFunction('convertToInteractive',\n",
              "                                                     [key], {});\n",
              "          if (!dataTable) return;\n",
              "\n",
              "          const docLinkHtml = 'Like what you see? Visit the ' +\n",
              "            '<a target=\"_blank\" href=https://colab.research.google.com/notebooks/data_table.ipynb>data table notebook</a>'\n",
              "            + ' to learn more about interactive tables.';\n",
              "          element.innerHTML = '';\n",
              "          dataTable['output_type'] = 'display_data';\n",
              "          await google.colab.output.renderOutput(dataTable, element);\n",
              "          const docLink = document.createElement('div');\n",
              "          docLink.innerHTML = docLinkHtml;\n",
              "          element.appendChild(docLink);\n",
              "        }\n",
              "      </script>\n",
              "    </div>\n",
              "  </div>\n",
              "  "
            ]
          },
          "metadata": {},
          "execution_count": 42
        }
      ]
    },
    {
      "cell_type": "markdown",
      "source": [
        "We can see that after split code by a 70% portion and then running the .describe() code, the summary metrics have changed i.e. the count has dropped from 150 to 105. Therefore the 70% train split of the total for training is complete."
      ],
      "metadata": {
        "id": "FT2Rq5jD1DPX"
      }
    },
    {
      "cell_type": "markdown",
      "metadata": {
        "id": "nd-9JfKbQl-q"
      },
      "source": [
        "### Exercise 3 - assumptions and classification\n",
        "---\n",
        "\n",
        "Let's make some assumptions based on the data\n",
        "\n",
        "1.  Iris-setosa, Iris-versicolor, Iris-virginica are the full range of types of iris to be analysed\n",
        "2.  Although this is a small data set, the means are fairly representative\n",
        "\n",
        "With these in mind, let's start by classifying sepal/petal size into long/short and wide/narrow with values on or above the mean taken as long or wide and those below as short or narrow.\n",
        "\n",
        "This is a starting point.  We will be trying to find a value (indicator) for each column where rows on or above do not contain any of a particular species, this might indicate that this column is a good (if not rough) indicator of species. For now, the indicator is the mean.\n",
        "\n",
        "*  Drop any null values from each column\n",
        "\n",
        "Calculate, and store the means of the four columns\n",
        "\n",
        "*  **Test**:\n",
        "Display train.describe() to see the value of the means of the training set.<br> Print the four means and compare to the output of train.describe() to check that they have been calculated correctly.\n",
        "\n",
        "*  Create a new dataframe with the numeric columns encoded so show a 1 for any value that is above the mean for its column and 0 for any that isn't."
      ]
    },
    {
      "cell_type": "code",
      "metadata": {
        "id": "rAahb5HSWiw-",
        "colab": {
          "base_uri": "https://localhost:8080/",
          "height": 736
        },
        "outputId": "1bbc5593-4976-4c72-8d59-5b45c48c9e32"
      },
      "source": [
        "#get the mean for each column and apply a function to encode into 1 (above mean) and 0 (mean or below mean)\n",
        "#step1\n",
        "def encode(df, **kdws):\n",
        "  indicator = kdws['indicator']\n",
        "  key = kdws['key']\n",
        "  if df[key] > indicator:\n",
        "    return 1\n",
        "  else:\n",
        "    return 0\n",
        "\n",
        "#step2\n",
        "#calculating the means of the metrics columns\n",
        "sl_mean = train[\"sepal-length\"].mean()\n",
        "print(\"mean of sepal length: \", sl_mean)\n",
        "sw_mean = train[\"sepal-width\"].mean()\n",
        "print(\"mean of sepal width: \", sw_mean)\n",
        "pl_mean = train[\"petal-length\"].mean()\n",
        "print(\"mean of petal length: \", pl_mean)\n",
        "pw_mean = train[\"petal-width\"].mean()\n",
        "print(\"mean of petal with: \", pw_mean)\n",
        "\n",
        "#step3\n",
        "#run the function for each column so that each of the four columns are encoded [0 = below mean, 1 = above mean], then drop the original columns, saving as a new dataframe\n",
        "train_mean = train.copy() #creating a new copy of the original dtframe\n",
        "train_mean['sepal-length'] = train_mean.apply(encode, axis=1, key='sepal-length', indicator=train['sepal-length'].mean())\n",
        "train_mean['sepal-width'] = train_mean.apply(encode, axis=1, key='sepal-width', indicator=train['sepal-width'].mean())\n",
        "train_mean['petal-length'] = train_mean.apply(encode, axis=1, key='petal-length', indicator=train['petal-length'].mean())\n",
        "train_mean['petal-width'] = train_mean.apply(encode, axis=1, key='petal-width', indicator=train['petal-width'].mean())\n",
        "\n",
        "#If we rename the column titles to 'sepal-length2' etc, that will create a copy of the dataframe with the new columns created via renaming. \n",
        "#The variant 'train_mean' is also a exact copy of the variant 'train'. \n",
        "# train_mean['sepal-length2'] = train.apply(encode, axis=1, key='sepal-length', indicator=train['sepal-length'].mean())\n",
        "# train_mean['sepal-width2'] = train.apply(encode, axis=1, key='sepal-width', indicator=train['sepal-width'].mean())\n",
        "# train_mean['petal-length2'] = train.apply(encode, axis=1, key='petal-length', indicator=train['petal-length'].mean())\n",
        "# train_mean['petal-width2'] = train.apply(encode, axis=1, key='petal-width', indicator=train['petal-width'].mean())\n",
        "print(train_mean)\n",
        "train_mean\n",
        "#train_mean.describe()"
      ],
      "execution_count": 43,
      "outputs": [
        {
          "output_type": "stream",
          "name": "stdout",
          "text": [
            "mean of sepal length:  5.850476190476193\n",
            "mean of sepal width:  3.0209523809523824\n",
            "mean of petal length:  3.8609523809523814\n",
            "mean of petal with:  1.2352380952380955\n",
            "     sepal-length  sepal-width  petal-length  petal-width          species\n",
            "129             1            0             1            1   Iris-virginica\n",
            "72              1            0             1            1  Iris-versicolor\n",
            "108             1            0             1            1   Iris-virginica\n",
            "18              0            1             0            0      Iris-setosa\n",
            "120             1            1             1            1   Iris-virginica\n",
            "..            ...          ...           ...          ...              ...\n",
            "118             1            0             1            1   Iris-virginica\n",
            "93              0            0             0            0  Iris-versicolor\n",
            "146             1            0             1            1   Iris-virginica\n",
            "132             1            0             1            1   Iris-virginica\n",
            "3               0            1             0            0      Iris-setosa\n",
            "\n",
            "[105 rows x 5 columns]\n"
          ]
        },
        {
          "output_type": "execute_result",
          "data": {
            "text/plain": [
              "     sepal-length  sepal-width  petal-length  petal-width          species\n",
              "129             1            0             1            1   Iris-virginica\n",
              "72              1            0             1            1  Iris-versicolor\n",
              "108             1            0             1            1   Iris-virginica\n",
              "18              0            1             0            0      Iris-setosa\n",
              "120             1            1             1            1   Iris-virginica\n",
              "..            ...          ...           ...          ...              ...\n",
              "118             1            0             1            1   Iris-virginica\n",
              "93              0            0             0            0  Iris-versicolor\n",
              "146             1            0             1            1   Iris-virginica\n",
              "132             1            0             1            1   Iris-virginica\n",
              "3               0            1             0            0      Iris-setosa\n",
              "\n",
              "[105 rows x 5 columns]"
            ],
            "text/html": [
              "\n",
              "  <div id=\"df-963374ce-6632-43cc-b6c5-8c12398bd2b3\">\n",
              "    <div class=\"colab-df-container\">\n",
              "      <div>\n",
              "<style scoped>\n",
              "    .dataframe tbody tr th:only-of-type {\n",
              "        vertical-align: middle;\n",
              "    }\n",
              "\n",
              "    .dataframe tbody tr th {\n",
              "        vertical-align: top;\n",
              "    }\n",
              "\n",
              "    .dataframe thead th {\n",
              "        text-align: right;\n",
              "    }\n",
              "</style>\n",
              "<table border=\"1\" class=\"dataframe\">\n",
              "  <thead>\n",
              "    <tr style=\"text-align: right;\">\n",
              "      <th></th>\n",
              "      <th>sepal-length</th>\n",
              "      <th>sepal-width</th>\n",
              "      <th>petal-length</th>\n",
              "      <th>petal-width</th>\n",
              "      <th>species</th>\n",
              "    </tr>\n",
              "  </thead>\n",
              "  <tbody>\n",
              "    <tr>\n",
              "      <th>129</th>\n",
              "      <td>1</td>\n",
              "      <td>0</td>\n",
              "      <td>1</td>\n",
              "      <td>1</td>\n",
              "      <td>Iris-virginica</td>\n",
              "    </tr>\n",
              "    <tr>\n",
              "      <th>72</th>\n",
              "      <td>1</td>\n",
              "      <td>0</td>\n",
              "      <td>1</td>\n",
              "      <td>1</td>\n",
              "      <td>Iris-versicolor</td>\n",
              "    </tr>\n",
              "    <tr>\n",
              "      <th>108</th>\n",
              "      <td>1</td>\n",
              "      <td>0</td>\n",
              "      <td>1</td>\n",
              "      <td>1</td>\n",
              "      <td>Iris-virginica</td>\n",
              "    </tr>\n",
              "    <tr>\n",
              "      <th>18</th>\n",
              "      <td>0</td>\n",
              "      <td>1</td>\n",
              "      <td>0</td>\n",
              "      <td>0</td>\n",
              "      <td>Iris-setosa</td>\n",
              "    </tr>\n",
              "    <tr>\n",
              "      <th>120</th>\n",
              "      <td>1</td>\n",
              "      <td>1</td>\n",
              "      <td>1</td>\n",
              "      <td>1</td>\n",
              "      <td>Iris-virginica</td>\n",
              "    </tr>\n",
              "    <tr>\n",
              "      <th>...</th>\n",
              "      <td>...</td>\n",
              "      <td>...</td>\n",
              "      <td>...</td>\n",
              "      <td>...</td>\n",
              "      <td>...</td>\n",
              "    </tr>\n",
              "    <tr>\n",
              "      <th>118</th>\n",
              "      <td>1</td>\n",
              "      <td>0</td>\n",
              "      <td>1</td>\n",
              "      <td>1</td>\n",
              "      <td>Iris-virginica</td>\n",
              "    </tr>\n",
              "    <tr>\n",
              "      <th>93</th>\n",
              "      <td>0</td>\n",
              "      <td>0</td>\n",
              "      <td>0</td>\n",
              "      <td>0</td>\n",
              "      <td>Iris-versicolor</td>\n",
              "    </tr>\n",
              "    <tr>\n",
              "      <th>146</th>\n",
              "      <td>1</td>\n",
              "      <td>0</td>\n",
              "      <td>1</td>\n",
              "      <td>1</td>\n",
              "      <td>Iris-virginica</td>\n",
              "    </tr>\n",
              "    <tr>\n",
              "      <th>132</th>\n",
              "      <td>1</td>\n",
              "      <td>0</td>\n",
              "      <td>1</td>\n",
              "      <td>1</td>\n",
              "      <td>Iris-virginica</td>\n",
              "    </tr>\n",
              "    <tr>\n",
              "      <th>3</th>\n",
              "      <td>0</td>\n",
              "      <td>1</td>\n",
              "      <td>0</td>\n",
              "      <td>0</td>\n",
              "      <td>Iris-setosa</td>\n",
              "    </tr>\n",
              "  </tbody>\n",
              "</table>\n",
              "<p>105 rows × 5 columns</p>\n",
              "</div>\n",
              "      <button class=\"colab-df-convert\" onclick=\"convertToInteractive('df-963374ce-6632-43cc-b6c5-8c12398bd2b3')\"\n",
              "              title=\"Convert this dataframe to an interactive table.\"\n",
              "              style=\"display:none;\">\n",
              "        \n",
              "  <svg xmlns=\"http://www.w3.org/2000/svg\" height=\"24px\"viewBox=\"0 0 24 24\"\n",
              "       width=\"24px\">\n",
              "    <path d=\"M0 0h24v24H0V0z\" fill=\"none\"/>\n",
              "    <path d=\"M18.56 5.44l.94 2.06.94-2.06 2.06-.94-2.06-.94-.94-2.06-.94 2.06-2.06.94zm-11 1L8.5 8.5l.94-2.06 2.06-.94-2.06-.94L8.5 2.5l-.94 2.06-2.06.94zm10 10l.94 2.06.94-2.06 2.06-.94-2.06-.94-.94-2.06-.94 2.06-2.06.94z\"/><path d=\"M17.41 7.96l-1.37-1.37c-.4-.4-.92-.59-1.43-.59-.52 0-1.04.2-1.43.59L10.3 9.45l-7.72 7.72c-.78.78-.78 2.05 0 2.83L4 21.41c.39.39.9.59 1.41.59.51 0 1.02-.2 1.41-.59l7.78-7.78 2.81-2.81c.8-.78.8-2.07 0-2.86zM5.41 20L4 18.59l7.72-7.72 1.47 1.35L5.41 20z\"/>\n",
              "  </svg>\n",
              "      </button>\n",
              "      \n",
              "  <style>\n",
              "    .colab-df-container {\n",
              "      display:flex;\n",
              "      flex-wrap:wrap;\n",
              "      gap: 12px;\n",
              "    }\n",
              "\n",
              "    .colab-df-convert {\n",
              "      background-color: #E8F0FE;\n",
              "      border: none;\n",
              "      border-radius: 50%;\n",
              "      cursor: pointer;\n",
              "      display: none;\n",
              "      fill: #1967D2;\n",
              "      height: 32px;\n",
              "      padding: 0 0 0 0;\n",
              "      width: 32px;\n",
              "    }\n",
              "\n",
              "    .colab-df-convert:hover {\n",
              "      background-color: #E2EBFA;\n",
              "      box-shadow: 0px 1px 2px rgba(60, 64, 67, 0.3), 0px 1px 3px 1px rgba(60, 64, 67, 0.15);\n",
              "      fill: #174EA6;\n",
              "    }\n",
              "\n",
              "    [theme=dark] .colab-df-convert {\n",
              "      background-color: #3B4455;\n",
              "      fill: #D2E3FC;\n",
              "    }\n",
              "\n",
              "    [theme=dark] .colab-df-convert:hover {\n",
              "      background-color: #434B5C;\n",
              "      box-shadow: 0px 1px 3px 1px rgba(0, 0, 0, 0.15);\n",
              "      filter: drop-shadow(0px 1px 2px rgba(0, 0, 0, 0.3));\n",
              "      fill: #FFFFFF;\n",
              "    }\n",
              "  </style>\n",
              "\n",
              "      <script>\n",
              "        const buttonEl =\n",
              "          document.querySelector('#df-963374ce-6632-43cc-b6c5-8c12398bd2b3 button.colab-df-convert');\n",
              "        buttonEl.style.display =\n",
              "          google.colab.kernel.accessAllowed ? 'block' : 'none';\n",
              "\n",
              "        async function convertToInteractive(key) {\n",
              "          const element = document.querySelector('#df-963374ce-6632-43cc-b6c5-8c12398bd2b3');\n",
              "          const dataTable =\n",
              "            await google.colab.kernel.invokeFunction('convertToInteractive',\n",
              "                                                     [key], {});\n",
              "          if (!dataTable) return;\n",
              "\n",
              "          const docLinkHtml = 'Like what you see? Visit the ' +\n",
              "            '<a target=\"_blank\" href=https://colab.research.google.com/notebooks/data_table.ipynb>data table notebook</a>'\n",
              "            + ' to learn more about interactive tables.';\n",
              "          element.innerHTML = '';\n",
              "          dataTable['output_type'] = 'display_data';\n",
              "          await google.colab.output.renderOutput(dataTable, element);\n",
              "          const docLink = document.createElement('div');\n",
              "          docLink.innerHTML = docLinkHtml;\n",
              "          element.appendChild(docLink);\n",
              "        }\n",
              "      </script>\n",
              "    </div>\n",
              "  </div>\n",
              "  "
            ]
          },
          "metadata": {},
          "execution_count": 43
        }
      ]
    },
    {
      "cell_type": "markdown",
      "source": [
        "We can see that the calculated means in part 2 of this function match the .describe() calculations we got in the ex 2 above and furthermore the recoding of the measurements to 0 and 1 depending on whether the original number was above the mean or not is actually representative as reframed data set of the original into 'train_mean'."
      ],
      "metadata": {
        "id": "I-bvkqMbMfsG"
      }
    },
    {
      "cell_type": "markdown",
      "metadata": {
        "id": "t9lP8lC1dCsa"
      },
      "source": [
        "### Exercise 4 - Calculate the proportion of values on or above the mean that are of each species\n",
        "\n",
        "We are going to focus on the `Iris-virginica` species first.\n",
        "\n",
        "First we will calculate, for each dimension column (`sepal-length, sepal-width, petal-length, petal-width`) what proportion of values in that column, where the value is on or above the mean, are classified as `Iris-virginica`.\n",
        "\n",
        "We will do this by filtering all the records in each column of the `train` set that are on or above the mean and match the species.  \n",
        "Then use the outcome to calculate the proportion of the full `train` set for which a value on or above the mean that are of species `Iris-virginica`.\n",
        "\n",
        "*  filter for values in the `sepal-length` column being on or above the mean and the species column being `Iris-virginica`.  Then divide the count of rows in this filtered dataset by the count of rows in a second data set, filtered for just the value being on or above the mean.\n",
        "\n",
        "*  Do this for all four columns, for `Iris-virginica`  (4 operations).\n",
        "\n",
        "Print the results to see which columns look like they might most reliably predict the species as `Iris-virginica` (the result is as close as possible to 1).  The highest numbers may indicate the most reliable indicators, but we will do some more before coming to this conclusion.\n",
        "\n",
        "*  By definition, those on or above the mean that are NOT Iris_virginica will be `1 - the proportion of those that are.  Calculate these\n",
        "\n",
        "The first one has been done for you.\n",
        "\n",
        "*  We will also need the proportion of those BELOW the median that are NOT Iris-virginica.  Calculate these in the same way\n",
        "\n"
      ]
    },
    {
      "cell_type": "markdown",
      "source": [
        "##i) Iris-virginica above and below mean proportions."
      ],
      "metadata": {
        "id": "MIR08Q2Rngy1"
      }
    },
    {
      "cell_type": "code",
      "source": [
        "def virginica_proportion():\n",
        "\n",
        "  #step1\n",
        "  #Getting a count of all the rows with name 'iris virginica' in the column species\n",
        "  train_species_count=train_mean.loc[(train_mean['species']=='Iris-virginica')]['species'].count()\n",
        "  print(\"virginica count: \",train_species_count)\n",
        "  #step2\n",
        "  #Counting all iris virignica per column with values above the mean\n",
        "  virginica_count_sl=train_mean.loc[(train_mean['species']=='Iris-virginica')& (train_mean['sepal-length']==1)]['sepal-length'].count()\n",
        "  virginica_count_sw=train_mean.loc[(train_mean['species']=='Iris-virginica')& (train_mean['sepal-width']==1)]['sepal-width'].count()\n",
        "  virginica_count_pl=train_mean.loc[(train_mean['species']=='Iris-virginica')& (train_mean['petal-length']==1)]['petal-length'].count()\n",
        "  virginica_count_pw=train_mean.loc[(train_mean['species']=='Iris-virginica')& (train_mean['petal-width']==1)]['petal-width'].count()\n",
        "  print(\"sepal length count:\", virginica_count_sl,\n",
        "         \"\\nsepal width count:\", virginica_count_sw,\n",
        "         \"\\npetal length count:\", virginica_count_pl,\n",
        "         \"\\npetal width count:\", virginica_count_pw)\n",
        "  #step3\n",
        "  #Calculating the proportion of all iris virginica per column that are above the mean (>1) (count of virginica from step2 / total count of iris virginica from step1)\n",
        "  proportion_virginica_sl=virginica_count_sl/train_species_count\n",
        "  proportion_virginica_sw=virginica_count_sw/train_species_count\n",
        "  proportion_virginica_pl=virginica_count_pl/train_species_count\n",
        "  proportion_virginica_pw=virginica_count_pw/train_species_count\n",
        "  print(\"virginica proportion with sepal legth > mean:\", round(proportion_virginica_sl,2),\n",
        "        \"\\nvirginica proportion with sepal width > mean:\", round(proportion_virginica_sw,2),\n",
        "        \"\\nvirginica proportion with petal legth > mean:\", round(proportion_virginica_pl,2),\n",
        "        \"\\nvirginica proportion with petal width > mean:\", round(proportion_virginica_pw,2))\n",
        "  #step4\n",
        "  #Calculating the proportion per column that are above the mean and not virginica (calculating as: 1 - proportion from step3)\n",
        "  proportion2_nonvirginica_sl=1-proportion_virginica_sl\n",
        "  proportion2_nonvirginica_sw=1-proportion_virginica_sw\n",
        "  proportion2_nonvirginica_pl=1-proportion_virginica_pl\n",
        "  proportion2_nonvirginica_pw=1-proportion_virginica_pw\n",
        "  print(\"non-virginica proportion with sepal legth > mean:\", round(proportion2_nonvirginica_sl,2),\n",
        "        \"\\nnon-virginica proportion with sepal width > mean:\", round(proportion2_nonvirginica_sw,2),\n",
        "        \"\\nnon-virginica proportion with petal legth > mean:\", round(proportion2_nonvirginica_pl,2),\n",
        "        \"\\nnon-virginica proportion with petal width > mean:\", round(proportion2_nonvirginica_pw,2))\n",
        "\n",
        "virginica_proportion()"
      ],
      "metadata": {
        "colab": {
          "base_uri": "https://localhost:8080/"
        },
        "id": "u0L3BcWnQN1o",
        "outputId": "3562aae0-1067-492b-cc45-71f547868e5c"
      },
      "execution_count": 44,
      "outputs": [
        {
          "output_type": "stream",
          "name": "stdout",
          "text": [
            "virginica count:  35\n",
            "sepal length count: 30 \n",
            "sepal width count: 10 \n",
            "petal length count: 35 \n",
            "petal width count: 35\n",
            "virginica proportion with sepal legth > mean: 0.86 \n",
            "virginica proportion with sepal width > mean: 0.29 \n",
            "virginica proportion with petal legth > mean: 1.0 \n",
            "virginica proportion with petal width > mean: 1.0\n",
            "non-virginica proportion with sepal legth > mean: 0.14 \n",
            "non-virginica proportion with sepal width > mean: 0.71 \n",
            "non-virginica proportion with petal legth > mean: 0.0 \n",
            "non-virginica proportion with petal width > mean: 0.0\n"
          ]
        }
      ]
    },
    {
      "cell_type": "markdown",
      "metadata": {
        "id": "M-HgetRIxJpx"
      },
      "source": [
        "### Exercise 5 - Calculate the proportion of each column where the value is below median that are of species `Iris-virginica` and for the other 2 species\n",
        "\n",
        "Repeat the code above, this time looking for values below the mean."
      ]
    },
    {
      "cell_type": "code",
      "source": [
        "def virginica_proportion2():\n",
        "\n",
        "  #step1\n",
        "  #Getting a count of all the rows with name 'iris virginica' in the column species\n",
        "  train_species_count=train_mean.loc[(train_mean['species']=='Iris-virginica')]['species'].count()\n",
        "  print(\"virginica count: \",train_species_count)\n",
        "  #step2\n",
        "  #Counting all iris virignica per column with values below the mean\n",
        "  virginica_count_sl=train_mean.loc[(train_mean['species']=='Iris-virginica')& (train_mean['sepal-length']==0)]['sepal-length'].count()\n",
        "  virginica_count_sw=train_mean.loc[(train_mean['species']=='Iris-virginica')& (train_mean['sepal-width']==0)]['sepal-width'].count()\n",
        "  virginica_count_pl=train_mean.loc[(train_mean['species']=='Iris-virginica')& (train_mean['petal-length']==0)]['petal-length'].count()\n",
        "  virginica_count_pw=train_mean.loc[(train_mean['species']=='Iris-virginica')& (train_mean['petal-width']==0)]['petal-width'].count()\n",
        "  print(\"sepal length count:\", virginica_count_sl,\n",
        "         \"\\nsepal width count:\", virginica_count_sw,\n",
        "         \"\\npetal length count:\", virginica_count_pl,\n",
        "         \"\\npetal width count:\", virginica_count_pw)\n",
        "  #step3\n",
        "  #Calculating the proportion of all iris virginica per column that are below the mean (<1) (count of virginica from step2 / total count of iris virginica from step1)\n",
        "  proportion_virginica_sl=virginica_count_sl/train_species_count\n",
        "  proportion_virginica_sw=virginica_count_sw/train_species_count\n",
        "  proportion_virginica_pl=virginica_count_pl/train_species_count\n",
        "  proportion_virginica_pw=virginica_count_pw/train_species_count\n",
        "  print(\"virginica proportion with sepal legth < mean:\", round(proportion_virginica_sl,2),\n",
        "        \"\\nvirginica proportion with sepal width < mean:\", round(proportion_virginica_sw,2),\n",
        "        \"\\nvirginica proportion with petal legth < mean:\", round(proportion_virginica_pl,2),\n",
        "        \"\\nvirginica proportion with petal width < mean:\", round(proportion_virginica_pw,2))\n",
        "  #step4\n",
        "  #Calculating the proportion per column that are below the mean and not virginica (calculating as: 1 - proportion from step3)\n",
        "  proportion2_nonvirginica_sl=1-proportion_virginica_sl\n",
        "  proportion2_nonvirginica_sw=1-proportion_virginica_sw\n",
        "  proportion2_nonvirginica_pl=1-proportion_virginica_pl\n",
        "  proportion2_nonvirginica_pw=1-proportion_virginica_pw\n",
        "  print(\"non-virginica proportion with sepal legth < mean:\", round(proportion2_nonvirginica_sl,2),\n",
        "        \"\\nnon-virginica proportion with sepal width < mean:\", round(proportion2_nonvirginica_sw,2),\n",
        "        \"\\nnon-virginica proportion with petal legth < mean:\", round(proportion2_nonvirginica_pl,2),\n",
        "        \"\\nnon-virginica proportion with petal width < mean:\", round(proportion2_nonvirginica_pw,2))\n",
        "\n",
        "virginica_proportion2()"
      ],
      "metadata": {
        "colab": {
          "base_uri": "https://localhost:8080/"
        },
        "id": "Pdqm_pTkjTf6",
        "outputId": "ca09b1c9-bdf7-48f5-ef34-7ac637a62d8a"
      },
      "execution_count": 45,
      "outputs": [
        {
          "output_type": "stream",
          "name": "stdout",
          "text": [
            "virginica count:  35\n",
            "sepal length count: 5 \n",
            "sepal width count: 25 \n",
            "petal length count: 0 \n",
            "petal width count: 0\n",
            "virginica proportion with sepal legth < mean: 0.14 \n",
            "virginica proportion with sepal width < mean: 0.71 \n",
            "virginica proportion with petal legth < mean: 0.0 \n",
            "virginica proportion with petal width < mean: 0.0\n",
            "non-virginica proportion with sepal legth < mean: 0.86 \n",
            "non-virginica proportion with sepal width < mean: 0.29 \n",
            "non-virginica proportion with petal legth < mean: 1.0 \n",
            "non-virginica proportion with petal width < mean: 1.0\n"
          ]
        }
      ]
    },
    {
      "cell_type": "markdown",
      "source": [
        "##ii) Iris-versicolor above & below mean proportions."
      ],
      "metadata": {
        "id": "cl3V_FBbnRk1"
      }
    },
    {
      "cell_type": "code",
      "source": [
        "def versicolor_proportion():\n",
        "\n",
        "  #step1\n",
        "  #Getting a count of all the rows with name 'iris versicolor' in the column species\n",
        "  train_species_count=train_mean.loc[(train_mean['species']=='Iris-versicolor')]['species'].count()\n",
        "  print(\"versicolor count: \",train_species_count)\n",
        "  #step2\n",
        "  #Counting all iris virignica per column with values above the mean\n",
        "  versicolor_count_sl=train_mean.loc[(train_mean['species']=='Iris-versicolor')& (train_mean['sepal-length']==1)]['sepal-length'].count()\n",
        "  versicolor_count_sw=train_mean.loc[(train_mean['species']=='Iris-versicolor')& (train_mean['sepal-width']==1)]['sepal-width'].count()\n",
        "  versicolor_count_pl=train_mean.loc[(train_mean['species']=='Iris-versicolor')& (train_mean['petal-length']==1)]['petal-length'].count()\n",
        "  versicolor_count_pw=train_mean.loc[(train_mean['species']=='Iris-versicolor')& (train_mean['petal-width']==1)]['petal-width'].count()\n",
        "  print(\"sepal length count:\", versicolor_count_sl,\n",
        "         \"\\nsepal width count:\", versicolor_count_sw,\n",
        "         \"\\npetal length count:\", versicolor_count_pl,\n",
        "         \"\\npetal width count:\", versicolor_count_pw)\n",
        "  #step3\n",
        "  #Calculating the proportion of all iris versicolor per column that are above the mean (>1) (count of versicolor from step2 / total count of iris versicolor from step1)\n",
        "  proportion_versicolor_sl=versicolor_count_sl/train_species_count\n",
        "  proportion_versicolor_sw=versicolor_count_sw/train_species_count\n",
        "  proportion_versicolor_pl=versicolor_count_pl/train_species_count\n",
        "  proportion_versicolor_pw=versicolor_count_pw/train_species_count\n",
        "  print(\"versicolor proportion with sepal legth > mean:\", round(proportion_versicolor_sl,2),\n",
        "        \"\\nversicolor proportion with sepal width > mean:\", round(proportion_versicolor_sw,2),\n",
        "        \"\\nversicolor proportion with petal legth > mean:\", round(proportion_versicolor_pl,2),\n",
        "        \"\\nversicolor proportion with petal width > mean:\", round(proportion_versicolor_pw,2))\n",
        "  \n",
        "  #step4 - below the mean\n",
        "  #Counting all iris virignica per column with values below the mean\n",
        "  versicolor2_count_sl=train_mean.loc[(train_mean['species']=='Iris-versicolor')& (train_mean['sepal-length']==0)]['sepal-length'].count()\n",
        "  versicolor2_count_sw=train_mean.loc[(train_mean['species']=='Iris-versicolor')& (train_mean['sepal-width']==0)]['sepal-width'].count()\n",
        "  versicolor2_count_pl=train_mean.loc[(train_mean['species']=='Iris-versicolor')& (train_mean['petal-length']==0)]['petal-length'].count()\n",
        "  versicolor2_count_pw=train_mean.loc[(train_mean['species']=='Iris-versicolor')& (train_mean['petal-width']==0)]['petal-width'].count()\n",
        "  print(\"sepal length count:\", versicolor2_count_sl,\n",
        "         \"\\nsepal width count:\", versicolor2_count_sw,\n",
        "         \"\\npetal length count:\", versicolor2_count_pl,\n",
        "         \"\\npetal width count:\", versicolor2_count_pw)\n",
        "  #step5 - below the mean\n",
        "  #Calculating the proportion of all iris versicolor per column that are below the mean (<1) (count of versicolor from step2 / total count of iris versicolor from step1)\n",
        "  proportion_versicolor2_sl=versicolor_count_sl/train_species_count\n",
        "  proportion_versicolor2_sw=versicolor_count_sw/train_species_count\n",
        "  proportion_versicolor2_pl=versicolor_count_pl/train_species_count\n",
        "  proportion_versicolor2_pw=versicolor_count_pw/train_species_count\n",
        "  print(\"versicolor proportion with sepal legth < mean:\", round(proportion_versicolor2_sl,2),\n",
        "        \"\\nversicolor proportion with sepal width < mean:\", round(proportion_versicolor2_sw,2),\n",
        "        \"\\nversicolor proportion with petal legth < mean:\", round(proportion_versicolor2_pl,2),\n",
        "        \"\\nversicolor proportion with petal width < mean:\", round(proportion_versicolor2_pw,2))\n",
        "  \n",
        "versicolor_proportion()"
      ],
      "metadata": {
        "colab": {
          "base_uri": "https://localhost:8080/"
        },
        "id": "_qdqdWTsm5Ay",
        "outputId": "d2e7e5e7-0900-405f-de89-b92333fd0aea"
      },
      "execution_count": 46,
      "outputs": [
        {
          "output_type": "stream",
          "name": "stdout",
          "text": [
            "versicolor count:  39\n",
            "sepal length count: 22 \n",
            "sepal width count: 8 \n",
            "petal length count: 35 \n",
            "petal width count: 30\n",
            "versicolor proportion with sepal legth > mean: 0.56 \n",
            "versicolor proportion with sepal width > mean: 0.21 \n",
            "versicolor proportion with petal legth > mean: 0.9 \n",
            "versicolor proportion with petal width > mean: 0.77\n",
            "sepal length count: 17 \n",
            "sepal width count: 31 \n",
            "petal length count: 4 \n",
            "petal width count: 9\n",
            "versicolor proportion with sepal legth < mean: 0.56 \n",
            "versicolor proportion with sepal width < mean: 0.21 \n",
            "versicolor proportion with petal legth < mean: 0.9 \n",
            "versicolor proportion with petal width < mean: 0.77\n"
          ]
        }
      ]
    },
    {
      "cell_type": "markdown",
      "source": [
        "##ii) Iris-setosa above & below mean proportions."
      ],
      "metadata": {
        "id": "0B8Ya7l6pgVL"
      }
    },
    {
      "cell_type": "code",
      "source": [
        "def setosa_proportion():\n",
        "\n",
        "  #step1\n",
        "  #Getting a count of all the rows with name 'iris setosa' in the column species\n",
        "  train_species_count=train_mean.loc[(train_mean['species']=='Iris-setosa')]['species'].count()\n",
        "  print(\"setosa count: \",train_species_count)\n",
        "  #step2\n",
        "  #Counting all iris virignica per column with values above the mean\n",
        "  setosa_count_sl=train_mean.loc[(train_mean['species']=='Iris-setosa')& (train_mean['sepal-length']==1)]['sepal-length'].count()\n",
        "  setosa_count_sw=train_mean.loc[(train_mean['species']=='Iris-setosa')& (train_mean['sepal-width']==1)]['sepal-width'].count()\n",
        "  setosa_count_pl=train_mean.loc[(train_mean['species']=='Iris-setosa')& (train_mean['petal-length']==1)]['petal-length'].count()\n",
        "  setosa_count_pw=train_mean.loc[(train_mean['species']=='Iris-setosa')& (train_mean['petal-width']==1)]['petal-width'].count()\n",
        "  print(\"sepal length count:\", setosa_count_sl,\n",
        "         \"\\nsepal width count:\", setosa_count_sw,\n",
        "         \"\\npetal length count:\", setosa_count_pl,\n",
        "         \"\\npetal width count:\", setosa_count_pw)\n",
        "  #step3\n",
        "  #Calculating the proportion of all iris setosa per column that are above the mean (>1) (count of setosa from step2 / total count of iris setosa from step1)\n",
        "  proportion_setosa_sl=setosa_count_sl/train_species_count\n",
        "  proportion_setosa_sw=setosa_count_sw/train_species_count\n",
        "  proportion_setosa_pl=setosa_count_pl/train_species_count\n",
        "  proportion_setosa_pw=setosa_count_pw/train_species_count\n",
        "  print(\"setosa proportion with sepal legth > mean:\", round(proportion_setosa_sl,2),\n",
        "        \"\\nsetosa proportion with sepal width > mean:\", round(proportion_setosa_sw,2),\n",
        "        \"\\nsetosa proportion with petal legth > mean:\", round(proportion_setosa_pl,2),\n",
        "        \"\\nsetosa proportion with petal width > mean:\", round(proportion_setosa_pw,2))\n",
        "  \n",
        "  #step4 - below the mean\n",
        "  #Counting all iris virignica per column with values below the mean\n",
        "  setosa2_count_sl=train_mean.loc[(train_mean['species']=='Iris-setosa')& (train_mean['sepal-length']==0)]['sepal-length'].count()\n",
        "  setosa2_count_sw=train_mean.loc[(train_mean['species']=='Iris-setosa')& (train_mean['sepal-width']==0)]['sepal-width'].count()\n",
        "  setosa2_count_pl=train_mean.loc[(train_mean['species']=='Iris-setosa')& (train_mean['petal-length']==0)]['petal-length'].count()\n",
        "  setosa2_count_pw=train_mean.loc[(train_mean['species']=='Iris-setosa')& (train_mean['petal-width']==0)]['petal-width'].count()\n",
        "  print(\"sepal length count:\", setosa2_count_sl,\n",
        "         \"\\nsepal width count:\", setosa2_count_sw,\n",
        "         \"\\npetal length count:\", setosa2_count_pl,\n",
        "         \"\\npetal width count:\", setosa2_count_pw)\n",
        "  #step5 - below the mean\n",
        "  #Calculating the proportion of all iris setosa per column that are below the mean (<1) (count of setosa from step2 / total count of iris setosa from step1)\n",
        "  proportion_setosa2_sl=setosa_count_sl/train_species_count\n",
        "  proportion_setosa2_sw=setosa_count_sw/train_species_count\n",
        "  proportion_setosa2_pl=setosa_count_pl/train_species_count\n",
        "  proportion_setosa2_pw=setosa_count_pw/train_species_count\n",
        "  print(\"setosa proportion with sepal legth < mean:\", round(proportion_setosa2_sl,2),\n",
        "        \"\\nsetosa proportion with sepal width < mean:\", round(proportion_setosa2_sw,2),\n",
        "        \"\\nsetosa proportion with petal legth < mean:\", round(proportion_setosa2_pl,2),\n",
        "        \"\\nsetosa proportion with petal width < mean:\", round(proportion_setosa2_pw,2))\n",
        "  \n",
        "setosa_proportion()"
      ],
      "metadata": {
        "colab": {
          "base_uri": "https://localhost:8080/"
        },
        "outputId": "55796102-98b3-4570-d128-3a53281919bc",
        "id": "yM5ln-T0p2-s"
      },
      "execution_count": 47,
      "outputs": [
        {
          "output_type": "stream",
          "name": "stdout",
          "text": [
            "setosa count:  31\n",
            "sepal length count: 0 \n",
            "sepal width count: 28 \n",
            "petal length count: 0 \n",
            "petal width count: 0\n",
            "setosa proportion with sepal legth > mean: 0.0 \n",
            "setosa proportion with sepal width > mean: 0.9 \n",
            "setosa proportion with petal legth > mean: 0.0 \n",
            "setosa proportion with petal width > mean: 0.0\n",
            "sepal length count: 31 \n",
            "sepal width count: 3 \n",
            "petal length count: 31 \n",
            "petal width count: 31\n",
            "setosa proportion with sepal legth < mean: 0.0 \n",
            "setosa proportion with sepal width < mean: 0.9 \n",
            "setosa proportion with petal legth < mean: 0.0 \n",
            "setosa proportion with petal width < mean: 0.0\n"
          ]
        }
      ]
    },
    {
      "cell_type": "markdown",
      "metadata": {
        "id": "5Ix6Hh0Uy9MS"
      },
      "source": [
        "### Exercise 6 - predict from the results\n",
        "---\n",
        "\n",
        "Create a list of dictionaries from the results Exercise 4 and 5 (e.g. {'species':..., 'above_mean': 0.xx, 'below_mean': 0.xx}  \n",
        "\n",
        "Then use a loop to go through the list and print:  \n",
        "*  any species and indicator (above or below mean) that can reliably be predicted.  A reliable prediction may be one over 0.5"
      ]
    },
    {
      "cell_type": "code",
      "metadata": {
        "id": "FPvXa8x81re7",
        "colab": {
          "base_uri": "https://localhost:8080/",
          "height": 450
        },
        "outputId": "6783e031-1360-44f2-d124-09edead9a058"
      },
      "source": [
        "#show which columns are reliable predictors\n",
        "\n",
        "import numpy as np\n",
        "import pandas as pd\n",
        "\n",
        "data = {'species': [\"virginica\", 'versicolor', 'setosa'], \n",
        "        'sepal_length_above_mean': [\"0.88\", '0.55', '0.0'],\n",
        "        'sepal_width_above_mean': [\"0.35\", '0.18', '0.82'],\n",
        "        'petal_length_above_mean': [\"1\", '0.87', '0.0'],\n",
        "        'petal_width_above_mean': [\"1\", '0.71', '0.0'],\n",
        "        'sepal_length_below_mean': [\"0.12\", '0.55', '0.0'],\n",
        "        'sepal_width_below_mean': [\"0.65\", '0.18', '0.82'],\n",
        "        'petal_length_below_mean': [\"0.0\", '0.87', '0.0'],\n",
        "        'petal_width_below_mean': [\"0.0\", '0.71', '0.0']}\n",
        "\t\t\n",
        "#passing column names in the columns parameter \n",
        "iris_stats = pd.DataFrame(data)\n",
        "print (iris_stats)\n",
        "iris_stats"
      ],
      "execution_count": 48,
      "outputs": [
        {
          "output_type": "stream",
          "name": "stdout",
          "text": [
            "      species sepal_length_above_mean sepal_width_above_mean  \\\n",
            "0   virginica                    0.88                   0.35   \n",
            "1  versicolor                    0.55                   0.18   \n",
            "2      setosa                     0.0                   0.82   \n",
            "\n",
            "  petal_length_above_mean petal_width_above_mean sepal_length_below_mean  \\\n",
            "0                       1                      1                    0.12   \n",
            "1                    0.87                   0.71                    0.55   \n",
            "2                     0.0                    0.0                     0.0   \n",
            "\n",
            "  sepal_width_below_mean petal_length_below_mean petal_width_below_mean  \n",
            "0                   0.65                     0.0                    0.0  \n",
            "1                   0.18                    0.87                   0.71  \n",
            "2                   0.82                     0.0                    0.0  \n"
          ]
        },
        {
          "output_type": "execute_result",
          "data": {
            "text/plain": [
              "      species sepal_length_above_mean sepal_width_above_mean  \\\n",
              "0   virginica                    0.88                   0.35   \n",
              "1  versicolor                    0.55                   0.18   \n",
              "2      setosa                     0.0                   0.82   \n",
              "\n",
              "  petal_length_above_mean petal_width_above_mean sepal_length_below_mean  \\\n",
              "0                       1                      1                    0.12   \n",
              "1                    0.87                   0.71                    0.55   \n",
              "2                     0.0                    0.0                     0.0   \n",
              "\n",
              "  sepal_width_below_mean petal_length_below_mean petal_width_below_mean  \n",
              "0                   0.65                     0.0                    0.0  \n",
              "1                   0.18                    0.87                   0.71  \n",
              "2                   0.82                     0.0                    0.0  "
            ],
            "text/html": [
              "\n",
              "  <div id=\"df-ce9d417a-504d-4488-991e-0314099de222\">\n",
              "    <div class=\"colab-df-container\">\n",
              "      <div>\n",
              "<style scoped>\n",
              "    .dataframe tbody tr th:only-of-type {\n",
              "        vertical-align: middle;\n",
              "    }\n",
              "\n",
              "    .dataframe tbody tr th {\n",
              "        vertical-align: top;\n",
              "    }\n",
              "\n",
              "    .dataframe thead th {\n",
              "        text-align: right;\n",
              "    }\n",
              "</style>\n",
              "<table border=\"1\" class=\"dataframe\">\n",
              "  <thead>\n",
              "    <tr style=\"text-align: right;\">\n",
              "      <th></th>\n",
              "      <th>species</th>\n",
              "      <th>sepal_length_above_mean</th>\n",
              "      <th>sepal_width_above_mean</th>\n",
              "      <th>petal_length_above_mean</th>\n",
              "      <th>petal_width_above_mean</th>\n",
              "      <th>sepal_length_below_mean</th>\n",
              "      <th>sepal_width_below_mean</th>\n",
              "      <th>petal_length_below_mean</th>\n",
              "      <th>petal_width_below_mean</th>\n",
              "    </tr>\n",
              "  </thead>\n",
              "  <tbody>\n",
              "    <tr>\n",
              "      <th>0</th>\n",
              "      <td>virginica</td>\n",
              "      <td>0.88</td>\n",
              "      <td>0.35</td>\n",
              "      <td>1</td>\n",
              "      <td>1</td>\n",
              "      <td>0.12</td>\n",
              "      <td>0.65</td>\n",
              "      <td>0.0</td>\n",
              "      <td>0.0</td>\n",
              "    </tr>\n",
              "    <tr>\n",
              "      <th>1</th>\n",
              "      <td>versicolor</td>\n",
              "      <td>0.55</td>\n",
              "      <td>0.18</td>\n",
              "      <td>0.87</td>\n",
              "      <td>0.71</td>\n",
              "      <td>0.55</td>\n",
              "      <td>0.18</td>\n",
              "      <td>0.87</td>\n",
              "      <td>0.71</td>\n",
              "    </tr>\n",
              "    <tr>\n",
              "      <th>2</th>\n",
              "      <td>setosa</td>\n",
              "      <td>0.0</td>\n",
              "      <td>0.82</td>\n",
              "      <td>0.0</td>\n",
              "      <td>0.0</td>\n",
              "      <td>0.0</td>\n",
              "      <td>0.82</td>\n",
              "      <td>0.0</td>\n",
              "      <td>0.0</td>\n",
              "    </tr>\n",
              "  </tbody>\n",
              "</table>\n",
              "</div>\n",
              "      <button class=\"colab-df-convert\" onclick=\"convertToInteractive('df-ce9d417a-504d-4488-991e-0314099de222')\"\n",
              "              title=\"Convert this dataframe to an interactive table.\"\n",
              "              style=\"display:none;\">\n",
              "        \n",
              "  <svg xmlns=\"http://www.w3.org/2000/svg\" height=\"24px\"viewBox=\"0 0 24 24\"\n",
              "       width=\"24px\">\n",
              "    <path d=\"M0 0h24v24H0V0z\" fill=\"none\"/>\n",
              "    <path d=\"M18.56 5.44l.94 2.06.94-2.06 2.06-.94-2.06-.94-.94-2.06-.94 2.06-2.06.94zm-11 1L8.5 8.5l.94-2.06 2.06-.94-2.06-.94L8.5 2.5l-.94 2.06-2.06.94zm10 10l.94 2.06.94-2.06 2.06-.94-2.06-.94-.94-2.06-.94 2.06-2.06.94z\"/><path d=\"M17.41 7.96l-1.37-1.37c-.4-.4-.92-.59-1.43-.59-.52 0-1.04.2-1.43.59L10.3 9.45l-7.72 7.72c-.78.78-.78 2.05 0 2.83L4 21.41c.39.39.9.59 1.41.59.51 0 1.02-.2 1.41-.59l7.78-7.78 2.81-2.81c.8-.78.8-2.07 0-2.86zM5.41 20L4 18.59l7.72-7.72 1.47 1.35L5.41 20z\"/>\n",
              "  </svg>\n",
              "      </button>\n",
              "      \n",
              "  <style>\n",
              "    .colab-df-container {\n",
              "      display:flex;\n",
              "      flex-wrap:wrap;\n",
              "      gap: 12px;\n",
              "    }\n",
              "\n",
              "    .colab-df-convert {\n",
              "      background-color: #E8F0FE;\n",
              "      border: none;\n",
              "      border-radius: 50%;\n",
              "      cursor: pointer;\n",
              "      display: none;\n",
              "      fill: #1967D2;\n",
              "      height: 32px;\n",
              "      padding: 0 0 0 0;\n",
              "      width: 32px;\n",
              "    }\n",
              "\n",
              "    .colab-df-convert:hover {\n",
              "      background-color: #E2EBFA;\n",
              "      box-shadow: 0px 1px 2px rgba(60, 64, 67, 0.3), 0px 1px 3px 1px rgba(60, 64, 67, 0.15);\n",
              "      fill: #174EA6;\n",
              "    }\n",
              "\n",
              "    [theme=dark] .colab-df-convert {\n",
              "      background-color: #3B4455;\n",
              "      fill: #D2E3FC;\n",
              "    }\n",
              "\n",
              "    [theme=dark] .colab-df-convert:hover {\n",
              "      background-color: #434B5C;\n",
              "      box-shadow: 0px 1px 3px 1px rgba(0, 0, 0, 0.15);\n",
              "      filter: drop-shadow(0px 1px 2px rgba(0, 0, 0, 0.3));\n",
              "      fill: #FFFFFF;\n",
              "    }\n",
              "  </style>\n",
              "\n",
              "      <script>\n",
              "        const buttonEl =\n",
              "          document.querySelector('#df-ce9d417a-504d-4488-991e-0314099de222 button.colab-df-convert');\n",
              "        buttonEl.style.display =\n",
              "          google.colab.kernel.accessAllowed ? 'block' : 'none';\n",
              "\n",
              "        async function convertToInteractive(key) {\n",
              "          const element = document.querySelector('#df-ce9d417a-504d-4488-991e-0314099de222');\n",
              "          const dataTable =\n",
              "            await google.colab.kernel.invokeFunction('convertToInteractive',\n",
              "                                                     [key], {});\n",
              "          if (!dataTable) return;\n",
              "\n",
              "          const docLinkHtml = 'Like what you see? Visit the ' +\n",
              "            '<a target=\"_blank\" href=https://colab.research.google.com/notebooks/data_table.ipynb>data table notebook</a>'\n",
              "            + ' to learn more about interactive tables.';\n",
              "          element.innerHTML = '';\n",
              "          dataTable['output_type'] = 'display_data';\n",
              "          await google.colab.output.renderOutput(dataTable, element);\n",
              "          const docLink = document.createElement('div');\n",
              "          docLink.innerHTML = docLinkHtml;\n",
              "          element.appendChild(docLink);\n",
              "        }\n",
              "      </script>\n",
              "    </div>\n",
              "  </div>\n",
              "  "
            ]
          },
          "metadata": {},
          "execution_count": 48
        }
      ]
    },
    {
      "cell_type": "markdown",
      "source": [
        "In order to identify certain predictors as reliable, we need to look at values that are over 0.5.<br>\n",
        "\n",
        "We can conclude as reliable predictors for each species, the following from the table above:\n",
        "- **Virginica**: \n",
        "sepal_length_above_mean, petal_length_above_mean, width_above_mean, and sepal_width_below_mean are all above 0.5 with the strongest ones being petal length & width above mean that are equal to 1.\n",
        "- **Versicolor**: there is a clear reliability in all petal metrics and the only sepal metric that makes the mark is sepal_length_below_mean.\n",
        "- **Setosa**: there is a distinctive lack of reliability in the data for this species with only sepal_width_above_mean and sepal_width_mean above the 0.5 threshold. This result of the setosa distinction matches the overall data analysis and is also visible in the pairplot of part 1 of the project that demonstrated a clear separation of the setosa species in relation to the other two species."
      ],
      "metadata": {
        "id": "DEDlu8Puuwtu"
      }
    },
    {
      "cell_type": "markdown",
      "metadata": {
        "id": "ws2TxeRrnIJ4"
      },
      "source": [
        "### Exercise 6 - Make a decision tree\n",
        "---\n",
        "\n",
        "Use pencil and paper or a graphical application to create a decision tree for Iris-virginica, using the following rules (use the picture below as a guide):\n",
        "\n",
        "*  The column with the highest indicator is placed at the top\n",
        "*  Other columns are placed in order below\n",
        "*  The rest of the columns are placed in order below these\n",
        "\n",
        "Any column where one branch (on or above mean OR below mean) has an indicator of 0, could be classified as a strong indicator of Iris_virginica being the species.  Anything else, unless there is something very close to 0, could be classified as a weak indicator of Iris_virginica being the species.\n",
        "\n",
        "Let's code the decision tree using the following logic for this decision tree (yours might be slightly different):\n",
        "\n",
        "![Decision tree](https://drive.google.com/uc?id=1CTo23EHwR2IPCRjcfSyCQsT_oQ5Exwso)\n",
        "\n",
        "In the decision tree above, there is no certainty below petal-length so our decision tree will only include petal-width and petal-length.\n",
        "\n",
        "\n"
      ]
    },
    {
      "cell_type": "markdown",
      "source": [
        "###Calculations for mean:\n",
        "![image.png](data:image/png;base64,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)"
      ],
      "metadata": {
        "id": "pZ-2A8ZA_6FO"
      }
    },
    {
      "cell_type": "markdown",
      "source": [
        "The Decision Tree based on the above calculations is as follows:\n",
        "![Decision_Tree_Python.png](data:image/png;base64,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)"
      ],
      "metadata": {
        "id": "J4LLngGF8t_K"
      }
    },
    {
      "cell_type": "code",
      "metadata": {
        "id": "tkCCL0ERDife",
        "colab": {
          "base_uri": "https://localhost:8080/"
        },
        "outputId": "657f4ef7-77ca-482b-aa88-ee102e87d5ec"
      },
      "source": [
        "def get_species(df):\n",
        "  # ADD CODE HERE TO RETURN None if petal-width is below mean (encoded as 0) or if petal-length is below mean (encoded as 0), otherwise return 'Iris-virginia'\n",
        "    if df['petal-width'] == 0:\n",
        "        return None\n",
        "        if df['petal-length'] == 0:\n",
        "            return None\n",
        "            if df['sepal-length'] == 0:\n",
        "                return None\n",
        "    return 'Iris-virginica' \n",
        "\n",
        "# use the get_species(df) function to predict the species, count how many are predicted correct and use this to calculate the proportion correct\n",
        "correct = 0\n",
        "test_size = test.shape[0]\n",
        "for i in range(0, test_size):\n",
        "  species = get_species(test.iloc[i])\n",
        "  if species == test.iloc[i]['species']:\n",
        "      correct += 1\n",
        "\n",
        "print (\"Proportion correctly identified\", correct / test_size) \n"
      ],
      "execution_count": 49,
      "outputs": [
        {
          "output_type": "stream",
          "name": "stdout",
          "text": [
            "Proportion correctly identified 0.3333333333333333\n"
          ]
        }
      ]
    },
    {
      "cell_type": "markdown",
      "metadata": {
        "id": "-2tQcT5ILtxl"
      },
      "source": [
        "### Exercise 7 - change the measure into median\n",
        "\n",
        "We are currently using the mean to act as the decision making line.  We can use the decision tree with a different line.\n",
        "\n",
        "Change the mean values so that you are instead using the **median** instead for all four columns.  The code should not need changing except for where you calculated the mean.\n",
        "\n",
        "Run all the code again.  Is the proportion of correct values better this time?   Is the decision tree still appropriate?\n"
      ]
    },
    {
      "cell_type": "code",
      "metadata": {
        "colab": {
          "base_uri": "https://localhost:8080/",
          "height": 736
        },
        "outputId": "c01745e8-633f-4fa9-fea7-abe90df7b95f",
        "id": "Q89bJo7YCsmr"
      },
      "source": [
        "#get the median for each column and apply a function to encode into 1 (above median) and 0 (median or below median)\n",
        "#step1\n",
        "def encode2(df, **kdws):\n",
        "  indicator2 = kdws['indicator2']\n",
        "  key = kdws['key']\n",
        "  if df[key] > indicator2:\n",
        "    return 1\n",
        "  else:\n",
        "    return 0\n",
        "\n",
        "#step2\n",
        "#calculating the medians of the metrics columns\n",
        "sl_median = train[\"sepal-length\"].median()\n",
        "print(\"median of sepal length: \", sl_median)\n",
        "sw_median = train[\"sepal-width\"].median()\n",
        "print(\"median of sepal width: \", sw_median)\n",
        "pl_median = train[\"petal-length\"].median()\n",
        "print(\"median of petal length: \", pl_median)\n",
        "pw_median = train[\"petal-width\"].median()\n",
        "print(\"median of petal with: \", pw_median)\n",
        "\n",
        "#step3\n",
        "#run the function for each column so that each of the four columns are encoded [0 = below median, 1 = above median], then drop the original columns, saving as a new dataframe\n",
        "train_median = train.copy() #creating a new copy of the original dtframe\n",
        "train_median['sepal-length'] = train_median.apply(encode, axis=1, key='sepal-length', indicator=train['sepal-length'].median())\n",
        "train_median['sepal-width'] = train_median.apply(encode, axis=1, key='sepal-width', indicator=train['sepal-width'].median())\n",
        "train_median['petal-length'] = train_median.apply(encode, axis=1, key='petal-length', indicator=train['petal-length'].median())\n",
        "train_median['petal-width'] = train_median.apply(encode, axis=1, key='petal-width', indicator=train['petal-width'].median())\n",
        "\n",
        "#If we rename the column titles to 'sepal-length2' etc, that will create a copy of the dataframe with the new columns created via renaming. \n",
        "#The variant 'train_median' is also a exact copy of the variant 'train'. \n",
        "# train_median['sepal-length2'] = train.apply(encode, axis=1, key='sepal-length', indicator=train['sepal-length'].median())\n",
        "# train_median['sepal-width2'] = train.apply(encode, axis=1, key='sepal-width', indicator=train['sepal-width'].median())\n",
        "# train_median['petal-length2'] = train.apply(encode, axis=1, key='petal-length', indicator=train['petal-length'].median())\n",
        "# train_median['petal-width2'] = train.apply(encode, axis=1, key='petal-width', indicator=train['petal-width'].median())\n",
        "print(train_median)\n",
        "train_median\n",
        "#train_median.describe()"
      ],
      "execution_count": 56,
      "outputs": [
        {
          "output_type": "stream",
          "name": "stdout",
          "text": [
            "median of sepal length:  5.8\n",
            "median of sepal width:  3.0\n",
            "median of petal length:  4.5\n",
            "median of petal with:  1.4\n",
            "     sepal-length  sepal-width  petal-length  petal-width          species\n",
            "129             1            0             1            1   Iris-virginica\n",
            "72              1            0             1            1  Iris-versicolor\n",
            "108             1            0             1            1   Iris-virginica\n",
            "18              0            1             0            0      Iris-setosa\n",
            "120             1            1             1            1   Iris-virginica\n",
            "..            ...          ...           ...          ...              ...\n",
            "118             1            0             1            1   Iris-virginica\n",
            "93              0            0             0            0  Iris-versicolor\n",
            "146             1            0             1            1   Iris-virginica\n",
            "132             1            0             1            1   Iris-virginica\n",
            "3               0            1             0            0      Iris-setosa\n",
            "\n",
            "[105 rows x 5 columns]\n"
          ]
        },
        {
          "output_type": "execute_result",
          "data": {
            "text/plain": [
              "     sepal-length  sepal-width  petal-length  petal-width          species\n",
              "129             1            0             1            1   Iris-virginica\n",
              "72              1            0             1            1  Iris-versicolor\n",
              "108             1            0             1            1   Iris-virginica\n",
              "18              0            1             0            0      Iris-setosa\n",
              "120             1            1             1            1   Iris-virginica\n",
              "..            ...          ...           ...          ...              ...\n",
              "118             1            0             1            1   Iris-virginica\n",
              "93              0            0             0            0  Iris-versicolor\n",
              "146             1            0             1            1   Iris-virginica\n",
              "132             1            0             1            1   Iris-virginica\n",
              "3               0            1             0            0      Iris-setosa\n",
              "\n",
              "[105 rows x 5 columns]"
            ],
            "text/html": [
              "\n",
              "  <div id=\"df-660d0c0b-e62b-4050-8a77-990c36d5e795\">\n",
              "    <div class=\"colab-df-container\">\n",
              "      <div>\n",
              "<style scoped>\n",
              "    .dataframe tbody tr th:only-of-type {\n",
              "        vertical-align: middle;\n",
              "    }\n",
              "\n",
              "    .dataframe tbody tr th {\n",
              "        vertical-align: top;\n",
              "    }\n",
              "\n",
              "    .dataframe thead th {\n",
              "        text-align: right;\n",
              "    }\n",
              "</style>\n",
              "<table border=\"1\" class=\"dataframe\">\n",
              "  <thead>\n",
              "    <tr style=\"text-align: right;\">\n",
              "      <th></th>\n",
              "      <th>sepal-length</th>\n",
              "      <th>sepal-width</th>\n",
              "      <th>petal-length</th>\n",
              "      <th>petal-width</th>\n",
              "      <th>species</th>\n",
              "    </tr>\n",
              "  </thead>\n",
              "  <tbody>\n",
              "    <tr>\n",
              "      <th>129</th>\n",
              "      <td>1</td>\n",
              "      <td>0</td>\n",
              "      <td>1</td>\n",
              "      <td>1</td>\n",
              "      <td>Iris-virginica</td>\n",
              "    </tr>\n",
              "    <tr>\n",
              "      <th>72</th>\n",
              "      <td>1</td>\n",
              "      <td>0</td>\n",
              "      <td>1</td>\n",
              "      <td>1</td>\n",
              "      <td>Iris-versicolor</td>\n",
              "    </tr>\n",
              "    <tr>\n",
              "      <th>108</th>\n",
              "      <td>1</td>\n",
              "      <td>0</td>\n",
              "      <td>1</td>\n",
              "      <td>1</td>\n",
              "      <td>Iris-virginica</td>\n",
              "    </tr>\n",
              "    <tr>\n",
              "      <th>18</th>\n",
              "      <td>0</td>\n",
              "      <td>1</td>\n",
              "      <td>0</td>\n",
              "      <td>0</td>\n",
              "      <td>Iris-setosa</td>\n",
              "    </tr>\n",
              "    <tr>\n",
              "      <th>120</th>\n",
              "      <td>1</td>\n",
              "      <td>1</td>\n",
              "      <td>1</td>\n",
              "      <td>1</td>\n",
              "      <td>Iris-virginica</td>\n",
              "    </tr>\n",
              "    <tr>\n",
              "      <th>...</th>\n",
              "      <td>...</td>\n",
              "      <td>...</td>\n",
              "      <td>...</td>\n",
              "      <td>...</td>\n",
              "      <td>...</td>\n",
              "    </tr>\n",
              "    <tr>\n",
              "      <th>118</th>\n",
              "      <td>1</td>\n",
              "      <td>0</td>\n",
              "      <td>1</td>\n",
              "      <td>1</td>\n",
              "      <td>Iris-virginica</td>\n",
              "    </tr>\n",
              "    <tr>\n",
              "      <th>93</th>\n",
              "      <td>0</td>\n",
              "      <td>0</td>\n",
              "      <td>0</td>\n",
              "      <td>0</td>\n",
              "      <td>Iris-versicolor</td>\n",
              "    </tr>\n",
              "    <tr>\n",
              "      <th>146</th>\n",
              "      <td>1</td>\n",
              "      <td>0</td>\n",
              "      <td>1</td>\n",
              "      <td>1</td>\n",
              "      <td>Iris-virginica</td>\n",
              "    </tr>\n",
              "    <tr>\n",
              "      <th>132</th>\n",
              "      <td>1</td>\n",
              "      <td>0</td>\n",
              "      <td>1</td>\n",
              "      <td>1</td>\n",
              "      <td>Iris-virginica</td>\n",
              "    </tr>\n",
              "    <tr>\n",
              "      <th>3</th>\n",
              "      <td>0</td>\n",
              "      <td>1</td>\n",
              "      <td>0</td>\n",
              "      <td>0</td>\n",
              "      <td>Iris-setosa</td>\n",
              "    </tr>\n",
              "  </tbody>\n",
              "</table>\n",
              "<p>105 rows × 5 columns</p>\n",
              "</div>\n",
              "      <button class=\"colab-df-convert\" onclick=\"convertToInteractive('df-660d0c0b-e62b-4050-8a77-990c36d5e795')\"\n",
              "              title=\"Convert this dataframe to an interactive table.\"\n",
              "              style=\"display:none;\">\n",
              "        \n",
              "  <svg xmlns=\"http://www.w3.org/2000/svg\" height=\"24px\"viewBox=\"0 0 24 24\"\n",
              "       width=\"24px\">\n",
              "    <path d=\"M0 0h24v24H0V0z\" fill=\"none\"/>\n",
              "    <path d=\"M18.56 5.44l.94 2.06.94-2.06 2.06-.94-2.06-.94-.94-2.06-.94 2.06-2.06.94zm-11 1L8.5 8.5l.94-2.06 2.06-.94-2.06-.94L8.5 2.5l-.94 2.06-2.06.94zm10 10l.94 2.06.94-2.06 2.06-.94-2.06-.94-.94-2.06-.94 2.06-2.06.94z\"/><path d=\"M17.41 7.96l-1.37-1.37c-.4-.4-.92-.59-1.43-.59-.52 0-1.04.2-1.43.59L10.3 9.45l-7.72 7.72c-.78.78-.78 2.05 0 2.83L4 21.41c.39.39.9.59 1.41.59.51 0 1.02-.2 1.41-.59l7.78-7.78 2.81-2.81c.8-.78.8-2.07 0-2.86zM5.41 20L4 18.59l7.72-7.72 1.47 1.35L5.41 20z\"/>\n",
              "  </svg>\n",
              "      </button>\n",
              "      \n",
              "  <style>\n",
              "    .colab-df-container {\n",
              "      display:flex;\n",
              "      flex-wrap:wrap;\n",
              "      gap: 12px;\n",
              "    }\n",
              "\n",
              "    .colab-df-convert {\n",
              "      background-color: #E8F0FE;\n",
              "      border: none;\n",
              "      border-radius: 50%;\n",
              "      cursor: pointer;\n",
              "      display: none;\n",
              "      fill: #1967D2;\n",
              "      height: 32px;\n",
              "      padding: 0 0 0 0;\n",
              "      width: 32px;\n",
              "    }\n",
              "\n",
              "    .colab-df-convert:hover {\n",
              "      background-color: #E2EBFA;\n",
              "      box-shadow: 0px 1px 2px rgba(60, 64, 67, 0.3), 0px 1px 3px 1px rgba(60, 64, 67, 0.15);\n",
              "      fill: #174EA6;\n",
              "    }\n",
              "\n",
              "    [theme=dark] .colab-df-convert {\n",
              "      background-color: #3B4455;\n",
              "      fill: #D2E3FC;\n",
              "    }\n",
              "\n",
              "    [theme=dark] .colab-df-convert:hover {\n",
              "      background-color: #434B5C;\n",
              "      box-shadow: 0px 1px 3px 1px rgba(0, 0, 0, 0.15);\n",
              "      filter: drop-shadow(0px 1px 2px rgba(0, 0, 0, 0.3));\n",
              "      fill: #FFFFFF;\n",
              "    }\n",
              "  </style>\n",
              "\n",
              "      <script>\n",
              "        const buttonEl =\n",
              "          document.querySelector('#df-660d0c0b-e62b-4050-8a77-990c36d5e795 button.colab-df-convert');\n",
              "        buttonEl.style.display =\n",
              "          google.colab.kernel.accessAllowed ? 'block' : 'none';\n",
              "\n",
              "        async function convertToInteractive(key) {\n",
              "          const element = document.querySelector('#df-660d0c0b-e62b-4050-8a77-990c36d5e795');\n",
              "          const dataTable =\n",
              "            await google.colab.kernel.invokeFunction('convertToInteractive',\n",
              "                                                     [key], {});\n",
              "          if (!dataTable) return;\n",
              "\n",
              "          const docLinkHtml = 'Like what you see? Visit the ' +\n",
              "            '<a target=\"_blank\" href=https://colab.research.google.com/notebooks/data_table.ipynb>data table notebook</a>'\n",
              "            + ' to learn more about interactive tables.';\n",
              "          element.innerHTML = '';\n",
              "          dataTable['output_type'] = 'display_data';\n",
              "          await google.colab.output.renderOutput(dataTable, element);\n",
              "          const docLink = document.createElement('div');\n",
              "          docLink.innerHTML = docLinkHtml;\n",
              "          element.appendChild(docLink);\n",
              "        }\n",
              "      </script>\n",
              "    </div>\n",
              "  </div>\n",
              "  "
            ]
          },
          "metadata": {},
          "execution_count": 56
        }
      ]
    },
    {
      "cell_type": "markdown",
      "source": [
        ""
      ],
      "metadata": {
        "id": "24IIWOfcLPdi"
      }
    },
    {
      "cell_type": "markdown",
      "source": [
        "##Iris-virginica above & below mean proportions."
      ],
      "metadata": {
        "id": "KQAgtKAYM2VB"
      }
    },
    {
      "cell_type": "code",
      "source": [
        "def virginica_proportion_virginica():\n",
        "\n",
        "  #step1\n",
        "  #Getting a count of all the rows with name 'iris virginica' in the column species\n",
        "  train_species_count=train_median.loc[(train_median['species']=='Iris-virginica')]['species'].count()\n",
        "  print(\"virginica count: \",train_species_count)\n",
        "  #step2\n",
        "  #Counting all iris virignica per column with values above the median\n",
        "  virginica_count_sl=train_median.loc[(train_median['species']=='Iris-virginica')& (train_median['sepal-length']==1)]['sepal-length'].count()\n",
        "  virginica_count_sw=train_median.loc[(train_median['species']=='Iris-virginica')& (train_median['sepal-width']==1)]['sepal-width'].count()\n",
        "  virginica_count_pl=train_median.loc[(train_median['species']=='Iris-virginica')& (train_median['petal-length']==1)]['petal-length'].count()\n",
        "  virginica_count_pw=train_median.loc[(train_median['species']=='Iris-virginica')& (train_median['petal-width']==1)]['petal-width'].count()\n",
        "  print(\"sepal length count:\", virginica_count_sl,\n",
        "         \"\\nsepal width count:\", virginica_count_sw,\n",
        "         \"\\npetal length count:\", virginica_count_pl,\n",
        "         \"\\npetal width count:\", virginica_count_pw)\n",
        "  #step3\n",
        "  #Calculating the proportion of all iris virginica per column that are above the median (>1) (count of virginica from step2 / total count of iris virginica from step1)\n",
        "  proportion_virginica_sl=virginica_count_sl/train_species_count\n",
        "  proportion_virginica_sw=virginica_count_sw/train_species_count\n",
        "  proportion_virginica_pl=virginica_count_pl/train_species_count\n",
        "  proportion_virginica_pw=virginica_count_pw/train_species_count\n",
        "  print(\"virginica proportion with sepal legth > median:\", round(proportion_virginica_sl,2),\n",
        "        \"\\nvirginica proportion with sepal width > median:\", round(proportion_virginica_sw,2),\n",
        "        \"\\nvirginica proportion with petal legth > median:\", round(proportion_virginica_pl,2),\n",
        "        \"\\nvirginica proportion with petal width > median:\", round(proportion_virginica_pw,2))\n",
        "  \n",
        "  #step4 - below the median\n",
        "  #Counting all iris virignica per column with values below the median\n",
        "  virginica2_count_sl=train_median.loc[(train_median['species']=='Iris-virginica')& (train_median['sepal-length']==0)]['sepal-length'].count()\n",
        "  virginica2_count_sw=train_median.loc[(train_median['species']=='Iris-virginica')& (train_median['sepal-width']==0)]['sepal-width'].count()\n",
        "  virginica2_count_pl=train_median.loc[(train_median['species']=='Iris-virginica')& (train_median['petal-length']==0)]['petal-length'].count()\n",
        "  virginica2_count_pw=train_median.loc[(train_median['species']=='Iris-virginica')& (train_median['petal-width']==0)]['petal-width'].count()\n",
        "  print(\"sepal length count:\", virginica2_count_sl,\n",
        "         \"\\nsepal width count:\", virginica2_count_sw,\n",
        "         \"\\npetal length count:\", virginica2_count_pl,\n",
        "         \"\\npetal width count:\", virginica2_count_pw)\n",
        "  #step5 - below the median\n",
        "  #Calculating the proportion of all iris virginica per column that are below the median (<1) (count of virginica from step2 / total count of iris virginica from step1)\n",
        "  proportion_virginica2_sl=virginica_count_sl/train_species_count\n",
        "  proportion_virginica2_sw=virginica_count_sw/train_species_count\n",
        "  proportion_virginica2_pl=virginica_count_pl/train_species_count\n",
        "  proportion_virginica2_pw=virginica_count_pw/train_species_count\n",
        "  print(\"virginica proportion with sepal legth < median:\", round(proportion_virginica2_sl,2),\n",
        "        \"\\nvirginica proportion with sepal width < median:\", round(proportion_virginica2_sw,2),\n",
        "        \"\\nvirginica proportion with petal legth < median:\", round(proportion_virginica2_pl,2),\n",
        "        \"\\nvirginica proportion with petal width < median:\", round(proportion_virginica2_pw,2))\n",
        "  \n",
        "virginica_proportion_virginica()"
      ],
      "metadata": {
        "colab": {
          "base_uri": "https://localhost:8080/"
        },
        "id": "vJvGX1-5NQhW",
        "outputId": "60b19b7c-fb9d-49bf-b716-b879d9d52281"
      },
      "execution_count": 51,
      "outputs": [
        {
          "output_type": "stream",
          "name": "stdout",
          "text": [
            "virginica count:  35\n",
            "sepal length count: 30 \n",
            "sepal width count: 10 \n",
            "petal length count: 34 \n",
            "petal width count: 34\n",
            "virginica proportion with sepal legth > median: 0.86 \n",
            "virginica proportion with sepal width > median: 0.29 \n",
            "virginica proportion with petal legth > median: 0.97 \n",
            "virginica proportion with petal width > median: 0.97\n",
            "sepal length count: 5 \n",
            "sepal width count: 25 \n",
            "petal length count: 1 \n",
            "petal width count: 1\n",
            "virginica proportion with sepal legth < median: 0.86 \n",
            "virginica proportion with sepal width < median: 0.29 \n",
            "virginica proportion with petal legth < median: 0.97 \n",
            "virginica proportion with petal width < median: 0.97\n"
          ]
        }
      ]
    },
    {
      "cell_type": "markdown",
      "source": [
        "## Iris-versicolor above & below mean proportions."
      ],
      "metadata": {
        "id": "5UffAon7MMNc"
      }
    },
    {
      "cell_type": "code",
      "source": [
        "def versicolor_proportion_median():\n",
        "\n",
        "  #step1\n",
        "  #Getting a count of all the rows with name 'iris versicolor' in the column species\n",
        "  train_species_count=train_median.loc[(train_median['species']=='Iris-versicolor')]['species'].count()\n",
        "  print(\"versicolor count: \",train_species_count)\n",
        "  #step2\n",
        "  #Counting all iris virignica per column with values above the median\n",
        "  versicolor_count_sl=train_median.loc[(train_median['species']=='Iris-versicolor')& (train_median['sepal-length']==1)]['sepal-length'].count()\n",
        "  versicolor_count_sw=train_median.loc[(train_median['species']=='Iris-versicolor')& (train_median['sepal-width']==1)]['sepal-width'].count()\n",
        "  versicolor_count_pl=train_median.loc[(train_median['species']=='Iris-versicolor')& (train_median['petal-length']==1)]['petal-length'].count()\n",
        "  versicolor_count_pw=train_median.loc[(train_median['species']=='Iris-versicolor')& (train_median['petal-width']==1)]['petal-width'].count()\n",
        "  print(\"sepal length count:\", versicolor_count_sl,\n",
        "         \"\\nsepal width count:\", versicolor_count_sw,\n",
        "         \"\\npetal length count:\", versicolor_count_pl,\n",
        "         \"\\npetal width count:\", versicolor_count_pw)\n",
        "  #step3\n",
        "  #Calculating the proportion of all iris versicolor per column that are above the median (>1) (count of versicolor from step2 / total count of iris versicolor from step1)\n",
        "  proportion_versicolor_sl=versicolor_count_sl/train_species_count\n",
        "  proportion_versicolor_sw=versicolor_count_sw/train_species_count\n",
        "  proportion_versicolor_pl=versicolor_count_pl/train_species_count\n",
        "  proportion_versicolor_pw=versicolor_count_pw/train_species_count\n",
        "  print(\"versicolor proportion with sepal legth > median:\", round(proportion_versicolor_sl,2),\n",
        "        \"\\nversicolor proportion with sepal width > median:\", round(proportion_versicolor_sw,2),\n",
        "        \"\\nversicolor proportion with petal legth > median:\", round(proportion_versicolor_pl,2),\n",
        "        \"\\nversicolor proportion with petal width > median:\", round(proportion_versicolor_pw,2))\n",
        "  \n",
        "  #step4 - below the median\n",
        "  #Counting all iris virignica per column with values below the median\n",
        "  versicolor2_count_sl=train_median.loc[(train_median['species']=='Iris-versicolor')& (train_median['sepal-length']==0)]['sepal-length'].count()\n",
        "  versicolor2_count_sw=train_median.loc[(train_median['species']=='Iris-versicolor')& (train_median['sepal-width']==0)]['sepal-width'].count()\n",
        "  versicolor2_count_pl=train_median.loc[(train_median['species']=='Iris-versicolor')& (train_median['petal-length']==0)]['petal-length'].count()\n",
        "  versicolor2_count_pw=train_median.loc[(train_median['species']=='Iris-versicolor')& (train_median['petal-width']==0)]['petal-width'].count()\n",
        "  print(\"sepal length count:\", versicolor2_count_sl,\n",
        "         \"\\nsepal width count:\", versicolor2_count_sw,\n",
        "         \"\\npetal length count:\", versicolor2_count_pl,\n",
        "         \"\\npetal width count:\", versicolor2_count_pw)\n",
        "  #step5 - below the median\n",
        "  #Calculating the proportion of all iris versicolor per column that are below the median (<1) (count of versicolor from step2 / total count of iris versicolor from step1)\n",
        "  proportion_versicolor2_sl=versicolor_count_sl/train_species_count\n",
        "  proportion_versicolor2_sw=versicolor_count_sw/train_species_count\n",
        "  proportion_versicolor2_pl=versicolor_count_pl/train_species_count\n",
        "  proportion_versicolor2_pw=versicolor_count_pw/train_species_count\n",
        "  print(\"versicolor proportion with sepal legth < median:\", round(proportion_versicolor2_sl,2),\n",
        "        \"\\nversicolor proportion with sepal width < median:\", round(proportion_versicolor2_sw,2),\n",
        "        \"\\nversicolor proportion with petal legth < median:\", round(proportion_versicolor2_pl,2),\n",
        "        \"\\nversicolor proportion with petal width < median:\", round(proportion_versicolor2_pw,2))\n",
        "  \n",
        "versicolor_proportion_median()"
      ],
      "metadata": {
        "colab": {
          "base_uri": "https://localhost:8080/"
        },
        "id": "P_DIYbV8MWX-",
        "outputId": "326f2e18-05a6-4793-c445-dc4a25de91e2"
      },
      "execution_count": 52,
      "outputs": [
        {
          "output_type": "stream",
          "name": "stdout",
          "text": [
            "versicolor count:  39\n",
            "sepal length count: 22 \n",
            "sepal width count: 8 \n",
            "petal length count: 12 \n",
            "petal width count: 15\n",
            "versicolor proportion with sepal legth > median: 0.56 \n",
            "versicolor proportion with sepal width > median: 0.21 \n",
            "versicolor proportion with petal legth > median: 0.31 \n",
            "versicolor proportion with petal width > median: 0.38\n",
            "sepal length count: 17 \n",
            "sepal width count: 31 \n",
            "petal length count: 27 \n",
            "petal width count: 24\n",
            "versicolor proportion with sepal legth < median: 0.56 \n",
            "versicolor proportion with sepal width < median: 0.21 \n",
            "versicolor proportion with petal legth < median: 0.31 \n",
            "versicolor proportion with petal width < median: 0.38\n"
          ]
        }
      ]
    },
    {
      "cell_type": "markdown",
      "source": [
        "## Iris-setosa above & below median proportions."
      ],
      "metadata": {
        "id": "6CkGKqIJLYHR"
      }
    },
    {
      "cell_type": "code",
      "source": [
        "def setosa_proportion_median():\n",
        "\n",
        "  #step1\n",
        "  #Getting a count of all the rows with name 'iris setosa' in the column species\n",
        "  train_species_count=train_median.loc[(train_median['species']=='Iris-setosa')]['species'].count()\n",
        "  print(\"setosa count: \",train_species_count)\n",
        "  #step2\n",
        "  #Counting all iris virignica per column with values above the median\n",
        "  setosa_count_sl=train_median.loc[(train_median['species']=='Iris-setosa')& (train_median['sepal-length']==1)]['sepal-length'].count()\n",
        "  setosa_count_sw=train_median.loc[(train_median['species']=='Iris-setosa')& (train_median['sepal-width']==1)]['sepal-width'].count()\n",
        "  setosa_count_pl=train_median.loc[(train_median['species']=='Iris-setosa')& (train_median['petal-length']==1)]['petal-length'].count()\n",
        "  setosa_count_pw=train_median.loc[(train_median['species']=='Iris-setosa')& (train_median['petal-width']==1)]['petal-width'].count()\n",
        "  print(\"sepal length count:\", setosa_count_sl,\n",
        "         \"\\nsepal width count:\", setosa_count_sw,\n",
        "         \"\\npetal length count:\", setosa_count_pl,\n",
        "         \"\\npetal width count:\", setosa_count_pw)\n",
        "  #step3\n",
        "  #Calculating the proportion of all iris setosa per column that are above the median (>1) (count of setosa from step2 / total count of iris setosa from step1)\n",
        "  proportion_setosa_sl=setosa_count_sl/train_species_count\n",
        "  proportion_setosa_sw=setosa_count_sw/train_species_count\n",
        "  proportion_setosa_pl=setosa_count_pl/train_species_count\n",
        "  proportion_setosa_pw=setosa_count_pw/train_species_count\n",
        "  print(\"setosa proportion with sepal legth > median:\", round(proportion_setosa_sl,2),\n",
        "        \"\\nsetosa proportion with sepal width > median:\", round(proportion_setosa_sw,2),\n",
        "        \"\\nsetosa proportion with petal legth > median:\", round(proportion_setosa_pl,2),\n",
        "        \"\\nsetosa proportion with petal width > median:\", round(proportion_setosa_pw,2))\n",
        "  \n",
        "  #step4 - below the median\n",
        "  #Counting all iris virignica per column with values below the median\n",
        "  setosa2_count_sl=train_median.loc[(train_median['species']=='Iris-setosa')& (train_median['sepal-length']==0)]['sepal-length'].count()\n",
        "  setosa2_count_sw=train_median.loc[(train_median['species']=='Iris-setosa')& (train_median['sepal-width']==0)]['sepal-width'].count()\n",
        "  setosa2_count_pl=train_median.loc[(train_median['species']=='Iris-setosa')& (train_median['petal-length']==0)]['petal-length'].count()\n",
        "  setosa2_count_pw=train_median.loc[(train_median['species']=='Iris-setosa')& (train_median['petal-width']==0)]['petal-width'].count()\n",
        "  print(\"sepal length count:\", setosa2_count_sl,\n",
        "         \"\\nsepal width count:\", setosa2_count_sw,\n",
        "         \"\\npetal length count:\", setosa2_count_pl,\n",
        "         \"\\npetal width count:\", setosa2_count_pw)\n",
        "\n",
        "  #step5 - below the median\n",
        "  #Calculating the proportion of all iris setosa per column that are below the median (<1) (count of setosa from step2 / total count of iris setosa from step1)\n",
        "  proportion_setosa2_sl=setosa_count_sl/train_species_count\n",
        "  proportion_setosa2_sw=setosa_count_sw/train_species_count\n",
        "  proportion_setosa2_pl=setosa_count_pl/train_species_count\n",
        "  proportion_setosa2_pw=setosa_count_pw/train_species_count\n",
        "  print(\"setosa proportion with sepal legth < median:\", round(proportion_setosa2_sl,2),\n",
        "        \"\\nsetosa proportion with sepal width < median:\", round(proportion_setosa2_sw,2),\n",
        "        \"\\nsetosa proportion with petal legth < median:\", round(proportion_setosa2_pl,2),\n",
        "        \"\\nsetosa proportion with petal width < median:\", round(proportion_setosa2_pw,2))\n",
        "  \n",
        "setosa_proportion_median()"
      ],
      "metadata": {
        "colab": {
          "base_uri": "https://localhost:8080/"
        },
        "id": "YFPKy4piCOqv",
        "outputId": "076ea26d-c761-4159-c32c-a2df3719f89d"
      },
      "execution_count": 53,
      "outputs": [
        {
          "output_type": "stream",
          "name": "stdout",
          "text": [
            "setosa count:  31\n",
            "sepal length count: 0 \n",
            "sepal width count: 28 \n",
            "petal length count: 0 \n",
            "petal width count: 0\n",
            "setosa proportion with sepal legth > median: 0.0 \n",
            "setosa proportion with sepal width > median: 0.9 \n",
            "setosa proportion with petal legth > median: 0.0 \n",
            "setosa proportion with petal width > median: 0.0\n",
            "sepal length count: 31 \n",
            "sepal width count: 3 \n",
            "petal length count: 31 \n",
            "petal width count: 31\n",
            "setosa proportion with sepal legth < median: 0.0 \n",
            "setosa proportion with sepal width < median: 0.9 \n",
            "setosa proportion with petal legth < median: 0.0 \n",
            "setosa proportion with petal width < median: 0.0\n"
          ]
        }
      ]
    },
    {
      "cell_type": "markdown",
      "metadata": {
        "id": "WimD4E5zNub1"
      },
      "source": [
        "What do you notice? (write your answer here)"
      ]
    },
    {
      "cell_type": "markdown",
      "metadata": {
        "id": "8C69ns9VODh3"
      },
      "source": [
        "### Exercise 9 - try a different species\n",
        "\n",
        "Run the mean test again for the Iris-versicolor species.  Again, try some different decision making lines.\n",
        "\n",
        "What are the results.  Record them in the text cell below:"
      ]
    },
    {
      "cell_type": "markdown",
      "metadata": {
        "id": "t3oXJbqlOU0P"
      },
      "source": [
        "Write your answers here:  "
      ]
    },
    {
      "cell_type": "markdown",
      "metadata": {
        "id": "Co14Ws3gupwP"
      },
      "source": [
        "# New logic introduced in this worksheet:\n",
        "\n",
        "1.  Adding headings to a CSV if none currently exist\n",
        "2.  Splitting a data set into train and test sets"
      ]
    },
    {
      "cell_type": "markdown",
      "source": [
        "###Distribution of petal mean values for virginica, setosa and versicolor."
      ],
      "metadata": {
        "id": "KjytnYhQUNIr"
      }
    },
    {
      "cell_type": "code",
      "metadata": {
        "id": "-hpupKkeezXP",
        "colab": {
          "base_uri": "https://localhost:8080/",
          "height": 501
        },
        "outputId": "2e42e72b-2f03-421d-c4ef-cd84440b1dd7"
      },
      "source": [
        "## this type of plot will show the distribution on a chart using mean. The line crossing the chart is defined by the geom_vline part of the code.\n",
        "from plotnine import *\n",
        "ggplot(train, aes(x='petal-length', y='petal-width', color='species')) + geom_point() + geom_vline(train, aes(xintercept=train['petal-length'].mean(), color='species')) + geom_hline(train, aes(yintercept=train['petal-length'].mean(), color='species'))"
      ],
      "execution_count": 57,
      "outputs": [
        {
          "output_type": "stream",
          "name": "stderr",
          "text": [
            "/usr/local/lib/python3.7/dist-packages/plotnine/utils.py:1246: FutureWarning: is_categorical is deprecated and will be removed in a future version.  Use is_categorical_dtype instead\n",
            "  if pdtypes.is_categorical(arr):\n"
          ]
        },
        {
          "output_type": "display_data",
          "data": {
            "text/plain": [
              "<Figure size 640x480 with 1 Axes>"
            ],
            "image/png": "[encoded data removed]"
          },
          "metadata": {}
        },
        {
          "output_type": "execute_result",
          "data": {
            "text/plain": [
              "<ggplot: (8787001527325)>"
            ]
          },
          "metadata": {},
          "execution_count": 57
        }
      ]
    },
    {
      "cell_type": "markdown",
      "source": [
        "###Distribution of petal median values for virginica, setosa and versicolor."
      ],
      "metadata": {
        "id": "VLyni4ayUHbj"
      }
    },
    {
      "cell_type": "code",
      "source": [
        "## this type of plot will show the median distribution on a chart.\n",
        "from plotnine import *\n",
        "ggplot(train, aes(x='petal-length', y='petal-width', color='species')) + geom_point() + geom_vline(train, aes(xintercept=train['petal-length'].median(), color='species')) + geom_hline(train, aes(yintercept=train['petal-length'].median(), color='species'))"
      ],
      "metadata": {
        "colab": {
          "base_uri": "https://localhost:8080/",
          "height": 499
        },
        "id": "4KVxU_Q5QFSy",
        "outputId": "52b9888a-794c-4a88-a930-78f55f444566"
      },
      "execution_count": 58,
      "outputs": [
        {
          "output_type": "stream",
          "name": "stderr",
          "text": [
            "/usr/local/lib/python3.7/dist-packages/plotnine/utils.py:1246: FutureWarning: is_categorical is deprecated and will be removed in a future version.  Use is_categorical_dtype instead\n",
            "  if pdtypes.is_categorical(arr):\n"
          ]
        },
        {
          "output_type": "display_data",
          "data": {
            "text/plain": [
              "<Figure size 640x480 with 1 Axes>"
            ],
            "image/png": "[encoded data removed]"
          },
          "metadata": {}
        },
        {
          "output_type": "execute_result",
          "data": {
            "text/plain": [
              "<ggplot: (8787001485257)>"
            ]
          },
          "metadata": {},
          "execution_count": 58
        }
      ]
    },
    {
      "cell_type": "markdown",
      "source": [
        "###Distribution of sepal mean values for virginica, setosa and versicolor."
      ],
      "metadata": {
        "id": "SvBkclaYhdA6"
      }
    },
    {
      "cell_type": "code",
      "source": [
        "## this type of plot will show the distribution on a chart using mean. The line crossing the chart is defined by the geom_vline part of the code.\n",
        "from plotnine import *\n",
        "ggplot(train, aes(x='sepal-length', y='sepal-width', color='species')) + geom_point() + geom_vline(train, aes(xintercept=train['sepal-length'].mean(), color='species')) + geom_hline(train, aes(yintercept=train['sepal-length'].mean(), color='species'))"
      ],
      "metadata": {
        "colab": {
          "base_uri": "https://localhost:8080/",
          "height": 502
        },
        "id": "Gd0GTqX6hKHo",
        "outputId": "f62c7332-a1be-452b-9d4f-2db79c5b5f0f"
      },
      "execution_count": 59,
      "outputs": [
        {
          "output_type": "stream",
          "name": "stderr",
          "text": [
            "/usr/local/lib/python3.7/dist-packages/plotnine/utils.py:1246: FutureWarning: is_categorical is deprecated and will be removed in a future version.  Use is_categorical_dtype instead\n",
            "  if pdtypes.is_categorical(arr):\n"
          ]
        },
        {
          "output_type": "display_data",
          "data": {
            "text/plain": [
              "<Figure size 640x480 with 1 Axes>"
            ],
            "image/png": "[encoded data removed]"
          },
          "metadata": {}
        },
        {
          "output_type": "execute_result",
          "data": {
            "text/plain": [
              "<ggplot: (8787001410425)>"
            ]
          },
          "metadata": {},
          "execution_count": 59
        }
      ]
    },
    {
      "cell_type": "markdown",
      "source": [
        "###Distribution of sepal median values for virginica, setosa and versicolor."
      ],
      "metadata": {
        "id": "-_6dDncdhqnA"
      }
    },
    {
      "cell_type": "code",
      "source": [
        "## this type of plot will show the distribution on a chart using median. The line crossing the chart is defined by the geom_vline part of the code.\n",
        "from plotnine import *\n",
        "ggplot(train, aes(x='sepal-length', y='sepal-width', color='species')) + geom_point() + geom_vline(train, aes(xintercept=train['sepal-length'].median(), color='species')) + geom_hline(train, aes(yintercept=train['sepal-length'].median(), color='species'))"
      ],
      "metadata": {
        "colab": {
          "base_uri": "https://localhost:8080/",
          "height": 499
        },
        "id": "Xg8rZVCxhvWp",
        "outputId": "817b2be0-3b62-40cb-d194-51478d607518"
      },
      "execution_count": 60,
      "outputs": [
        {
          "output_type": "stream",
          "name": "stderr",
          "text": [
            "/usr/local/lib/python3.7/dist-packages/plotnine/utils.py:1246: FutureWarning: is_categorical is deprecated and will be removed in a future version.  Use is_categorical_dtype instead\n",
            "  if pdtypes.is_categorical(arr):\n"
          ]
        },
        {
          "output_type": "display_data",
          "data": {
            "text/plain": [
              "<Figure size 640x480 with 1 Axes>"
            ],
            "image/png": "[encoded data removed]"
          },
          "metadata": {}
        },
        {
          "output_type": "execute_result",
          "data": {
            "text/plain": [
              "<ggplot: (8787001413773)>"
            ]
          },
          "metadata": {},
          "execution_count": 60
        }
      ]
    },
    {
      "cell_type": "markdown",
      "source": [
        "###Reflection:\n",
        "\n",
        "The skills practised for this project were grouping and splitting parts of a column for analysis, adding headings to columns as the original dataframe didn't have any, producing a decision tree on the basis of calculations of metrics like the mean value, including ggplot visualisation with a plotnine (which is an implementation of a grammar of graphics in Python, it is based on ggplot2. The grammar allows users to compose plots by explicitly mapping data to the visual objects that make up the plot).\n",
        "\n",
        "Overall the decision-tree project was challenging in terms of specifying the target hypothesis and process of calculating, excluding/including parameters and making a prediction decision tree as the end result of the data analysis."
      ],
      "metadata": {
        "id": "WvU4__hoWrt9"
      }
    }
  ]
}