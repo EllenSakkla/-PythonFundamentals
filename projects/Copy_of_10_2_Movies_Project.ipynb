{
  "nbformat": 4,
  "nbformat_minor": 0,
  "metadata": {
    "colab": {
      "name": "Copy of 10.2 Movies Project.ipynb",
      "provenance": [],
      "collapsed_sections": [],
      "include_colab_link": true
    },
    "kernelspec": {
      "name": "python3",
      "display_name": "Python 3"
    },
    "language_info": {
      "name": "python"
    }
  },
  "cells": [
    {
      "cell_type": "markdown",
      "metadata": {
        "id": "view-in-github",
        "colab_type": "text"
      },
      "source": [
        "<a href=\"https://colab.research.google.com/github/EllenSakkla/Python/blob/main/Copy_of_10_2_Movies_Project.ipynb\" target=\"_parent\"><img src=\"https://colab.research.google.com/assets/colab-badge.svg\" alt=\"Open In Colab\"/></a>"
      ]
    },
    {
      "cell_type": "markdown",
      "metadata": {
        "id": "iNinIL0w_DHu"
      },
      "source": [
        "# Movies Mini-project\n",
        "---\n",
        "\n",
        "In the previous worksheet you converted an SQL relational database to a single pandas dataframe and downloaded it. You will be analysing it today.\n",
        "\n",
        "If you were unable to download the file, there is a copy located here: \n",
        "\n",
        "\"https://github.com/lilaceri/Working-with-data-/blob/main/Data%20Sets%20for%20code%20divisio/movies.csv?raw=true\"\n",
        "\n"
      ]
    },
    {
      "cell_type": "markdown",
      "metadata": {
        "id": "TlOJOk3vMN2C"
      },
      "source": [
        "### Inspect the dataset \n",
        "---"
      ]
    },
    {
      "cell_type": "code",
      "metadata": {
        "id": "Le5KSKHY_BM9",
        "colab": {
          "base_uri": "https://localhost:8080/"
        },
        "outputId": "04254999-970e-434a-8b4a-9a9750148640"
      },
      "source": [
        "import pandas as pd\n",
        "import numpy as np\n",
        "import matplotlib.pyplot as plt\n",
        "import seaborn as sns\n",
        "\n",
        "url = \"https://github.com/lilaceri/Working-with-data-/blob/main/Data%20Sets%20for%20code%20divisio/movies.csv?raw=true\"\n",
        "df = pd.read_csv(url)\n",
        "df.info()"
      ],
      "execution_count": 11,
      "outputs": [
        {
          "output_type": "stream",
          "name": "stdout",
          "text": [
            "<class 'pandas.core.frame.DataFrame'>\n",
            "RangeIndex: 368894 entries, 0 to 368893\n",
            "Data columns (total 7 columns):\n",
            " #   Column      Non-Null Count   Dtype  \n",
            "---  ------      --------------   -----  \n",
            " 0   Unnamed: 0  368894 non-null  int64  \n",
            " 1   first_name  368894 non-null  object \n",
            " 2   last_name   368894 non-null  object \n",
            " 3   name        368894 non-null  object \n",
            " 4   year        368894 non-null  int64  \n",
            " 5   rank        113376 non-null  float64\n",
            " 6   genre       368894 non-null  object \n",
            "dtypes: float64(1), int64(2), object(4)\n",
            "memory usage: 19.7+ MB\n"
          ]
        }
      ]
    },
    {
      "cell_type": "markdown",
      "metadata": {
        "id": "wIRDoCnxMRj8"
      },
      "source": [
        "### Clean the dataset \n",
        "---\n"
      ]
    },
    {
      "cell_type": "markdown",
      "source": [
        "Ideas for cleaning the data\n",
        "Remove the unnamed column as it is just an index that not needed.\n",
        "Make sure that there are no spaces \" \" in the columns\n",
        "Sort by genre or year.\n",
        "Remove films with no ranking - to reduce the size.\n",
        "Decided only rank needed to be cleaned up."
      ],
      "metadata": {
        "id": "q3pR2AHA87YN"
      }
    },
    {
      "cell_type": "code",
      "metadata": {
        "id": "LgY60bsbMUc8",
        "colab": {
          "base_uri": "https://localhost:8080/"
        },
        "outputId": "a816e4c0-9609-408c-f274-2c6c7d07eaa4"
      },
      "source": [
        "#df.isnull().values.any()\n",
        "df_cleaned = df.dropna()\n",
        "df_cleaned.info()\n",
        "#df_cleaned.describe()"
      ],
      "execution_count": 12,
      "outputs": [
        {
          "output_type": "stream",
          "name": "stdout",
          "text": [
            "<class 'pandas.core.frame.DataFrame'>\n",
            "Int64Index: 113376 entries, 77 to 368891\n",
            "Data columns (total 7 columns):\n",
            " #   Column      Non-Null Count   Dtype  \n",
            "---  ------      --------------   -----  \n",
            " 0   Unnamed: 0  113376 non-null  int64  \n",
            " 1   first_name  113376 non-null  object \n",
            " 2   last_name   113376 non-null  object \n",
            " 3   name        113376 non-null  object \n",
            " 4   year        113376 non-null  int64  \n",
            " 5   rank        113376 non-null  float64\n",
            " 6   genre       113376 non-null  object \n",
            "dtypes: float64(1), int64(2), object(4)\n",
            "memory usage: 6.9+ MB\n"
          ]
        }
      ]
    },
    {
      "cell_type": "code",
      "source": [
        "#df['name of column'].duplicated().any()\n",
        "df_dupli_cleaned = df.drop_duplicates()\n",
        "df_dupli_cleaned.info()\n",
        "df_dupli_cleaned.describe()"
      ],
      "metadata": {
        "colab": {
          "base_uri": "https://localhost:8080/",
          "height": 543
        },
        "id": "2wdVTs8z6a4M",
        "outputId": "aaac3497-bf5b-4beb-f6a8-5280650d07af"
      },
      "execution_count": 13,
      "outputs": [
        {
          "output_type": "stream",
          "name": "stdout",
          "text": [
            "<class 'pandas.core.frame.DataFrame'>\n",
            "Int64Index: 368894 entries, 0 to 368893\n",
            "Data columns (total 7 columns):\n",
            " #   Column      Non-Null Count   Dtype  \n",
            "---  ------      --------------   -----  \n",
            " 0   Unnamed: 0  368894 non-null  int64  \n",
            " 1   first_name  368894 non-null  object \n",
            " 2   last_name   368894 non-null  object \n",
            " 3   name        368894 non-null  object \n",
            " 4   year        368894 non-null  int64  \n",
            " 5   rank        113376 non-null  float64\n",
            " 6   genre       368894 non-null  object \n",
            "dtypes: float64(1), int64(2), object(4)\n",
            "memory usage: 22.5+ MB\n"
          ]
        },
        {
          "output_type": "execute_result",
          "data": {
            "text/html": [
              "\n",
              "  <div id=\"df-10cc4dff-01a6-4c74-bdd2-43d72caba020\">\n",
              "    <div class=\"colab-df-container\">\n",
              "      <div>\n",
              "<style scoped>\n",
              "    .dataframe tbody tr th:only-of-type {\n",
              "        vertical-align: middle;\n",
              "    }\n",
              "\n",
              "    .dataframe tbody tr th {\n",
              "        vertical-align: top;\n",
              "    }\n",
              "\n",
              "    .dataframe thead th {\n",
              "        text-align: right;\n",
              "    }\n",
              "</style>\n",
              "<table border=\"1\" class=\"dataframe\">\n",
              "  <thead>\n",
              "    <tr style=\"text-align: right;\">\n",
              "      <th></th>\n",
              "      <th>Unnamed: 0</th>\n",
              "      <th>year</th>\n",
              "      <th>rank</th>\n",
              "    </tr>\n",
              "  </thead>\n",
              "  <tbody>\n",
              "    <tr>\n",
              "      <th>count</th>\n",
              "      <td>368894.000000</td>\n",
              "      <td>368894.000000</td>\n",
              "      <td>113376.000000</td>\n",
              "    </tr>\n",
              "    <tr>\n",
              "      <th>mean</th>\n",
              "      <td>184446.500000</td>\n",
              "      <td>1969.442222</td>\n",
              "      <td>5.995124</td>\n",
              "    </tr>\n",
              "    <tr>\n",
              "      <th>std</th>\n",
              "      <td>106490.669438</td>\n",
              "      <td>29.082051</td>\n",
              "      <td>1.540330</td>\n",
              "    </tr>\n",
              "    <tr>\n",
              "      <th>min</th>\n",
              "      <td>0.000000</td>\n",
              "      <td>1888.000000</td>\n",
              "      <td>1.000000</td>\n",
              "    </tr>\n",
              "    <tr>\n",
              "      <th>25%</th>\n",
              "      <td>92223.250000</td>\n",
              "      <td>1947.000000</td>\n",
              "      <td>5.100000</td>\n",
              "    </tr>\n",
              "    <tr>\n",
              "      <th>50%</th>\n",
              "      <td>184446.500000</td>\n",
              "      <td>1976.000000</td>\n",
              "      <td>6.200000</td>\n",
              "    </tr>\n",
              "    <tr>\n",
              "      <th>75%</th>\n",
              "      <td>276669.750000</td>\n",
              "      <td>1996.000000</td>\n",
              "      <td>7.100000</td>\n",
              "    </tr>\n",
              "    <tr>\n",
              "      <th>max</th>\n",
              "      <td>368893.000000</td>\n",
              "      <td>2007.000000</td>\n",
              "      <td>9.900000</td>\n",
              "    </tr>\n",
              "  </tbody>\n",
              "</table>\n",
              "</div>\n",
              "      <button class=\"colab-df-convert\" onclick=\"convertToInteractive('df-10cc4dff-01a6-4c74-bdd2-43d72caba020')\"\n",
              "              title=\"Convert this dataframe to an interactive table.\"\n",
              "              style=\"display:none;\">\n",
              "        \n",
              "  <svg xmlns=\"http://www.w3.org/2000/svg\" height=\"24px\"viewBox=\"0 0 24 24\"\n",
              "       width=\"24px\">\n",
              "    <path d=\"M0 0h24v24H0V0z\" fill=\"none\"/>\n",
              "    <path d=\"M18.56 5.44l.94 2.06.94-2.06 2.06-.94-2.06-.94-.94-2.06-.94 2.06-2.06.94zm-11 1L8.5 8.5l.94-2.06 2.06-.94-2.06-.94L8.5 2.5l-.94 2.06-2.06.94zm10 10l.94 2.06.94-2.06 2.06-.94-2.06-.94-.94-2.06-.94 2.06-2.06.94z\"/><path d=\"M17.41 7.96l-1.37-1.37c-.4-.4-.92-.59-1.43-.59-.52 0-1.04.2-1.43.59L10.3 9.45l-7.72 7.72c-.78.78-.78 2.05 0 2.83L4 21.41c.39.39.9.59 1.41.59.51 0 1.02-.2 1.41-.59l7.78-7.78 2.81-2.81c.8-.78.8-2.07 0-2.86zM5.41 20L4 18.59l7.72-7.72 1.47 1.35L5.41 20z\"/>\n",
              "  </svg>\n",
              "      </button>\n",
              "      \n",
              "  <style>\n",
              "    .colab-df-container {\n",
              "      display:flex;\n",
              "      flex-wrap:wrap;\n",
              "      gap: 12px;\n",
              "    }\n",
              "\n",
              "    .colab-df-convert {\n",
              "      background-color: #E8F0FE;\n",
              "      border: none;\n",
              "      border-radius: 50%;\n",
              "      cursor: pointer;\n",
              "      display: none;\n",
              "      fill: #1967D2;\n",
              "      height: 32px;\n",
              "      padding: 0 0 0 0;\n",
              "      width: 32px;\n",
              "    }\n",
              "\n",
              "    .colab-df-convert:hover {\n",
              "      background-color: #E2EBFA;\n",
              "      box-shadow: 0px 1px 2px rgba(60, 64, 67, 0.3), 0px 1px 3px 1px rgba(60, 64, 67, 0.15);\n",
              "      fill: #174EA6;\n",
              "    }\n",
              "\n",
              "    [theme=dark] .colab-df-convert {\n",
              "      background-color: #3B4455;\n",
              "      fill: #D2E3FC;\n",
              "    }\n",
              "\n",
              "    [theme=dark] .colab-df-convert:hover {\n",
              "      background-color: #434B5C;\n",
              "      box-shadow: 0px 1px 3px 1px rgba(0, 0, 0, 0.15);\n",
              "      filter: drop-shadow(0px 1px 2px rgba(0, 0, 0, 0.3));\n",
              "      fill: #FFFFFF;\n",
              "    }\n",
              "  </style>\n",
              "\n",
              "      <script>\n",
              "        const buttonEl =\n",
              "          document.querySelector('#df-10cc4dff-01a6-4c74-bdd2-43d72caba020 button.colab-df-convert');\n",
              "        buttonEl.style.display =\n",
              "          google.colab.kernel.accessAllowed ? 'block' : 'none';\n",
              "\n",
              "        async function convertToInteractive(key) {\n",
              "          const element = document.querySelector('#df-10cc4dff-01a6-4c74-bdd2-43d72caba020');\n",
              "          const dataTable =\n",
              "            await google.colab.kernel.invokeFunction('convertToInteractive',\n",
              "                                                     [key], {});\n",
              "          if (!dataTable) return;\n",
              "\n",
              "          const docLinkHtml = 'Like what you see? Visit the ' +\n",
              "            '<a target=\"_blank\" href=https://colab.research.google.com/notebooks/data_table.ipynb>data table notebook</a>'\n",
              "            + ' to learn more about interactive tables.';\n",
              "          element.innerHTML = '';\n",
              "          dataTable['output_type'] = 'display_data';\n",
              "          await google.colab.output.renderOutput(dataTable, element);\n",
              "          const docLink = document.createElement('div');\n",
              "          docLink.innerHTML = docLinkHtml;\n",
              "          element.appendChild(docLink);\n",
              "        }\n",
              "      </script>\n",
              "    </div>\n",
              "  </div>\n",
              "  "
            ],
            "text/plain": [
              "          Unnamed: 0           year           rank\n",
              "count  368894.000000  368894.000000  113376.000000\n",
              "mean   184446.500000    1969.442222       5.995124\n",
              "std    106490.669438      29.082051       1.540330\n",
              "min         0.000000    1888.000000       1.000000\n",
              "25%     92223.250000    1947.000000       5.100000\n",
              "50%    184446.500000    1976.000000       6.200000\n",
              "75%    276669.750000    1996.000000       7.100000\n",
              "max    368893.000000    2007.000000       9.900000"
            ]
          },
          "metadata": {},
          "execution_count": 13
        }
      ]
    },
    {
      "cell_type": "markdown",
      "metadata": {
        "id": "00Vb1k3FMdei"
      },
      "source": [
        "### How many movies of each genre are there?\n",
        "---"
      ]
    },
    {
      "cell_type": "code",
      "metadata": {
        "id": "V6MsN8OcQn0u",
        "colab": {
          "base_uri": "https://localhost:8080/"
        },
        "outputId": "55096fdf-cd15-46ab-b93d-78bb5284d183"
      },
      "source": [
        "genre_counts = df[\"genre\"].value_counts()\n",
        "print(genre_counts)"
      ],
      "execution_count": 14,
      "outputs": [
        {
          "output_type": "stream",
          "name": "stdout",
          "text": [
            "Short          72894\n",
            "Drama          72635\n",
            "Comedy         54667\n",
            "Documentary    35698\n",
            "Animation      17038\n",
            "Romance        13562\n",
            "Action         12890\n",
            "Crime          12610\n",
            "Family         11074\n",
            "Thriller       10681\n",
            "Adventure       8598\n",
            "Western         8231\n",
            "Horror          7423\n",
            "Musical         6843\n",
            "Sci-Fi          4957\n",
            "Mystery         4951\n",
            "Fantasy         4871\n",
            "Music           4444\n",
            "War             4398\n",
            "Film-Noir        429\n",
            "Name: genre, dtype: int64\n"
          ]
        }
      ]
    },
    {
      "cell_type": "markdown",
      "metadata": {
        "id": "itYpwLPpQnZM"
      },
      "source": [
        "### Which director has the highest ranked movies?\n",
        "---"
      ]
    },
    {
      "cell_type": "code",
      "metadata": {
        "id": "dkW23Q27Qu0A",
        "colab": {
          "base_uri": "https://localhost:8080/"
        },
        "outputId": "2bc6cb57-0b43-498c-8991-b11c9de281d7"
      },
      "source": [
        "def highest_ranks():\n",
        "  directors = df\n",
        "  directors[\"Top directors\"] = df[\"first_name\"] + \" \" + df[\"last_name\"] \n",
        "  best_director = df[df['rank'] == 9.9].groupby('Top directors',)['rank'].count()\n",
        "  return best_director\n",
        "\n",
        "highest_ranks()"
      ],
      "execution_count": 15,
      "outputs": [
        {
          "output_type": "execute_result",
          "data": {
            "text/plain": [
              "Top directors\n",
              "Abel Gance              1\n",
              "Andrew Cappelletti      2\n",
              "András Salamon          1\n",
              "Arünas Zebriünas        1\n",
              "Ben Holmes              2\n",
              "Benjamin Christensen    1\n",
              "Carole Roussopoulos     5\n",
              "Debs Tarrier            2\n",
              "Fedor Hanzekovic        1\n",
              "Georgi Daneliya         1\n",
              "Gregg Zehentner         3\n",
              "Ioana Wieder            2\n",
              "Ishmael Bernal          1\n",
              "Isidor Annensky         1\n",
              "Ivanka Grybcheva        1\n",
              "Jim Jarmusch            1\n",
              "Jirí (I) Trnka          1\n",
              "John Cassavetes         2\n",
              "Jonathan Demme          2\n",
              "Julio (I) Bracho        3\n",
              "Kirsten Tretbar         1\n",
              "Marcell Jankovics       1\n",
              "Matthew Crandall        2\n",
              "Satyen Bose             3\n",
              "Scott Barkan            3\n",
              "See-Yuen Ng             1\n",
              "Sergei M. Eisenstein    1\n",
              "Sergiu Nicolaescu       2\n",
              "Vsevolod Pudovkin       1\n",
              "William T. Hurtz        2\n",
              "Zack Resnicoff          4\n",
              "Name: rank, dtype: int64"
            ]
          },
          "metadata": {},
          "execution_count": 15
        }
      ]
    },
    {
      "cell_type": "markdown",
      "metadata": {
        "id": "naiCl5kCQvS-"
      },
      "source": [
        "### How many movies have ranks of over 9?\n",
        "---\n"
      ]
    },
    {
      "cell_type": "code",
      "metadata": {
        "id": "Rb7v7WXEQ3Xl",
        "colab": {
          "base_uri": "https://localhost:8080/"
        },
        "outputId": "e22a82a6-3051-4988-c3a3-195b940347a0"
      },
      "source": [
        "topranks = df[df['rank'] > 9].count()\n",
        "print(topranks)\n",
        "topranks[0]"
      ],
      "execution_count": 16,
      "outputs": [
        {
          "output_type": "stream",
          "name": "stdout",
          "text": [
            "Unnamed: 0       1483\n",
            "first_name       1483\n",
            "last_name        1483\n",
            "name             1483\n",
            "year             1483\n",
            "rank             1483\n",
            "genre            1483\n",
            "Top directors    1483\n",
            "dtype: int64\n"
          ]
        },
        {
          "output_type": "execute_result",
          "data": {
            "text/plain": [
              "1483"
            ]
          },
          "metadata": {},
          "execution_count": 16
        }
      ]
    },
    {
      "cell_type": "code",
      "source": [
        "df3 = df_dupli_cleaned[df_dupli_cleaned['rank'] > 9].groupby('name')['rank'].count()\n",
        "print(df3)\n",
        "df3[0]\n",
        "#alternative way or is this incorrect?"
      ],
      "metadata": {
        "colab": {
          "base_uri": "https://localhost:8080/"
        },
        "id": "qOGjECSaHmQR",
        "outputId": "08587618-6fc6-4e30-f537-d1013dd6bd4e"
      },
      "execution_count": 17,
      "outputs": [
        {
          "output_type": "stream",
          "name": "stdout",
          "text": [
            "name\n",
            "$40,000                       1\n",
            "+1 -1                         3\n",
            "12 (2003/II)                  1\n",
            "12 stulyev                    1\n",
            "14 Million Dreams             2\n",
            "                             ..\n",
            "ber lmok                      1\n",
            "brio, O                       1\n",
            "gigr f                        1\n",
            "ltima llamada, La (1996/I)    1\n",
            "tre avec                      2\n",
            "Name: rank, Length: 828, dtype: int64\n"
          ]
        },
        {
          "output_type": "execute_result",
          "data": {
            "text/plain": [
              "1"
            ]
          },
          "metadata": {},
          "execution_count": 17
        }
      ]
    },
    {
      "cell_type": "markdown",
      "metadata": {
        "id": "qSM1LAZGQ32W"
      },
      "source": [
        "### Plot a bar chart of mean rank and genre\n",
        "---"
      ]
    },
    {
      "cell_type": "code",
      "metadata": {
        "id": "oDk-3bkpRUfs",
        "colab": {
          "base_uri": "https://localhost:8080/",
          "height": 340
        },
        "outputId": "cd773a2f-8825-4897-b124-f804350f7071"
      },
      "source": [
        "ranking = df_cleaned.groupby('genre')['rank'].mean()\n",
        "barchart = ranking.plot(x=\"genre\", y=ranking, kind=\"bar\")\n",
        "barchart.set_xlabel(\"Genre Display\")\n",
        "barchart.set_ylabel(\"Rank Mean Display\")\n",
        "plt.show()"
      ],
      "execution_count": 18,
      "outputs": [
        {
          "output_type": "display_data",
          "data": {
            "image/png": "[encoded data removed]",
            "text/plain": [
              "<Figure size 432x288 with 1 Axes>"
            ]
          },
          "metadata": {
            "needs_background": "light"
          }
        }
      ]
    },
    {
      "cell_type": "markdown",
      "metadata": {
        "id": "O6srkKPnRbh_"
      },
      "source": [
        "### Plot a pie chart of how many movies of each genre there are \n",
        "---\n"
      ]
    },
    {
      "cell_type": "code",
      "metadata": {
        "id": "suiaWhkF6Odd",
        "colab": {
          "base_uri": "https://localhost:8080/",
          "height": 308
        },
        "outputId": "e0d28b9f-eb3d-40f8-c233-3bf6dddb9060"
      },
      "source": [
        "genre_movies = df_cleaned.groupby(['genre'])['name'].count()\n",
        "#display (genre_movies) \n",
        "labels = genre_movies.keys()\n",
        "plt.pie(genre_movies, labels = labels, rotatelabels = True)\n",
        "plt.show()"
      ],
      "execution_count": 21,
      "outputs": [
        {
          "output_type": "display_data",
          "data": {
            "image/png": "[encoded data removed]",
            "text/plain": [
              "<Figure size 432x288 with 1 Axes>"
            ]
          },
          "metadata": {}
        }
      ]
    },
    {
      "cell_type": "markdown",
      "metadata": {
        "id": "Cm9HjL_K6bvo"
      },
      "source": [
        "### Plot a graph showing the mean Rank for each year "
      ]
    },
    {
      "cell_type": "code",
      "source": [
        "mean_rank = df_cleaned.groupby('year')['rank'].mean()\n",
        "print(mean_rank)\n",
        "\n",
        "chart = sns.lineplot(data=mean_rank)\n",
        "sns.set_style(\"whitegrid\")"
      ],
      "metadata": {
        "colab": {
          "base_uri": "https://localhost:8080/",
          "height": 505
        },
        "id": "AdnkwdX9ve2V",
        "outputId": "5c666782-3a58-48d5-9e91-b29ce3b8d190"
      },
      "execution_count": 20,
      "outputs": [
        {
          "output_type": "stream",
          "name": "stdout",
          "text": [
            "year\n",
            "1892    3.780000\n",
            "1893    6.800000\n",
            "1894    6.100000\n",
            "1895    5.644444\n",
            "1896    4.307407\n",
            "          ...   \n",
            "2000    6.065483\n",
            "2001    6.134224\n",
            "2002    6.299257\n",
            "2003    6.207317\n",
            "2004    6.216699\n",
            "Name: rank, Length: 113, dtype: float64\n"
          ]
        },
        {
          "output_type": "display_data",
          "data": {
            "image/png": "[encoded data removed]",
            "text/plain": [
              "<Figure size 432x288 with 1 Axes>"
            ]
          },
          "metadata": {
            "needs_background": "light"
          }
        }
      ]
    },
    {
      "cell_type": "markdown",
      "source": [
        ""
      ],
      "metadata": {
        "id": "URh5kRuVvCzI"
      }
    },
    {
      "cell_type": "markdown",
      "metadata": {
        "id": "FvzMjQ5X6oeU"
      },
      "source": [
        "### What else can you find out from this dataset?\n",
        "---\n",
        "Make a plan of 3 further things you can do to interrogate and analyse this dataset"
      ]
    },
    {
      "cell_type": "markdown",
      "metadata": {
        "id": "a46YOmLd64zb"
      },
      "source": [
        "Type your answer here  \n",
        "\n",
        "1.  \n",
        "2.  \n",
        "3.   "
      ]
    },
    {
      "cell_type": "markdown",
      "metadata": {
        "id": "es_Uyz_f6-1F"
      },
      "source": [
        "### Complete the tasks you have set out in the exercise above. \n",
        "---\n"
      ]
    },
    {
      "cell_type": "code",
      "metadata": {
        "id": "GY-HzjZb7L5q"
      },
      "source": [
        ""
      ],
      "execution_count": 20,
      "outputs": []
    },
    {
      "cell_type": "markdown",
      "metadata": {
        "id": "pQV2NO8umBSk"
      },
      "source": [
        "# Reflection\n",
        "----\n",
        "\n",
        "## What skills have you demonstrated in completing this notebook?"
      ]
    },
    {
      "cell_type": "markdown",
      "metadata": {
        "id": "NUVvt2r0mCKq"
      },
      "source": [
        "Revising of previous code functions."
      ]
    },
    {
      "cell_type": "markdown",
      "metadata": {
        "id": "SOrbWOuFmObq"
      },
      "source": [
        "## What caused you the most difficulty?"
      ]
    },
    {
      "cell_type": "markdown",
      "metadata": {
        "id": "G_eGng1GmO78"
      },
      "source": [
        "The complexity of large databases and new functions required for the above questions as well as trying to implement graphs for the correct variables."
      ]
    }
  ]
}