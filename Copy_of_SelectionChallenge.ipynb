{
  "nbformat": 4,
  "nbformat_minor": 0,
  "metadata": {
    "colab": {
      "name": "Copy of SelectionChallenge.ipynb",
      "provenance": [],
      "collapsed_sections": [],
      "include_colab_link": true
    },
    "kernelspec": {
      "name": "python3",
      "display_name": "Python 3"
    }
  },
  "cells": [
    {
      "cell_type": "markdown",
      "metadata": {
        "id": "view-in-github",
        "colab_type": "text"
      },
      "source": [
        "<a href=\"https://colab.research.google.com/github/EllenSakkla/-PythonFundamentals/blob/main/Copy_of_SelectionChallenge.ipynb\" target=\"_parent\"><img src=\"https://colab.research.google.com/assets/colab-badge.svg\" alt=\"Open In Colab\"/></a>"
      ]
    },
    {
      "cell_type": "markdown",
      "metadata": {
        "id": "-QxAKPD8DZfj"
      },
      "source": [
        "# Three selection challenges\n",
        "\n",
        "---\n"
      ]
    },
    {
      "cell_type": "markdown",
      "metadata": {
        "id": "2KYUALILDcM9"
      },
      "source": [
        "### Challenge 1 - password format  \n",
        "\n",
        "Write a function called **check_password_valid()** which will check the validity of a **password** input by a user.\n",
        "\n",
        "Rules for a valid password are:  \n",
        "\n",
        "*  At least 1 letter between [a-z] and 1 letter between [A-Z].\n",
        "*  At least 1 number between [0-9].\n",
        "*  At least 1 character from [$#@].\n",
        "*  Minimum length 6 characters.\n",
        "*  Maximum length 16 characters.  \n",
        "\n",
        "Let the user know if the `password` they have typed is valid and, if not, where was the first error.\n",
        "\n",
        "*Hint:  to test if a set of characters is present in a password String, you can use re.search('[character set]', `password`)*  \n",
        "\n",
        "Example:   \n",
        "*if re.search('[a-z]',`password`):*    \n",
        "this will be True if there is at least 1 character a-z in the password.\n",
        "\n",
        "**re** is a pre-written Python function for pattern searching in Strings.  It has been imported for you in the code cell below.  "
      ]
    },
    {
      "cell_type": "code",
      "metadata": {
        "id": "8wBK9IA4BO2e",
        "colab": {
          "base_uri": "https://localhost:8080/"
        },
        "outputId": "b783aa9f-99ac-45b6-e2fb-84d8ebc9f042"
      },
      "source": [
        "import re\n",
        "# add your check_PasswordValid() function and call below here\n",
        "\n",
        "def check_password_valid():\n",
        "  password = input(\"\"\"Please enter a password:\n",
        "At least 1 letter between [a-z] and 1 letter between [A-Z].\n",
        "At least 1 number between [0-9].\n",
        "At least 1 character from [$#@].\n",
        "Minimum length 6 characters.\n",
        "Maximum length 16 characters.\"\"\")\n",
        "  if not re.search('[a-z]', password) : \n",
        "    print (\"error - must contain a lower case letter\")\n",
        "  elif not re.search('[A-Z]', password): \n",
        "    print (\"error - must contain a capital case letter\")\n",
        "  elif not re.search('[0-9]', password) : \n",
        "    print (\"error - must contain a number\")\n",
        "  elif not re.search('[$#@]', password) : \n",
        "    print (\"error - must contain a symbol\")\n",
        "  elif not len(password) >= 6 and len(password) <= 16:\n",
        "    print (\"Password invalid\")\n",
        "  else:\n",
        "    print (\"Password accepted\")\n",
        "\n",
        "check_password_valid()\n",
        "\n",
        "\n"
      ],
      "execution_count": 2,
      "outputs": [
        {
          "output_type": "stream",
          "name": "stdout",
          "text": [
            "Please enter a password:\n",
            "At least 1 letter between [a-z] and 1 letter between [A-Z].\n",
            "At least 1 number between [0-9].\n",
            "At least 1 character from [$#@].\n",
            "Minimum length 6 characters.\n",
            "Maximum length 16 characters.September$2\n",
            "Password accepted\n"
          ]
        }
      ]
    },
    {
      "cell_type": "markdown",
      "metadata": {
        "id": "f0R4GYTEFQS-"
      },
      "source": [
        "---\n",
        "### Challenge 2 - triangle shape  \n",
        "\n",
        "Write a function called **evaluate_triangle_shape()** which will check if a triangle is equilateral, isosceles or scalene, based on the three side lengths entered by a user (**x**, **y** and **z**.\n",
        "\n",
        "An equilateral triangle is a triangle in which all three sides are equal.\n",
        "A scalene triangle is a triangle that has three unequal sides.\n",
        "An isosceles triangle is a triangle with (at least) two equal sides.\n",
        "\n",
        "For example:  \n",
        "A triange with side lengths                                 \n",
        "x: 6                                                                    \n",
        "y: 8                                                                    \n",
        "z: 12                                                                   \n",
        "is a *Scalene triangle*\n",
        "\n",
        "A triangle with side lengths\n",
        "x:5  \n",
        "y:3   \n",
        "z:5  \n",
        "is an *Isosceles triangle*"
      ]
    },
    {
      "cell_type": "code",
      "metadata": {
        "id": "oBgl4ro1DVL0",
        "colab": {
          "base_uri": "https://localhost:8080/"
        },
        "outputId": "cb92b47e-298b-4f27-e55d-2b73d9f22907"
      },
      "source": [
        "def evaluate_triangle_shape():\n",
        " x = int(input(\"Please enter the length of side x: \"))\n",
        " y = int(input(\"Please enter the length of side y: \"))\n",
        " z = int(input(\"Please enter the length of side z: \"))\n",
        " if x == y and x == z:\n",
        "   print (\"The triangle is quilateral\")\n",
        " elif x == y and x !=z:\n",
        "   print (\"The triangle is isosceles\")\n",
        " else:\n",
        "   print (\"The triangle is scalene\")\n",
        "\n",
        "evaluate_triangle_shape()"
      ],
      "execution_count": 7,
      "outputs": [
        {
          "output_type": "stream",
          "name": "stdout",
          "text": [
            "Please enter the length of side x: 4\n",
            "Please enter the length of side y: 7\n",
            "Please enter the length of side z: 8\n",
            "The triangle is scalene\n"
          ]
        }
      ]
    },
    {
      "cell_type": "markdown",
      "metadata": {
        "id": "hr2EotkqG33l"
      },
      "source": [
        "---\n",
        "### Challenge 3 - which season\n",
        "\n",
        "Write a function called **determine_season()** which will ask the user to enter two integers representing a **month** and **day** and prints the season for that month and day.\n",
        "\n",
        "Note:  for this exercise the season dates are:\n",
        "*  Winter December 21 to March 20    \n",
        "*  Spring March 21 to June 20  \n",
        "*  Summer June 21 to September 20  \n",
        "*  Autumn September 21 to December 20\n",
        "\n",
        "Test input:  \n",
        "Input the month (e.g. January, February etc.): 7                     \n",
        "Input the day: 31                                                       \n",
        "\n",
        "Expected output:  \n",
        "Season is summer \n",
        "\n",
        "*Note: this will require multiple and or or operators and you should use brackets to help Python know which operations to do first*  \n",
        "\n",
        "*For an extra challenge you can check that the day is valid for the month*"
      ]
    },
    {
      "cell_type": "code",
      "source": [
        "def determine_season():\n",
        " month = int(input(\"Please enter a month as a number: \"))\n",
        " date = int(input(\"Please enter a date as a number: \"))\n",
        " if month == 3 and date <= 20:\n",
        "   print (\"The season is winter\")\n",
        " elif month == 2 and date <= 20:\n",
        "   print (\"The season is winter\")\n",
        " elif month == 1 and date <= 20:\n",
        "   print (\"The season is winter\")\n",
        " elif month == 12 and date >= 21:\n",
        "   print (\"The season is winter\")\n",
        " elif month == 12 and date <= 20:\n",
        "   print (\"The season is autumn\")\n",
        " elif month == 11 and date <= 20:\n",
        "   print (\"The season is autumn\")\n",
        " elif month == 10 and date <= 20:\n",
        "   print (\"The season is autumn\")\n",
        " elif month == 9 and date <= 20:\n",
        "   print (\"The season is autumn\")\n",
        " elif month == 9 and date <= 20:\n",
        "   print (\"The season is summer\")\n",
        " elif month == 8 and date <= 20:\n",
        "   print (\"The season is summer\")\n",
        " elif month == 8 and date <= 20:\n",
        "   print (\"The season is summer\")\n",
        " elif month == 7 and date <= 20:\n",
        "   print (\"The season is summer\")\n",
        " elif month == 7 and date <= 20:\n",
        "   print (\"The season is spring\")\n",
        " elif month == 6 and date <= 20:\n",
        "   print (\"The season is spring\")\n",
        " elif month == 5 and date <= 20:\n",
        "   print (\"The season is spring\")\n",
        " elif month == 4 and date <= 20:\n",
        "   print (\"The season is spring\")\n",
        "\n",
        "determine_season()"
      ],
      "metadata": {
        "colab": {
          "base_uri": "https://localhost:8080/"
        },
        "id": "N1f1eio9aQLY",
        "outputId": "0a8b05dd-f25b-4036-de13-9b8b09c035d3"
      },
      "execution_count": 12,
      "outputs": [
        {
          "output_type": "stream",
          "name": "stdout",
          "text": [
            "Please enter a month as a number: 5\n",
            "Please enter a date as a number: 2\n",
            "The season is spring\n"
          ]
        }
      ]
    }
  ]
}