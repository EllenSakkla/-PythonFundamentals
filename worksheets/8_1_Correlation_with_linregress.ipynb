{
  "nbformat": 4,
  "nbformat_minor": 0,
  "metadata": {
    "colab": {
      "name": "8.1. Correlation with linregress",
      "provenance": [],
      "collapsed_sections": [],
      "include_colab_link": true
    },
    "kernelspec": {
      "name": "python3",
      "display_name": "Python 3"
    },
    "language_info": {
      "name": "python"
    }
  },
  "cells": [
    {
      "cell_type": "markdown",
      "metadata": {
        "id": "view-in-github",
        "colab_type": "text"
      },
      "source": [
        "<a href=\"https://colab.research.google.com/github/EllenSakkla/Python/blob/main/worksheets/8_1_Correlation_with_linregress.ipynb\" target=\"_parent\"><img src=\"https://colab.research.google.com/assets/colab-badge.svg\" alt=\"Open In Colab\"/></a>"
      ]
    },
    {
      "cell_type": "code",
      "source": [
        "!pip install --upgrade openpyxl"
      ],
      "metadata": {
        "colab": {
          "base_uri": "https://localhost:8080/"
        },
        "id": "l4xuULRJ-Z-Y",
        "outputId": "5ac56207-bd2f-41a9-fe37-53885c0fb00b"
      },
      "execution_count": 1,
      "outputs": [
        {
          "output_type": "stream",
          "name": "stdout",
          "text": [
            "Requirement already satisfied: openpyxl in /usr/local/lib/python3.7/dist-packages (3.0.9)\n",
            "Requirement already satisfied: et-xmlfile in /usr/local/lib/python3.7/dist-packages (from openpyxl) (1.1.0)\n"
          ]
        }
      ]
    },
    {
      "cell_type": "markdown",
      "metadata": {
        "id": "rM0pH87Y4dOV"
      },
      "source": [
        "# Describing the data relatively and visually\n",
        "---\n",
        "\n",
        "This worksheet introduces **scipy** library\n",
        "\n",
        "A library of functions for interpolating, optimising, linear regression, etc  \n",
        "\n",
        "---\n",
        "\n",
        "A dataset will be read into a dataframe, cleaned, wrangled and so prepared for summarising and the telling of stories through visualisations and summaries.\n",
        "\n",
        "So far we have covered statistical measures over an individual series.  Linear regression reports correlation between the values in two series.\n",
        "\n",
        "To get the results of a linear regression:  \n",
        "*  import the `linregress` function from the `scipy.stats` package \n",
        "*  run the `linregress` function with the two axes assigning the result to a variable (e.g. `regression`) \n",
        "\n",
        "The result of the linregress function is a set of variables:  \n",
        "*  `slope`, `intercept` - the gradient and y-intercept of the regression line (the line of best fit between the two series) are in `regression.slope` and `regression.intercept`\n",
        "*  `rvalue` - the correlation coefficient - this indicates how closely the line drawn from the linear regression data fits the actual data, the closer to 1 the better the fit\n",
        "*  `pvalue` - the probability of error if the regression line is extended to predict\n",
        "*  the standard error is in `regression.stderr` and is the average distance of each data point from the line of best fit \n",
        "\n",
        "\n",
        "Further information [here](https://docs.scipy.org/doc/scipy/reference/generated/scipy.stats.linregress.html)\n"
      ]
    },
    {
      "cell_type": "markdown",
      "metadata": {
        "id": "A60PQ510HHMQ"
      },
      "source": [
        "### Exercise 1 - is age closely related to income?\n",
        "---\n",
        "\n",
        "Use linear regression to compare the columns 'Age' and 'Income' in the data set 'Income-Data' at this url:  \n",
        "https://github.com/futureCodersSE/working-with-data/blob/main/Data%20sets/Income-Data.xlsx?raw=true  \n",
        "\n",
        "To do this:\n",
        "*  import the pandas library  \n",
        "\n",
        "\n",
        "*  import the **linregress** function from the library **scipy.stats**  (`from scipy.stats import linregress`)  \n",
        "\n",
        "\n",
        "*  open the Excel file at the url above, using the sheet_name '`county-level`', reading the data into a dataframe called **county_level_df**  \n",
        "\n",
        "\n",
        "*  create a variable called **x** and assign the '`Age`' column of the `county_level_df` dataframe   \n",
        "\n",
        "\n",
        "*  create a variable called **y** and assign the '`Income`' column of the `county_level_df` dataframe   \n",
        "\n",
        "\n",
        "*  create a variable called **regression** and assign the result of running the linregress function with `x`, `y` as its parameters ( `linregress(x,y)` )   \n",
        "\n",
        "\n",
        "*  display the regression  \n",
        "(*Expected output:  LinregressResult(slope=-0.31433084434233205, intercept=72.78388856978748, rvalue=-0.14787411576068246, pvalue=0.5581637648902298, stderr=0.5255739814332189*)  \n",
        "\n",
        "\n",
        "*  display the slope (`regression.slope`)  \n",
        "(*Expected output: -0.31433084434233205 - this indicates that the line plotting Age against Income slopes downward implying that income reduces with age*)  \n",
        "\n",
        "\n",
        "*  display the intercept (`regression.intercept`)  \n",
        "(*Expected output: 72.78388856978748 - this indicates that income level starts at 72.78388856978748 and reduces from there by age*)    \n",
        "\n",
        "\n",
        "*  display the rvalue (which indicates how closely income follows age and whether it goes up as age goes up or goes down as age goes up "
      ]
    },
    {
      "cell_type": "code",
      "metadata": {
        "id": "B7-yqi8n4Z3s",
        "colab": {
          "base_uri": "https://localhost:8080/"
        },
        "outputId": "6e75029b-29f3-4094-b2cb-493d4ea73fae"
      },
      "source": [
        "import pandas as pd\n",
        "from scipy.stats import linregress\n",
        "\n",
        "def get_lineregress(df):\n",
        "  x = df[\"Age\"]\n",
        "  y = df[\"Income\"]\n",
        "  regression = linregress(x,y)\n",
        "  print(regression)\n",
        "  print(\"Regression slope = \", regression.slope)\n",
        "  print(\"Regression intercept =\", regression.intercept)\n",
        "  print(\"R value = \", regression[2])\n",
        "\n",
        "\n",
        "url = \"https://github.com/futureCodersSE/working-with-data/blob/main/Data%20sets/Income-Data.xlsx?raw=true\"\n",
        "county_level_df = pd.read_excel(url, sheet_name ='county-level')\n",
        "get_lineregress(county_level_df)"
      ],
      "execution_count": 2,
      "outputs": [
        {
          "output_type": "stream",
          "name": "stdout",
          "text": [
            "LinregressResult(slope=-0.31433084434233205, intercept=72.78388856978748, rvalue=-0.14787411576068246, pvalue=0.5581637648902298, stderr=0.5255739814332189)\n",
            "Regression slope =  -0.31433084434233205\n",
            "Regression intercept = 72.78388856978748\n",
            "R value =  -0.14787411576068246\n"
          ]
        }
      ]
    },
    {
      "cell_type": "markdown",
      "source": [
        "The R value shows that the correlation btwn age & income is a negative one and  not a strong one."
      ],
      "metadata": {
        "id": "CkUsS_RvBVwe"
      }
    },
    {
      "cell_type": "markdown",
      "metadata": {
        "id": "AXiD7hVyQEe9"
      },
      "source": [
        "### Exercise 2 - Could Population predict Income?  \n",
        "---\n",
        "\n",
        "Repeat the steps in exercise 1 to see if there is a clearer correlation between Population and Income.  \n",
        "\n",
        "Add a statement in the text cell to describe your findings.\n",
        "\n",
        "**Expected output**:   \n",
        "0.013558605755058871\n"
      ]
    },
    {
      "cell_type": "code",
      "metadata": {
        "id": "S349ZIiIQSvy",
        "colab": {
          "base_uri": "https://localhost:8080/"
        },
        "outputId": "09b24e1d-863b-4f16-cfb9-da029d8cb8e3"
      },
      "source": [
        "# import pandas as pd\n",
        "# from scipy.stats import linregress\n",
        "\n",
        "def get_lineregress(df):\n",
        "  x = df[\"Population\"]\n",
        "  y = df[\"Income\"]\n",
        "  regression = linregress(x,y)\n",
        "  print(regression)\n",
        "  print(\"Regression slope = \", regression.slope)\n",
        "  print(\"Regression intercept =\", regression.intercept)\n",
        "  print(\"R value = \", regression[2])\n",
        "  print(\"P value =\", regression[3])\n",
        "\n",
        "\n",
        "url = \"https://github.com/futureCodersSE/working-with-data/blob/main/Data%20sets/Income-Data.xlsx?raw=true\"\n",
        "county_level_df = pd.read_excel(url, sheet_name ='county-level')\n",
        "get_lineregress(county_level_df)"
      ],
      "execution_count": 3,
      "outputs": [
        {
          "output_type": "stream",
          "name": "stdout",
          "text": [
            "LinregressResult(slope=0.05737132629483762, intercept=60.95698211316883, rvalue=0.11644142628402862, pvalue=0.6454275157910035, stderr=0.12233846479490115)\n",
            "Regression slope =  0.05737132629483762\n",
            "Regression intercept = 60.95698211316883\n",
            "R value =  0.11644142628402862\n",
            "P value = 0.6454275157910035\n"
          ]
        }
      ]
    },
    {
      "cell_type": "markdown",
      "metadata": {
        "id": "zZXvmsL2SbA-"
      },
      "source": [
        "### Exercise 3 - Does Stress predict Wellbeing?\n",
        "---\n",
        "\n",
        "Repeat the steps in Exercises 1 & 2 to see if you can find a statistically significant result.\n",
        "\n",
        "Add a statement in the text cell to describe your findings\n",
        "\n",
        "* Read the dataset: \"https://github.com/lilaceri/Working-with-data-/blob/b157a2feceb7709cf82426932385706d65446270/Data%20Sets%20for%20code%20divisio/Positive_Psychology_2017.csv?raw=true\"\n",
        "\n",
        "* perform linear regression  \n",
        "* look at r_squared and pvalue to get an idea of how predictive and significant these variables are\n",
        "\n",
        "* save slope and intercepts in variables for later \n",
        "\n",
        "Challenge:  \n",
        "Write a function that checks the significance of a regression and displays a message indicating the result.\n",
        "\n",
        "**Test output**:  \n",
        "LinregressResult(slope=-0.6279050248852254, intercept=37.713488379900454, rvalue=-0.6713959740851134, pvalue=6.084540561441803e-07, stderr=0.10694652962765022)  \n",
        "r sqr = 0.4507725540176983  \n",
        "model is significant, p < .05:  6.084540561441803e-07  "
      ]
    },
    {
      "cell_type": "code",
      "metadata": {
        "id": "pbZf_2dITkqX",
        "colab": {
          "base_uri": "https://localhost:8080/"
        },
        "outputId": "ee5b6d5e-27af-4d67-f362-3f6bcf957d18"
      },
      "source": [
        "# import pandas as pd\n",
        "# from scipy.stats import linregress\n",
        "\n",
        "def get_lineregress(df):\n",
        "  x = df[\"Wellbeing\"]\n",
        "  y = df[\"Stress\"]\n",
        "  regression = linregress(x,y)\n",
        "  print(regression)\n",
        "  print(\"R squared value = \",regression[2]*regression[2])\n",
        "  if regression[3] <= 0.05:\n",
        "    print(\"Strong model (p<0.05) P value = \", regression[3])\n",
        "  else:\n",
        "    print(\"Not strong P value = \", regression[3])\n",
        "  return regression\n",
        "\n",
        "\n",
        "url = \"https://github.com/lilaceri/Working-with-data-/blob/b157a2feceb7709cf82426932385706d65446270/Data%20Sets%20for%20code%20divisio/Positive_Psychology_2017.csv?raw=true\"\n",
        "psych_data = pd.read_csv(url)\n",
        "regression_result = get_lineregress(psych_data)"
      ],
      "execution_count": 4,
      "outputs": [
        {
          "output_type": "stream",
          "name": "stdout",
          "text": [
            "LinregressResult(slope=-0.7178992620740611, intercept=38.9702526604677, rvalue=-0.6713959740851134, pvalue=6.084540561441803e-07, stderr=0.1222745983201931)\n",
            "R squared value =  0.4507725540176983\n",
            "Strong model (p<0.05) P value =  6.084540561441803e-07\n"
          ]
        }
      ]
    },
    {
      "cell_type": "markdown",
      "source": [
        "The R value between stress and well being is strong -0.671 and shows an understandably negative correlation. The P value shows that the model is strong because it's below 0.05."
      ],
      "metadata": {
        "id": "OpeJ8arvDfPv"
      }
    },
    {
      "cell_type": "markdown",
      "source": [
        "# Create some charts and make some predictions from regressions\n",
        "\n",
        "1.  Using what you know from completing the Visualisation worksheets (matplotlib and Seaborn), plot the various regression results in a set of charts.\n",
        "2.  Use the slope and intercept to calculate a prediction for a reasonable value (e.g. predict an income for a given age using the slope and intercept from the regression to calculate income from the formula `age * slope + intercept`"
      ],
      "metadata": {
        "id": "ZZPFyMur8gxM"
      }
    },
    {
      "cell_type": "code",
      "metadata": {
        "id": "9puphgbB1tUY",
        "colab": {
          "base_uri": "https://localhost:8080/",
          "height": 312
        },
        "outputId": "d1570f8c-984f-4da5-8293-3de15fe77421"
      },
      "source": [
        "import matplotlib.pyplot as plt\n",
        "# import pandas as pd\n",
        "# from scipy.stats import linregress\n",
        "\n",
        "def get_lineregress(df):\n",
        "  x = df[\"Wellbeing\"]\n",
        "  y = df[\"Stress\"]\n",
        "  regression = linregress(x,y)\n",
        "  plt.plot(x, y, 'o', label='data points')\n",
        "  plt.plot(x, regression.intercept + regression.slope*x, 'r', label='fitted line')\n",
        "  plt.legend(loc= 'lower left')\n",
        "  plt.title(\"Stress vs wellbeing\")\n",
        "  plt.xlabel(\"Wellbeing levels\")\n",
        "  plt.ylabel(\"Stress levels\")\n",
        "  plt.show()\n",
        " \n",
        "  return regression\n",
        "\n",
        "\n",
        "url = \"https://github.com/lilaceri/Working-with-data-/blob/b157a2feceb7709cf82426932385706d65446270/Data%20Sets%20for%20code%20divisio/Positive_Psychology_2017.csv?raw=true\"\n",
        "psych_data = pd.read_csv(url)\n",
        "regression = get_lineregress(psych_data)\n",
        "print(regression)\n"
      ],
      "execution_count": 5,
      "outputs": [
        {
          "output_type": "display_data",
          "data": {
            "text/plain": [
              "<Figure size 432x288 with 1 Axes>"
            ],
            "image/png": "[encoded data removed]"
          },
          "metadata": {
            "needs_background": "light"
          }
        },
        {
          "output_type": "stream",
          "name": "stdout",
          "text": [
            "LinregressResult(slope=-0.7178992620740611, intercept=38.9702526604677, rvalue=-0.6713959740851134, pvalue=6.084540561441803e-07, stderr=0.1222745983201931)\n"
          ]
        }
      ]
    },
    {
      "cell_type": "code",
      "source": [
        "def prediction(regression):\n",
        "  stress = int(input(\"Input stress level (integers only): \"))\n",
        "  wellbeing = (stress - regression.intercept)/regression.slope\n",
        "  return wellbeing\n",
        "\n",
        "wellbeing = prediction(regression)\n",
        "print(\"Well Being = \", wellbeing)\n",
        "\n"
      ],
      "metadata": {
        "colab": {
          "base_uri": "https://localhost:8080/"
        },
        "id": "Uk6xROpRQ_nc",
        "outputId": "27118696-2c86-408e-ace2-ec12b603b12c"
      },
      "execution_count": 6,
      "outputs": [
        {
          "output_type": "stream",
          "name": "stdout",
          "text": [
            "Input stress level (integers only): 5\n",
            "Well Being =  47.31896862844693\n"
          ]
        }
      ]
    },
    {
      "cell_type": "markdown",
      "source": [
        "This model is pretty good at predicting wellbeing on the basis of stress  levels though the latter can not carry negative values."
      ],
      "metadata": {
        "id": "TNdJMqAeWjPo"
      }
    },
    {
      "cell_type": "code",
      "source": [
        "# import matplotlib.pyplot as plt\n",
        "# import pandas as pd\n",
        "# from scipy.stats import linregress\n",
        "\n",
        "def get_lineregress(df):\n",
        "  x = df[\"Age\"]\n",
        "  y = df[\"Income\"]\n",
        "  regression = linregress(x,y)\n",
        "  plt.plot(x, y, 'o', label='data points')\n",
        "  plt.plot(x, regression.intercept + regression.slope*x, 'r', label='fitted line')\n",
        "  plt.legend(loc= 'lower left')\n",
        "  plt.title(\"Income and Age\")\n",
        "  plt.xlabel(\"Age\")\n",
        "  plt.ylabel(\"Income\")\n",
        "  plt.show()\n",
        " \n",
        "  return regression\n",
        "\n",
        "url = \"https://github.com/futureCodersSE/working-with-data/blob/main/Data%20sets/Income-Data.xlsx?raw=true\"\n",
        "county_level_df = pd.read_excel(url, sheet_name ='county-level')\n",
        "regression_county = get_lineregress(county_level_df)"
      ],
      "metadata": {
        "colab": {
          "base_uri": "https://localhost:8080/",
          "height": 295
        },
        "id": "_IWu-TQDKwa9",
        "outputId": "8eca28f8-992d-4d6d-b42d-7662b1358ff7"
      },
      "execution_count": 7,
      "outputs": [
        {
          "output_type": "display_data",
          "data": {
            "text/plain": [
              "<Figure size 432x288 with 1 Axes>"
            ],
            "image/png": "[encoded data removed]"
          },
          "metadata": {
            "needs_background": "light"
          }
        }
      ]
    },
    {
      "cell_type": "code",
      "source": [
        "def prediction(regression):\n",
        "  age = int(input(\"Input age (years only): \"))\n",
        "  income = age * regression.slope + regression.intercept\n",
        "  return income \n",
        "\n",
        "income = prediction(regression_county)\n",
        "print(\"Income = \", income)"
      ],
      "metadata": {
        "colab": {
          "base_uri": "https://localhost:8080/"
        },
        "id": "SKUddbIuVW6w",
        "outputId": "8f6f387b-c26d-40e3-f407-a33e876128e6"
      },
      "execution_count": 8,
      "outputs": [
        {
          "output_type": "stream",
          "name": "stdout",
          "text": [
            "Input age (years only): 40\n",
            "Income =  60.2106547960942\n"
          ]
        }
      ]
    },
    {
      "cell_type": "markdown",
      "metadata": {
        "id": "FWli4XMmsAPo"
      },
      "source": [
        "###Reflection\n",
        "\n",
        "A challenging yet informative worksheet with some questionable results in terms of age and the calculation of wellbeing etc. A good opportunity to learn aout linear regression."
      ]
    }
  ]
}